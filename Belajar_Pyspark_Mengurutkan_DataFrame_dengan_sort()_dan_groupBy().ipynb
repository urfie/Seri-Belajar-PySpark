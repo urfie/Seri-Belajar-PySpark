{
  "nbformat": 4,
  "nbformat_minor": 0,
  "metadata": {
    "colab": {
      "provenance": [],
      "toc_visible": true
    },
    "kernelspec": {
      "name": "python3",
      "display_name": "Python 3"
    },
    "language_info": {
      "name": "python"
    }
  },
  "cells": [
    {
      "cell_type": "markdown",
      "source": [
        "#Belajar Pyspark - Mengurutkan DataFrame dengan `sort()` dan `groupBy()`"
      ],
      "metadata": {
        "id": "i0GWDGS5yaq2"
      }
    },
    {
      "cell_type": "markdown",
      "source": [
        "artikel dapat dibaca di www.datalearns247.com"
      ],
      "metadata": {
        "id": "ABW0hzgH630m"
      }
    },
    {
      "cell_type": "markdown",
      "source": [
        "##Mempersiapkan Environment"
      ],
      "metadata": {
        "id": "4WzInJqmdO5M"
      }
    },
    {
      "cell_type": "code",
      "execution_count": 1,
      "metadata": {
        "colab": {
          "base_uri": "https://localhost:8080/"
        },
        "id": "dCBnjGO5yaKm",
        "outputId": "617d8341-9989-4d61-ce41-53948edbc007"
      },
      "outputs": [
        {
          "output_type": "stream",
          "name": "stdout",
          "text": [
            "Collecting pyspark\n",
            "  Downloading pyspark-3.5.0.tar.gz (316.9 MB)\n",
            "\u001b[2K     \u001b[90m━━━━━━━━━━━━━━━━━━━━━━━━━━━━━━━━━━━━━━━━\u001b[0m \u001b[32m316.9/316.9 MB\u001b[0m \u001b[31m3.5 MB/s\u001b[0m eta \u001b[36m0:00:00\u001b[0m\n",
            "\u001b[?25h  Preparing metadata (setup.py) ... \u001b[?25l\u001b[?25hdone\n",
            "Requirement already satisfied: py4j==0.10.9.7 in /usr/local/lib/python3.10/dist-packages (from pyspark) (0.10.9.7)\n",
            "Building wheels for collected packages: pyspark\n",
            "  Building wheel for pyspark (setup.py) ... \u001b[?25l\u001b[?25hdone\n",
            "  Created wheel for pyspark: filename=pyspark-3.5.0-py2.py3-none-any.whl size=317425345 sha256=7ad40a474eab96296f265a22b8f7a95a6c4c40f45d4046046807414f165f246d\n",
            "  Stored in directory: /root/.cache/pip/wheels/41/4e/10/c2cf2467f71c678cfc8a6b9ac9241e5e44a01940da8fbb17fc\n",
            "Successfully built pyspark\n",
            "Installing collected packages: pyspark\n",
            "Successfully installed pyspark-3.5.0\n"
          ]
        }
      ],
      "source": [
        "%pip install pyspark #jalankan untuk google colab"
      ]
    },
    {
      "cell_type": "code",
      "source": [
        "from pyspark.sql import SparkSession\n",
        "import pyspark.sql.functions as F"
      ],
      "metadata": {
        "id": "5ZADhBYSyy4W"
      },
      "execution_count": 2,
      "outputs": []
    },
    {
      "cell_type": "code",
      "source": [
        "spark = SparkSession.builder.appName(\"Belajar PySpark - Grouping dan Agregasi\").getOrCreate()"
      ],
      "metadata": {
        "id": "GCkNX2ssy1YH"
      },
      "execution_count": 3,
      "outputs": []
    },
    {
      "cell_type": "code",
      "source": [
        "data = [['Agus','Fisika',1,130,100],['Windy','Fisika',3,200,150],\n",
        "        ['Budi','Biologi',1,200,150],['Dina','Fisika',3,150,200],\n",
        "        ['Bayu','Fisika',1,150,200],['Dedi','Biologi',3,50,150]]\n",
        "\n",
        "kolom = [\"nama\",\"jurusan\",\"semester\",\"nilai1\",\"nilai2\"]\n",
        "\n",
        "df = spark.createDataFrame(data,kolom)\n",
        "\n",
        "df.show()"
      ],
      "metadata": {
        "colab": {
          "base_uri": "https://localhost:8080/"
        },
        "id": "qIiySaTGy3Ec",
        "outputId": "9516ffe5-9390-42fc-ecb5-7380be3e8652"
      },
      "execution_count": 4,
      "outputs": [
        {
          "output_type": "stream",
          "name": "stdout",
          "text": [
            "+-----+-------+--------+------+------+\n",
            "| nama|jurusan|semester|nilai1|nilai2|\n",
            "+-----+-------+--------+------+------+\n",
            "| Agus| Fisika|       1|   130|   100|\n",
            "|Windy| Fisika|       3|   200|   150|\n",
            "| Budi|Biologi|       1|   200|   150|\n",
            "| Dina| Fisika|       3|   150|   200|\n",
            "| Bayu| Fisika|       1|   150|   200|\n",
            "| Dedi|Biologi|       3|    50|   150|\n",
            "+-----+-------+--------+------+------+\n",
            "\n"
          ]
        }
      ]
    },
    {
      "cell_type": "markdown",
      "source": [
        "##Mengurutkan satu kolom"
      ],
      "metadata": {
        "id": "BYD9nPkGdVBI"
      }
    },
    {
      "cell_type": "code",
      "source": [
        "df.sort(\"jurusan\").show()"
      ],
      "metadata": {
        "colab": {
          "base_uri": "https://localhost:8080/"
        },
        "id": "f59ijO1xMAJ9",
        "outputId": "3932c665-f683-4eda-8d4b-4e9d6c7f1427"
      },
      "execution_count": 5,
      "outputs": [
        {
          "output_type": "stream",
          "name": "stdout",
          "text": [
            "+-----+-------+--------+------+------+\n",
            "| nama|jurusan|semester|nilai1|nilai2|\n",
            "+-----+-------+--------+------+------+\n",
            "| Budi|Biologi|       1|   200|   150|\n",
            "| Dedi|Biologi|       3|    50|   150|\n",
            "| Agus| Fisika|       1|   130|   100|\n",
            "| Dina| Fisika|       3|   150|   200|\n",
            "|Windy| Fisika|       3|   200|   150|\n",
            "| Bayu| Fisika|       1|   150|   200|\n",
            "+-----+-------+--------+------+------+\n",
            "\n"
          ]
        }
      ]
    },
    {
      "cell_type": "code",
      "source": [
        "df.sort(F.col(\"jurusan\")).show()\n",
        "df.sort(df.jurusan).show()"
      ],
      "metadata": {
        "colab": {
          "base_uri": "https://localhost:8080/"
        },
        "id": "SCZp9IN9KgLg",
        "outputId": "9c6aecb9-5fc5-4a2f-ac43-04ccd62b8878"
      },
      "execution_count": 6,
      "outputs": [
        {
          "output_type": "stream",
          "name": "stdout",
          "text": [
            "+-----+-------+--------+------+------+\n",
            "| nama|jurusan|semester|nilai1|nilai2|\n",
            "+-----+-------+--------+------+------+\n",
            "| Dedi|Biologi|       3|    50|   150|\n",
            "| Budi|Biologi|       1|   200|   150|\n",
            "| Dina| Fisika|       3|   150|   200|\n",
            "| Agus| Fisika|       1|   130|   100|\n",
            "| Bayu| Fisika|       1|   150|   200|\n",
            "|Windy| Fisika|       3|   200|   150|\n",
            "+-----+-------+--------+------+------+\n",
            "\n",
            "+-----+-------+--------+------+------+\n",
            "| nama|jurusan|semester|nilai1|nilai2|\n",
            "+-----+-------+--------+------+------+\n",
            "| Dedi|Biologi|       3|    50|   150|\n",
            "| Budi|Biologi|       1|   200|   150|\n",
            "| Dina| Fisika|       3|   150|   200|\n",
            "| Agus| Fisika|       1|   130|   100|\n",
            "| Bayu| Fisika|       1|   150|   200|\n",
            "|Windy| Fisika|       3|   200|   150|\n",
            "+-----+-------+--------+------+------+\n",
            "\n"
          ]
        }
      ]
    },
    {
      "cell_type": "code",
      "source": [
        "df.orderBy(\"jurusan\").show()\n",
        "df.orderBy(F.col(\"jurusan\")).show()\n",
        "df.orderBy(df.jurusan).show()"
      ],
      "metadata": {
        "colab": {
          "base_uri": "https://localhost:8080/"
        },
        "id": "Upt0SD3P8K-Q",
        "outputId": "d3885c37-e8c3-4159-e53c-24439700ee6c"
      },
      "execution_count": 7,
      "outputs": [
        {
          "output_type": "stream",
          "name": "stdout",
          "text": [
            "+-----+-------+--------+------+------+\n",
            "| nama|jurusan|semester|nilai1|nilai2|\n",
            "+-----+-------+--------+------+------+\n",
            "| Budi|Biologi|       1|   200|   150|\n",
            "| Dedi|Biologi|       3|    50|   150|\n",
            "| Agus| Fisika|       1|   130|   100|\n",
            "| Dina| Fisika|       3|   150|   200|\n",
            "|Windy| Fisika|       3|   200|   150|\n",
            "| Bayu| Fisika|       1|   150|   200|\n",
            "+-----+-------+--------+------+------+\n",
            "\n",
            "+-----+-------+--------+------+------+\n",
            "| nama|jurusan|semester|nilai1|nilai2|\n",
            "+-----+-------+--------+------+------+\n",
            "| Budi|Biologi|       1|   200|   150|\n",
            "| Dedi|Biologi|       3|    50|   150|\n",
            "| Agus| Fisika|       1|   130|   100|\n",
            "| Dina| Fisika|       3|   150|   200|\n",
            "|Windy| Fisika|       3|   200|   150|\n",
            "| Bayu| Fisika|       1|   150|   200|\n",
            "+-----+-------+--------+------+------+\n",
            "\n",
            "+-----+-------+--------+------+------+\n",
            "| nama|jurusan|semester|nilai1|nilai2|\n",
            "+-----+-------+--------+------+------+\n",
            "| Dedi|Biologi|       3|    50|   150|\n",
            "| Budi|Biologi|       1|   200|   150|\n",
            "| Dina| Fisika|       3|   150|   200|\n",
            "| Agus| Fisika|       1|   130|   100|\n",
            "| Bayu| Fisika|       1|   150|   200|\n",
            "|Windy| Fisika|       3|   200|   150|\n",
            "+-----+-------+--------+------+------+\n",
            "\n"
          ]
        }
      ]
    },
    {
      "cell_type": "markdown",
      "source": [
        "##Mengurutkan lebih dari 1 kolom"
      ],
      "metadata": {
        "id": "JvFBdkducpfo"
      }
    },
    {
      "cell_type": "code",
      "source": [
        "df.sort(\"semester\", \"jurusan\").show()"
      ],
      "metadata": {
        "colab": {
          "base_uri": "https://localhost:8080/"
        },
        "id": "J1_5zZcg5X5B",
        "outputId": "c5acc3ac-c8cc-48cd-c5b6-4eac91bae3c1"
      },
      "execution_count": 8,
      "outputs": [
        {
          "output_type": "stream",
          "name": "stdout",
          "text": [
            "+-----+-------+--------+------+------+\n",
            "| nama|jurusan|semester|nilai1|nilai2|\n",
            "+-----+-------+--------+------+------+\n",
            "| Budi|Biologi|       1|   200|   150|\n",
            "| Bayu| Fisika|       1|   150|   200|\n",
            "| Agus| Fisika|       1|   130|   100|\n",
            "| Dedi|Biologi|       3|    50|   150|\n",
            "|Windy| Fisika|       3|   200|   150|\n",
            "| Dina| Fisika|       3|   150|   200|\n",
            "+-----+-------+--------+------+------+\n",
            "\n"
          ]
        }
      ]
    },
    {
      "cell_type": "code",
      "source": [
        "df.sort(df.semester, \"jurusan\").show()\n",
        "df.sort(df.semester, df.jurusan).show()"
      ],
      "metadata": {
        "colab": {
          "base_uri": "https://localhost:8080/"
        },
        "id": "iMlJXZwALdjW",
        "outputId": "fded718c-c17e-4628-d2f4-5069e8515fe6"
      },
      "execution_count": null,
      "outputs": [
        {
          "output_type": "stream",
          "name": "stdout",
          "text": [
            "+-----+-------+--------+------+------+\n",
            "| nama|jurusan|semester|nilai1|nilai2|\n",
            "+-----+-------+--------+------+------+\n",
            "| Budi|Biologi|       1|   200|   150|\n",
            "| Bayu| Fisika|       1|   150|   200|\n",
            "| Agus| Fisika|       1|   130|   100|\n",
            "| Dedi|Biologi|       3|    50|   150|\n",
            "|Windy| Fisika|       3|   200|   150|\n",
            "| Dina| Fisika|       3|   150|   200|\n",
            "+-----+-------+--------+------+------+\n",
            "\n",
            "+-----+-------+--------+------+------+\n",
            "| nama|jurusan|semester|nilai1|nilai2|\n",
            "+-----+-------+--------+------+------+\n",
            "| Budi|Biologi|       1|   200|   150|\n",
            "| Bayu| Fisika|       1|   150|   200|\n",
            "| Agus| Fisika|       1|   130|   100|\n",
            "| Dedi|Biologi|       3|    50|   150|\n",
            "|Windy| Fisika|       3|   200|   150|\n",
            "| Dina| Fisika|       3|   150|   200|\n",
            "+-----+-------+--------+------+------+\n",
            "\n"
          ]
        }
      ]
    },
    {
      "cell_type": "code",
      "source": [
        "df.sort([\"semester\", \"jurusan\"]).show()\n",
        "df.sort([df.semester, df.jurusan]).show()"
      ],
      "metadata": {
        "colab": {
          "base_uri": "https://localhost:8080/"
        },
        "id": "ZT8IuuRabs8S",
        "outputId": "9de9b460-0006-44d5-8d7a-f1ade8f32c1f"
      },
      "execution_count": null,
      "outputs": [
        {
          "output_type": "stream",
          "name": "stdout",
          "text": [
            "+-----+-------+--------+------+------+\n",
            "| nama|jurusan|semester|nilai1|nilai2|\n",
            "+-----+-------+--------+------+------+\n",
            "| Budi|Biologi|       1|   200|   150|\n",
            "| Bayu| Fisika|       1|   150|   200|\n",
            "| Agus| Fisika|       1|   130|   100|\n",
            "| Dedi|Biologi|       3|    50|   150|\n",
            "|Windy| Fisika|       3|   200|   150|\n",
            "| Dina| Fisika|       3|   150|   200|\n",
            "+-----+-------+--------+------+------+\n",
            "\n",
            "+-----+-------+--------+------+------+\n",
            "| nama|jurusan|semester|nilai1|nilai2|\n",
            "+-----+-------+--------+------+------+\n",
            "| Budi|Biologi|       1|   200|   150|\n",
            "| Bayu| Fisika|       1|   150|   200|\n",
            "| Agus| Fisika|       1|   130|   100|\n",
            "| Dedi|Biologi|       3|    50|   150|\n",
            "|Windy| Fisika|       3|   200|   150|\n",
            "| Dina| Fisika|       3|   150|   200|\n",
            "+-----+-------+--------+------+------+\n",
            "\n"
          ]
        }
      ]
    },
    {
      "cell_type": "markdown",
      "source": [
        "##Mengurutkan secara ascending"
      ],
      "metadata": {
        "id": "H0K_nkT2dGU1"
      }
    },
    {
      "cell_type": "markdown",
      "source": [
        "###Menggunakan parameter `ascending` dengan 1 nilai"
      ],
      "metadata": {
        "id": "WxVFoKx7UjQq"
      }
    },
    {
      "cell_type": "code",
      "source": [
        "df.sort(\"semester\", asc=False).show()"
      ],
      "metadata": {
        "colab": {
          "base_uri": "https://localhost:8080/"
        },
        "id": "syi2dcGTUyZM",
        "outputId": "722507da-2db5-4fbb-c686-bb10612c8ad0"
      },
      "execution_count": 32,
      "outputs": [
        {
          "output_type": "stream",
          "name": "stdout",
          "text": [
            "+-----+-------+--------+------+------+\n",
            "| nama|jurusan|semester|nilai1|nilai2|\n",
            "+-----+-------+--------+------+------+\n",
            "| Agus| Fisika|       1|   130|   100|\n",
            "| Bayu| Fisika|       1|   150|   200|\n",
            "| Budi|Biologi|       1|   200|   150|\n",
            "| Dina| Fisika|       3|   150|   200|\n",
            "|Windy| Fisika|       3|   200|   150|\n",
            "| Dedi|Biologi|       3|    50|   150|\n",
            "+-----+-------+--------+------+------+\n",
            "\n"
          ]
        }
      ]
    },
    {
      "cell_type": "code",
      "source": [
        "df.sort([\"semester\", \"jurusan\"], ascending=False).show()"
      ],
      "metadata": {
        "colab": {
          "base_uri": "https://localhost:8080/"
        },
        "id": "uAcWKkSDUtrf",
        "outputId": "4d6f9ddf-47a8-484f-997d-d1d9e9e3be6e"
      },
      "execution_count": 35,
      "outputs": [
        {
          "output_type": "stream",
          "name": "stdout",
          "text": [
            "+-----+-------+--------+------+------+\n",
            "| nama|jurusan|semester|nilai1|nilai2|\n",
            "+-----+-------+--------+------+------+\n",
            "| Budi|Biologi|       1|   200|   150|\n",
            "| Bayu| Fisika|       1|   150|   200|\n",
            "| Agus| Fisika|       1|   130|   100|\n",
            "| Dedi|Biologi|       3|    50|   150|\n",
            "|Windy| Fisika|       3|   200|   150|\n",
            "| Dina| Fisika|       3|   150|   200|\n",
            "+-----+-------+--------+------+------+\n",
            "\n"
          ]
        }
      ]
    },
    {
      "cell_type": "code",
      "source": [
        "df.sort(\"semester\", \"jurusan\", ascending=[True, False]).show()"
      ],
      "metadata": {
        "colab": {
          "base_uri": "https://localhost:8080/"
        },
        "id": "48yx9roP7pq4",
        "outputId": "06429720-b604-429c-8e0e-29c436df3db8"
      },
      "execution_count": 19,
      "outputs": [
        {
          "output_type": "stream",
          "name": "stdout",
          "text": [
            "+-----+-------+--------+------+------+\n",
            "| nama|jurusan|semester|nilai1|nilai2|\n",
            "+-----+-------+--------+------+------+\n",
            "| Agus| Fisika|       1|   130|   100|\n",
            "| Bayu| Fisika|       1|   150|   200|\n",
            "| Budi|Biologi|       1|   200|   150|\n",
            "| Dina| Fisika|       3|   150|   200|\n",
            "|Windy| Fisika|       3|   200|   150|\n",
            "| Dedi|Biologi|       3|    50|   150|\n",
            "+-----+-------+--------+------+------+\n",
            "\n"
          ]
        }
      ]
    },
    {
      "cell_type": "markdown",
      "source": [
        "###Menggunakan fungsi"
      ],
      "metadata": {
        "id": "ObdwaQW-ZcQ5"
      }
    },
    {
      "cell_type": "code",
      "source": [
        "df.sort(F.asc(\"semester\"), F.desc(\"jurusan\")).show()"
      ],
      "metadata": {
        "colab": {
          "base_uri": "https://localhost:8080/"
        },
        "id": "H0SeMZHxB57G",
        "outputId": "37ee1a68-44e2-482b-9f3c-bebe4f16b528"
      },
      "execution_count": 30,
      "outputs": [
        {
          "output_type": "stream",
          "name": "stdout",
          "text": [
            "+-----+-------+--------+------+------+\n",
            "| nama|jurusan|semester|nilai1|nilai2|\n",
            "+-----+-------+--------+------+------+\n",
            "| Agus| Fisika|       1|   130|   100|\n",
            "| Bayu| Fisika|       1|   150|   200|\n",
            "| Budi|Biologi|       1|   200|   150|\n",
            "| Dina| Fisika|       3|   150|   200|\n",
            "|Windy| Fisika|       3|   200|   150|\n",
            "| Dedi|Biologi|       3|    50|   150|\n",
            "+-----+-------+--------+------+------+\n",
            "\n"
          ]
        }
      ]
    },
    {
      "cell_type": "code",
      "source": [
        "df.sort(F.col(\"semester\").asc(), F.col(\"jurusan\").desc()).show()"
      ],
      "metadata": {
        "colab": {
          "base_uri": "https://localhost:8080/"
        },
        "id": "YrtMm9Bw8QY8",
        "outputId": "62269a8f-40a4-489d-d801-b97002d04ed8"
      },
      "execution_count": 29,
      "outputs": [
        {
          "output_type": "stream",
          "name": "stdout",
          "text": [
            "+-----+-------+--------+------+------+\n",
            "| nama|jurusan|semester|nilai1|nilai2|\n",
            "+-----+-------+--------+------+------+\n",
            "| Agus| Fisika|       1|   130|   100|\n",
            "| Bayu| Fisika|       1|   150|   200|\n",
            "| Budi|Biologi|       1|   200|   150|\n",
            "| Dina| Fisika|       3|   150|   200|\n",
            "|Windy| Fisika|       3|   200|   150|\n",
            "| Dedi|Biologi|       3|    50|   150|\n",
            "+-----+-------+--------+------+------+\n",
            "\n"
          ]
        }
      ]
    },
    {
      "cell_type": "markdown",
      "source": [
        "##Mengurutkan secara descending"
      ],
      "metadata": {
        "id": "amL1W7g_dK_n"
      }
    },
    {
      "cell_type": "code",
      "source": [
        "df.sort(F.desc(\"semester\"), F.desc(\"jurusan\")).show()"
      ],
      "metadata": {
        "colab": {
          "base_uri": "https://localhost:8080/"
        },
        "id": "qher_5zP-MES",
        "outputId": "8105556f-5514-48ed-8fac-2fe43e6c46c0"
      },
      "execution_count": null,
      "outputs": [
        {
          "output_type": "stream",
          "name": "stdout",
          "text": [
            "+-----+-------+--------+------+------+\n",
            "| nama|jurusan|semester|nilai1|nilai2|\n",
            "+-----+-------+--------+------+------+\n",
            "|Windy| Fisika|       3|   200|   150|\n",
            "| Dina| Fisika|       3|   150|   200|\n",
            "| Dedi|Biologi|       3|    50|   150|\n",
            "| Agus| Fisika|       1|   130|   100|\n",
            "| Bayu| Fisika|       1|   150|   200|\n",
            "| Budi|Biologi|       1|   200|   150|\n",
            "+-----+-------+--------+------+------+\n",
            "\n"
          ]
        }
      ]
    },
    {
      "cell_type": "markdown",
      "source": [
        "##Mengurutkan berdasarkan hasil penjumlahan dua kolom"
      ],
      "metadata": {
        "id": "qCUUa5Jrdcbh"
      }
    },
    {
      "cell_type": "code",
      "source": [
        "df.sort(F.col(\"nilai1\") + F.col(\"nilai2\")).show()"
      ],
      "metadata": {
        "colab": {
          "base_uri": "https://localhost:8080/"
        },
        "id": "fyXyqGwg5rvG",
        "outputId": "d7a06f74-5d88-4853-d575-23776bfda792"
      },
      "execution_count": null,
      "outputs": [
        {
          "output_type": "stream",
          "name": "stdout",
          "text": [
            "+-----+-------+--------+------+------+\n",
            "| nama|jurusan|semester|nilai1|nilai2|\n",
            "+-----+-------+--------+------+------+\n",
            "| Dedi|Biologi|       3|    50|   150|\n",
            "| Agus| Fisika|       1|   130|   100|\n",
            "| Dina| Fisika|       3|   150|   200|\n",
            "|Windy| Fisika|       3|   200|   150|\n",
            "| Bayu| Fisika|       1|   150|   200|\n",
            "| Budi|Biologi|       1|   200|   150|\n",
            "+-----+-------+--------+------+------+\n",
            "\n"
          ]
        }
      ]
    },
    {
      "cell_type": "code",
      "source": [
        "df.sort((F.col(\"nilai1\") + F.col(\"nilai2\")).desc()).show()"
      ],
      "metadata": {
        "colab": {
          "base_uri": "https://localhost:8080/"
        },
        "id": "4BJdMshJ59tU",
        "outputId": "d4a1e7dc-dc45-41f5-e80f-33b68346f88d"
      },
      "execution_count": 31,
      "outputs": [
        {
          "output_type": "stream",
          "name": "stdout",
          "text": [
            "+-----+-------+--------+------+------+\n",
            "| nama|jurusan|semester|nilai1|nilai2|\n",
            "+-----+-------+--------+------+------+\n",
            "| Dina| Fisika|       3|   150|   200|\n",
            "|Windy| Fisika|       3|   200|   150|\n",
            "| Bayu| Fisika|       1|   150|   200|\n",
            "| Budi|Biologi|       1|   200|   150|\n",
            "| Agus| Fisika|       1|   130|   100|\n",
            "| Dedi|Biologi|       3|    50|   150|\n",
            "+-----+-------+--------+------+------+\n",
            "\n"
          ]
        }
      ]
    },
    {
      "cell_type": "markdown",
      "source": [
        "##Mengurutkan dengan SQL Statement"
      ],
      "metadata": {
        "id": "reDt-SlgdrwM"
      }
    },
    {
      "cell_type": "markdown",
      "source": [
        "###Membuat temporary table"
      ],
      "metadata": {
        "id": "lgsd-KbqdvQY"
      }
    },
    {
      "cell_type": "code",
      "source": [
        "df.createOrReplaceTempView(\"mahasiswa\")"
      ],
      "metadata": {
        "id": "ECoY7YE8dzkH"
      },
      "execution_count": 26,
      "outputs": []
    },
    {
      "cell_type": "markdown",
      "source": [
        "###Menjalankan SQL Statement"
      ],
      "metadata": {
        "id": "MJf66S9fdz53"
      }
    },
    {
      "cell_type": "code",
      "source": [
        "spark.sql(\"SELECT * FROM mahasiswa ORDER BY semester desc, jurusan desc\").show()"
      ],
      "metadata": {
        "id": "RYtMvOCddovD",
        "colab": {
          "base_uri": "https://localhost:8080/"
        },
        "outputId": "937880ce-49c4-4cc5-a6e8-8e8cd932e021"
      },
      "execution_count": 27,
      "outputs": [
        {
          "output_type": "stream",
          "name": "stdout",
          "text": [
            "+-----+-------+--------+------+------+\n",
            "| nama|jurusan|semester|nilai1|nilai2|\n",
            "+-----+-------+--------+------+------+\n",
            "|Windy| Fisika|       3|   200|   150|\n",
            "| Dina| Fisika|       3|   150|   200|\n",
            "| Dedi|Biologi|       3|    50|   150|\n",
            "| Agus| Fisika|       1|   130|   100|\n",
            "| Bayu| Fisika|       1|   150|   200|\n",
            "| Budi|Biologi|       1|   200|   150|\n",
            "+-----+-------+--------+------+------+\n",
            "\n"
          ]
        }
      ]
    }
  ]
}