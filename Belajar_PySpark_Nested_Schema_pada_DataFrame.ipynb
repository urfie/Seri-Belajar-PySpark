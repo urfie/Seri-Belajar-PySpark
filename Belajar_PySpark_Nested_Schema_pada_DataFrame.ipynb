{
  "nbformat": 4,
  "nbformat_minor": 0,
  "metadata": {
    "colab": {
      "provenance": [],
      "toc_visible": true
    },
    "kernelspec": {
      "name": "python3",
      "display_name": "Python 3"
    },
    "language_info": {
      "name": "python"
    }
  },
  "cells": [
    {
      "cell_type": "markdown",
      "source": [
        "#Belajar PySpark - Nested Schema pada DataFrame"
      ],
      "metadata": {
        "id": "loueMJbfjlZq"
      }
    },
    {
      "cell_type": "markdown",
      "source": [
        "..."
      ],
      "metadata": {
        "id": "8fBObxkEIMTP"
      }
    },
    {
      "cell_type": "code",
      "execution_count": null,
      "metadata": {
        "colab": {
          "base_uri": "https://localhost:8080/"
        },
        "id": "3YsxlynyFZ0N",
        "outputId": "81db13ae-78f5-43f7-f6e8-849b5747f9b5"
      },
      "outputs": [
        {
          "output_type": "stream",
          "name": "stdout",
          "text": [
            "Collecting pyspark\n",
            "  Downloading pyspark-3.5.0.tar.gz (316.9 MB)\n",
            "\u001b[2K     \u001b[90m━━━━━━━━━━━━━━━━━━━━━━━━━━━━━━━━━━━━━━━━\u001b[0m \u001b[32m316.9/316.9 MB\u001b[0m \u001b[31m4.2 MB/s\u001b[0m eta \u001b[36m0:00:00\u001b[0m\n",
            "\u001b[?25h  Preparing metadata (setup.py) ... \u001b[?25l\u001b[?25hdone\n",
            "Requirement already satisfied: py4j==0.10.9.7 in /usr/local/lib/python3.10/dist-packages (from pyspark) (0.10.9.7)\n",
            "Building wheels for collected packages: pyspark\n",
            "  Building wheel for pyspark (setup.py) ... \u001b[?25l\u001b[?25hdone\n",
            "  Created wheel for pyspark: filename=pyspark-3.5.0-py2.py3-none-any.whl size=317425344 sha256=9f6b212895ddab09650eefb388f1c70fed20c77e38670fb93458641a67d3fb66\n",
            "  Stored in directory: /root/.cache/pip/wheels/41/4e/10/c2cf2467f71c678cfc8a6b9ac9241e5e44a01940da8fbb17fc\n",
            "Successfully built pyspark\n",
            "Installing collected packages: pyspark\n",
            "Successfully installed pyspark-3.5.0\n"
          ]
        }
      ],
      "source": [
        "%pip install pyspark"
      ]
    },
    {
      "cell_type": "code",
      "source": [
        "import pyspark\n",
        "from pyspark.sql import SparkSession\n",
        "from pyspark.sql.types import StructType, StructField, StringType, IntegerType"
      ],
      "metadata": {
        "id": "8V4lQvx6HIiO"
      },
      "execution_count": null,
      "outputs": []
    },
    {
      "cell_type": "code",
      "source": [
        "spark = SparkSession.builder.appName(\"Belajar PySpark - Skema DataFrame\").getOrCreate()"
      ],
      "metadata": {
        "id": "97aBSg6dGu9V"
      },
      "execution_count": null,
      "outputs": []
    },
    {
      "cell_type": "markdown",
      "source": [
        "##Mendefinisikan Nested Schema"
      ],
      "metadata": {
        "id": "a2HLRhTwLXfy"
      }
    },
    {
      "cell_type": "code",
      "source": [
        "mySchema = StructType([\n",
        "    StructField(\"nama\", StringType(), True),\n",
        "    StructField(\"jurusan\", StringType(), True),\n",
        "    StructField(\"nilai\", StructType([\n",
        "        StructField(\"nilai1\", IntegerType(), True),\n",
        "        StructField(\"nilai2\", IntegerType(), True),\n",
        "        StructField(\"nilai3\", IntegerType(), True)\n",
        "    ]), True)\n",
        "])\n"
      ],
      "metadata": {
        "id": "GWym9zShabFw"
      },
      "execution_count": null,
      "outputs": []
    },
    {
      "cell_type": "markdown",
      "source": [
        "###Menggunakan nested schema pada DataFrame"
      ],
      "metadata": {
        "id": "q1cAkZD3a7wE"
      }
    },
    {
      "cell_type": "code",
      "source": [
        "data = [['Agus','F',[100,150,150]],\n",
        "        ['Budi','B',[200,100,150]],\n",
        "        ['Dina','F',[150,150,130]],\n",
        "        ['Dedi','B', [50,100,100]]]\n",
        "\n",
        "df = spark.createDataFrame(data, mySchema)\n",
        "df.show()\n",
        "df.printSchema()"
      ],
      "metadata": {
        "colab": {
          "base_uri": "https://localhost:8080/"
        },
        "id": "fT9ikZrmLpjO",
        "outputId": "2bbd7c61-9534-4cca-e0a5-bcecbd41096e"
      },
      "execution_count": null,
      "outputs": [
        {
          "output_type": "stream",
          "name": "stdout",
          "text": [
            "+----+-------+---------------+\n",
            "|nama|jurusan|          nilai|\n",
            "+----+-------+---------------+\n",
            "|Agus|      F|{100, 150, 150}|\n",
            "|Budi|      B|{200, 100, 150}|\n",
            "|Dina|      F|{150, 150, 130}|\n",
            "|Dedi|      B| {50, 100, 100}|\n",
            "+----+-------+---------------+\n",
            "\n",
            "root\n",
            " |-- nama: string (nullable = true)\n",
            " |-- jurusan: string (nullable = true)\n",
            " |-- nilai: struct (nullable = true)\n",
            " |    |-- nilai1: integer (nullable = true)\n",
            " |    |-- nilai2: integer (nullable = true)\n",
            " |    |-- nilai3: integer (nullable = true)\n",
            "\n"
          ]
        }
      ]
    },
    {
      "cell_type": "markdown",
      "source": [
        "##Mengakses Kolom pada Nested Schema"
      ],
      "metadata": {
        "id": "1Dw5LZ_WNx76"
      }
    },
    {
      "cell_type": "code",
      "source": [
        "df.select(\"nama\", \"nilai.nilai2\").show()"
      ],
      "metadata": {
        "colab": {
          "base_uri": "https://localhost:8080/"
        },
        "outputId": "f7709ad2-a633-46ba-a66d-46a8f66c2bae",
        "id": "oatmHqSaLaTA"
      },
      "execution_count": null,
      "outputs": [
        {
          "output_type": "stream",
          "name": "stdout",
          "text": [
            "+----+------+\n",
            "|nama|nilai2|\n",
            "+----+------+\n",
            "|Agus|   150|\n",
            "|Budi|   100|\n",
            "|Dina|   150|\n",
            "|Dedi|   100|\n",
            "+----+------+\n",
            "\n"
          ]
        }
      ]
    },
    {
      "cell_type": "code",
      "source": [
        "import pyspark.sql.functions as F\n",
        "\n",
        "df.groupby(\"jurusan\") \\\n",
        "      .agg(F.avg(\"nilai.nilai3\") \\\n",
        "           .alias(\"rerata_nilai3\")).show()"
      ],
      "metadata": {
        "colab": {
          "base_uri": "https://localhost:8080/"
        },
        "id": "ZnU8RVB-kiqQ",
        "outputId": "78e575d1-7d86-43fc-a8ac-9c56be427f0d"
      },
      "execution_count": null,
      "outputs": [
        {
          "output_type": "stream",
          "name": "stdout",
          "text": [
            "+-------+-------------+\n",
            "|jurusan|rerata_nilai3|\n",
            "+-------+-------------+\n",
            "|      F|        140.0|\n",
            "|      B|        125.0|\n",
            "+-------+-------------+\n",
            "\n"
          ]
        }
      ]
    },
    {
      "cell_type": "code",
      "source": [
        "df.filter(df[\"nilai.nilai2\"] < 150).show()"
      ],
      "metadata": {
        "colab": {
          "base_uri": "https://localhost:8080/"
        },
        "id": "hPrEdIpDmK5B",
        "outputId": "18b8cdcc-0473-4c50-91c6-77d1fa197379"
      },
      "execution_count": null,
      "outputs": [
        {
          "output_type": "stream",
          "name": "stdout",
          "text": [
            "+----+-------+---------------+\n",
            "|nama|jurusan|          nilai|\n",
            "+----+-------+---------------+\n",
            "|Budi|      B|{200, 100, 150}|\n",
            "|Dedi|      B| {50, 100, 100}|\n",
            "+----+-------+---------------+\n",
            "\n"
          ]
        }
      ]
    },
    {
      "cell_type": "markdown",
      "source": [
        "##Mengubah Nested Schema Menjadi Flat Schema"
      ],
      "metadata": {
        "id": "s4RJdmb6jPNJ"
      }
    },
    {
      "cell_type": "code",
      "source": [
        "df.select(\"nama\",\"jurusan\",\"nilai.*\").show()"
      ],
      "metadata": {
        "colab": {
          "base_uri": "https://localhost:8080/"
        },
        "id": "qbpk_6Mkgdln",
        "outputId": "5068056d-05c2-4148-c808-ddb884ce640e"
      },
      "execution_count": null,
      "outputs": [
        {
          "output_type": "stream",
          "name": "stdout",
          "text": [
            "+----+-------+------+------+------+\n",
            "|nama|jurusan|nilai1|nilai2|nilai3|\n",
            "+----+-------+------+------+------+\n",
            "|Agus|      F|   100|   150|   150|\n",
            "|Budi|      B|   200|   100|   150|\n",
            "|Dina|      F|   150|   150|   130|\n",
            "|Dedi|      B|    50|   100|   100|\n",
            "+----+-------+------+------+------+\n",
            "\n"
          ]
        }
      ]
    },
    {
      "cell_type": "markdown",
      "source": [
        "##Menyimpan dan Membaca Nested Schema ke JSON File"
      ],
      "metadata": {
        "id": "E3zUgs1s7wOP"
      }
    },
    {
      "cell_type": "markdown",
      "source": [
        "###Menyimpan skema ke file JSON"
      ],
      "metadata": {
        "id": "emlNO2qQCc20"
      }
    },
    {
      "cell_type": "markdown",
      "source": [
        "Generate string JSON dari skema dataframe"
      ],
      "metadata": {
        "id": "eaUZXtpfB0Qb"
      }
    },
    {
      "cell_type": "code",
      "source": [
        "json_string = df.schema.json()\n",
        "print(json_string)"
      ],
      "metadata": {
        "colab": {
          "base_uri": "https://localhost:8080/"
        },
        "id": "p4kBIpfPBw8-",
        "outputId": "fe64f8a0-5438-47d5-c71e-804a43b3e8f8"
      },
      "execution_count": null,
      "outputs": [
        {
          "output_type": "stream",
          "name": "stdout",
          "text": [
            "{\"fields\":[{\"metadata\":{},\"name\":\"nama\",\"nullable\":true,\"type\":\"string\"},{\"metadata\":{},\"name\":\"jurusan\",\"nullable\":true,\"type\":\"string\"},{\"metadata\":{},\"name\":\"nilai\",\"nullable\":true,\"type\":{\"fields\":[{\"metadata\":{},\"name\":\"nilai1\",\"nullable\":true,\"type\":\"integer\"},{\"metadata\":{},\"name\":\"nilai2\",\"nullable\":true,\"type\":\"integer\"},{\"metadata\":{},\"name\":\"nilai3\",\"nullable\":true,\"type\":\"integer\"}],\"type\":\"struct\"}}],\"type\":\"struct\"}\n"
          ]
        }
      ]
    },
    {
      "cell_type": "markdown",
      "source": [
        "Simpan file skema ke file `schema.json`"
      ],
      "metadata": {
        "id": "9H2Jqi8CB0uS"
      }
    },
    {
      "cell_type": "code",
      "source": [
        "text_file = open(\"schema.json\", \"w\")\n",
        "text_file.write(json_string)\n",
        "text_file.close()"
      ],
      "metadata": {
        "id": "lvEbe3jJBzvX"
      },
      "execution_count": null,
      "outputs": []
    },
    {
      "cell_type": "code",
      "source": [
        "!cat schema.json"
      ],
      "metadata": {
        "colab": {
          "base_uri": "https://localhost:8080/"
        },
        "id": "ts8O5katB46y",
        "outputId": "4b3ed6d9-d2b3-4168-8b5d-6da4791269d6"
      },
      "execution_count": null,
      "outputs": [
        {
          "output_type": "stream",
          "name": "stdout",
          "text": [
            "{\"fields\":[{\"metadata\":{},\"name\":\"nama\",\"nullable\":true,\"type\":\"string\"},{\"metadata\":{},\"name\":\"jurusan\",\"nullable\":true,\"type\":\"string\"},{\"metadata\":{},\"name\":\"nilai\",\"nullable\":true,\"type\":{\"fields\":[{\"metadata\":{},\"name\":\"nilai1\",\"nullable\":true,\"type\":\"integer\"},{\"metadata\":{},\"name\":\"nilai2\",\"nullable\":true,\"type\":\"integer\"},{\"metadata\":{},\"name\":\"nilai3\",\"nullable\":true,\"type\":\"integer\"}],\"type\":\"struct\"}}],\"type\":\"struct\"}"
          ]
        }
      ]
    },
    {
      "cell_type": "markdown",
      "source": [
        "###Membaca Skema dari File JSON"
      ],
      "metadata": {
        "id": "hzYZNUvtCWKu"
      }
    },
    {
      "cell_type": "code",
      "source": [
        "import json\n",
        "\n",
        "f = open(\"schema.json\")\n",
        "json_dict = json.load(f)\n",
        "f.close()\n",
        "\n",
        "json_dict"
      ],
      "metadata": {
        "colab": {
          "base_uri": "https://localhost:8080/"
        },
        "id": "qbItr9OLCa98",
        "outputId": "84c7616e-2db0-48eb-86ce-2f647ce686d1"
      },
      "execution_count": null,
      "outputs": [
        {
          "output_type": "execute_result",
          "data": {
            "text/plain": [
              "{'fields': [{'metadata': {},\n",
              "   'name': 'nama',\n",
              "   'nullable': True,\n",
              "   'type': 'string'},\n",
              "  {'metadata': {}, 'name': 'jurusan', 'nullable': True, 'type': 'string'},\n",
              "  {'metadata': {},\n",
              "   'name': 'nilai',\n",
              "   'nullable': True,\n",
              "   'type': {'fields': [{'metadata': {},\n",
              "      'name': 'nilai1',\n",
              "      'nullable': True,\n",
              "      'type': 'integer'},\n",
              "     {'metadata': {}, 'name': 'nilai2', 'nullable': True, 'type': 'integer'},\n",
              "     {'metadata': {}, 'name': 'nilai3', 'nullable': True, 'type': 'integer'}],\n",
              "    'type': 'struct'}}],\n",
              " 'type': 'struct'}"
            ]
          },
          "metadata": {},
          "execution_count": 15
        }
      ]
    },
    {
      "cell_type": "code",
      "source": [
        "schemaFromJson = StructType.fromJson(json_dict)\n",
        "\n",
        "\n",
        "df3 = spark.createDataFrame(data, schemaFromJson)\n",
        "df3.show()\n",
        "df3.printSchema()\n"
      ],
      "metadata": {
        "colab": {
          "base_uri": "https://localhost:8080/"
        },
        "id": "beZmhkveC_aV",
        "outputId": "e90bcace-7703-45e4-e426-7a7dd4451236"
      },
      "execution_count": 17,
      "outputs": [
        {
          "output_type": "stream",
          "name": "stdout",
          "text": [
            "+----+-------+---------------+\n",
            "|nama|jurusan|          nilai|\n",
            "+----+-------+---------------+\n",
            "|Agus|      F|{100, 150, 150}|\n",
            "|Budi|      B|{200, 100, 150}|\n",
            "|Dina|      F|{150, 150, 130}|\n",
            "|Dedi|      B| {50, 100, 100}|\n",
            "+----+-------+---------------+\n",
            "\n",
            "root\n",
            " |-- nama: string (nullable = true)\n",
            " |-- jurusan: string (nullable = true)\n",
            " |-- nilai: struct (nullable = true)\n",
            " |    |-- nilai1: integer (nullable = true)\n",
            " |    |-- nilai2: integer (nullable = true)\n",
            " |    |-- nilai3: integer (nullable = true)\n",
            "\n"
          ]
        }
      ]
    },
    {
      "cell_type": "markdown",
      "source": [
        "###Menggunakan JSON  Schema untuk definisi Skema DataFrame"
      ],
      "metadata": {
        "id": "ED5j4iqREV22"
      }
    },
    {
      "cell_type": "code",
      "source": [
        "data = [['Agus','F',[100,150,150]],\n",
        "        ['Budi','B',[200,100,150]],\n",
        "        ['Dina','F',[150,150,130]],\n",
        "        ['Dedi','B', [50,100,100]]]\n",
        "\n",
        "schemaFromJson = StructType.fromJson(json_dict)\n",
        "\n",
        "df3 = spark.createDataFrame(data, schemaFromJson)\n",
        "df3.show()\n",
        "df3.printSchema()"
      ],
      "metadata": {
        "colab": {
          "base_uri": "https://localhost:8080/"
        },
        "id": "x7VjijXNDd6C",
        "outputId": "cc48e521-7214-47bd-840d-f91f35482e42"
      },
      "execution_count": 19,
      "outputs": [
        {
          "output_type": "stream",
          "name": "stdout",
          "text": [
            "+----+-------+---------------+\n",
            "|nama|jurusan|          nilai|\n",
            "+----+-------+---------------+\n",
            "|Agus|      F|{100, 150, 150}|\n",
            "|Budi|      B|{200, 100, 150}|\n",
            "|Dina|      F|{150, 150, 130}|\n",
            "|Dedi|      B| {50, 100, 100}|\n",
            "+----+-------+---------------+\n",
            "\n",
            "root\n",
            " |-- nama: string (nullable = true)\n",
            " |-- jurusan: string (nullable = true)\n",
            " |-- nilai: struct (nullable = true)\n",
            " |    |-- nilai1: integer (nullable = true)\n",
            " |    |-- nilai2: integer (nullable = true)\n",
            " |    |-- nilai3: integer (nullable = true)\n",
            "\n"
          ]
        }
      ]
    }
  ]
}