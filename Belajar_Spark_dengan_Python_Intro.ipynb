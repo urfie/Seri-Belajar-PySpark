{
  "nbformat": 4,
  "nbformat_minor": 0,
  "metadata": {
    "colab": {
      "provenance": [],
      "toc_visible": true
    },
    "kernelspec": {
      "name": "python3",
      "display_name": "Python 3"
    },
    "language_info": {
      "name": "python"
    }
  },
  "cells": [
    {
      "cell_type": "markdown",
      "source": [
        "##Install package\n",
        "\n",
        "Package pyspark tidak termasuk package default dalam google colab. Setiap kali kita memulai session, kita perlu menginstal package pyspark.\n",
        "\n",
        "Kita akan lakukan instalasi dengan menggunakan pip (python install package)"
      ],
      "metadata": {
        "id": "vt5XRNUev0bs"
      }
    },
    {
      "cell_type": "code",
      "execution_count": 7,
      "metadata": {
        "colab": {
          "base_uri": "https://localhost:8080/"
        },
        "id": "fFxjqCrfpbLs",
        "outputId": "2c2f46fa-9bfb-4fd7-be89-a594a724af24"
      },
      "outputs": [
        {
          "output_type": "stream",
          "name": "stdout",
          "text": [
            "Requirement already satisfied: pyspark in /usr/local/lib/python3.10/dist-packages (3.4.1)\n",
            "Requirement already satisfied: py4j==0.10.9.7 in /usr/local/lib/python3.10/dist-packages (from pyspark) (0.10.9.7)\n"
          ]
        }
      ],
      "source": [
        "%pip install pyspark"
      ]
    },
    {
      "cell_type": "markdown",
      "source": [
        "##Spark Session"
      ],
      "metadata": {
        "id": "TOORJntWwZX-"
      }
    },
    {
      "cell_type": "markdown",
      "source": [
        "Aplikasi PySpark diawali dengan inisialisasi SparkSession. SparkSession diperkenalkan sejak versi Spark 2.0. SparkSession merupakan pintu masuk ke eksekusi Spark, untuk membuat objek-objek Spark RDD, DataFrame, dan DataSet.\n"
      ],
      "metadata": {
        "id": "weTl94WiweLK"
      }
    },
    {
      "cell_type": "code",
      "source": [
        "from pyspark.sql import SparkSession"
      ],
      "metadata": {
        "id": "CUpOeRqBpfs2"
      },
      "execution_count": 8,
      "outputs": []
    },
    {
      "cell_type": "code",
      "source": [
        "spark = SparkSession.builder.appName('Belajar Spark').getOrCreate()"
      ],
      "metadata": {
        "id": "Al26_-yypitY"
      },
      "execution_count": 9,
      "outputs": []
    },
    {
      "cell_type": "markdown",
      "source": [],
      "metadata": {
        "id": "ie7uOACKwm2o"
      }
    },
    {
      "cell_type": "markdown",
      "source": [
        "DataFrame dapat dibuat dengan banyak cara, di antaranya :\n",
        "- Dari python object, misalnya array/list, tuple, dictionary, pandas dataframe, dll. Digunakan dengan perintah createDataFrame().\n",
        "- Dari file : csv, json, dll. Digunakan dengan perintah read.\n",
        "- Dari file di HDFS, dengan perintah read ke lokasi HDFS.\n",
        "- Dari RDD, dengan perintah toDF().\n",
        "- dll."
      ],
      "metadata": {
        "id": "ISXxxz2Jwjxu"
      }
    },
    {
      "cell_type": "markdown",
      "source": [
        "###Membuat DataFrame dari python tuple"
      ],
      "metadata": {
        "id": "h94q0b2awyG9"
      }
    },
    {
      "cell_type": "code",
      "source": [
        "mydata = (('apel',100),('jeruk',200),('pisang',150),('pir',50))\n",
        "\n",
        "df_from_tuple = spark.createDataFrame(mydata, [\"nama\", \"jumlah\"])\n",
        "\n",
        "df_from_tuple.show()"
      ],
      "metadata": {
        "colab": {
          "base_uri": "https://localhost:8080/"
        },
        "id": "V47AA2Irp6UG",
        "outputId": "5a0957ef-c69f-4fee-de46-5de796545008"
      },
      "execution_count": 26,
      "outputs": [
        {
          "output_type": "stream",
          "name": "stdout",
          "text": [
            "+------+------+\n",
            "|  nama|jumlah|\n",
            "+------+------+\n",
            "|  apel|   100|\n",
            "| jeruk|   200|\n",
            "|pisang|   150|\n",
            "|   pir|    50|\n",
            "+------+------+\n",
            "\n"
          ]
        }
      ]
    },
    {
      "cell_type": "markdown",
      "source": [
        "###Membuat DataFrame dari python list"
      ],
      "metadata": {
        "id": "tjFj22zFwvpV"
      }
    },
    {
      "cell_type": "code",
      "source": [
        "mydata = [['apel',100],['jeruk',200],['pisang',150],['pir',50]]\n",
        "\n",
        "df_from_list = spark.createDataFrame(mydata,[\"nama\", \"jumlah\"])\n",
        "\n",
        "df_from_list.show()"
      ],
      "metadata": {
        "colab": {
          "base_uri": "https://localhost:8080/"
        },
        "id": "_wF6n7pSw6JF",
        "outputId": "2b2feef0-0015-4f4c-d4a4-29773ba19c9b"
      },
      "execution_count": 28,
      "outputs": [
        {
          "output_type": "stream",
          "name": "stdout",
          "text": [
            "+------+------+\n",
            "|  nama|jumlah|\n",
            "+------+------+\n",
            "|  apel|   100|\n",
            "| jeruk|   200|\n",
            "|pisang|   150|\n",
            "|   pir|    50|\n",
            "+------+------+\n",
            "\n"
          ]
        }
      ]
    },
    {
      "cell_type": "markdown",
      "source": [
        "###Membuat DataFrame dari pandas dataframe"
      ],
      "metadata": {
        "id": "b-BevKYQwsRQ"
      }
    },
    {
      "cell_type": "code",
      "source": [
        "import pandas as pd\n",
        "\n",
        "df_pd = pd.DataFrame(list(zip(['apel','jeruk','pisang','pir'],\n",
        "                              [100,200,150,100])),\n",
        "                  columns =['nama','jumlah'])\n",
        "\n",
        "df = spark.createDataFrame(df_pd)\n",
        "df.show()"
      ],
      "metadata": {
        "colab": {
          "base_uri": "https://localhost:8080/"
        },
        "id": "4DpasHHNqeuj",
        "outputId": "6d2b1d72-e956-4fc1-a4fb-e08b57955190"
      },
      "execution_count": 12,
      "outputs": [
        {
          "output_type": "stream",
          "name": "stdout",
          "text": [
            "+------+------+\n",
            "|  nama|jumlah|\n",
            "+------+------+\n",
            "|  apel|   100|\n",
            "| jeruk|   200|\n",
            "|pisang|   150|\n",
            "|   pir|   100|\n",
            "+------+------+\n",
            "\n"
          ]
        }
      ]
    },
    {
      "cell_type": "markdown",
      "source": [
        "####Membuat DataFrame dari file csv"
      ],
      "metadata": {
        "id": "HaeC4s-w-aFz"
      }
    },
    {
      "cell_type": "code",
      "source": [
        "!wget https://raw.githubusercontent.com/urfie/Seri-Belajar-PySpark/main/buah.csv\n",
        "\n",
        "namafile = 'buah.csv'"
      ],
      "metadata": {
        "colab": {
          "base_uri": "https://localhost:8080/"
        },
        "id": "l80lzzXZ-mIO",
        "outputId": "0c64f21a-f1c3-49b7-c4df-f21aaeeaa94b"
      },
      "execution_count": 29,
      "outputs": [
        {
          "output_type": "stream",
          "name": "stdout",
          "text": [
            "--2023-07-05 12:15:51--  https://raw.githubusercontent.com/urfie/Seri-Belajar-PySpark/main/buah.csv\n",
            "Resolving raw.githubusercontent.com (raw.githubusercontent.com)... 185.199.108.133, 185.199.109.133, 185.199.110.133, ...\n",
            "Connecting to raw.githubusercontent.com (raw.githubusercontent.com)|185.199.108.133|:443... connected.\n",
            "HTTP request sent, awaiting response... 200 OK\n",
            "Length: 115 [text/plain]\n",
            "Saving to: ‘buah.csv’\n",
            "\n",
            "buah.csv            100%[===================>]     115  --.-KB/s    in 0s      \n",
            "\n",
            "2023-07-05 12:15:51 (4.69 MB/s) - ‘buah.csv’ saved [115/115]\n",
            "\n"
          ]
        }
      ]
    },
    {
      "cell_type": "code",
      "source": [
        "df = spark.read.csv('buah.csv', header=True)\n",
        "df.show()"
      ],
      "metadata": {
        "colab": {
          "base_uri": "https://localhost:8080/"
        },
        "id": "TZXsSVCG-f-C",
        "outputId": "ae5662e9-1859-4b2f-b8bb-58ce671e52b6"
      },
      "execution_count": 30,
      "outputs": [
        {
          "output_type": "stream",
          "name": "stdout",
          "text": [
            "+------+------+------+\n",
            "|  nama| warna|jumlah|\n",
            "+------+------+------+\n",
            "|  apel| merah|   100|\n",
            "|  apel| hijau|   150|\n",
            "|pisang|kuning|   200|\n",
            "|pisang| hijau|   250|\n",
            "| jeruk| orens|   100|\n",
            "| jeruk| hijau|   300|\n",
            "+------+------+------+\n",
            "\n"
          ]
        }
      ]
    },
    {
      "cell_type": "markdown",
      "source": [
        "##Eksplorasi DataFrame"
      ],
      "metadata": {
        "id": "CGl6KoNGxKtY"
      }
    },
    {
      "cell_type": "markdown",
      "source": [
        "Sebelum melakukan pemrosesan, biasanya kita melakukan eksplorasi untuk mengetahui karakteristik data yang akan diproses. Beberapa perintah yang biasa kita gunakan yaitu :\n"
      ],
      "metadata": {
        "id": "k_1JQUdpxNO6"
      }
    },
    {
      "cell_type": "markdown",
      "source": [
        "####Menampilkan satu baris pertama"
      ],
      "metadata": {
        "id": "E41ZlpLhxPo4"
      }
    },
    {
      "cell_type": "code",
      "source": [
        "df.first()"
      ],
      "metadata": {
        "colab": {
          "base_uri": "https://localhost:8080/"
        },
        "id": "V9vL607cq41k",
        "outputId": "283492f1-0abd-4a06-9a9e-eb14dcdf6d73"
      },
      "execution_count": 13,
      "outputs": [
        {
          "output_type": "execute_result",
          "data": {
            "text/plain": [
              "Row(nama='apel', jumlah=100)"
            ]
          },
          "metadata": {},
          "execution_count": 13
        }
      ]
    },
    {
      "cell_type": "markdown",
      "source": [
        "####Menampilkan beberapa baris pertama"
      ],
      "metadata": {
        "id": "_BvnsXaUxTno"
      }
    },
    {
      "cell_type": "code",
      "source": [
        "df.show(2)"
      ],
      "metadata": {
        "colab": {
          "base_uri": "https://localhost:8080/"
        },
        "id": "vp9g3rYiq-8s",
        "outputId": "117678d3-7754-4e0a-ccaa-bc1ee8736461"
      },
      "execution_count": 14,
      "outputs": [
        {
          "output_type": "stream",
          "name": "stdout",
          "text": [
            "+-----+------+\n",
            "| nama|jumlah|\n",
            "+-----+------+\n",
            "| apel|   100|\n",
            "|jeruk|   200|\n",
            "+-----+------+\n",
            "only showing top 2 rows\n",
            "\n"
          ]
        }
      ]
    },
    {
      "cell_type": "markdown",
      "source": [
        "####Menampilkan jumlah baris"
      ],
      "metadata": {
        "id": "7tYzkuXfxUEt"
      }
    },
    {
      "cell_type": "code",
      "source": [
        "df.count()"
      ],
      "metadata": {
        "colab": {
          "base_uri": "https://localhost:8080/"
        },
        "id": "zpxrToCvrBUI",
        "outputId": "11a79134-30c0-4ce8-c9f5-91eb493b5f9f"
      },
      "execution_count": 15,
      "outputs": [
        {
          "output_type": "execute_result",
          "data": {
            "text/plain": [
              "4"
            ]
          },
          "metadata": {},
          "execution_count": 15
        }
      ]
    },
    {
      "cell_type": "markdown",
      "source": [
        "####Menampilkan kolom"
      ],
      "metadata": {
        "id": "G1F9hxutyTUS"
      }
    },
    {
      "cell_type": "code",
      "source": [
        "df.columns"
      ],
      "metadata": {
        "colab": {
          "base_uri": "https://localhost:8080/"
        },
        "id": "SeWBrNVyyVtD",
        "outputId": "37e2a460-ea1d-449d-e95b-ac27d3544ea8"
      },
      "execution_count": 25,
      "outputs": [
        {
          "output_type": "execute_result",
          "data": {
            "text/plain": [
              "['nama', 'jumlah']"
            ]
          },
          "metadata": {},
          "execution_count": 25
        }
      ]
    },
    {
      "cell_type": "markdown",
      "source": [
        "####Menampilkan jumlah kolom"
      ],
      "metadata": {
        "id": "CNL3EUdrx4FP"
      }
    },
    {
      "cell_type": "code",
      "source": [
        "len(df.columns)"
      ],
      "metadata": {
        "colab": {
          "base_uri": "https://localhost:8080/"
        },
        "id": "ai0geyzwx7ln",
        "outputId": "ef9ae9d7-d620-4115-ce0b-47918f177e26"
      },
      "execution_count": 24,
      "outputs": [
        {
          "output_type": "execute_result",
          "data": {
            "text/plain": [
              "2"
            ]
          },
          "metadata": {},
          "execution_count": 24
        }
      ]
    },
    {
      "cell_type": "markdown",
      "source": [
        "####Menampilkan skema"
      ],
      "metadata": {
        "id": "AemfxeKUxUw4"
      }
    },
    {
      "cell_type": "code",
      "source": [
        "df.printSchema()"
      ],
      "metadata": {
        "colab": {
          "base_uri": "https://localhost:8080/"
        },
        "id": "GojCODi8rFCh",
        "outputId": "cae144fa-2a60-4a89-be35-12e1a5c80428"
      },
      "execution_count": 16,
      "outputs": [
        {
          "output_type": "stream",
          "name": "stdout",
          "text": [
            "root\n",
            " |-- nama: string (nullable = true)\n",
            " |-- jumlah: long (nullable = true)\n",
            "\n"
          ]
        }
      ]
    },
    {
      "cell_type": "markdown",
      "source": [
        "####Menampilkan rangkuman statistik"
      ],
      "metadata": {
        "id": "GM0S8OeexVTO"
      }
    },
    {
      "cell_type": "code",
      "source": [
        "df.describe().show()"
      ],
      "metadata": {
        "colab": {
          "base_uri": "https://localhost:8080/"
        },
        "id": "HHvc1tiWrHQT",
        "outputId": "f0eb4327-df8e-40f0-b441-11b84198ad7e"
      },
      "execution_count": 17,
      "outputs": [
        {
          "output_type": "stream",
          "name": "stdout",
          "text": [
            "+-------+------+------------------+\n",
            "|summary|  nama|            jumlah|\n",
            "+-------+------+------------------+\n",
            "|  count|     4|                 4|\n",
            "|   mean|  null|             137.5|\n",
            "| stddev|  null|47.871355387816905|\n",
            "|    min|  apel|               100|\n",
            "|    max|pisang|               200|\n",
            "+-------+------+------------------+\n",
            "\n"
          ]
        }
      ]
    },
    {
      "cell_type": "markdown",
      "source": [
        "###Memilih kolom DataFrame (Subset DataFrame)"
      ],
      "metadata": {
        "id": "rJwk_mLzxWOY"
      }
    },
    {
      "cell_type": "markdown",
      "source": [
        "Untuk memilih kolom tertentu saja, gunakan perintah` select(namakolom)`"
      ],
      "metadata": {
        "id": "11r5yLgkylu3"
      }
    },
    {
      "cell_type": "code",
      "source": [
        "df.select(\"nama\").show()"
      ],
      "metadata": {
        "colab": {
          "base_uri": "https://localhost:8080/"
        },
        "id": "d3XnYxS6rKWE",
        "outputId": "25365514-99b1-455b-c4ef-31a9cca24ae0"
      },
      "execution_count": 18,
      "outputs": [
        {
          "output_type": "stream",
          "name": "stdout",
          "text": [
            "+------+\n",
            "|  nama|\n",
            "+------+\n",
            "|  apel|\n",
            "| jeruk|\n",
            "|pisang|\n",
            "|   pir|\n",
            "+------+\n",
            "\n"
          ]
        }
      ]
    },
    {
      "cell_type": "markdown",
      "source": [
        "###Memilih baris (filtering)"
      ],
      "metadata": {
        "id": "An7Hs3dOxfwx"
      }
    },
    {
      "cell_type": "markdown",
      "source": [
        "Perintah `filter(kondisi)` digunakan untuk memilih atau memfilter baris sebuah DataFrame"
      ],
      "metadata": {
        "id": "jtKdBJEEyjFj"
      }
    },
    {
      "cell_type": "code",
      "source": [
        "df.filter(df.jumlah > 100).show()"
      ],
      "metadata": {
        "colab": {
          "base_uri": "https://localhost:8080/"
        },
        "id": "fLG56IQKrMxB",
        "outputId": "79d5de61-b6ba-4d3d-c556-e41f5dd94704"
      },
      "execution_count": 19,
      "outputs": [
        {
          "output_type": "stream",
          "name": "stdout",
          "text": [
            "+------+------+\n",
            "|  nama|jumlah|\n",
            "+------+------+\n",
            "| jeruk|   200|\n",
            "|pisang|   150|\n",
            "+------+------+\n",
            "\n"
          ]
        }
      ]
    },
    {
      "cell_type": "markdown",
      "source": [
        "Untuk menggunakan kondisi berupa operasi string, dapat digunakan fungsi-fungsi dari pyspark.sql.Column yang terkait string, misalnya `contains(), startswith(), endswith()`\n"
      ],
      "metadata": {
        "id": "xXKXgPZqygPy"
      }
    },
    {
      "cell_type": "code",
      "source": [
        "df.filter(df.nama.contains('is')).show(5)\n",
        "df.filter(df.nama.startswith('je')).show(5)"
      ],
      "metadata": {
        "colab": {
          "base_uri": "https://localhost:8080/"
        },
        "id": "Pth3_OQFrPs-",
        "outputId": "3eb31252-b88b-410a-f8f4-5d6c2155089c"
      },
      "execution_count": 20,
      "outputs": [
        {
          "output_type": "stream",
          "name": "stdout",
          "text": [
            "+------+------+\n",
            "|  nama|jumlah|\n",
            "+------+------+\n",
            "|pisang|   150|\n",
            "+------+------+\n",
            "\n",
            "+-----+------+\n",
            "| nama|jumlah|\n",
            "+-----+------+\n",
            "|jeruk|   200|\n",
            "+-----+------+\n",
            "\n"
          ]
        }
      ]
    },
    {
      "cell_type": "markdown",
      "source": [
        "Kita juga dapat menggunakan fungsi `like()` yang serupa dengan SQL statement like"
      ],
      "metadata": {
        "id": "_eEi9VB7yxPb"
      }
    },
    {
      "cell_type": "code",
      "source": [
        "df.filter(df.nama.like('pi%')).show(5)"
      ],
      "metadata": {
        "colab": {
          "base_uri": "https://localhost:8080/"
        },
        "id": "v9Avb81NrSaG",
        "outputId": "8f759a0c-3be9-4716-fda7-6069274ee34b"
      },
      "execution_count": 21,
      "outputs": [
        {
          "output_type": "stream",
          "name": "stdout",
          "text": [
            "+------+------+\n",
            "|  nama|jumlah|\n",
            "+------+------+\n",
            "|pisang|   150|\n",
            "|   pir|   100|\n",
            "+------+------+\n",
            "\n"
          ]
        }
      ]
    }
  ]
}
