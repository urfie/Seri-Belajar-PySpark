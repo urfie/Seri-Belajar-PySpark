{
  "nbformat": 4,
  "nbformat_minor": 0,
  "metadata": {
    "colab": {
      "provenance": []
    },
    "kernelspec": {
      "name": "python3",
      "display_name": "Python 3"
    },
    "language_info": {
      "name": "python"
    }
  },
  "cells": [
    {
      "cell_type": "markdown",
      "source": [
        "#Belajar Pyspark - DataFrame Union"
      ],
      "metadata": {
        "id": "i0GWDGS5yaq2"
      }
    },
    {
      "cell_type": "markdown",
      "source": [
        "artikel dapat dibaca di www.datalearns247.com"
      ],
      "metadata": {
        "id": "ABW0hzgH630m"
      }
    },
    {
      "cell_type": "markdown",
      "source": [
        "##Mempersiapkan Environment"
      ],
      "metadata": {
        "id": "4WzInJqmdO5M"
      }
    },
    {
      "cell_type": "code",
      "execution_count": 1,
      "metadata": {
        "colab": {
          "base_uri": "https://localhost:8080/"
        },
        "id": "dCBnjGO5yaKm",
        "outputId": "976635df-91c3-41fb-eeca-2f7df14be8c2"
      },
      "outputs": [
        {
          "output_type": "stream",
          "name": "stdout",
          "text": [
            "Collecting pyspark\n",
            "  Downloading pyspark-3.5.0.tar.gz (316.9 MB)\n",
            "\u001b[2K     \u001b[90m━━━━━━━━━━━━━━━━━━━━━━━━━━━━━━━━━━━━━━━━\u001b[0m \u001b[32m316.9/316.9 MB\u001b[0m \u001b[31m3.1 MB/s\u001b[0m eta \u001b[36m0:00:00\u001b[0m\n",
            "\u001b[?25h  Preparing metadata (setup.py) ... \u001b[?25l\u001b[?25hdone\n",
            "Requirement already satisfied: py4j==0.10.9.7 in /usr/local/lib/python3.10/dist-packages (from pyspark) (0.10.9.7)\n",
            "Building wheels for collected packages: pyspark\n",
            "  Building wheel for pyspark (setup.py) ... \u001b[?25l\u001b[?25hdone\n",
            "  Created wheel for pyspark: filename=pyspark-3.5.0-py2.py3-none-any.whl size=317425345 sha256=032e213fa920d7f7bc30e6e7d7e8f639b421436a4351e7fc70c150afad907ec0\n",
            "  Stored in directory: /root/.cache/pip/wheels/41/4e/10/c2cf2467f71c678cfc8a6b9ac9241e5e44a01940da8fbb17fc\n",
            "Successfully built pyspark\n",
            "Installing collected packages: pyspark\n",
            "Successfully installed pyspark-3.5.0\n"
          ]
        }
      ],
      "source": [
        "%pip install pyspark #jalankan untuk google colab"
      ]
    },
    {
      "cell_type": "markdown",
      "source": [
        "Import package"
      ],
      "metadata": {
        "id": "Yl_s-hDmEN35"
      }
    },
    {
      "cell_type": "code",
      "source": [
        "from pyspark.sql import SparkSession\n",
        "import pyspark.sql.functions as F"
      ],
      "metadata": {
        "id": "5ZADhBYSyy4W"
      },
      "execution_count": 2,
      "outputs": []
    },
    {
      "cell_type": "markdown",
      "source": [
        "Create session"
      ],
      "metadata": {
        "id": "TCNVfD3yEPaw"
      }
    },
    {
      "cell_type": "code",
      "source": [
        "spark = SparkSession.builder.appName(\"Belajar PySpark - Pivot dan Unpivot\").getOrCreate()"
      ],
      "metadata": {
        "id": "GCkNX2ssy1YH"
      },
      "execution_count": 3,
      "outputs": []
    },
    {
      "cell_type": "markdown",
      "source": [
        "Mempersiapkan data"
      ],
      "metadata": {
        "id": "Og7_nv6AERGH"
      }
    },
    {
      "cell_type": "code",
      "source": [
        "data1 = [['Agus','Fisika',150],\n",
        "\t      ['Dina','Fisika',180]]\n",
        "\n",
        "data2 = [['Budi','Biologi',170],\n",
        "\t      ['Dedi','Biologi',185],\n",
        "        ['Ana','Biologi',170]]\n",
        "\n",
        "kolom = [\"nama\",\"jurusan\",\"nilai\"]\n",
        "\n",
        "df1 = spark.createDataFrame(data1,kolom)\n",
        "df2 = spark.createDataFrame(data2,kolom)\n",
        "\n",
        "df1.show()\n",
        "df1.printSchema()\n",
        "df2.show()\n",
        "df2.printSchema()"
      ],
      "metadata": {
        "colab": {
          "base_uri": "https://localhost:8080/"
        },
        "id": "qIiySaTGy3Ec",
        "outputId": "dd914869-977f-4c69-afbf-d0ced92e6a5e"
      },
      "execution_count": 38,
      "outputs": [
        {
          "output_type": "stream",
          "name": "stdout",
          "text": [
            "+----+-------+-----+\n",
            "|nama|jurusan|nilai|\n",
            "+----+-------+-----+\n",
            "|Agus| Fisika|  150|\n",
            "|Dina| Fisika|  180|\n",
            "+----+-------+-----+\n",
            "\n",
            "root\n",
            " |-- nama: string (nullable = true)\n",
            " |-- jurusan: string (nullable = true)\n",
            " |-- nilai: long (nullable = true)\n",
            "\n",
            "+----+-------+-----+\n",
            "|nama|jurusan|nilai|\n",
            "+----+-------+-----+\n",
            "|Budi|Biologi|  170|\n",
            "|Dedi|Biologi|  185|\n",
            "| Ana|Biologi|  170|\n",
            "+----+-------+-----+\n",
            "\n",
            "root\n",
            " |-- nama: string (nullable = true)\n",
            " |-- jurusan: string (nullable = true)\n",
            " |-- nilai: long (nullable = true)\n",
            "\n"
          ]
        }
      ]
    },
    {
      "cell_type": "code",
      "source": [],
      "metadata": {
        "id": "WHw9zxDs4a5d"
      },
      "execution_count": null,
      "outputs": []
    },
    {
      "cell_type": "markdown",
      "source": [
        "##Union dua dataset"
      ],
      "metadata": {
        "id": "sL10Tjf6ES6K"
      }
    },
    {
      "cell_type": "code",
      "source": [
        "df1.union(df2).show()"
      ],
      "metadata": {
        "colab": {
          "base_uri": "https://localhost:8080/"
        },
        "id": "i28RdPyzEs8w",
        "outputId": "915e3c2b-d7ee-4655-91cf-1828865a387c"
      },
      "execution_count": 21,
      "outputs": [
        {
          "output_type": "stream",
          "name": "stdout",
          "text": [
            "+----+-------+-----+\n",
            "|nama|jurusan|nilai|\n",
            "+----+-------+-----+\n",
            "|Agus| Fisika|  150|\n",
            "|Dina| Fisika|  180|\n",
            "|Bayu| Fisika|  160|\n",
            "|Budi|Biologi|  170|\n",
            "|Dedi|Biologi|  185|\n",
            "| Ana|Biologi|  170|\n",
            "+----+-------+-----+\n",
            "\n"
          ]
        }
      ]
    },
    {
      "cell_type": "code",
      "source": [
        "data3 = [['Citra',170,180],\n",
        "         ['Doni',175,170]]\n",
        "kolom3 = [\"nama\",\"nilai1\",\"nilai2\"]\n",
        "df3 = spark.createDataFrame(data3,kolom3)\n",
        "\n",
        "data4 = [['Agus','Fisika',150],\n",
        "\t      ['Dina','Fisika',180]]\n",
        "\n",
        "kolom4 = [\"nama\",\"jurusan\",\"nilai\"]\n",
        "df4 = spark.createDataFrame(data4,kolom4)"
      ],
      "metadata": {
        "id": "py0XMs3j63RW"
      },
      "execution_count": 51,
      "outputs": []
    },
    {
      "cell_type": "code",
      "source": [
        "df3.show()\n",
        "df3.printSchema()\n",
        "df4.show()\n",
        "df4.printSchema()"
      ],
      "metadata": {
        "colab": {
          "base_uri": "https://localhost:8080/"
        },
        "id": "Z1Rmouvw79IP",
        "outputId": "d533061a-33ae-47b5-fda0-7e118027147e"
      },
      "execution_count": 52,
      "outputs": [
        {
          "output_type": "stream",
          "name": "stdout",
          "text": [
            "+-----+------+------+\n",
            "| nama|nilai1|nilai2|\n",
            "+-----+------+------+\n",
            "|Citra|   170|   180|\n",
            "| Doni|   175|   170|\n",
            "+-----+------+------+\n",
            "\n",
            "root\n",
            " |-- nama: string (nullable = true)\n",
            " |-- nilai1: long (nullable = true)\n",
            " |-- nilai2: long (nullable = true)\n",
            "\n",
            "+----+-------+-----+\n",
            "|nama|jurusan|nilai|\n",
            "+----+-------+-----+\n",
            "|Agus| Fisika|  150|\n",
            "|Dina| Fisika|  180|\n",
            "+----+-------+-----+\n",
            "\n",
            "root\n",
            " |-- nama: string (nullable = true)\n",
            " |-- jurusan: string (nullable = true)\n",
            " |-- nilai: long (nullable = true)\n",
            "\n"
          ]
        }
      ]
    },
    {
      "cell_type": "code",
      "source": [
        "df = df4.union(df3)\n",
        "df.show()\n",
        "df.printSchema()"
      ],
      "metadata": {
        "colab": {
          "base_uri": "https://localhost:8080/"
        },
        "id": "FScxV22a8EV3",
        "outputId": "ba89368a-3d7d-4915-a3d1-8423a7184693"
      },
      "execution_count": 54,
      "outputs": [
        {
          "output_type": "stream",
          "name": "stdout",
          "text": [
            "+-----+-------+-----+\n",
            "| nama|jurusan|nilai|\n",
            "+-----+-------+-----+\n",
            "| Agus| Fisika|  150|\n",
            "| Dina| Fisika|  180|\n",
            "|Citra|    170|  180|\n",
            "| Doni|    175|  170|\n",
            "+-----+-------+-----+\n",
            "\n",
            "root\n",
            " |-- nama: string (nullable = true)\n",
            " |-- jurusan: string (nullable = true)\n",
            " |-- nilai: long (nullable = true)\n",
            "\n"
          ]
        }
      ]
    },
    {
      "cell_type": "markdown",
      "source": [
        "##Union dataset dengan urutan kolom berbeda"
      ],
      "metadata": {
        "id": "tLBO6_hXHiMt"
      }
    },
    {
      "cell_type": "code",
      "source": [
        "data1 = [['Agus','Fisika',150],\n",
        "\t      ['Dina','Fisika',180]]\n",
        "\n",
        "kolom1 = [\"nama\",\"jurusan\",\"nilai\"]\n",
        "\n",
        "df1 = spark.createDataFrame(data1,kolom1)\n",
        "\n",
        "df1.show()\n",
        "df1.printSchema()\n",
        "\n",
        "data3 = [['Citra',170,'Fisika'],\n",
        "         ['Doni',175,'Biologi']]\n",
        "\n",
        "kolom3 = [\"nama\",\"nilai\",\"jurusan\"]\n",
        "\n",
        "df3 = spark.createDataFrame(data3,kolom3)\n",
        "\n",
        "df3.show()\n",
        "df3.printSchema()"
      ],
      "metadata": {
        "colab": {
          "base_uri": "https://localhost:8080/"
        },
        "id": "NK1NDJSGHfna",
        "outputId": "e1cdd2d8-5438-41ca-da6b-06926c3979a0"
      },
      "execution_count": 39,
      "outputs": [
        {
          "output_type": "stream",
          "name": "stdout",
          "text": [
            "+----+-------+-----+\n",
            "|nama|jurusan|nilai|\n",
            "+----+-------+-----+\n",
            "|Agus| Fisika|  150|\n",
            "|Dina| Fisika|  180|\n",
            "+----+-------+-----+\n",
            "\n",
            "root\n",
            " |-- nama: string (nullable = true)\n",
            " |-- jurusan: string (nullable = true)\n",
            " |-- nilai: long (nullable = true)\n",
            "\n",
            "+-----+-----+-------+\n",
            "| nama|nilai|jurusan|\n",
            "+-----+-----+-------+\n",
            "|Citra|  170| Fisika|\n",
            "| Doni|  175|Biologi|\n",
            "+-----+-----+-------+\n",
            "\n",
            "root\n",
            " |-- nama: string (nullable = true)\n",
            " |-- nilai: long (nullable = true)\n",
            " |-- jurusan: string (nullable = true)\n",
            "\n"
          ]
        }
      ]
    },
    {
      "cell_type": "code",
      "source": [
        "df1.unionByName(df3).show()"
      ],
      "metadata": {
        "colab": {
          "base_uri": "https://localhost:8080/"
        },
        "id": "kaNQkCIYHylg",
        "outputId": "cdf6145b-6a33-413a-cdce-10d101dae9e8"
      },
      "execution_count": 28,
      "outputs": [
        {
          "output_type": "stream",
          "name": "stdout",
          "text": [
            "+-----+-------+-----+\n",
            "| nama|jurusan|nilai|\n",
            "+-----+-------+-----+\n",
            "| Agus| Fisika|  150|\n",
            "| Dina| Fisika|  180|\n",
            "|Citra| Fisika|  170|\n",
            "| Doni|Biologi|  175|\n",
            "+-----+-------+-----+\n",
            "\n"
          ]
        }
      ]
    },
    {
      "cell_type": "markdown",
      "source": [
        "##Mengatasi Duplikasi"
      ],
      "metadata": {
        "id": "XBOrA16s2GpR"
      }
    },
    {
      "cell_type": "code",
      "source": [
        "data4 = [['Agus','Fisika',150],\n",
        "\t      ['Dina','Fisika',180]]\n",
        "\n",
        "data5 = [['Dina','Fisika',180],\n",
        "\t      ['Dedi','Biologi',185]]\n",
        "\n",
        "kolom = [\"nama\",\"jurusan\",\"nilai\"]\n",
        "\n",
        "df4 = spark.createDataFrame(data4,kolom)\n",
        "df5 = spark.createDataFrame(data5,kolom)\n",
        "\n",
        "df4.show()\n",
        "df5.show()"
      ],
      "metadata": {
        "colab": {
          "base_uri": "https://localhost:8080/"
        },
        "id": "mHwEm29q2Gc2",
        "outputId": "6a6a07b8-a1d1-405a-91d1-8ca6ccce4468"
      },
      "execution_count": 35,
      "outputs": [
        {
          "output_type": "stream",
          "name": "stdout",
          "text": [
            "+----+-------+-----+\n",
            "|nama|jurusan|nilai|\n",
            "+----+-------+-----+\n",
            "|Agus| Fisika|  150|\n",
            "|Dina| Fisika|  180|\n",
            "+----+-------+-----+\n",
            "\n",
            "+----+-------+-----+\n",
            "|nama|jurusan|nilai|\n",
            "+----+-------+-----+\n",
            "|Dina| Fisika|  180|\n",
            "|Dedi|Biologi|  185|\n",
            "+----+-------+-----+\n",
            "\n"
          ]
        }
      ]
    },
    {
      "cell_type": "code",
      "source": [
        "df4.union(df5).show()"
      ],
      "metadata": {
        "colab": {
          "base_uri": "https://localhost:8080/"
        },
        "id": "gNVNSTyD3SBJ",
        "outputId": "96f1780d-ede1-4a47-dcc5-a13c4da61555"
      },
      "execution_count": 36,
      "outputs": [
        {
          "output_type": "stream",
          "name": "stdout",
          "text": [
            "+----+-------+-----+\n",
            "|nama|jurusan|nilai|\n",
            "+----+-------+-----+\n",
            "|Agus| Fisika|  150|\n",
            "|Dina| Fisika|  180|\n",
            "|Dina| Fisika|  180|\n",
            "|Dedi|Biologi|  185|\n",
            "+----+-------+-----+\n",
            "\n"
          ]
        }
      ]
    },
    {
      "cell_type": "code",
      "source": [
        "df4.union(df5).distinct().show()"
      ],
      "metadata": {
        "colab": {
          "base_uri": "https://localhost:8080/"
        },
        "id": "lTEtk0k43ODz",
        "outputId": "d43dd837-4af9-48e1-8d40-883238d9247f"
      },
      "execution_count": 37,
      "outputs": [
        {
          "output_type": "stream",
          "name": "stdout",
          "text": [
            "+----+-------+-----+\n",
            "|nama|jurusan|nilai|\n",
            "+----+-------+-----+\n",
            "|Agus| Fisika|  150|\n",
            "|Dina| Fisika|  180|\n",
            "|Dedi|Biologi|  185|\n",
            "+----+-------+-----+\n",
            "\n"
          ]
        }
      ]
    }
  ]
}