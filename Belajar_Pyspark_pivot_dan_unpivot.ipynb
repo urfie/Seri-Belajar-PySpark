{
  "nbformat": 4,
  "nbformat_minor": 0,
  "metadata": {
    "colab": {
      "provenance": []
    },
    "kernelspec": {
      "name": "python3",
      "display_name": "Python 3"
    },
    "language_info": {
      "name": "python"
    }
  },
  "cells": [
    {
      "cell_type": "markdown",
      "source": [
        "#Belajar Pyspark - pivot dan unpivot"
      ],
      "metadata": {
        "id": "i0GWDGS5yaq2"
      }
    },
    {
      "cell_type": "markdown",
      "source": [
        "artikel dapat dibaca di www.datalearns247.com"
      ],
      "metadata": {
        "id": "ABW0hzgH630m"
      }
    },
    {
      "cell_type": "markdown",
      "source": [
        "##Mempersiapkan Environment"
      ],
      "metadata": {
        "id": "4WzInJqmdO5M"
      }
    },
    {
      "cell_type": "code",
      "execution_count": 1,
      "metadata": {
        "colab": {
          "base_uri": "https://localhost:8080/"
        },
        "id": "dCBnjGO5yaKm",
        "outputId": "dd0168f1-3371-4b58-9755-daf5d1a64c80"
      },
      "outputs": [
        {
          "output_type": "stream",
          "name": "stdout",
          "text": [
            "Collecting pyspark\n",
            "  Downloading pyspark-3.5.0.tar.gz (316.9 MB)\n",
            "\u001b[2K     \u001b[90m━━━━━━━━━━━━━━━━━━━━━━━━━━━━━━━━━━━━━━━━\u001b[0m \u001b[32m316.9/316.9 MB\u001b[0m \u001b[31m3.2 MB/s\u001b[0m eta \u001b[36m0:00:00\u001b[0m\n",
            "\u001b[?25h  Preparing metadata (setup.py) ... \u001b[?25l\u001b[?25hdone\n",
            "Requirement already satisfied: py4j==0.10.9.7 in /usr/local/lib/python3.10/dist-packages (from pyspark) (0.10.9.7)\n",
            "Building wheels for collected packages: pyspark\n",
            "  Building wheel for pyspark (setup.py) ... \u001b[?25l\u001b[?25hdone\n",
            "  Created wheel for pyspark: filename=pyspark-3.5.0-py2.py3-none-any.whl size=317425345 sha256=d8561f3369b3c2b792d015bbf53f72ced31d148bb38a896312bc6009a47a6cce\n",
            "  Stored in directory: /root/.cache/pip/wheels/41/4e/10/c2cf2467f71c678cfc8a6b9ac9241e5e44a01940da8fbb17fc\n",
            "Successfully built pyspark\n",
            "Installing collected packages: pyspark\n",
            "Successfully installed pyspark-3.5.0\n"
          ]
        }
      ],
      "source": [
        "%pip install pyspark #jalankan untuk google colab"
      ]
    },
    {
      "cell_type": "markdown",
      "source": [
        "Import package"
      ],
      "metadata": {
        "id": "Yl_s-hDmEN35"
      }
    },
    {
      "cell_type": "code",
      "source": [
        "from pyspark.sql import SparkSession\n",
        "import pyspark.sql.functions as F"
      ],
      "metadata": {
        "id": "5ZADhBYSyy4W"
      },
      "execution_count": 2,
      "outputs": []
    },
    {
      "cell_type": "markdown",
      "source": [
        "Create session"
      ],
      "metadata": {
        "id": "TCNVfD3yEPaw"
      }
    },
    {
      "cell_type": "code",
      "source": [
        "spark = SparkSession.builder.appName(\"Belajar PySpark - Pivot dan Unpivot\").getOrCreate()"
      ],
      "metadata": {
        "id": "GCkNX2ssy1YH"
      },
      "execution_count": 3,
      "outputs": []
    },
    {
      "cell_type": "markdown",
      "source": [
        "Mempersiapkan data"
      ],
      "metadata": {
        "id": "Og7_nv6AERGH"
      }
    },
    {
      "cell_type": "code",
      "source": [
        "data = [['Agus','Fisika','Umum',150],['Windy','Fisika','Khusus',200],\n",
        "        ['Budi','Biologi','Umum',170],['Dina','Fisika','Khusus',180],\n",
        "        ['Bayu','Fisika','Umum',160],['Dedi','Biologi','Khusus',185],\n",
        "        ['Ana','Biologi','Umum',170],['Yani','Biologi','Khusus',175],\n",
        "        ['Citra','Fisika','Umum',170],['Jaka','Biologi','Khusus',180],\n",
        "        ['Doni','Biologi','Umum',170],['Hadi','Fisika','Umum',175]]\n",
        "\n",
        "kolom = [\"nama\",\"jurusan\",\"jalur\",\"nilai\"]\n",
        "\n",
        "df = spark.createDataFrame(data,kolom)\n",
        "\n",
        "df.show()"
      ],
      "metadata": {
        "colab": {
          "base_uri": "https://localhost:8080/"
        },
        "id": "qIiySaTGy3Ec",
        "outputId": "2e8135f8-5877-44f2-f63a-11976856036a"
      },
      "execution_count": 4,
      "outputs": [
        {
          "output_type": "stream",
          "name": "stdout",
          "text": [
            "+-----+-------+------+-----+\n",
            "| nama|jurusan| jalur|nilai|\n",
            "+-----+-------+------+-----+\n",
            "| Agus| Fisika|  Umum|  150|\n",
            "|Windy| Fisika|Khusus|  200|\n",
            "| Budi|Biologi|  Umum|  170|\n",
            "| Dina| Fisika|Khusus|  180|\n",
            "| Bayu| Fisika|  Umum|  160|\n",
            "| Dedi|Biologi|Khusus|  185|\n",
            "|  Ana|Biologi|  Umum|  170|\n",
            "| Yani|Biologi|Khusus|  175|\n",
            "|Citra| Fisika|  Umum|  170|\n",
            "| Jaka|Biologi|Khusus|  180|\n",
            "| Doni|Biologi|  Umum|  170|\n",
            "| Hadi| Fisika|  Umum|  175|\n",
            "+-----+-------+------+-----+\n",
            "\n"
          ]
        }
      ]
    },
    {
      "cell_type": "markdown",
      "source": [
        "##Grouping dan agregasi biasa"
      ],
      "metadata": {
        "id": "sL10Tjf6ES6K"
      }
    },
    {
      "cell_type": "code",
      "source": [
        "df.groupBy(\"jalur\",\"jurusan\").avg(\"nilai\").show()"
      ],
      "metadata": {
        "colab": {
          "base_uri": "https://localhost:8080/"
        },
        "id": "4xMfXliox0Jt",
        "outputId": "6cf51b37-9688-4c7c-f464-3233ae82d322"
      },
      "execution_count": 5,
      "outputs": [
        {
          "output_type": "stream",
          "name": "stdout",
          "text": [
            "+------+-------+----------+\n",
            "| jalur|jurusan|avg(nilai)|\n",
            "+------+-------+----------+\n",
            "|Khusus| Fisika|     190.0|\n",
            "|Khusus|Biologi|     180.0|\n",
            "|  Umum|Biologi|     170.0|\n",
            "|  Umum| Fisika|    163.75|\n",
            "+------+-------+----------+\n",
            "\n"
          ]
        }
      ]
    },
    {
      "cell_type": "markdown",
      "source": [
        "##Fungsi `pivot` untuk menampilkan data crosstab"
      ],
      "metadata": {
        "id": "YSScw5znEYQH"
      }
    },
    {
      "cell_type": "code",
      "source": [
        "df.groupBy(\"jalur\") \\\n",
        "  .pivot(\"jurusan\",[\"Biologi\",\"Fisika\"]) \\\n",
        "  .avg(\"nilai\") \\\n",
        "  .show()"
      ],
      "metadata": {
        "colab": {
          "base_uri": "https://localhost:8080/"
        },
        "id": "haJqh4j4MlQl",
        "outputId": "4c2588f9-37fb-4c90-8605-f582abe2b4db"
      },
      "execution_count": null,
      "outputs": [
        {
          "output_type": "stream",
          "name": "stdout",
          "text": [
            "+------+-------+------+\n",
            "| jalur|Biologi|Fisika|\n",
            "+------+-------+------+\n",
            "|Khusus|  180.0| 190.0|\n",
            "|  Umum|  170.0|163.75|\n",
            "+------+-------+------+\n",
            "\n"
          ]
        }
      ]
    },
    {
      "cell_type": "markdown",
      "source": [
        "###Memanggil fungsi `pivot` tanpa parameter list value"
      ],
      "metadata": {
        "id": "92IphUntEtye"
      }
    },
    {
      "cell_type": "code",
      "source": [
        "df.groupBy(\"jalur\").pivot(\"jurusan\").avg(\"nilai\").show()"
      ],
      "metadata": {
        "colab": {
          "base_uri": "https://localhost:8080/"
        },
        "id": "zdGbR1gkwpU2",
        "outputId": "e27481d6-14c9-4c30-bd5f-7796ada318dc"
      },
      "execution_count": 6,
      "outputs": [
        {
          "output_type": "stream",
          "name": "stdout",
          "text": [
            "+------+-------+------+\n",
            "| jalur|Biologi|Fisika|\n",
            "+------+-------+------+\n",
            "|Khusus|  180.0| 190.0|\n",
            "|  Umum|  170.0|163.75|\n",
            "+------+-------+------+\n",
            "\n"
          ]
        }
      ]
    },
    {
      "cell_type": "markdown",
      "source": [
        "###Menampilkan salah satu value saja"
      ],
      "metadata": {
        "id": "2nmEG_CYEx5t"
      }
    },
    {
      "cell_type": "code",
      "source": [
        "df.groupBy(\"jalur\"). \\\n",
        "  pivot(\"jurusan\",[\"Biologi\"]) \\\n",
        "  .avg(\"nilai\").show()"
      ],
      "metadata": {
        "colab": {
          "base_uri": "https://localhost:8080/"
        },
        "id": "vNCkol2CRxGF",
        "outputId": "04d69794-d8a9-44da-e436-e03e39e74ede"
      },
      "execution_count": 20,
      "outputs": [
        {
          "output_type": "stream",
          "name": "stdout",
          "text": [
            "+------+-------+\n",
            "| jalur|Biologi|\n",
            "+------+-------+\n",
            "|Khusus|  180.0|\n",
            "|  Umum|  170.0|\n",
            "+------+-------+\n",
            "\n"
          ]
        }
      ]
    },
    {
      "cell_type": "markdown",
      "source": [
        "###Menggunakan fungsi agregasi yang lain"
      ],
      "metadata": {
        "id": "nVjLactuE2qU"
      }
    },
    {
      "cell_type": "code",
      "source": [
        "df.groupBy(\"jalur\") \\\n",
        "  .pivot(\"jurusan\",[\"Biologi\",\"Fisika\"]) \\\n",
        "  .count() \\\n",
        "  .show()"
      ],
      "metadata": {
        "colab": {
          "base_uri": "https://localhost:8080/"
        },
        "id": "u3Et56Vjlim8",
        "outputId": "d9853afa-e44a-40a8-b090-c9e7c2ed9e9a"
      },
      "execution_count": 18,
      "outputs": [
        {
          "output_type": "stream",
          "name": "stdout",
          "text": [
            "+------+-------+------+\n",
            "| jalur|Biologi|Fisika|\n",
            "+------+-------+------+\n",
            "|Khusus|      3|     2|\n",
            "|  Umum|      3|     4|\n",
            "+------+-------+------+\n",
            "\n"
          ]
        }
      ]
    },
    {
      "cell_type": "code",
      "source": [
        "df.groupBy(\"jalur\") \\\n",
        "  .pivot(\"jurusan\",[\"Biologi\",\"Fisika\"]) \\\n",
        "  .min(\"nilai\") \\\n",
        "  .show()"
      ],
      "metadata": {
        "colab": {
          "base_uri": "https://localhost:8080/"
        },
        "id": "2poTchmgE5xU",
        "outputId": "6af701c1-5db7-447a-d783-29e1dae31de8"
      },
      "execution_count": 21,
      "outputs": [
        {
          "output_type": "stream",
          "name": "stdout",
          "text": [
            "+------+-------+------+\n",
            "| jalur|Biologi|Fisika|\n",
            "+------+-------+------+\n",
            "|Khusus|    175|   180|\n",
            "|  Umum|    170|   150|\n",
            "+------+-------+------+\n",
            "\n"
          ]
        }
      ]
    },
    {
      "cell_type": "markdown",
      "source": [
        "###Menggunakan fungsi `agg()` untuk agregasi"
      ],
      "metadata": {
        "id": "E_atfBDsE_9H"
      }
    },
    {
      "cell_type": "code",
      "source": [
        "df.groupBy(\"jalur\").pivot(\"jurusan\",[\"Biologi\",\"Fisika\"]).agg({\"nilai\":\"min\"}).show()\n",
        "df.groupBy(\"jalur\").pivot(\"jurusan\",[\"Biologi\",\"Fisika\"]).agg(F.expr(\"min(nilai)\")).show()"
      ],
      "metadata": {
        "colab": {
          "base_uri": "https://localhost:8080/"
        },
        "id": "UJlU_rQvDHQ1",
        "outputId": "4e306908-efa4-45ba-a8c0-44e7d913c6bd"
      },
      "execution_count": 17,
      "outputs": [
        {
          "output_type": "stream",
          "name": "stdout",
          "text": [
            "+------+-------+------+\n",
            "| jalur|Biologi|Fisika|\n",
            "+------+-------+------+\n",
            "|Khusus|    175|   180|\n",
            "|  Umum|    170|   150|\n",
            "+------+-------+------+\n",
            "\n",
            "+------+-------+------+\n",
            "| jalur|Biologi|Fisika|\n",
            "+------+-------+------+\n",
            "|Khusus|    175|   180|\n",
            "|  Umum|    170|   150|\n",
            "+------+-------+------+\n",
            "\n"
          ]
        }
      ]
    },
    {
      "cell_type": "markdown",
      "source": [
        "##Fungsi `unPivot`"
      ],
      "metadata": {
        "id": "65TQJw-dFNF8"
      }
    },
    {
      "cell_type": "code",
      "source": [
        "dfPivot = df.groupBy(\"jalur\") \\\n",
        "            .pivot(\"jurusan\",[\"Biologi\",\"Fisika\"]) \\\n",
        "            .avg(\"nilai\")\n",
        "dfPivot.show()\n",
        "dfPivot.unpivot([\"jalur\"], [\"Biologi\", \"Fisika\"],\n",
        "                \"jurusan\",\n",
        "                \"nilai_rata2\").show()"
      ],
      "metadata": {
        "colab": {
          "base_uri": "https://localhost:8080/"
        },
        "id": "4KbaW7VlR0K3",
        "outputId": "328d13b3-f780-4975-be40-234c0cba6779"
      },
      "execution_count": null,
      "outputs": [
        {
          "output_type": "stream",
          "name": "stdout",
          "text": [
            "+------+-------+------+\n",
            "| jalur|Biologi|Fisika|\n",
            "+------+-------+------+\n",
            "|Khusus|  180.0| 190.0|\n",
            "|  Umum|  170.0|163.75|\n",
            "+------+-------+------+\n",
            "\n",
            "+------+-------+-----------+\n",
            "| jalur|jurusan|nilai_rata2|\n",
            "+------+-------+-----------+\n",
            "|Khusus|Biologi|      180.0|\n",
            "|Khusus| Fisika|      190.0|\n",
            "|  Umum|Biologi|      170.0|\n",
            "|  Umum| Fisika|     163.75|\n",
            "+------+-------+-----------+\n",
            "\n"
          ]
        }
      ]
    }
  ]
}