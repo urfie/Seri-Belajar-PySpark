{
  "nbformat": 4,
  "nbformat_minor": 0,
  "metadata": {
    "colab": {
      "provenance": [],
      "toc_visible": true
    },
    "kernelspec": {
      "name": "python3",
      "display_name": "Python 3"
    },
    "language_info": {
      "name": "python"
    }
  },
  "cells": [
    {
      "cell_type": "markdown",
      "source": [
        "#Belajar Pyspark - Join"
      ],
      "metadata": {
        "id": "loueMJbfjlZq"
      }
    },
    {
      "cell_type": "markdown",
      "source": [],
      "metadata": {
        "id": "8fBObxkEIMTP"
      }
    },
    {
      "cell_type": "code",
      "execution_count": 29,
      "metadata": {
        "colab": {
          "base_uri": "https://localhost:8080/"
        },
        "id": "3YsxlynyFZ0N",
        "outputId": "dde28d73-03be-492e-f3ba-e9f2d26f4d93"
      },
      "outputs": [
        {
          "output_type": "stream",
          "name": "stdout",
          "text": [
            "Requirement already satisfied: pyspark in /usr/local/lib/python3.10/dist-packages (3.4.1)\n",
            "Requirement already satisfied: py4j==0.10.9.7 in /usr/local/lib/python3.10/dist-packages (from pyspark) (0.10.9.7)\n"
          ]
        }
      ],
      "source": [
        "%pip install pyspark #jalankan untuk google colab"
      ]
    },
    {
      "cell_type": "code",
      "source": [
        "from pyspark.sql import SparkSession"
      ],
      "metadata": {
        "id": "8V4lQvx6HIiO"
      },
      "execution_count": 30,
      "outputs": []
    },
    {
      "cell_type": "code",
      "source": [
        "spark = SparkSession.builder.appName(\"Belajar PySpark - Grouping dan Agregasi\").getOrCreate()"
      ],
      "metadata": {
        "id": "97aBSg6dGu9V"
      },
      "execution_count": 31,
      "outputs": []
    },
    {
      "cell_type": "markdown",
      "source": [
        "#Dataframe yang digunakan"
      ],
      "metadata": {
        "id": "ySN3f0_wIPTe"
      }
    },
    {
      "cell_type": "code",
      "source": [
        "data1 = [['Agus','Fisika',130],\n",
        "        ['Budi','Biologi',200],\n",
        "        ['Bayu','Manajemen',180],\n",
        "        ['Dedi','Akuntansi',50]]\n",
        "\n",
        "kolom1 = [\"nama\",\"jurusan\",\"nilai\"]\n",
        "\n",
        "df1 = spark.createDataFrame(data1,kolom1)\n",
        "df1.show()"
      ],
      "metadata": {
        "colab": {
          "base_uri": "https://localhost:8080/"
        },
        "id": "KUXGwHVdFfB2",
        "outputId": "5b8ec9c1-e680-4585-9951-1d35f275e749"
      },
      "execution_count": 32,
      "outputs": [
        {
          "output_type": "stream",
          "name": "stdout",
          "text": [
            "+----+---------+-----+\n",
            "|nama|  jurusan|nilai|\n",
            "+----+---------+-----+\n",
            "|Agus|   Fisika|  130|\n",
            "|Budi|  Biologi|  200|\n",
            "|Bayu|Manajemen|  180|\n",
            "|Dedi|Akuntansi|   50|\n",
            "+----+---------+-----+\n",
            "\n"
          ]
        }
      ]
    },
    {
      "cell_type": "code",
      "source": [
        "data2 = [['Biologi','BIO','MIPA'],\n",
        "         ['Fisika','FIS','MIPA'],\n",
        "         ['Bisnis','BIS','Ekonomi'],\n",
        "         ['Manajemen','MAN','Ekonomi']]\n",
        "\n",
        "kolom2 = [\"jurusan\",\"kode_jurusan\",\"fakultas\"]\n",
        "\n",
        "df2 = spark.createDataFrame(data2,kolom2)\n",
        "df2.show()"
      ],
      "metadata": {
        "colab": {
          "base_uri": "https://localhost:8080/"
        },
        "id": "bBJgrtB7rwoS",
        "outputId": "7b596c36-eda3-41eb-cfa4-1b8cffe006fc"
      },
      "execution_count": 67,
      "outputs": [
        {
          "output_type": "stream",
          "name": "stdout",
          "text": [
            "+---------+------------+--------+\n",
            "|  jurusan|kode_jurusan|fakultas|\n",
            "+---------+------------+--------+\n",
            "|  Biologi|         BIO|    MIPA|\n",
            "|   Fisika|         FIS|    MIPA|\n",
            "|   Bisnis|         BIS| Ekonomi|\n",
            "|Manajemen|         MAN| Ekonomi|\n",
            "+---------+------------+--------+\n",
            "\n"
          ]
        }
      ]
    },
    {
      "cell_type": "markdown",
      "source": [
        "#Inner Join"
      ],
      "metadata": {
        "id": "nwILjcPLWHgv"
      }
    },
    {
      "cell_type": "code",
      "source": [
        "inner = df1.join(df2,df1.jurusan==df2.jurusan)\n",
        "inner.show()"
      ],
      "metadata": {
        "colab": {
          "base_uri": "https://localhost:8080/"
        },
        "id": "1-F4eagTWJh2",
        "outputId": "aa8b569a-6e47-4bcf-de8a-786843bf3401"
      },
      "execution_count": 34,
      "outputs": [
        {
          "output_type": "stream",
          "name": "stdout",
          "text": [
            "+----+---------+-----+---------+------------+--------+\n",
            "|nama|  jurusan|nilai|  jurusan|kode_jurusan|fakultas|\n",
            "+----+---------+-----+---------+------------+--------+\n",
            "|Budi|  Biologi|  200|  Biologi|         BIO|    MIPA|\n",
            "|Agus|   Fisika|  130|   Fisika|         FIS|    MIPA|\n",
            "|Bayu|Manajemen|  180|Manajemen|         MAN| Ekonomi|\n",
            "+----+---------+-----+---------+------------+--------+\n",
            "\n"
          ]
        }
      ]
    },
    {
      "cell_type": "code",
      "source": [
        "inner[\"nama\",\"jurusan\"].show()"
      ],
      "metadata": {
        "colab": {
          "base_uri": "https://localhost:8080/",
          "height": 326
        },
        "id": "J8E8Uu6CDhBy",
        "outputId": "6b4db892-f468-47f0-8372-eb6ead76f864"
      },
      "execution_count": 27,
      "outputs": [
        {
          "output_type": "error",
          "ename": "AnalysisException",
          "evalue": "ignored",
          "traceback": [
            "\u001b[0;31m---------------------------------------------------------------------------\u001b[0m",
            "\u001b[0;31mAnalysisException\u001b[0m                         Traceback (most recent call last)",
            "\u001b[0;32m<ipython-input-27-76e046c0b1f0>\u001b[0m in \u001b[0;36m<cell line: 1>\u001b[0;34m()\u001b[0m\n\u001b[0;32m----> 1\u001b[0;31m \u001b[0minner\u001b[0m\u001b[0;34m[\u001b[0m\u001b[0;34m\"nama\"\u001b[0m\u001b[0;34m,\u001b[0m\u001b[0;34m\"jurusan\"\u001b[0m\u001b[0;34m]\u001b[0m\u001b[0;34m.\u001b[0m\u001b[0mshow\u001b[0m\u001b[0;34m(\u001b[0m\u001b[0;34m)\u001b[0m\u001b[0;34m\u001b[0m\u001b[0;34m\u001b[0m\u001b[0m\n\u001b[0m",
            "\u001b[0;32m/usr/local/lib/python3.10/dist-packages/pyspark/sql/dataframe.py\u001b[0m in \u001b[0;36m__getitem__\u001b[0;34m(self, item)\u001b[0m\n\u001b[1;32m   2931\u001b[0m             \u001b[0;32mreturn\u001b[0m \u001b[0mself\u001b[0m\u001b[0;34m.\u001b[0m\u001b[0mfilter\u001b[0m\u001b[0;34m(\u001b[0m\u001b[0mitem\u001b[0m\u001b[0;34m)\u001b[0m\u001b[0;34m\u001b[0m\u001b[0;34m\u001b[0m\u001b[0m\n\u001b[1;32m   2932\u001b[0m         \u001b[0;32melif\u001b[0m \u001b[0misinstance\u001b[0m\u001b[0;34m(\u001b[0m\u001b[0mitem\u001b[0m\u001b[0;34m,\u001b[0m \u001b[0;34m(\u001b[0m\u001b[0mlist\u001b[0m\u001b[0;34m,\u001b[0m \u001b[0mtuple\u001b[0m\u001b[0;34m)\u001b[0m\u001b[0;34m)\u001b[0m\u001b[0;34m:\u001b[0m\u001b[0;34m\u001b[0m\u001b[0;34m\u001b[0m\u001b[0m\n\u001b[0;32m-> 2933\u001b[0;31m             \u001b[0;32mreturn\u001b[0m \u001b[0mself\u001b[0m\u001b[0;34m.\u001b[0m\u001b[0mselect\u001b[0m\u001b[0;34m(\u001b[0m\u001b[0;34m*\u001b[0m\u001b[0mitem\u001b[0m\u001b[0;34m)\u001b[0m\u001b[0;34m\u001b[0m\u001b[0;34m\u001b[0m\u001b[0m\n\u001b[0m\u001b[1;32m   2934\u001b[0m         \u001b[0;32melif\u001b[0m \u001b[0misinstance\u001b[0m\u001b[0;34m(\u001b[0m\u001b[0mitem\u001b[0m\u001b[0;34m,\u001b[0m \u001b[0mint\u001b[0m\u001b[0;34m)\u001b[0m\u001b[0;34m:\u001b[0m\u001b[0;34m\u001b[0m\u001b[0;34m\u001b[0m\u001b[0m\n\u001b[1;32m   2935\u001b[0m             \u001b[0mjc\u001b[0m \u001b[0;34m=\u001b[0m \u001b[0mself\u001b[0m\u001b[0;34m.\u001b[0m\u001b[0m_jdf\u001b[0m\u001b[0;34m.\u001b[0m\u001b[0mapply\u001b[0m\u001b[0;34m(\u001b[0m\u001b[0mself\u001b[0m\u001b[0;34m.\u001b[0m\u001b[0mcolumns\u001b[0m\u001b[0;34m[\u001b[0m\u001b[0mitem\u001b[0m\u001b[0;34m]\u001b[0m\u001b[0;34m)\u001b[0m\u001b[0;34m\u001b[0m\u001b[0;34m\u001b[0m\u001b[0m\n",
            "\u001b[0;32m/usr/local/lib/python3.10/dist-packages/pyspark/sql/dataframe.py\u001b[0m in \u001b[0;36mselect\u001b[0;34m(self, *cols)\u001b[0m\n\u001b[1;32m   3034\u001b[0m         \u001b[0;34m+\u001b[0m\u001b[0;34m-\u001b[0m\u001b[0;34m-\u001b[0m\u001b[0;34m-\u001b[0m\u001b[0;34m-\u001b[0m\u001b[0;34m-\u001b[0m\u001b[0;34m+\u001b[0m\u001b[0;34m-\u001b[0m\u001b[0;34m-\u001b[0m\u001b[0;34m-\u001b[0m\u001b[0;34m+\u001b[0m\u001b[0;34m\u001b[0m\u001b[0;34m\u001b[0m\u001b[0m\n\u001b[1;32m   3035\u001b[0m         \"\"\"\n\u001b[0;32m-> 3036\u001b[0;31m         \u001b[0mjdf\u001b[0m \u001b[0;34m=\u001b[0m \u001b[0mself\u001b[0m\u001b[0;34m.\u001b[0m\u001b[0m_jdf\u001b[0m\u001b[0;34m.\u001b[0m\u001b[0mselect\u001b[0m\u001b[0;34m(\u001b[0m\u001b[0mself\u001b[0m\u001b[0;34m.\u001b[0m\u001b[0m_jcols\u001b[0m\u001b[0;34m(\u001b[0m\u001b[0;34m*\u001b[0m\u001b[0mcols\u001b[0m\u001b[0;34m)\u001b[0m\u001b[0;34m)\u001b[0m\u001b[0;34m\u001b[0m\u001b[0;34m\u001b[0m\u001b[0m\n\u001b[0m\u001b[1;32m   3037\u001b[0m         \u001b[0;32mreturn\u001b[0m \u001b[0mDataFrame\u001b[0m\u001b[0;34m(\u001b[0m\u001b[0mjdf\u001b[0m\u001b[0;34m,\u001b[0m \u001b[0mself\u001b[0m\u001b[0;34m.\u001b[0m\u001b[0msparkSession\u001b[0m\u001b[0;34m)\u001b[0m\u001b[0;34m\u001b[0m\u001b[0;34m\u001b[0m\u001b[0m\n\u001b[1;32m   3038\u001b[0m \u001b[0;34m\u001b[0m\u001b[0m\n",
            "\u001b[0;32m/usr/local/lib/python3.10/dist-packages/py4j/java_gateway.py\u001b[0m in \u001b[0;36m__call__\u001b[0;34m(self, *args)\u001b[0m\n\u001b[1;32m   1320\u001b[0m \u001b[0;34m\u001b[0m\u001b[0m\n\u001b[1;32m   1321\u001b[0m         \u001b[0manswer\u001b[0m \u001b[0;34m=\u001b[0m \u001b[0mself\u001b[0m\u001b[0;34m.\u001b[0m\u001b[0mgateway_client\u001b[0m\u001b[0;34m.\u001b[0m\u001b[0msend_command\u001b[0m\u001b[0;34m(\u001b[0m\u001b[0mcommand\u001b[0m\u001b[0;34m)\u001b[0m\u001b[0;34m\u001b[0m\u001b[0;34m\u001b[0m\u001b[0m\n\u001b[0;32m-> 1322\u001b[0;31m         return_value = get_return_value(\n\u001b[0m\u001b[1;32m   1323\u001b[0m             answer, self.gateway_client, self.target_id, self.name)\n\u001b[1;32m   1324\u001b[0m \u001b[0;34m\u001b[0m\u001b[0m\n",
            "\u001b[0;32m/usr/local/lib/python3.10/dist-packages/pyspark/errors/exceptions/captured.py\u001b[0m in \u001b[0;36mdeco\u001b[0;34m(*a, **kw)\u001b[0m\n\u001b[1;32m    173\u001b[0m                 \u001b[0;31m# Hide where the exception came from that shows a non-Pythonic\u001b[0m\u001b[0;34m\u001b[0m\u001b[0;34m\u001b[0m\u001b[0m\n\u001b[1;32m    174\u001b[0m                 \u001b[0;31m# JVM exception message.\u001b[0m\u001b[0;34m\u001b[0m\u001b[0;34m\u001b[0m\u001b[0m\n\u001b[0;32m--> 175\u001b[0;31m                 \u001b[0;32mraise\u001b[0m \u001b[0mconverted\u001b[0m \u001b[0;32mfrom\u001b[0m \u001b[0;32mNone\u001b[0m\u001b[0;34m\u001b[0m\u001b[0;34m\u001b[0m\u001b[0m\n\u001b[0m\u001b[1;32m    176\u001b[0m             \u001b[0;32melse\u001b[0m\u001b[0;34m:\u001b[0m\u001b[0;34m\u001b[0m\u001b[0;34m\u001b[0m\u001b[0m\n\u001b[1;32m    177\u001b[0m                 \u001b[0;32mraise\u001b[0m\u001b[0;34m\u001b[0m\u001b[0;34m\u001b[0m\u001b[0m\n",
            "\u001b[0;31mAnalysisException\u001b[0m: [AMBIGUOUS_REFERENCE] Reference `jurusan` is ambiguous, could be: [`jurusan`, `jurusan`]."
          ]
        }
      ]
    },
    {
      "cell_type": "markdown",
      "source": [
        "##Menghilangkan kolom duplikat"
      ],
      "metadata": {
        "id": "e1VzJuIvYwmz"
      }
    },
    {
      "cell_type": "code",
      "source": [
        "df1.join(df2, [\"jurusan\"], \"inner\").show()"
      ],
      "metadata": {
        "colab": {
          "base_uri": "https://localhost:8080/"
        },
        "id": "Viz3p_emX5ir",
        "outputId": "a173fccf-0f6b-476a-fe73-d4fdd5c5cc39"
      },
      "execution_count": 28,
      "outputs": [
        {
          "output_type": "stream",
          "name": "stdout",
          "text": [
            "+---------+----+-----+------------+--------+\n",
            "|  jurusan|nama|nilai|kode_jurusan|fakultas|\n",
            "+---------+----+-----+------------+--------+\n",
            "|  Biologi|Budi|  200|         BIO|    MIPA|\n",
            "|   Fisika|Agus|  130|         FIS|    MIPA|\n",
            "|Manajemen|Bayu|  180|         MAN| Ekonomi|\n",
            "+---------+----+-----+------------+--------+\n",
            "\n"
          ]
        }
      ]
    },
    {
      "cell_type": "markdown",
      "source": [
        "##Join dengan lebih dari 1 key"
      ],
      "metadata": {
        "id": "aZ8tiCTnAmbN"
      }
    },
    {
      "cell_type": "code",
      "source": [
        "data1 = [['Agus','Fisika','MIPA',130],\n",
        "        ['Budi','Kimia','MIPA',200],\n",
        "        ['Bayu','Mesin','Teknik',180],\n",
        "        ['Dedi','Kimia','Teknik',50]]\n",
        "kolom1 = [\"nama\",\"jurusan\",\"fakultas\", \"nilai\"]\n",
        "\n",
        "data2 = [['Kimia','KIM','MIPA'],\n",
        "         ['Fisika','FIS','MIPA'],\n",
        "         ['Kimia','TKIM','Teknik'],\n",
        "         ['Mesin','TMSN','Teknik']]\n",
        "\n",
        "kolom2 = [\"jurusan\",\"kode_jurusan\",\"fakultas\"]\n",
        "\n",
        "dfa = spark.createDataFrame(data1,kolom1)\n",
        "dfb = spark.createDataFrame(data2,kolom2)"
      ],
      "metadata": {
        "id": "eB_DrKaP_M7j"
      },
      "execution_count": 72,
      "outputs": []
    },
    {
      "cell_type": "code",
      "source": [
        "dfa.join(dfb,(dfa.jurusan==dfb.jurusan) &\n",
        "              (dfa.fakultas==dfb.fakultas),\"inner\").show()"
      ],
      "metadata": {
        "colab": {
          "base_uri": "https://localhost:8080/"
        },
        "id": "lJn_IlQFAlpV",
        "outputId": "27202725-6efb-487d-c1e4-5b082f07e1b1"
      },
      "execution_count": 76,
      "outputs": [
        {
          "output_type": "stream",
          "name": "stdout",
          "text": [
            "+----+-------+--------+-----+-------+------------+--------+\n",
            "|nama|jurusan|fakultas|nilai|jurusan|kode_jurusan|fakultas|\n",
            "+----+-------+--------+-----+-------+------------+--------+\n",
            "|Agus| Fisika|    MIPA|  130| Fisika|         FIS|    MIPA|\n",
            "|Budi|  Kimia|    MIPA|  200|  Kimia|         KIM|    MIPA|\n",
            "|Dedi|  Kimia|  Teknik|   50|  Kimia|        TKIM|  Teknik|\n",
            "|Bayu|  Mesin|  Teknik|  180|  Mesin|        TMSN|  Teknik|\n",
            "+----+-------+--------+-----+-------+------------+--------+\n",
            "\n"
          ]
        }
      ]
    },
    {
      "cell_type": "code",
      "source": [
        "dfa.join(dfb, [\"jurusan\",\"fakultas\"]).show()"
      ],
      "metadata": {
        "colab": {
          "base_uri": "https://localhost:8080/"
        },
        "id": "gUjtNKH3A8tR",
        "outputId": "8683a2ff-84fe-4cd5-fb01-82c01ce09e5c"
      },
      "execution_count": 74,
      "outputs": [
        {
          "output_type": "stream",
          "name": "stdout",
          "text": [
            "+-------+--------+----+-----+------------+\n",
            "|jurusan|fakultas|nama|nilai|kode_jurusan|\n",
            "+-------+--------+----+-----+------------+\n",
            "| Fisika|    MIPA|Agus|  130|         FIS|\n",
            "|  Kimia|    MIPA|Budi|  200|         KIM|\n",
            "|  Kimia|  Teknik|Dedi|   50|        TKIM|\n",
            "|  Mesin|  Teknik|Bayu|  180|        TMSN|\n",
            "+-------+--------+----+-----+------------+\n",
            "\n"
          ]
        }
      ]
    },
    {
      "cell_type": "markdown",
      "source": [
        "#Left Outer Join"
      ],
      "metadata": {
        "id": "mhQvvGXMY50x"
      }
    },
    {
      "cell_type": "code",
      "source": [
        "df1.join(df2, [\"jurusan\"],\"left\").show()"
      ],
      "metadata": {
        "colab": {
          "base_uri": "https://localhost:8080/"
        },
        "id": "84qqcEnVZHvB",
        "outputId": "95abc5f4-d5fb-4d90-a6b6-064862b96dcd"
      },
      "execution_count": 40,
      "outputs": [
        {
          "output_type": "stream",
          "name": "stdout",
          "text": [
            "+---------+----+-----+------------+--------+\n",
            "|  jurusan|nama|nilai|kode_jurusan|fakultas|\n",
            "+---------+----+-----+------------+--------+\n",
            "|   Fisika|Agus|  130|         FIS|    MIPA|\n",
            "|  Biologi|Budi|  200|         BIO|    MIPA|\n",
            "|Manajemen|Bayu|  180|         MAN| Ekonomi|\n",
            "|Akuntansi|Dedi|   50|        null|    null|\n",
            "+---------+----+-----+------------+--------+\n",
            "\n"
          ]
        }
      ]
    },
    {
      "cell_type": "markdown",
      "source": [
        "#Right Outer Join"
      ],
      "metadata": {
        "id": "lOJ4IKTVjG8o"
      }
    },
    {
      "cell_type": "code",
      "source": [
        "df1.join(df2, [\"jurusan\"],\"right\").show()"
      ],
      "metadata": {
        "colab": {
          "base_uri": "https://localhost:8080/"
        },
        "id": "1doRgKMshnwR",
        "outputId": "11c66101-07b7-401d-fe8a-88cab4b7cae8"
      },
      "execution_count": 44,
      "outputs": [
        {
          "output_type": "stream",
          "name": "stdout",
          "text": [
            "+---------+----+-----+------------+--------+\n",
            "|  jurusan|nama|nilai|kode_jurusan|fakultas|\n",
            "+---------+----+-----+------------+--------+\n",
            "|   Fisika|Agus|  130|         FIS|    MIPA|\n",
            "|  Biologi|Budi|  200|         BIO|    MIPA|\n",
            "|   Bisnis|null| null|         BIS| Ekonomi|\n",
            "|Manajemen|Bayu|  180|         MAN| Ekonomi|\n",
            "+---------+----+-----+------------+--------+\n",
            "\n"
          ]
        }
      ]
    },
    {
      "cell_type": "markdown",
      "source": [
        "#Full Outer Join"
      ],
      "metadata": {
        "id": "_YHRTCQ4jIw5"
      }
    },
    {
      "cell_type": "code",
      "source": [
        "df1.join(df2, [\"jurusan\"],\"full\").show()"
      ],
      "metadata": {
        "colab": {
          "base_uri": "https://localhost:8080/"
        },
        "id": "NmWt0ljGhtbL",
        "outputId": "34812784-08c0-4f2c-d4f2-18cadff8105b"
      },
      "execution_count": 46,
      "outputs": [
        {
          "output_type": "stream",
          "name": "stdout",
          "text": [
            "+---------+----+-----+------------+--------+\n",
            "|  jurusan|nama|nilai|kode_jurusan|fakultas|\n",
            "+---------+----+-----+------------+--------+\n",
            "|Akuntansi|Dedi|   50|        null|    null|\n",
            "|  Biologi|Budi|  200|         BIO|    MIPA|\n",
            "|   Bisnis|null| null|         BIS| Ekonomi|\n",
            "|   Fisika|Agus|  130|         FIS|    MIPA|\n",
            "|Manajemen|Bayu|  180|         MAN| Ekonomi|\n",
            "+---------+----+-----+------------+--------+\n",
            "\n"
          ]
        }
      ]
    },
    {
      "cell_type": "markdown",
      "source": [
        "#Cross Join"
      ],
      "metadata": {
        "id": "pFdU9P9SjRJK"
      }
    },
    {
      "cell_type": "code",
      "source": [
        "df1.join(df2, [\"jurusan\"],\"cross\").show()"
      ],
      "metadata": {
        "colab": {
          "base_uri": "https://localhost:8080/"
        },
        "id": "Hhi6exG0iVMC",
        "outputId": "74b434be-b79f-4e8c-c33b-146569fec2ea"
      },
      "execution_count": 53,
      "outputs": [
        {
          "output_type": "stream",
          "name": "stdout",
          "text": [
            "+---------+----+-----+------------+--------+\n",
            "|  jurusan|nama|nilai|kode_jurusan|fakultas|\n",
            "+---------+----+-----+------------+--------+\n",
            "|  Biologi|Budi|  200|         BIO|    MIPA|\n",
            "|   Fisika|Agus|  130|         FIS|    MIPA|\n",
            "|Manajemen|Bayu|  180|         MAN| Ekonomi|\n",
            "+---------+----+-----+------------+--------+\n",
            "\n"
          ]
        }
      ]
    },
    {
      "cell_type": "code",
      "source": [
        "df1.join(df2).show()"
      ],
      "metadata": {
        "colab": {
          "base_uri": "https://localhost:8080/"
        },
        "id": "X3ZB2O8yifNE",
        "outputId": "f8513430-6cc5-4c91-9b6d-b071082781eb"
      },
      "execution_count": 54,
      "outputs": [
        {
          "output_type": "stream",
          "name": "stdout",
          "text": [
            "+----+---------+-----+---------+------------+--------+\n",
            "|nama|  jurusan|nilai|  jurusan|kode_jurusan|fakultas|\n",
            "+----+---------+-----+---------+------------+--------+\n",
            "|Agus|   Fisika|  130|  Biologi|         BIO|    MIPA|\n",
            "|Agus|   Fisika|  130|   Fisika|         FIS|    MIPA|\n",
            "|Budi|  Biologi|  200|  Biologi|         BIO|    MIPA|\n",
            "|Budi|  Biologi|  200|   Fisika|         FIS|    MIPA|\n",
            "|Agus|   Fisika|  130|   Bisnis|         BIS| Ekonomi|\n",
            "|Agus|   Fisika|  130|Manajemen|         MAN| Ekonomi|\n",
            "|Budi|  Biologi|  200|   Bisnis|         BIS| Ekonomi|\n",
            "|Budi|  Biologi|  200|Manajemen|         MAN| Ekonomi|\n",
            "|Bayu|Manajemen|  180|  Biologi|         BIO|    MIPA|\n",
            "|Bayu|Manajemen|  180|   Fisika|         FIS|    MIPA|\n",
            "|Dedi|Akuntansi|   50|  Biologi|         BIO|    MIPA|\n",
            "|Dedi|Akuntansi|   50|   Fisika|         FIS|    MIPA|\n",
            "|Bayu|Manajemen|  180|   Bisnis|         BIS| Ekonomi|\n",
            "|Bayu|Manajemen|  180|Manajemen|         MAN| Ekonomi|\n",
            "|Dedi|Akuntansi|   50|   Bisnis|         BIS| Ekonomi|\n",
            "|Dedi|Akuntansi|   50|Manajemen|         MAN| Ekonomi|\n",
            "+----+---------+-----+---------+------------+--------+\n",
            "\n"
          ]
        }
      ]
    },
    {
      "cell_type": "code",
      "source": [
        "df1.crossJoin(df2).show()"
      ],
      "metadata": {
        "colab": {
          "base_uri": "https://localhost:8080/"
        },
        "id": "QKPX9mp2j4qN",
        "outputId": "a1036384-b0e3-4b46-c957-3adf3363ff8f"
      },
      "execution_count": 55,
      "outputs": [
        {
          "output_type": "stream",
          "name": "stdout",
          "text": [
            "+----+---------+-----+---------+------------+--------+\n",
            "|nama|  jurusan|nilai|  jurusan|kode_jurusan|fakultas|\n",
            "+----+---------+-----+---------+------------+--------+\n",
            "|Agus|   Fisika|  130|  Biologi|         BIO|    MIPA|\n",
            "|Agus|   Fisika|  130|   Fisika|         FIS|    MIPA|\n",
            "|Budi|  Biologi|  200|  Biologi|         BIO|    MIPA|\n",
            "|Budi|  Biologi|  200|   Fisika|         FIS|    MIPA|\n",
            "|Agus|   Fisika|  130|   Bisnis|         BIS| Ekonomi|\n",
            "|Agus|   Fisika|  130|Manajemen|         MAN| Ekonomi|\n",
            "|Budi|  Biologi|  200|   Bisnis|         BIS| Ekonomi|\n",
            "|Budi|  Biologi|  200|Manajemen|         MAN| Ekonomi|\n",
            "|Bayu|Manajemen|  180|  Biologi|         BIO|    MIPA|\n",
            "|Bayu|Manajemen|  180|   Fisika|         FIS|    MIPA|\n",
            "|Dedi|Akuntansi|   50|  Biologi|         BIO|    MIPA|\n",
            "|Dedi|Akuntansi|   50|   Fisika|         FIS|    MIPA|\n",
            "|Bayu|Manajemen|  180|   Bisnis|         BIS| Ekonomi|\n",
            "|Bayu|Manajemen|  180|Manajemen|         MAN| Ekonomi|\n",
            "|Dedi|Akuntansi|   50|   Bisnis|         BIS| Ekonomi|\n",
            "|Dedi|Akuntansi|   50|Manajemen|         MAN| Ekonomi|\n",
            "+----+---------+-----+---------+------------+--------+\n",
            "\n"
          ]
        }
      ]
    },
    {
      "cell_type": "markdown",
      "source": [
        "#Duplikasi hasil"
      ],
      "metadata": {
        "id": "s7RxWZ-cPdIq"
      }
    },
    {
      "cell_type": "code",
      "source": [
        "data_dup = [['Agus','Fisika',130],\n",
        "        ['Budi','Biologi',200],\n",
        "        ['Bayu','Manajemen',180],\n",
        "        ['Dedi','Akuntansi',50],\n",
        "        ['Andi','Manajemen',80]]\n",
        "\n",
        "kolom = [\"nama\",\"jurusan\",\"nilai\"]\n",
        "\n",
        "df_dup = spark.createDataFrame(data_dup,kolom)\n",
        "df_dup.show()\n",
        "\n",
        "dataref_dup = [['Biologi','BIO','MIPA'],\n",
        "         ['Fisika','FIS','MIPA'],\n",
        "         ['Bisnis','BIS','Ekonomi'],\n",
        "         ['Manajemen','MAN','Ekonomi'],\n",
        "         ['Manajemen','MNG','Ekonomi']]\n",
        "\n",
        "kolom = [\"jurusan\",\"kode_jurusan\",\"fakultas\"]\n",
        "\n",
        "ref_dup = spark.createDataFrame(dataref_dup,kolom)\n",
        "ref_dup.show()"
      ],
      "metadata": {
        "colab": {
          "base_uri": "https://localhost:8080/"
        },
        "id": "g-ZUC-eQK2ZK",
        "outputId": "25b02295-fcfe-491c-e17d-febf11221fcf"
      },
      "execution_count": 58,
      "outputs": [
        {
          "output_type": "stream",
          "name": "stdout",
          "text": [
            "+----+---------+-----+\n",
            "|nama|  jurusan|nilai|\n",
            "+----+---------+-----+\n",
            "|Agus|   Fisika|  130|\n",
            "|Budi|  Biologi|  200|\n",
            "|Bayu|Manajemen|  180|\n",
            "|Dedi|Akuntansi|   50|\n",
            "|Andi|Manajemen|   80|\n",
            "+----+---------+-----+\n",
            "\n",
            "+---------+------------+--------+\n",
            "|  jurusan|kode_jurusan|fakultas|\n",
            "+---------+------------+--------+\n",
            "|  Biologi|         BIO|    MIPA|\n",
            "|   Fisika|         FIS|    MIPA|\n",
            "|   Bisnis|         BIS| Ekonomi|\n",
            "|Manajemen|         MAN| Ekonomi|\n",
            "|Manajemen|         MNG| Ekonomi|\n",
            "+---------+------------+--------+\n",
            "\n"
          ]
        }
      ]
    },
    {
      "cell_type": "code",
      "source": [
        "df_dup.join(ref_dup, [\"jurusan\"], \"inner\").show()"
      ],
      "metadata": {
        "colab": {
          "base_uri": "https://localhost:8080/"
        },
        "id": "U9gLVpnnPe9k",
        "outputId": "67df5c5c-5366-472b-cd5d-5a7e94ea26b9"
      },
      "execution_count": 60,
      "outputs": [
        {
          "output_type": "stream",
          "name": "stdout",
          "text": [
            "+---------+----+-----+------------+--------+\n",
            "|  jurusan|nama|nilai|kode_jurusan|fakultas|\n",
            "+---------+----+-----+------------+--------+\n",
            "|  Biologi|Budi|  200|         BIO|    MIPA|\n",
            "|   Fisika|Agus|  130|         FIS|    MIPA|\n",
            "|Manajemen|Bayu|  180|         MAN| Ekonomi|\n",
            "|Manajemen|Bayu|  180|         MNG| Ekonomi|\n",
            "|Manajemen|Andi|   80|         MAN| Ekonomi|\n",
            "|Manajemen|Andi|   80|         MNG| Ekonomi|\n",
            "+---------+----+-----+------------+--------+\n",
            "\n"
          ]
        }
      ]
    },
    {
      "cell_type": "code",
      "source": [
        "df_dup.join(ref_dup, [\"jurusan\"], \"left\").show()"
      ],
      "metadata": {
        "colab": {
          "base_uri": "https://localhost:8080/"
        },
        "id": "QznycLlBPzrp",
        "outputId": "7674920d-967b-46d8-e6bf-2769397d4d66"
      },
      "execution_count": 61,
      "outputs": [
        {
          "output_type": "stream",
          "name": "stdout",
          "text": [
            "+---------+----+-----+------------+--------+\n",
            "|  jurusan|nama|nilai|kode_jurusan|fakultas|\n",
            "+---------+----+-----+------------+--------+\n",
            "|   Fisika|Agus|  130|         FIS|    MIPA|\n",
            "|  Biologi|Budi|  200|         BIO|    MIPA|\n",
            "|Manajemen|Bayu|  180|         MNG| Ekonomi|\n",
            "|Manajemen|Bayu|  180|         MAN| Ekonomi|\n",
            "|Manajemen|Andi|   80|         MNG| Ekonomi|\n",
            "|Manajemen|Andi|   80|         MAN| Ekonomi|\n",
            "|Akuntansi|Dedi|   50|        null|    null|\n",
            "+---------+----+-----+------------+--------+\n",
            "\n"
          ]
        }
      ]
    },
    {
      "cell_type": "code",
      "source": [
        "df_dup.join(ref_dup, [\"jurusan\"], \"right\").show()"
      ],
      "metadata": {
        "colab": {
          "base_uri": "https://localhost:8080/"
        },
        "id": "XH7CH7RmnIMP",
        "outputId": "0367b5ed-8948-4c1f-deb4-bdeea6677818"
      },
      "execution_count": 66,
      "outputs": [
        {
          "output_type": "stream",
          "name": "stdout",
          "text": [
            "+---------+----+-----+------------+--------+\n",
            "|  jurusan|nama|nilai|kode_jurusan|fakultas|\n",
            "+---------+----+-----+------------+--------+\n",
            "|   Fisika|Agus|  130|         FIS|    MIPA|\n",
            "|  Biologi|Budi|  200|         BIO|    MIPA|\n",
            "|   Bisnis|null| null|         BIS| Ekonomi|\n",
            "|Manajemen|Andi|   80|         MAN| Ekonomi|\n",
            "|Manajemen|Bayu|  180|         MAN| Ekonomi|\n",
            "|Manajemen|Andi|   80|         MNG| Ekonomi|\n",
            "|Manajemen|Bayu|  180|         MNG| Ekonomi|\n",
            "+---------+----+-----+------------+--------+\n",
            "\n"
          ]
        }
      ]
    },
    {
      "cell_type": "markdown",
      "source": [
        "#Semi Join"
      ],
      "metadata": {
        "id": "GhVXeptujLCN"
      }
    },
    {
      "cell_type": "code",
      "source": [
        "df1.join(df2, [\"jurusan\"],\"semi\").show()"
      ],
      "metadata": {
        "colab": {
          "base_uri": "https://localhost:8080/"
        },
        "id": "moLL3OIciNSe",
        "outputId": "9e963500-447b-4550-fd46-eb53ebee350d"
      },
      "execution_count": 48,
      "outputs": [
        {
          "output_type": "stream",
          "name": "stdout",
          "text": [
            "+---------+----+-----+\n",
            "|  jurusan|nama|nilai|\n",
            "+---------+----+-----+\n",
            "|  Biologi|Budi|  200|\n",
            "|   Fisika|Agus|  130|\n",
            "|Manajemen|Bayu|  180|\n",
            "+---------+----+-----+\n",
            "\n"
          ]
        }
      ]
    },
    {
      "cell_type": "code",
      "source": [
        "df_dup.join(ref_dup, [\"jurusan\"], \"semi\").show()"
      ],
      "metadata": {
        "colab": {
          "base_uri": "https://localhost:8080/"
        },
        "id": "P9LbTzJ4ir3_",
        "outputId": "5f8bcdfc-7a9f-40a4-dcae-d46dd010c49a"
      },
      "execution_count": 63,
      "outputs": [
        {
          "output_type": "stream",
          "name": "stdout",
          "text": [
            "+---------+----+-----+\n",
            "|  jurusan|nama|nilai|\n",
            "+---------+----+-----+\n",
            "|  Biologi|Budi|  200|\n",
            "|   Fisika|Agus|  130|\n",
            "|Manajemen|Bayu|  180|\n",
            "|Manajemen|Andi|   80|\n",
            "+---------+----+-----+\n",
            "\n"
          ]
        }
      ]
    },
    {
      "cell_type": "markdown",
      "source": [
        "#Anti Join"
      ],
      "metadata": {
        "id": "DBup0oJvjNfU"
      }
    },
    {
      "cell_type": "code",
      "source": [
        "df1.join(df2, [\"jurusan\"],\"anti\").show()"
      ],
      "metadata": {
        "colab": {
          "base_uri": "https://localhost:8080/"
        },
        "id": "GD_XKvp_iR_O",
        "outputId": "b45872cc-6e7b-49f0-9f2d-0caab2bc858d"
      },
      "execution_count": 51,
      "outputs": [
        {
          "output_type": "stream",
          "name": "stdout",
          "text": [
            "+---------+----+-----+\n",
            "|  jurusan|nama|nilai|\n",
            "+---------+----+-----+\n",
            "|Akuntansi|Dedi|   50|\n",
            "+---------+----+-----+\n",
            "\n"
          ]
        }
      ]
    },
    {
      "cell_type": "code",
      "source": [
        "df_dup.join(ref_dup, [\"jurusan\"], \"anti\").show()"
      ],
      "metadata": {
        "colab": {
          "base_uri": "https://localhost:8080/"
        },
        "id": "lmPw5Bl3QMy_",
        "outputId": "199a6076-a29f-453f-fd49-206c4f6015f1"
      },
      "execution_count": 65,
      "outputs": [
        {
          "output_type": "stream",
          "name": "stdout",
          "text": [
            "+---------+----+-----+\n",
            "|  jurusan|nama|nilai|\n",
            "+---------+----+-----+\n",
            "|Akuntansi|Dedi|   50|\n",
            "+---------+----+-----+\n",
            "\n"
          ]
        }
      ]
    }
  ]
}