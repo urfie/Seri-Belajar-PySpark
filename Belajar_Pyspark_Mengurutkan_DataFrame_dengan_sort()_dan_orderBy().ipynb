{
  "nbformat": 4,
  "nbformat_minor": 0,
  "metadata": {
    "colab": {
      "provenance": [],
      "toc_visible": true
    },
    "kernelspec": {
      "name": "python3",
      "display_name": "Python 3"
    },
    "language_info": {
      "name": "python"
    }
  },
  "cells": [
    {
      "cell_type": "markdown",
      "source": [
        "#Belajar Pyspark - Mengurutkan DataFrame dengan `sort()` dan `groupBy()`"
      ],
      "metadata": {
        "id": "i0GWDGS5yaq2"
      }
    },
    {
      "cell_type": "markdown",
      "source": [
        "artikel dapat dibaca di www.datalearns247.com"
      ],
      "metadata": {
        "id": "ABW0hzgH630m"
      }
    },
    {
      "cell_type": "markdown",
      "source": [
        "##Mempersiapkan Environment"
      ],
      "metadata": {
        "id": "4WzInJqmdO5M"
      }
    },
    {
      "cell_type": "code",
      "execution_count": 1,
      "metadata": {
        "colab": {
          "base_uri": "https://localhost:8080/"
        },
        "id": "dCBnjGO5yaKm",
        "outputId": "dd7bf4c6-fcb1-4afa-e6a9-6fd31e9b7b56"
      },
      "outputs": [
        {
          "output_type": "stream",
          "name": "stdout",
          "text": [
            "Collecting pyspark\n",
            "  Downloading pyspark-3.5.0.tar.gz (316.9 MB)\n",
            "\u001b[2K     \u001b[90m━━━━━━━━━━━━━━━━━━━━━━━━━━━━━━━━━━━━━━━━\u001b[0m \u001b[32m316.9/316.9 MB\u001b[0m \u001b[31m1.9 MB/s\u001b[0m eta \u001b[36m0:00:00\u001b[0m\n",
            "\u001b[?25h  Preparing metadata (setup.py) ... \u001b[?25l\u001b[?25hdone\n",
            "Requirement already satisfied: py4j==0.10.9.7 in /usr/local/lib/python3.10/dist-packages (from pyspark) (0.10.9.7)\n",
            "Building wheels for collected packages: pyspark\n",
            "  Building wheel for pyspark (setup.py) ... \u001b[?25l\u001b[?25hdone\n",
            "  Created wheel for pyspark: filename=pyspark-3.5.0-py2.py3-none-any.whl size=317425345 sha256=9e586a67219d97866d60c0b299b9355340bf8ba8f3bcc3000bb7b1290968f90b\n",
            "  Stored in directory: /root/.cache/pip/wheels/41/4e/10/c2cf2467f71c678cfc8a6b9ac9241e5e44a01940da8fbb17fc\n",
            "Successfully built pyspark\n",
            "Installing collected packages: pyspark\n",
            "Successfully installed pyspark-3.5.0\n"
          ]
        }
      ],
      "source": [
        "%pip install pyspark #jalankan untuk google colab"
      ]
    },
    {
      "cell_type": "code",
      "source": [
        "from pyspark.sql import SparkSession\n",
        "import pyspark.sql.functions as F"
      ],
      "metadata": {
        "id": "5ZADhBYSyy4W"
      },
      "execution_count": 2,
      "outputs": []
    },
    {
      "cell_type": "code",
      "source": [
        "spark = SparkSession.builder.appName(\"Belajar PySpark - Grouping dan Agregasi\").getOrCreate()"
      ],
      "metadata": {
        "id": "GCkNX2ssy1YH"
      },
      "execution_count": 3,
      "outputs": []
    },
    {
      "cell_type": "code",
      "source": [
        "data = [['Agus','Fisika',1,130,100],['Windy','Fisika',3,200,150],\n",
        "        ['Budi','Biologi',1,200,150],['Dina','Fisika',3,150,200],\n",
        "        ['Bayu','Fisika',1,150,200],['Dedi','Biologi',3,50,150]]\n",
        "\n",
        "kolom = [\"nama\",\"jurusan\",\"semester\",\"nilai1\",\"nilai2\"]\n",
        "\n",
        "df = spark.createDataFrame(data,kolom)\n",
        "\n",
        "df.show()"
      ],
      "metadata": {
        "colab": {
          "base_uri": "https://localhost:8080/"
        },
        "id": "qIiySaTGy3Ec",
        "outputId": "dea25a00-1724-4215-dc27-e39afff6dbe8"
      },
      "execution_count": 21,
      "outputs": [
        {
          "output_type": "stream",
          "name": "stdout",
          "text": [
            "+-----+-------+--------+------+------+\n",
            "| nama|jurusan|semester|nilai1|nilai2|\n",
            "+-----+-------+--------+------+------+\n",
            "| Agus| Fisika|       1|   130|   100|\n",
            "|Windy| Fisika|       3|   200|   150|\n",
            "| Budi|Biologi|       1|   200|   150|\n",
            "| Dina| Fisika|       3|   150|   200|\n",
            "| Bayu| Fisika|       1|   150|   200|\n",
            "| Dedi|Biologi|       3|    50|   150|\n",
            "+-----+-------+--------+------+------+\n",
            "\n"
          ]
        }
      ]
    },
    {
      "cell_type": "markdown",
      "source": [
        "##Mengurutkan satu kolom"
      ],
      "metadata": {
        "id": "BYD9nPkGdVBI"
      }
    },
    {
      "cell_type": "code",
      "source": [
        "df.sort(\"jurusan\").show()"
      ],
      "metadata": {
        "colab": {
          "base_uri": "https://localhost:8080/"
        },
        "id": "f59ijO1xMAJ9",
        "outputId": "74de6fd9-1eb3-4200-8fbb-dd6f96723564"
      },
      "execution_count": 5,
      "outputs": [
        {
          "output_type": "stream",
          "name": "stdout",
          "text": [
            "+-----+-------+--------+------+------+\n",
            "| nama|jurusan|semester|nilai1|nilai2|\n",
            "+-----+-------+--------+------+------+\n",
            "| Budi|Biologi|       1|   200|   150|\n",
            "| Dedi|Biologi|       3|    50|   150|\n",
            "| Agus| Fisika|       1|   130|   100|\n",
            "| Dina| Fisika|       3|   150|   200|\n",
            "|Windy| Fisika|       3|   200|   150|\n",
            "| Bayu| Fisika|       1|   150|   200|\n",
            "+-----+-------+--------+------+------+\n",
            "\n"
          ]
        }
      ]
    },
    {
      "cell_type": "code",
      "source": [
        "df.sort(F.col(\"jurusan\")).show()\n",
        "df.sort(df.jurusan).show()"
      ],
      "metadata": {
        "colab": {
          "base_uri": "https://localhost:8080/"
        },
        "id": "SCZp9IN9KgLg",
        "outputId": "e3ea876c-8c41-4438-bb8d-07e9b6faf78e"
      },
      "execution_count": 6,
      "outputs": [
        {
          "output_type": "stream",
          "name": "stdout",
          "text": [
            "+-----+-------+--------+------+------+\n",
            "| nama|jurusan|semester|nilai1|nilai2|\n",
            "+-----+-------+--------+------+------+\n",
            "| Dedi|Biologi|       3|    50|   150|\n",
            "| Budi|Biologi|       1|   200|   150|\n",
            "| Dina| Fisika|       3|   150|   200|\n",
            "| Agus| Fisika|       1|   130|   100|\n",
            "| Bayu| Fisika|       1|   150|   200|\n",
            "|Windy| Fisika|       3|   200|   150|\n",
            "+-----+-------+--------+------+------+\n",
            "\n",
            "+-----+-------+--------+------+------+\n",
            "| nama|jurusan|semester|nilai1|nilai2|\n",
            "+-----+-------+--------+------+------+\n",
            "| Budi|Biologi|       1|   200|   150|\n",
            "| Dedi|Biologi|       3|    50|   150|\n",
            "| Agus| Fisika|       1|   130|   100|\n",
            "| Dina| Fisika|       3|   150|   200|\n",
            "|Windy| Fisika|       3|   200|   150|\n",
            "| Bayu| Fisika|       1|   150|   200|\n",
            "+-----+-------+--------+------+------+\n",
            "\n"
          ]
        }
      ]
    },
    {
      "cell_type": "code",
      "source": [
        "df.orderBy(\"jurusan\").show()\n",
        "df.orderBy(F.col(\"jurusan\")).show()\n",
        "df.orderBy(df.jurusan).show()"
      ],
      "metadata": {
        "colab": {
          "base_uri": "https://localhost:8080/"
        },
        "id": "Upt0SD3P8K-Q",
        "outputId": "fbad890d-50b7-45be-9941-e9de2fef36dd"
      },
      "execution_count": 7,
      "outputs": [
        {
          "output_type": "stream",
          "name": "stdout",
          "text": [
            "+-----+-------+--------+------+------+\n",
            "| nama|jurusan|semester|nilai1|nilai2|\n",
            "+-----+-------+--------+------+------+\n",
            "| Dedi|Biologi|       3|    50|   150|\n",
            "| Budi|Biologi|       1|   200|   150|\n",
            "| Dina| Fisika|       3|   150|   200|\n",
            "| Agus| Fisika|       1|   130|   100|\n",
            "| Bayu| Fisika|       1|   150|   200|\n",
            "|Windy| Fisika|       3|   200|   150|\n",
            "+-----+-------+--------+------+------+\n",
            "\n",
            "+-----+-------+--------+------+------+\n",
            "| nama|jurusan|semester|nilai1|nilai2|\n",
            "+-----+-------+--------+------+------+\n",
            "| Budi|Biologi|       1|   200|   150|\n",
            "| Dedi|Biologi|       3|    50|   150|\n",
            "| Agus| Fisika|       1|   130|   100|\n",
            "| Dina| Fisika|       3|   150|   200|\n",
            "|Windy| Fisika|       3|   200|   150|\n",
            "| Bayu| Fisika|       1|   150|   200|\n",
            "+-----+-------+--------+------+------+\n",
            "\n",
            "+-----+-------+--------+------+------+\n",
            "| nama|jurusan|semester|nilai1|nilai2|\n",
            "+-----+-------+--------+------+------+\n",
            "| Budi|Biologi|       1|   200|   150|\n",
            "| Dedi|Biologi|       3|    50|   150|\n",
            "| Agus| Fisika|       1|   130|   100|\n",
            "| Dina| Fisika|       3|   150|   200|\n",
            "|Windy| Fisika|       3|   200|   150|\n",
            "| Bayu| Fisika|       1|   150|   200|\n",
            "+-----+-------+--------+------+------+\n",
            "\n"
          ]
        }
      ]
    },
    {
      "cell_type": "markdown",
      "source": [
        "##Mengurutkan lebih dari 1 kolom"
      ],
      "metadata": {
        "id": "JvFBdkducpfo"
      }
    },
    {
      "cell_type": "code",
      "source": [
        "df.sort(\"semester\", \"jurusan\").show()"
      ],
      "metadata": {
        "colab": {
          "base_uri": "https://localhost:8080/"
        },
        "id": "J1_5zZcg5X5B",
        "outputId": "fec376a0-bb28-4c8a-c87f-86c181bcf83a"
      },
      "execution_count": 8,
      "outputs": [
        {
          "output_type": "stream",
          "name": "stdout",
          "text": [
            "+-----+-------+--------+------+------+\n",
            "| nama|jurusan|semester|nilai1|nilai2|\n",
            "+-----+-------+--------+------+------+\n",
            "| Budi|Biologi|       1|   200|   150|\n",
            "| Bayu| Fisika|       1|   150|   200|\n",
            "| Agus| Fisika|       1|   130|   100|\n",
            "| Dedi|Biologi|       3|    50|   150|\n",
            "|Windy| Fisika|       3|   200|   150|\n",
            "| Dina| Fisika|       3|   150|   200|\n",
            "+-----+-------+--------+------+------+\n",
            "\n"
          ]
        }
      ]
    },
    {
      "cell_type": "code",
      "source": [
        "df.sort(df.semester, \"jurusan\").show()\n",
        "df.sort(df.semester, df.jurusan).show()"
      ],
      "metadata": {
        "colab": {
          "base_uri": "https://localhost:8080/"
        },
        "id": "iMlJXZwALdjW",
        "outputId": "447ce93b-dc77-40b5-c824-14af3580b9ec"
      },
      "execution_count": 9,
      "outputs": [
        {
          "output_type": "stream",
          "name": "stdout",
          "text": [
            "+-----+-------+--------+------+------+\n",
            "| nama|jurusan|semester|nilai1|nilai2|\n",
            "+-----+-------+--------+------+------+\n",
            "| Budi|Biologi|       1|   200|   150|\n",
            "| Bayu| Fisika|       1|   150|   200|\n",
            "| Agus| Fisika|       1|   130|   100|\n",
            "| Dedi|Biologi|       3|    50|   150|\n",
            "|Windy| Fisika|       3|   200|   150|\n",
            "| Dina| Fisika|       3|   150|   200|\n",
            "+-----+-------+--------+------+------+\n",
            "\n",
            "+-----+-------+--------+------+------+\n",
            "| nama|jurusan|semester|nilai1|nilai2|\n",
            "+-----+-------+--------+------+------+\n",
            "| Budi|Biologi|       1|   200|   150|\n",
            "| Bayu| Fisika|       1|   150|   200|\n",
            "| Agus| Fisika|       1|   130|   100|\n",
            "| Dedi|Biologi|       3|    50|   150|\n",
            "|Windy| Fisika|       3|   200|   150|\n",
            "| Dina| Fisika|       3|   150|   200|\n",
            "+-----+-------+--------+------+------+\n",
            "\n"
          ]
        }
      ]
    },
    {
      "cell_type": "code",
      "source": [
        "df.sort([\"semester\", \"jurusan\"]).show()\n",
        "df.sort([df.semester, df.jurusan]).show()"
      ],
      "metadata": {
        "colab": {
          "base_uri": "https://localhost:8080/"
        },
        "id": "ZT8IuuRabs8S",
        "outputId": "09a9eda7-4c80-4496-f045-6c37f13ddf7b"
      },
      "execution_count": 10,
      "outputs": [
        {
          "output_type": "stream",
          "name": "stdout",
          "text": [
            "+-----+-------+--------+------+------+\n",
            "| nama|jurusan|semester|nilai1|nilai2|\n",
            "+-----+-------+--------+------+------+\n",
            "| Budi|Biologi|       1|   200|   150|\n",
            "| Bayu| Fisika|       1|   150|   200|\n",
            "| Agus| Fisika|       1|   130|   100|\n",
            "| Dedi|Biologi|       3|    50|   150|\n",
            "|Windy| Fisika|       3|   200|   150|\n",
            "| Dina| Fisika|       3|   150|   200|\n",
            "+-----+-------+--------+------+------+\n",
            "\n",
            "+-----+-------+--------+------+------+\n",
            "| nama|jurusan|semester|nilai1|nilai2|\n",
            "+-----+-------+--------+------+------+\n",
            "| Budi|Biologi|       1|   200|   150|\n",
            "| Bayu| Fisika|       1|   150|   200|\n",
            "| Agus| Fisika|       1|   130|   100|\n",
            "| Dedi|Biologi|       3|    50|   150|\n",
            "|Windy| Fisika|       3|   200|   150|\n",
            "| Dina| Fisika|       3|   150|   200|\n",
            "+-----+-------+--------+------+------+\n",
            "\n"
          ]
        }
      ]
    },
    {
      "cell_type": "markdown",
      "source": [
        "##Mengurutkan secara ascending"
      ],
      "metadata": {
        "id": "H0K_nkT2dGU1"
      }
    },
    {
      "cell_type": "markdown",
      "source": [
        "###Menggunakan parameter `ascending` dengan 1 nilai"
      ],
      "metadata": {
        "id": "WxVFoKx7UjQq"
      }
    },
    {
      "cell_type": "code",
      "source": [
        "df.sort(\"semester\", asc=False).show()"
      ],
      "metadata": {
        "colab": {
          "base_uri": "https://localhost:8080/"
        },
        "id": "syi2dcGTUyZM",
        "outputId": "d0affa43-f540-49c2-921f-f0db91bfa9d2"
      },
      "execution_count": 11,
      "outputs": [
        {
          "output_type": "stream",
          "name": "stdout",
          "text": [
            "+-----+-------+--------+------+------+\n",
            "| nama|jurusan|semester|nilai1|nilai2|\n",
            "+-----+-------+--------+------+------+\n",
            "| Bayu| Fisika|       1|   150|   200|\n",
            "| Agus| Fisika|       1|   130|   100|\n",
            "| Budi|Biologi|       1|   200|   150|\n",
            "| Dina| Fisika|       3|   150|   200|\n",
            "|Windy| Fisika|       3|   200|   150|\n",
            "| Dedi|Biologi|       3|    50|   150|\n",
            "+-----+-------+--------+------+------+\n",
            "\n"
          ]
        }
      ]
    },
    {
      "cell_type": "code",
      "source": [
        "df.sort([\"semester\", \"jurusan\"], ascending=False).show()"
      ],
      "metadata": {
        "colab": {
          "base_uri": "https://localhost:8080/"
        },
        "id": "uAcWKkSDUtrf",
        "outputId": "cee80c0c-7f54-4ac5-96e9-fa9221112fb5"
      },
      "execution_count": 12,
      "outputs": [
        {
          "output_type": "stream",
          "name": "stdout",
          "text": [
            "+-----+-------+--------+------+------+\n",
            "| nama|jurusan|semester|nilai1|nilai2|\n",
            "+-----+-------+--------+------+------+\n",
            "| Dina| Fisika|       3|   150|   200|\n",
            "|Windy| Fisika|       3|   200|   150|\n",
            "| Dedi|Biologi|       3|    50|   150|\n",
            "| Agus| Fisika|       1|   130|   100|\n",
            "| Bayu| Fisika|       1|   150|   200|\n",
            "| Budi|Biologi|       1|   200|   150|\n",
            "+-----+-------+--------+------+------+\n",
            "\n"
          ]
        }
      ]
    },
    {
      "cell_type": "code",
      "source": [
        "df.sort(\"semester\", \"jurusan\", ascending=[True, False]).show()"
      ],
      "metadata": {
        "colab": {
          "base_uri": "https://localhost:8080/"
        },
        "id": "48yx9roP7pq4",
        "outputId": "d41c215b-6207-472c-afa8-5b56d3d4b745"
      },
      "execution_count": 13,
      "outputs": [
        {
          "output_type": "stream",
          "name": "stdout",
          "text": [
            "+-----+-------+--------+------+------+\n",
            "| nama|jurusan|semester|nilai1|nilai2|\n",
            "+-----+-------+--------+------+------+\n",
            "| Agus| Fisika|       1|   130|   100|\n",
            "| Bayu| Fisika|       1|   150|   200|\n",
            "| Budi|Biologi|       1|   200|   150|\n",
            "| Dina| Fisika|       3|   150|   200|\n",
            "|Windy| Fisika|       3|   200|   150|\n",
            "| Dedi|Biologi|       3|    50|   150|\n",
            "+-----+-------+--------+------+------+\n",
            "\n"
          ]
        }
      ]
    },
    {
      "cell_type": "markdown",
      "source": [
        "###Menggunakan fungsi"
      ],
      "metadata": {
        "id": "ObdwaQW-ZcQ5"
      }
    },
    {
      "cell_type": "code",
      "source": [
        "df.sort(F.asc(\"semester\"), F.desc(\"jurusan\")).show()"
      ],
      "metadata": {
        "colab": {
          "base_uri": "https://localhost:8080/"
        },
        "id": "H0SeMZHxB57G",
        "outputId": "93bfda53-9ab8-4673-dd2e-55b0ccbd396e"
      },
      "execution_count": 14,
      "outputs": [
        {
          "output_type": "stream",
          "name": "stdout",
          "text": [
            "+-----+-------+--------+------+------+\n",
            "| nama|jurusan|semester|nilai1|nilai2|\n",
            "+-----+-------+--------+------+------+\n",
            "| Agus| Fisika|       1|   130|   100|\n",
            "| Bayu| Fisika|       1|   150|   200|\n",
            "| Budi|Biologi|       1|   200|   150|\n",
            "| Dina| Fisika|       3|   150|   200|\n",
            "|Windy| Fisika|       3|   200|   150|\n",
            "| Dedi|Biologi|       3|    50|   150|\n",
            "+-----+-------+--------+------+------+\n",
            "\n"
          ]
        }
      ]
    },
    {
      "cell_type": "code",
      "source": [
        "df.sort(F.col(\"semester\").asc(), F.col(\"jurusan\").desc()).show()"
      ],
      "metadata": {
        "colab": {
          "base_uri": "https://localhost:8080/"
        },
        "id": "YrtMm9Bw8QY8",
        "outputId": "eea72b2d-b522-4e0e-914d-ba1b0a170635"
      },
      "execution_count": 15,
      "outputs": [
        {
          "output_type": "stream",
          "name": "stdout",
          "text": [
            "+-----+-------+--------+------+------+\n",
            "| nama|jurusan|semester|nilai1|nilai2|\n",
            "+-----+-------+--------+------+------+\n",
            "| Bayu| Fisika|       1|   150|   200|\n",
            "| Agus| Fisika|       1|   130|   100|\n",
            "| Budi|Biologi|       1|   200|   150|\n",
            "| Dina| Fisika|       3|   150|   200|\n",
            "|Windy| Fisika|       3|   200|   150|\n",
            "| Dedi|Biologi|       3|    50|   150|\n",
            "+-----+-------+--------+------+------+\n",
            "\n"
          ]
        }
      ]
    },
    {
      "cell_type": "markdown",
      "source": [
        "##Mengurutkan secara descending"
      ],
      "metadata": {
        "id": "amL1W7g_dK_n"
      }
    },
    {
      "cell_type": "code",
      "source": [
        "df.sort(F.desc(\"semester\"), F.desc(\"jurusan\")).show()"
      ],
      "metadata": {
        "colab": {
          "base_uri": "https://localhost:8080/"
        },
        "id": "qher_5zP-MES",
        "outputId": "5f9af6f6-69ae-4b51-e45c-6bb980a5a580"
      },
      "execution_count": 16,
      "outputs": [
        {
          "output_type": "stream",
          "name": "stdout",
          "text": [
            "+-----+-------+--------+------+------+\n",
            "| nama|jurusan|semester|nilai1|nilai2|\n",
            "+-----+-------+--------+------+------+\n",
            "| Dina| Fisika|       3|   150|   200|\n",
            "|Windy| Fisika|       3|   200|   150|\n",
            "| Dedi|Biologi|       3|    50|   150|\n",
            "| Agus| Fisika|       1|   130|   100|\n",
            "| Bayu| Fisika|       1|   150|   200|\n",
            "| Budi|Biologi|       1|   200|   150|\n",
            "+-----+-------+--------+------+------+\n",
            "\n"
          ]
        }
      ]
    },
    {
      "cell_type": "markdown",
      "source": [
        "##Menangani null value"
      ],
      "metadata": {
        "id": "-m90oktcZUcU"
      }
    },
    {
      "cell_type": "code",
      "source": [
        "data2 = [['Agus','Fisika',1,130,100],['Windy','Biologi',3,200,150],\n",
        "        ['Budi',None,1,200,150]]\n",
        "\n",
        "kolom = [\"nama\",\"jurusan\",\"semester\",\"nilai1\",\"nilai2\"]\n",
        "\n",
        "df2 = spark.createDataFrame(data2,kolom)\n",
        "\n",
        "df2.show()\n"
      ],
      "metadata": {
        "colab": {
          "base_uri": "https://localhost:8080/"
        },
        "id": "tDlWneRiZcC3",
        "outputId": "156c242f-2d52-4276-9524-fa1829d7d199"
      },
      "execution_count": 26,
      "outputs": [
        {
          "output_type": "stream",
          "name": "stdout",
          "text": [
            "+-----+-------+--------+------+------+\n",
            "| nama|jurusan|semester|nilai1|nilai2|\n",
            "+-----+-------+--------+------+------+\n",
            "| Agus| Fisika|       1|   130|   100|\n",
            "|Windy|Biologi|       3|   200|   150|\n",
            "| Budi|   NULL|       1|   200|   150|\n",
            "+-----+-------+--------+------+------+\n",
            "\n"
          ]
        }
      ]
    },
    {
      "cell_type": "code",
      "source": [
        "df2.sort(F.desc_nulls_first(\"jurusan\")).show()"
      ],
      "metadata": {
        "colab": {
          "base_uri": "https://localhost:8080/"
        },
        "id": "Zn_XWS_NaLyV",
        "outputId": "f2bae45d-3375-40ca-8d5f-5a5a7220277d"
      },
      "execution_count": 28,
      "outputs": [
        {
          "output_type": "stream",
          "name": "stdout",
          "text": [
            "+-----+-------+--------+------+------+\n",
            "| nama|jurusan|semester|nilai1|nilai2|\n",
            "+-----+-------+--------+------+------+\n",
            "| Budi|   NULL|       1|   200|   150|\n",
            "| Agus| Fisika|       1|   130|   100|\n",
            "|Windy|Biologi|       3|   200|   150|\n",
            "+-----+-------+--------+------+------+\n",
            "\n"
          ]
        }
      ]
    },
    {
      "cell_type": "code",
      "source": [
        "df2.sort(F.desc_nulls_last(\"jurusan\")).show()"
      ],
      "metadata": {
        "colab": {
          "base_uri": "https://localhost:8080/"
        },
        "id": "XMFPMlG-aZuF",
        "outputId": "c351f351-903f-44b0-e979-7b1e70923f7a"
      },
      "execution_count": 30,
      "outputs": [
        {
          "output_type": "stream",
          "name": "stdout",
          "text": [
            "+-----+-------+--------+------+------+\n",
            "| nama|jurusan|semester|nilai1|nilai2|\n",
            "+-----+-------+--------+------+------+\n",
            "| Agus| Fisika|       1|   130|   100|\n",
            "|Windy|Biologi|       3|   200|   150|\n",
            "| Budi|   NULL|       1|   200|   150|\n",
            "+-----+-------+--------+------+------+\n",
            "\n"
          ]
        }
      ]
    },
    {
      "cell_type": "markdown",
      "source": [
        "##Mengurutkan berdasarkan hasil penjumlahan dua kolom"
      ],
      "metadata": {
        "id": "qCUUa5Jrdcbh"
      }
    },
    {
      "cell_type": "code",
      "source": [
        "df.sort(F.col(\"nilai1\") + F.col(\"nilai2\")).show()"
      ],
      "metadata": {
        "colab": {
          "base_uri": "https://localhost:8080/"
        },
        "id": "fyXyqGwg5rvG",
        "outputId": "8a2072ba-dc26-49a8-f1c9-94d8f01bc9e3"
      },
      "execution_count": 17,
      "outputs": [
        {
          "output_type": "stream",
          "name": "stdout",
          "text": [
            "+-----+-------+--------+------+------+\n",
            "| nama|jurusan|semester|nilai1|nilai2|\n",
            "+-----+-------+--------+------+------+\n",
            "| Dedi|Biologi|       3|    50|   150|\n",
            "| Agus| Fisika|       1|   130|   100|\n",
            "| Dina| Fisika|       3|   150|   200|\n",
            "|Windy| Fisika|       3|   200|   150|\n",
            "| Bayu| Fisika|       1|   150|   200|\n",
            "| Budi|Biologi|       1|   200|   150|\n",
            "+-----+-------+--------+------+------+\n",
            "\n"
          ]
        }
      ]
    },
    {
      "cell_type": "code",
      "source": [
        "df.sort((F.col(\"nilai1\") + F.col(\"nilai2\")).desc()).show()"
      ],
      "metadata": {
        "colab": {
          "base_uri": "https://localhost:8080/"
        },
        "id": "4BJdMshJ59tU",
        "outputId": "b765b7ee-dfd9-459d-9650-29f55896957e"
      },
      "execution_count": 18,
      "outputs": [
        {
          "output_type": "stream",
          "name": "stdout",
          "text": [
            "+-----+-------+--------+------+------+\n",
            "| nama|jurusan|semester|nilai1|nilai2|\n",
            "+-----+-------+--------+------+------+\n",
            "| Dina| Fisika|       3|   150|   200|\n",
            "|Windy| Fisika|       3|   200|   150|\n",
            "| Bayu| Fisika|       1|   150|   200|\n",
            "| Budi|Biologi|       1|   200|   150|\n",
            "| Agus| Fisika|       1|   130|   100|\n",
            "| Dedi|Biologi|       3|    50|   150|\n",
            "+-----+-------+--------+------+------+\n",
            "\n"
          ]
        }
      ]
    },
    {
      "cell_type": "markdown",
      "source": [
        "##Mengurutkan dengan SQL Statement"
      ],
      "metadata": {
        "id": "reDt-SlgdrwM"
      }
    },
    {
      "cell_type": "markdown",
      "source": [
        "###Membuat temporary table"
      ],
      "metadata": {
        "id": "lgsd-KbqdvQY"
      }
    },
    {
      "cell_type": "code",
      "source": [
        "df.createOrReplaceTempView(\"mahasiswa\")"
      ],
      "metadata": {
        "id": "ECoY7YE8dzkH"
      },
      "execution_count": 19,
      "outputs": []
    },
    {
      "cell_type": "markdown",
      "source": [
        "###Menjalankan SQL Statement"
      ],
      "metadata": {
        "id": "MJf66S9fdz53"
      }
    },
    {
      "cell_type": "code",
      "source": [
        "spark.sql(\"SELECT * FROM mahasiswa ORDER BY semester desc, jurusan desc\").show()"
      ],
      "metadata": {
        "id": "RYtMvOCddovD",
        "colab": {
          "base_uri": "https://localhost:8080/"
        },
        "outputId": "ca3550e9-d7cb-42ea-dca0-54d90c9ffeb7"
      },
      "execution_count": 20,
      "outputs": [
        {
          "output_type": "stream",
          "name": "stdout",
          "text": [
            "+-----+-------+--------+------+------+\n",
            "| nama|jurusan|semester|nilai1|nilai2|\n",
            "+-----+-------+--------+------+------+\n",
            "|Windy| Fisika|       3|   200|   150|\n",
            "| Dina| Fisika|       3|   150|   200|\n",
            "| Dedi|Biologi|       3|    50|   150|\n",
            "| Agus| Fisika|       1|   130|   100|\n",
            "| Bayu| Fisika|       1|   150|   200|\n",
            "| Budi|Biologi|       1|   200|   150|\n",
            "+-----+-------+--------+------+------+\n",
            "\n"
          ]
        }
      ]
    }
  ]
}
