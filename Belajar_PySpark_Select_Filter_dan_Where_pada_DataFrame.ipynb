{
  "nbformat": 4,
  "nbformat_minor": 0,
  "metadata": {
    "colab": {
      "provenance": [],
      "toc_visible": true
    },
    "kernelspec": {
      "name": "python3",
      "display_name": "Python 3"
    },
    "language_info": {
      "name": "python"
    }
  },
  "cells": [
    {
      "cell_type": "markdown",
      "source": [
        "#Belajar PySpark - Select, Filter, dan Where pada DataFrame\n"
      ],
      "metadata": {
        "id": "loueMJbfjlZq"
      }
    },
    {
      "cell_type": "markdown",
      "source": [
        "Salah satu operasi yang paling banyak dilakukan dalam pengolahan dan eksplorasi data adalah memilih baris atau record dengan bermacam-macam kondisi.\n",
        "\n",
        "Dalam notebook ini kita akan mempelajari mengenai berbagai cara melakukan filtering records pada Spark DataFrame. Fungsi-fungsi yang akan kita gunakan diantaranya adalah fungsi `filter()` dan `where()`. Kita juga akan menggunakan fungsi-fungsi kolom yang lain, seperti `isin()`,` contains()`, `like()`, dll."
      ],
      "metadata": {
        "id": "pGv-NFi6rN_g"
      }
    },
    {
      "cell_type": "code",
      "execution_count": null,
      "metadata": {
        "colab": {
          "base_uri": "https://localhost:8080/"
        },
        "id": "3YsxlynyFZ0N",
        "outputId": "f956534f-d08f-4ef6-ef9d-59a8a7c84fa1"
      },
      "outputs": [
        {
          "output_type": "stream",
          "name": "stdout",
          "text": [
            "Collecting pyspark\n",
            "  Downloading pyspark-3.4.1.tar.gz (310.8 MB)\n",
            "\u001b[2K     \u001b[90m━━━━━━━━━━━━━━━━━━━━━━━━━━━━━━━━━━━━━━━\u001b[0m \u001b[32m310.8/310.8 MB\u001b[0m \u001b[31m3.5 MB/s\u001b[0m eta \u001b[36m0:00:00\u001b[0m\n",
            "\u001b[?25h  Preparing metadata (setup.py) ... \u001b[?25l\u001b[?25hdone\n",
            "Requirement already satisfied: py4j==0.10.9.7 in /usr/local/lib/python3.10/dist-packages (from pyspark) (0.10.9.7)\n",
            "Building wheels for collected packages: pyspark\n",
            "  Building wheel for pyspark (setup.py) ... \u001b[?25l\u001b[?25hdone\n",
            "  Created wheel for pyspark: filename=pyspark-3.4.1-py2.py3-none-any.whl size=311285398 sha256=a108681f0a9d17735a51aa6eccbd2ecfc20c30597f7540015c1bea2cb3dd10e8\n",
            "  Stored in directory: /root/.cache/pip/wheels/0d/77/a3/ff2f74cc9ab41f8f594dabf0579c2a7c6de920d584206e0834\n",
            "Successfully built pyspark\n",
            "Installing collected packages: pyspark\n",
            "Successfully installed pyspark-3.4.1\n"
          ]
        }
      ],
      "source": [
        "%pip install pyspark"
      ]
    },
    {
      "cell_type": "markdown",
      "source": [
        "Import packages yang diperlukan"
      ],
      "metadata": {
        "id": "cQRkyoq81g-r"
      }
    },
    {
      "cell_type": "code",
      "source": [
        "from pyspark.sql import SparkSession\n",
        "from pyspark.sql import functions as F"
      ],
      "metadata": {
        "id": "8V4lQvx6HIiO"
      },
      "execution_count": null,
      "outputs": []
    },
    {
      "cell_type": "markdown",
      "source": [
        "Create spark session"
      ],
      "metadata": {
        "id": "-KM-8sDt1j6D"
      }
    },
    {
      "cell_type": "code",
      "source": [
        "spark = SparkSession.builder.appName('Belajar PySpark - Filter').getOrCreate()"
      ],
      "metadata": {
        "id": "97aBSg6dGu9V"
      },
      "execution_count": null,
      "outputs": []
    },
    {
      "cell_type": "markdown",
      "source": [
        "Buat dataframe"
      ],
      "metadata": {
        "id": "tPh6d_Bx1l1a"
      }
    },
    {
      "cell_type": "code",
      "source": [
        "data = [['Agus','Fisika',100],['Windy','Fisika',200],\n",
        "        ['Budi','Biologi',200],['Dina','Fisika',150],\n",
        "        ['Bayu','Fisika',50],['Dedi','Biologi',50]]\n",
        "\n",
        "kolom = ['nama','jurusan','nilai']\n",
        "\n",
        "df = spark.createDataFrame(data,kolom)\n",
        "\n",
        "df.show()"
      ],
      "metadata": {
        "colab": {
          "base_uri": "https://localhost:8080/"
        },
        "id": "KUXGwHVdFfB2",
        "outputId": "1accbe1f-6af5-4909-8046-41179ee6e574"
      },
      "execution_count": null,
      "outputs": [
        {
          "output_type": "stream",
          "name": "stdout",
          "text": [
            "+-----+-------+-----+\n",
            "| nama|jurusan|nilai|\n",
            "+-----+-------+-----+\n",
            "| Agus| Fisika|  100|\n",
            "|Windy| Fisika|  200|\n",
            "| Budi|Biologi|  200|\n",
            "| Dina| Fisika|  150|\n",
            "| Bayu| Fisika|   50|\n",
            "| Dedi|Biologi|   50|\n",
            "+-----+-------+-----+\n",
            "\n"
          ]
        }
      ]
    },
    {
      "cell_type": "markdown",
      "source": [
        "##Memilih kolom dengan fungsi `select()`"
      ],
      "metadata": {
        "id": "QYBOfIlF1Cv2"
      }
    },
    {
      "cell_type": "markdown",
      "source": [
        "Fungsi select() digunakan untuk memilih kolom-kolom tertentu dari sebuah DataFrame. Sintaksnya adalah `df.select(list nama kolom yang akan dipilih)`\n"
      ],
      "metadata": {
        "id": "wQC8_YTnrZMa"
      }
    },
    {
      "cell_type": "code",
      "source": [
        "df.select(['nama', 'nilai']).show()"
      ],
      "metadata": {
        "colab": {
          "base_uri": "https://localhost:8080/"
        },
        "id": "sEf8wsHL1KM1",
        "outputId": "25daad5e-dda2-4b4f-da68-0e92c1cab014"
      },
      "execution_count": null,
      "outputs": [
        {
          "output_type": "stream",
          "name": "stdout",
          "text": [
            "+-----+-----+\n",
            "| nama|nilai|\n",
            "+-----+-----+\n",
            "| Agus|  100|\n",
            "|Windy|  200|\n",
            "| Budi|  200|\n",
            "| Dina|  150|\n",
            "| Bayu|   50|\n",
            "| Dedi|   50|\n",
            "+-----+-----+\n",
            "\n"
          ]
        }
      ]
    },
    {
      "cell_type": "markdown",
      "source": [
        "##Menggunakan fungsi filter()"
      ],
      "metadata": {
        "id": "K_CZh510KXht"
      }
    },
    {
      "cell_type": "markdown",
      "source": [
        "Fungsi `filter()` menerima parameter kondisi berupa ekspresi logika. Fungsi secara umum ditulis sebagai berikut:\n",
        "`df.filter(kondisi)`"
      ],
      "metadata": {
        "id": "swNqorSZrfA3"
      }
    },
    {
      "cell_type": "markdown",
      "source": [
        "###Filter dengan satu kondisi"
      ],
      "metadata": {
        "id": "Q1_uD_puKbEn"
      }
    },
    {
      "cell_type": "markdown",
      "source": [
        "Berikut ini merupakan contoh penggunaan fungsi filter untuk satu kondisi.\n",
        "\n",
        "Dari DataFrame yang telah dibuat, kita akan melakukan filtering record yang memiliki nilai lebih besar dari 150"
      ],
      "metadata": {
        "id": "R_6JGVRfrhoL"
      }
    },
    {
      "cell_type": "code",
      "source": [
        "df.filter(df.nilai > 150).show()"
      ],
      "metadata": {
        "colab": {
          "base_uri": "https://localhost:8080/"
        },
        "id": "HhNGO58kZqw0",
        "outputId": "c25a46b5-c962-4604-f7d3-f43da87cf917"
      },
      "execution_count": null,
      "outputs": [
        {
          "output_type": "stream",
          "name": "stdout",
          "text": [
            "+-----+-------+-----+\n",
            "| nama|jurusan|nilai|\n",
            "+-----+-------+-----+\n",
            "|Windy| Fisika|  200|\n",
            "| Budi|Biologi|  200|\n",
            "+-----+-------+-----+\n",
            "\n"
          ]
        }
      ]
    },
    {
      "cell_type": "markdown",
      "source": [
        "###Filter dengan beberapa kondisi"
      ],
      "metadata": {
        "id": "gVKYz3sAKolG"
      }
    },
    {
      "cell_type": "markdown",
      "source": [
        "Untuk menggabungkan beberapa kondisi, digunakan operasi logika & atau | . Perhatikan bahwa masing-masing statement logika dikelompokkan dengan tanda kurung."
      ],
      "metadata": {
        "id": "UCuSytY2rlOs"
      }
    },
    {
      "cell_type": "code",
      "source": [
        "df.filter((df.nilai > 150) &\n",
        "          (df.jurusan == 'Fisika')).show()"
      ],
      "metadata": {
        "colab": {
          "base_uri": "https://localhost:8080/"
        },
        "id": "OX_I15zlh6DB",
        "outputId": "91b0fa59-db1c-4644-9417-db5289953aec"
      },
      "execution_count": null,
      "outputs": [
        {
          "output_type": "stream",
          "name": "stdout",
          "text": [
            "+-----+-------+-----+\n",
            "| nama|jurusan|nilai|\n",
            "+-----+-------+-----+\n",
            "|Windy| Fisika|  200|\n",
            "+-----+-------+-----+\n",
            "\n"
          ]
        }
      ]
    },
    {
      "cell_type": "markdown",
      "source": [
        "###Filter dengan menggunakan list/`isin()`"
      ],
      "metadata": {
        "id": "T2K3F0GYKsoE"
      }
    },
    {
      "cell_type": "markdown",
      "source": [
        "Jika kita memiliki sebuah list, dan kita perlu memfilter record berdasarkan elemen dalam list tersebut, kita bisa menggunakan fungsi isin()"
      ],
      "metadata": {
        "id": "d-T1SsIRrnwa"
      }
    },
    {
      "cell_type": "code",
      "source": [
        "df.filter(df.nilai.isin([50,150])).show()"
      ],
      "metadata": {
        "colab": {
          "base_uri": "https://localhost:8080/"
        },
        "id": "nYi4ffBGEDy7",
        "outputId": "17a7dca6-3181-41a7-b9b3-8f959ed394b7"
      },
      "execution_count": null,
      "outputs": [
        {
          "output_type": "stream",
          "name": "stdout",
          "text": [
            "+----+-------+-----+\n",
            "|nama|jurusan|nilai|\n",
            "+----+-------+-----+\n",
            "|Dina| Fisika|  150|\n",
            "|Bayu| Fisika|   50|\n",
            "|Dedi|Biologi|   50|\n",
            "+----+-------+-----+\n",
            "\n"
          ]
        }
      ]
    },
    {
      "cell_type": "markdown",
      "source": [
        "Selain menggunakan list sebagai kriteria inklusi (whitelist), kita juga dapat menggunakan list sebagai kriteria eksklusi (blacklist), dengan menambahkan tanda negasi. Tanda negasi pada pyspark DataFrame boolean adalah ~"
      ],
      "metadata": {
        "id": "siHvjvKors1w"
      }
    },
    {
      "cell_type": "code",
      "source": [
        "df.filter(~df.nilai.isin([50,150])).show()"
      ],
      "metadata": {
        "colab": {
          "base_uri": "https://localhost:8080/"
        },
        "id": "iTFUyqjEPcN8",
        "outputId": "176c5595-422b-4c0e-c405-4a1e510a0667"
      },
      "execution_count": null,
      "outputs": [
        {
          "output_type": "stream",
          "name": "stdout",
          "text": [
            "+-----+-------+-----+\n",
            "| nama|jurusan|nilai|\n",
            "+-----+-------+-----+\n",
            "| Agus| Fisika|  100|\n",
            "|Windy| Fisika|  200|\n",
            "| Budi|Biologi|  200|\n",
            "+-----+-------+-----+\n",
            "\n"
          ]
        }
      ]
    },
    {
      "cell_type": "markdown",
      "source": [
        "###Filter dengan komparasi string"
      ],
      "metadata": {
        "id": "46agfTLgj436"
      }
    },
    {
      "cell_type": "markdown",
      "source": [
        "Untuk kondisi menggunakan kolom berupa string, terdapat beberapa fungsi kolom DataFrame, diantaranya `startswith()`,` endswith()`, dan `contains()`\n",
        "\n",
        "\n",
        "Fungsi `startswith()` digunakan untuk memilih records dengan nilai suatu kolom berawalan string tertentu"
      ],
      "metadata": {
        "id": "1dt3aavHrvxg"
      }
    },
    {
      "cell_type": "code",
      "source": [
        "df.filter(df.nama.startswith('D')).show()"
      ],
      "metadata": {
        "colab": {
          "base_uri": "https://localhost:8080/"
        },
        "id": "lFn7yUZyj8fn",
        "outputId": "1156058d-d8ff-49fb-b110-49a26bfac712"
      },
      "execution_count": null,
      "outputs": [
        {
          "output_type": "stream",
          "name": "stdout",
          "text": [
            "+----+-------+-----+\n",
            "|nama|jurusan|nilai|\n",
            "+----+-------+-----+\n",
            "|Dina| Fisika|  150|\n",
            "|Dedi|Biologi|   50|\n",
            "+----+-------+-----+\n",
            "\n"
          ]
        }
      ]
    },
    {
      "cell_type": "markdown",
      "source": [
        "Fungsi `endswith()` digunakan untuk memilih records dengan nilai suatu kolom berakhiran string tertentu"
      ],
      "metadata": {
        "id": "sbLNh1txr1xB"
      }
    },
    {
      "cell_type": "code",
      "source": [
        "df.filter(df.nama.endswith('di')).show()"
      ],
      "metadata": {
        "colab": {
          "base_uri": "https://localhost:8080/"
        },
        "id": "QoJ3uBmPkRHg",
        "outputId": "07c4dab0-c9c3-4b8d-9de5-8d33972498ad"
      },
      "execution_count": null,
      "outputs": [
        {
          "output_type": "stream",
          "name": "stdout",
          "text": [
            "+----+-------+-----+\n",
            "|nama|jurusan|nilai|\n",
            "+----+-------+-----+\n",
            "|Budi|Biologi|  200|\n",
            "|Dedi|Biologi|   50|\n",
            "+----+-------+-----+\n",
            "\n"
          ]
        }
      ]
    },
    {
      "cell_type": "markdown",
      "source": [
        "Fungsi `contains()` digunakan untuk memilih records dengan nilai suatu kolom mengandung string tertentu"
      ],
      "metadata": {
        "id": "W8bmPToZr7I2"
      }
    },
    {
      "cell_type": "code",
      "source": [
        "df.filter(df.nama.contains('in')).show()"
      ],
      "metadata": {
        "colab": {
          "base_uri": "https://localhost:8080/"
        },
        "id": "kj6rY6Y_kuhR",
        "outputId": "33ac9060-ca0e-4ace-ecd1-ac7afe3d7e8f"
      },
      "execution_count": null,
      "outputs": [
        {
          "output_type": "stream",
          "name": "stdout",
          "text": [
            "+-----+-------+-----+\n",
            "| nama|jurusan|nilai|\n",
            "+-----+-------+-----+\n",
            "|Windy| Fisika|  200|\n",
            "| Dina| Fisika|  150|\n",
            "+-----+-------+-----+\n",
            "\n"
          ]
        }
      ]
    },
    {
      "cell_type": "markdown",
      "source": [
        "###Filter dengan `like()`"
      ],
      "metadata": {
        "id": "A8Lpb2vhNRO4"
      }
    },
    {
      "cell_type": "markdown",
      "source": [
        "Kita juga dapat melakukan filtering dengan menggunakan fungsi `like()`, yang serupa dengan LIKE pada perintah SQL."
      ],
      "metadata": {
        "id": "XJ6PaiH8r-SV"
      }
    },
    {
      "cell_type": "code",
      "source": [
        "df.filter(df.nama.like('%in%')).show()"
      ],
      "metadata": {
        "colab": {
          "base_uri": "https://localhost:8080/"
        },
        "id": "FO0Vp9ZKNUtP",
        "outputId": "41fd6fd3-1b1a-4f64-e2a7-fab5b78d2a58"
      },
      "execution_count": null,
      "outputs": [
        {
          "output_type": "stream",
          "name": "stdout",
          "text": [
            "+-----+-------+-----+\n",
            "| nama|jurusan|nilai|\n",
            "+-----+-------+-----+\n",
            "|Windy| Fisika|  200|\n",
            "| Dina| Fisika|  150|\n",
            "+-----+-------+-----+\n",
            "\n"
          ]
        }
      ]
    },
    {
      "cell_type": "markdown",
      "source": [
        "##Menggunakan fungsi where()"
      ],
      "metadata": {
        "id": "-iZ8iCkqK18d"
      }
    },
    {
      "cell_type": "markdown",
      "source": [
        "Filter dengan fungsi where() tidak berbeda sintaksnya dengan fungsi filter(), dan keluarannya pun sama dengan filter()."
      ],
      "metadata": {
        "id": "4Lj1nqbPsEgg"
      }
    },
    {
      "cell_type": "code",
      "source": [
        "df.where(df.nilai > 150).show()"
      ],
      "metadata": {
        "colab": {
          "base_uri": "https://localhost:8080/"
        },
        "id": "scJVbNgNqwO3",
        "outputId": "db6c53c9-7a5e-4c81-d5a5-58f41875ae97"
      },
      "execution_count": null,
      "outputs": [
        {
          "output_type": "stream",
          "name": "stdout",
          "text": [
            "+-----+-------+-----+\n",
            "| nama|jurusan|nilai|\n",
            "+-----+-------+-----+\n",
            "|Windy| Fisika|  200|\n",
            "| Budi|Biologi|  200|\n",
            "+-----+-------+-----+\n",
            "\n"
          ]
        }
      ]
    },
    {
      "cell_type": "markdown",
      "source": [
        "untuk filtering dengan beberapa kondisi:"
      ],
      "metadata": {
        "id": "9X0s9xMksIsW"
      }
    },
    {
      "cell_type": "code",
      "source": [
        "df.where((df.nilai > 150) &\n",
        "          (df.jurusan == 'Fisika')).show()"
      ],
      "metadata": {
        "colab": {
          "base_uri": "https://localhost:8080/"
        },
        "id": "EzcP6wrrK6hB",
        "outputId": "39a51102-a742-4a9f-f501-bc0d92ce3ef6"
      },
      "execution_count": null,
      "outputs": [
        {
          "output_type": "stream",
          "name": "stdout",
          "text": [
            "+-----+-------+-----+\n",
            "| nama|jurusan|nilai|\n",
            "+-----+-------+-----+\n",
            "|Windy| Fisika|  200|\n",
            "+-----+-------+-----+\n",
            "\n"
          ]
        }
      ]
    },
    {
      "cell_type": "markdown",
      "source": [
        "filtering dengan fungsi komparasi string:"
      ],
      "metadata": {
        "id": "zJU1JA9esJat"
      }
    },
    {
      "cell_type": "code",
      "source": [
        "df.where(df.nama.contains('in')).show()"
      ],
      "metadata": {
        "colab": {
          "base_uri": "https://localhost:8080/"
        },
        "id": "ZTRFYqHTq1ot",
        "outputId": "f0f84301-bc8a-4f2c-e761-480bc68968c9"
      },
      "execution_count": null,
      "outputs": [
        {
          "output_type": "stream",
          "name": "stdout",
          "text": [
            "+-----+-------+-----+\n",
            "| nama|jurusan|nilai|\n",
            "+-----+-------+-----+\n",
            "|Windy| Fisika|  200|\n",
            "| Dina| Fisika|  150|\n",
            "+-----+-------+-----+\n",
            "\n"
          ]
        }
      ]
    },
    {
      "cell_type": "markdown",
      "source": [
        "##Mengakses kolom DataFrame dengan `df[“nama kolom”]` atau fungsi `col()`"
      ],
      "metadata": {
        "id": "11scFArcKfbJ"
      }
    },
    {
      "cell_type": "markdown",
      "source": [
        "Pada contoh-contoh di atas kita mengacu atau mengakses kolom DataFrame dengan menggunakan titik, yaitu dengan sintaks df.nilai.\n",
        "\n",
        "Hal ini hanya dapat dilakukan jika nama kolom tidak mengandung spasi. Jika nama kolom mengandung spasi, misalnya “nilai total”, maka kita dapat mengacu kolom tersebut dengan menggunakan kurung siku, dalam hal ini `df[“nilai total”]`"
      ],
      "metadata": {
        "id": "hvbkqtcysNen"
      }
    },
    {
      "cell_type": "code",
      "source": [
        "kolom_1 = ['nama','jurusan','nilai total']\n",
        "df_1 = spark.createDataFrame(data,kolom_1)\n",
        "\n",
        "df_1.filter(df_1['nilai total'] > 150).show()"
      ],
      "metadata": {
        "colab": {
          "base_uri": "https://localhost:8080/"
        },
        "id": "9o7VU_UnHi7Q",
        "outputId": "416887f7-744f-4004-e8b5-132922c83ba3"
      },
      "execution_count": null,
      "outputs": [
        {
          "output_type": "stream",
          "name": "stdout",
          "text": [
            "+-----+-------+-----------+\n",
            "| nama|jurusan|nilai total|\n",
            "+-----+-------+-----------+\n",
            "|Windy| Fisika|        200|\n",
            "| Budi|Biologi|        200|\n",
            "+-----+-------+-----------+\n",
            "\n"
          ]
        }
      ]
    },
    {
      "cell_type": "markdown",
      "source": [
        "Dengan menggunakan sintaks ini, kita dapat mengakses beberapa kolom sekaligus, dengan memberikan parameter berupa list nama-nama kolom"
      ],
      "metadata": {
        "id": "ohmnmTISsQXF"
      }
    },
    {
      "cell_type": "code",
      "source": [
        "df_1[['nama','nilai total']].show()"
      ],
      "metadata": {
        "colab": {
          "base_uri": "https://localhost:8080/"
        },
        "id": "bBQBd3SIN3II",
        "outputId": "12c54c29-ec72-45e1-8ef4-f691297cb361"
      },
      "execution_count": null,
      "outputs": [
        {
          "output_type": "stream",
          "name": "stdout",
          "text": [
            "+-----+-----------+\n",
            "| nama|nilai total|\n",
            "+-----+-----------+\n",
            "| Agus|        100|\n",
            "|Windy|        200|\n",
            "| Budi|        200|\n",
            "| Dina|        150|\n",
            "| Bayu|         50|\n",
            "| Dedi|         50|\n",
            "+-----+-----------+\n",
            "\n"
          ]
        }
      ]
    },
    {
      "cell_type": "markdown",
      "source": [
        "Kita juga dapat mengacu sebuah kolom dengan menggunakan fungsi `pyspark.sql.functions.col` seperti berikut ini"
      ],
      "metadata": {
        "id": "i3IECUPgsU3e"
      }
    },
    {
      "cell_type": "code",
      "source": [
        "df_1.filter(F.col('nilai total') > 150).show()"
      ],
      "metadata": {
        "colab": {
          "base_uri": "https://localhost:8080/"
        },
        "id": "mm085Y7iIria",
        "outputId": "781e94d4-21c8-4e93-b4ed-491b0b6f3f21"
      },
      "execution_count": null,
      "outputs": [
        {
          "output_type": "stream",
          "name": "stdout",
          "text": [
            "+-----+-------+-----------+\n",
            "| nama|jurusan|nilai total|\n",
            "+-----+-------+-----------+\n",
            "|Windy| Fisika|        200|\n",
            "| Budi|Biologi|        200|\n",
            "+-----+-------+-----------+\n",
            "\n"
          ]
        }
      ]
    }
  ]
}
