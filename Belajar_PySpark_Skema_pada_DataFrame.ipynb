{
  "nbformat": 4,
  "nbformat_minor": 0,
  "metadata": {
    "colab": {
      "provenance": [],
      "toc_visible": true
    },
    "kernelspec": {
      "name": "python3",
      "display_name": "Python 3"
    },
    "language_info": {
      "name": "python"
    }
  },
  "cells": [
    {
      "cell_type": "markdown",
      "source": [
        "#Belajar PySpark - Skema pada DataFrame"
      ],
      "metadata": {
        "id": "loueMJbfjlZq"
      }
    },
    {
      "cell_type": "markdown",
      "source": [
        "..."
      ],
      "metadata": {
        "id": "8fBObxkEIMTP"
      }
    },
    {
      "cell_type": "code",
      "execution_count": 2,
      "metadata": {
        "colab": {
          "base_uri": "https://localhost:8080/"
        },
        "id": "3YsxlynyFZ0N",
        "outputId": "97ed5c2b-0fbd-4ca0-c483-a7e728fe92ad"
      },
      "outputs": [
        {
          "output_type": "stream",
          "name": "stdout",
          "text": [
            "Collecting pyspark\n",
            "  Downloading pyspark-3.5.0.tar.gz (316.9 MB)\n",
            "\u001b[2K     \u001b[90m━━━━━━━━━━━━━━━━━━━━━━━━━━━━━━━━━━━━━━━━\u001b[0m \u001b[32m316.9/316.9 MB\u001b[0m \u001b[31m4.5 MB/s\u001b[0m eta \u001b[36m0:00:00\u001b[0m\n",
            "\u001b[?25h  Preparing metadata (setup.py) ... \u001b[?25l\u001b[?25hdone\n",
            "Requirement already satisfied: py4j==0.10.9.7 in /usr/local/lib/python3.10/dist-packages (from pyspark) (0.10.9.7)\n",
            "Building wheels for collected packages: pyspark\n",
            "  Building wheel for pyspark (setup.py) ... \u001b[?25l\u001b[?25hdone\n",
            "  Created wheel for pyspark: filename=pyspark-3.5.0-py2.py3-none-any.whl size=317425344 sha256=86478410b050b956812746eceb7dc38e666dbe95503cb3dc3cdac2848cf0d4d0\n",
            "  Stored in directory: /root/.cache/pip/wheels/41/4e/10/c2cf2467f71c678cfc8a6b9ac9241e5e44a01940da8fbb17fc\n",
            "Successfully built pyspark\n",
            "Installing collected packages: pyspark\n",
            "Successfully installed pyspark-3.5.0\n"
          ]
        }
      ],
      "source": [
        "%pip install pyspark"
      ]
    },
    {
      "cell_type": "code",
      "source": [
        "import pyspark\n",
        "from pyspark.sql import SparkSession\n",
        "from pyspark.sql.types import StructType, StructField, StringType, IntegerType, FloatType"
      ],
      "metadata": {
        "id": "8V4lQvx6HIiO"
      },
      "execution_count": 38,
      "outputs": []
    },
    {
      "cell_type": "code",
      "source": [
        "spark = SparkSession.builder.appName(\"Belajar PySpark - Skema DataFrame\").getOrCreate()"
      ],
      "metadata": {
        "id": "97aBSg6dGu9V"
      },
      "execution_count": 4,
      "outputs": []
    },
    {
      "cell_type": "markdown",
      "source": [
        "##Infer skema dari data"
      ],
      "metadata": {
        "id": "a2HLRhTwLXfy"
      }
    },
    {
      "cell_type": "markdown",
      "source": [
        "###Infer dari data eksternal"
      ],
      "metadata": {
        "id": "FxQSA-xINu-4"
      }
    },
    {
      "cell_type": "code",
      "source": [
        "!wget https://raw.githubusercontent.com/urfie/Seri-Belajar-PySpark/main/dataset/mhs_header.csv"
      ],
      "metadata": {
        "colab": {
          "base_uri": "https://localhost:8080/"
        },
        "outputId": "c41e0254-91bc-4e62-dcf7-78c819303f98",
        "id": "zXopGhotLaS-"
      },
      "execution_count": 58,
      "outputs": [
        {
          "output_type": "stream",
          "name": "stdout",
          "text": [
            "--2023-10-26 13:30:16--  https://raw.githubusercontent.com/urfie/Seri-Belajar-PySpark/main/dataset/mhs_header.csv\n",
            "Resolving raw.githubusercontent.com (raw.githubusercontent.com)... 185.199.108.133, 185.199.109.133, 185.199.110.133, ...\n",
            "Connecting to raw.githubusercontent.com (raw.githubusercontent.com)|185.199.108.133|:443... connected.\n",
            "HTTP request sent, awaiting response... 200 OK\n",
            "Length: 152 [text/plain]\n",
            "Saving to: ‘mhs_header.csv’\n",
            "\n",
            "\rmhs_header.csv        0%[                    ]       0  --.-KB/s               \rmhs_header.csv      100%[===================>]     152  --.-KB/s    in 0s      \n",
            "\n",
            "2023-10-26 13:30:16 (8.07 MB/s) - ‘mhs_header.csv’ saved [152/152]\n",
            "\n"
          ]
        }
      ]
    },
    {
      "cell_type": "code",
      "source": [
        "data = [['Agus','F',100,150,150],\n",
        "        ['Budi','B',200,100,150],\n",
        "        ['Dina','F',150,150,130],\n",
        "        ['Dedi','B', 50,100,100]]\n",
        "\n",
        "df = spark.createDataFrame(data)\n",
        "df.show()\n",
        "df.printSchema()"
      ],
      "metadata": {
        "colab": {
          "base_uri": "https://localhost:8080/"
        },
        "id": "fT9ikZrmLpjO",
        "outputId": "56806f81-1914-4833-f08c-e8ec3ada71af"
      },
      "execution_count": 64,
      "outputs": [
        {
          "output_type": "stream",
          "name": "stdout",
          "text": [
            "+----+---+---+---+---+\n",
            "|  _1| _2| _3| _4| _5|\n",
            "+----+---+---+---+---+\n",
            "|Agus|  F|100|150|150|\n",
            "|Budi|  B|200|100|150|\n",
            "|Dina|  F|150|150|130|\n",
            "|Dedi|  B| 50|100|100|\n",
            "+----+---+---+---+---+\n",
            "\n",
            "root\n",
            " |-- _1: string (nullable = true)\n",
            " |-- _2: string (nullable = true)\n",
            " |-- _3: long (nullable = true)\n",
            " |-- _4: long (nullable = true)\n",
            " |-- _5: long (nullable = true)\n",
            "\n"
          ]
        }
      ]
    },
    {
      "cell_type": "markdown",
      "source": [
        "###Infer dari object python"
      ],
      "metadata": {
        "id": "1Dw5LZ_WNx76"
      }
    },
    {
      "cell_type": "code",
      "source": [
        "df_infer = spark.read.csv(\"mhs_header.csv\", header=True, inferSchema=True)\n",
        "df_infer.printSchema()\n",
        "df_infer.show()"
      ],
      "metadata": {
        "colab": {
          "base_uri": "https://localhost:8080/"
        },
        "outputId": "0c5967c7-6c8c-4e44-f76a-7352c0f2bc79",
        "id": "oatmHqSaLaTA"
      },
      "execution_count": 59,
      "outputs": [
        {
          "output_type": "stream",
          "name": "stdout",
          "text": [
            "root\n",
            " |-- nama: string (nullable = true)\n",
            " |-- kode_jurusan: string (nullable = true)\n",
            " |-- nilai1: integer (nullable = true)\n",
            " |-- nilai2: integer (nullable = true)\n",
            " |-- nilai3: integer (nullable = true)\n",
            "\n",
            "+-----+------------+------+------+------+\n",
            "| nama|kode_jurusan|nilai1|nilai2|nilai3|\n",
            "+-----+------------+------+------+------+\n",
            "| Agus|           F|   100|   150|   150|\n",
            "|Windy|           F|   200|   150|   180|\n",
            "| Budi|           B|   200|   100|   150|\n",
            "| Dina|           F|   150|   150|   130|\n",
            "| Bayu|           F|    50|   150|   100|\n",
            "| Dedi|           B|    50|   100|   100|\n",
            "+-----+------------+------+------+------+\n",
            "\n"
          ]
        }
      ]
    },
    {
      "cell_type": "markdown",
      "source": [
        "##Mendefinisikan Skema secara programatikal menggunakan `StructType`"
      ],
      "metadata": {
        "id": "Z-mNkckvLd7J"
      }
    },
    {
      "cell_type": "code",
      "source": [
        "data = [['Agus','F',100,150,150],\n",
        "        ['Budi','B',200,100,150],\n",
        "        ['Dina','F',150,150,130],\n",
        "        ['Dedi','B', 50,100,100]]\n",
        "\n",
        "mySchema = StructType([ \\\n",
        "                       StructField('nama', StringType(), True), \\\n",
        "                        StructField('kode_jurusan', StringType(), True), \\\n",
        "                        StructField('nilai1', IntegerType(), True), \\\n",
        "                        StructField('nilai2', IntegerType(), True), \\\n",
        "                        StructField('nilai3', IntegerType(), True) \\\n",
        "                        ])\n",
        "\n",
        "df = spark.createDataFrame(data,mySchema)\n",
        "df.show()\n",
        "df.printSchema()"
      ],
      "metadata": {
        "colab": {
          "base_uri": "https://localhost:8080/"
        },
        "id": "Po40Zh38__hM",
        "outputId": "7fefba25-e314-4cc6-de17-65034d3f90a0"
      },
      "execution_count": 5,
      "outputs": [
        {
          "output_type": "stream",
          "name": "stdout",
          "text": [
            "+----+------------+------+------+------+\n",
            "|nama|kode_jurusan|nilai1|nilai2|nilai3|\n",
            "+----+------------+------+------+------+\n",
            "|Agus|           F|   100|   150|   150|\n",
            "|Budi|           B|   200|   100|   150|\n",
            "|Dina|           F|   150|   150|   130|\n",
            "|Dedi|           B|    50|   100|   100|\n",
            "+----+------------+------+------+------+\n",
            "\n",
            "root\n",
            " |-- nama: string (nullable = true)\n",
            " |-- kode_jurusan: string (nullable = true)\n",
            " |-- nilai1: integer (nullable = true)\n",
            " |-- nilai2: integer (nullable = true)\n",
            " |-- nilai3: integer (nullable = true)\n",
            "\n"
          ]
        }
      ]
    },
    {
      "cell_type": "markdown",
      "source": [
        "###Menggunakan skema untuk membaca file csv tanpa header"
      ],
      "metadata": {
        "id": "HJatN75jLN4r"
      }
    },
    {
      "cell_type": "code",
      "source": [
        "!wget https://raw.githubusercontent.com/urfie/Seri-Belajar-PySpark/main/dataset/mhs.csv"
      ],
      "metadata": {
        "colab": {
          "base_uri": "https://localhost:8080/"
        },
        "outputId": "6726befc-e5ad-49d0-f7e7-c3dc85d9afb2",
        "id": "-p5BiAADK3Vv"
      },
      "execution_count": 55,
      "outputs": [
        {
          "output_type": "stream",
          "name": "stdout",
          "text": [
            "--2023-10-26 13:28:41--  https://raw.githubusercontent.com/urfie/Seri-Belajar-PySpark/main/dataset/mhs.csv\n",
            "Resolving raw.githubusercontent.com (raw.githubusercontent.com)... 185.199.108.133, 185.199.109.133, 185.199.110.133, ...\n",
            "Connecting to raw.githubusercontent.com (raw.githubusercontent.com)|185.199.108.133|:443... connected.\n",
            "HTTP request sent, awaiting response... 200 OK\n",
            "Length: 113 [text/plain]\n",
            "Saving to: ‘mhs.csv’\n",
            "\n",
            "\rmhs.csv               0%[                    ]       0  --.-KB/s               \rmhs.csv             100%[===================>]     113  --.-KB/s    in 0s      \n",
            "\n",
            "2023-10-26 13:28:41 (2.38 MB/s) - ‘mhs.csv’ saved [113/113]\n",
            "\n"
          ]
        }
      ]
    },
    {
      "cell_type": "markdown",
      "source": [
        "File csv tanpa header"
      ],
      "metadata": {
        "id": "SvLzi7yQK3Vx"
      }
    },
    {
      "cell_type": "code",
      "source": [
        "!cat mhs.csv"
      ],
      "metadata": {
        "colab": {
          "base_uri": "https://localhost:8080/"
        },
        "outputId": "fca9dc3f-168a-4e72-df6d-e24807241cb5",
        "id": "MEq_LQ1eK3Vx"
      },
      "execution_count": 56,
      "outputs": [
        {
          "output_type": "stream",
          "name": "stdout",
          "text": [
            "Agus,F,100,150,150\n",
            "Windy,F,200,150,180\n",
            "Budi,B,200,100,150\n",
            "Dina,F,150,150,130\n",
            "Bayu,F,50,150,100\n",
            "Dedi,B,50,100,100\n"
          ]
        }
      ]
    },
    {
      "cell_type": "code",
      "source": [
        "df = spark.read.csv(\"mhs.csv\", schema=mySchema)\n",
        "df.printSchema()\n",
        "df.show()"
      ],
      "metadata": {
        "colab": {
          "base_uri": "https://localhost:8080/"
        },
        "outputId": "792d1110-af02-47d5-b880-fc1dac6294e2",
        "id": "4h43OV8ZK3Vy"
      },
      "execution_count": 57,
      "outputs": [
        {
          "output_type": "stream",
          "name": "stdout",
          "text": [
            "root\n",
            " |-- nama: string (nullable = true)\n",
            " |-- kode_jurusan: string (nullable = true)\n",
            " |-- nilai1: integer (nullable = true)\n",
            " |-- nilai2: integer (nullable = true)\n",
            " |-- nilai3: integer (nullable = true)\n",
            "\n",
            "+-----+------------+------+------+------+\n",
            "| nama|kode_jurusan|nilai1|nilai2|nilai3|\n",
            "+-----+------------+------+------+------+\n",
            "| Agus|           F|   100|   150|   150|\n",
            "|Windy|           F|   200|   150|   180|\n",
            "| Budi|           B|   200|   100|   150|\n",
            "| Dina|           F|   150|   150|   130|\n",
            "| Bayu|           F|    50|   150|   100|\n",
            "| Dedi|           B|    50|   100|   100|\n",
            "+-----+------------+------+------+------+\n",
            "\n"
          ]
        }
      ]
    },
    {
      "cell_type": "code",
      "source": [
        "df.schema"
      ],
      "metadata": {
        "colab": {
          "base_uri": "https://localhost:8080/"
        },
        "id": "BvbcrdYfc9oh",
        "outputId": "0de8ab7e-ec81-4ccd-97aa-11224b2c1598"
      },
      "execution_count": 45,
      "outputs": [
        {
          "output_type": "execute_result",
          "data": {
            "text/plain": [
              "StructType([StructField('nama', StringType(), True), StructField('kode_jurusan', StringType(), True), StructField('nilai1', IntegerType(), True), StructField('nilai2', IntegerType(), True), StructField('nilai3', IntegerType(), True)])"
            ]
          },
          "metadata": {},
          "execution_count": 45
        }
      ]
    },
    {
      "cell_type": "markdown",
      "source": [
        "##Create Skema dari DDL String"
      ],
      "metadata": {
        "id": "rCswtfa5Kzrt"
      }
    },
    {
      "cell_type": "code",
      "source": [
        "data = [['Agus','F',100,150,150],\n",
        "        ['Budi','B',200,100,150],\n",
        "        ['Dina','F',150,150,130],\n",
        "        ['Dedi','B',200,100,100]]\n",
        "\n",
        "ddlString = \"nama STRING, kode_jurusan STRING, \\\n",
        "              nilai1 INT, nilai2 INT, nilai3 INT\"\n",
        "\n",
        "df = spark.createDataFrame(data,ddlString)\n",
        "df.show()\n",
        "df.printSchema()"
      ],
      "metadata": {
        "colab": {
          "base_uri": "https://localhost:8080/"
        },
        "id": "0XVAlEWpdCus",
        "outputId": "0d606edd-6e9c-4843-cc52-452b0f6d833d"
      },
      "execution_count": 48,
      "outputs": [
        {
          "output_type": "stream",
          "name": "stdout",
          "text": [
            "+----+------------+------+------+------+\n",
            "|nama|kode_jurusan|nilai1|nilai2|nilai3|\n",
            "+----+------------+------+------+------+\n",
            "|Agus|           F|   100|   150|   150|\n",
            "|Budi|           B|   200|   100|   150|\n",
            "|Dina|           F|   150|   150|   130|\n",
            "|Dedi|           B|   200|   100|   100|\n",
            "+----+------------+------+------+------+\n",
            "\n",
            "root\n",
            " |-- nama: string (nullable = true)\n",
            " |-- kode_jurusan: string (nullable = true)\n",
            " |-- nilai1: integer (nullable = true)\n",
            " |-- nilai2: integer (nullable = true)\n",
            " |-- nilai3: integer (nullable = true)\n",
            "\n"
          ]
        }
      ]
    },
    {
      "cell_type": "code",
      "source": [
        "df.schema"
      ],
      "metadata": {
        "colab": {
          "base_uri": "https://localhost:8080/"
        },
        "id": "w0LUtmX1dHHy",
        "outputId": "a6abb021-be31-44d5-f657-52a26a4e40c0"
      },
      "execution_count": 8,
      "outputs": [
        {
          "output_type": "execute_result",
          "data": {
            "text/plain": [
              "StructType([StructField('nama', StringType(), True), StructField('kode_jurusan', StringType(), True), StructField('nilai1', IntegerType(), True), StructField('nilai2', IntegerType(), True), StructField('nilai3', IntegerType(), True)])"
            ]
          },
          "metadata": {},
          "execution_count": 8
        }
      ]
    },
    {
      "cell_type": "markdown",
      "source": [
        "##Update skema dengan withcolumn"
      ],
      "metadata": {
        "id": "DmqVx6F1h-Du"
      }
    },
    {
      "cell_type": "code",
      "source": [
        "df_fl = df.withColumn(\"nilai1\", df[\"nilai1\"].cast(DecimalType()))\n",
        "df_fl.printSchema()"
      ],
      "metadata": {
        "colab": {
          "base_uri": "https://localhost:8080/"
        },
        "id": "cLzKxeLFhJHj",
        "outputId": "583bdc2a-2de5-4c9a-89f0-951d34bf0136"
      },
      "execution_count": 9,
      "outputs": [
        {
          "output_type": "stream",
          "name": "stdout",
          "text": [
            "root\n",
            " |-- nama: string (nullable = true)\n",
            " |-- kode_jurusan: string (nullable = true)\n",
            " |-- nilai1: decimal(10,0) (nullable = true)\n",
            " |-- nilai2: integer (nullable = true)\n",
            " |-- nilai3: integer (nullable = true)\n",
            "\n"
          ]
        }
      ]
    },
    {
      "cell_type": "code",
      "source": [
        "df_fl = df.withColumns({\"nilai1\": df[\"nilai1\"].cast(FloatType()),\n",
        "                \"nilai2\": df[\"nilai2\"].cast(FloatType()),\n",
        "                \"nilai3\": df[\"nilai3\"].cast(FloatType())})\n",
        "df_fl.printSchema()"
      ],
      "metadata": {
        "colab": {
          "base_uri": "https://localhost:8080/"
        },
        "id": "-AGhejiBdHPn",
        "outputId": "fb15dfdb-6515-44b0-9d88-889aa37e4e3d"
      },
      "execution_count": 39,
      "outputs": [
        {
          "output_type": "stream",
          "name": "stdout",
          "text": [
            "root\n",
            " |-- nama: string (nullable = true)\n",
            " |-- kode_jurusan: string (nullable = true)\n",
            " |-- nilai1: float (nullable = true)\n",
            " |-- nilai2: float (nullable = true)\n",
            " |-- nilai3: float (nullable = true)\n",
            "\n"
          ]
        }
      ]
    },
    {
      "cell_type": "markdown",
      "source": [
        "##Menggunakan File JSON Untuk menyimpan dan membaca skema"
      ],
      "metadata": {
        "id": "icaYRlxYOPr4"
      }
    },
    {
      "cell_type": "markdown",
      "source": [
        "###Generate JSON string"
      ],
      "metadata": {
        "id": "qqwf1kezB4BH"
      }
    },
    {
      "cell_type": "code",
      "source": [
        "json_string = df.schema.json()\n",
        "print(json_string)"
      ],
      "metadata": {
        "colab": {
          "base_uri": "https://localhost:8080/"
        },
        "id": "O7MtzZXOdHSm",
        "outputId": "631286ca-c9e0-49c8-d530-27901642a7f4"
      },
      "execution_count": 40,
      "outputs": [
        {
          "output_type": "stream",
          "name": "stdout",
          "text": [
            "{\"fields\":[{\"metadata\":{},\"name\":\"nama\",\"nullable\":true,\"type\":\"string\"},{\"metadata\":{},\"name\":\"kode_jurusan\",\"nullable\":true,\"type\":\"string\"},{\"metadata\":{},\"name\":\"nilai1\",\"nullable\":true,\"type\":\"integer\"},{\"metadata\":{},\"name\":\"nilai2\",\"nullable\":true,\"type\":\"integer\"},{\"metadata\":{},\"name\":\"nilai3\",\"nullable\":true,\"type\":\"integer\"}],\"type\":\"struct\"}\n"
          ]
        }
      ]
    },
    {
      "cell_type": "markdown",
      "source": [
        "###Write to file"
      ],
      "metadata": {
        "id": "AMLhnb2SB1P2"
      }
    },
    {
      "cell_type": "code",
      "source": [
        "text_file = open(\"schema.json\", \"w\")\n",
        "text_file.write(json_string)\n",
        "text_file.close()"
      ],
      "metadata": {
        "id": "VXJSU0qadHVm"
      },
      "execution_count": 41,
      "outputs": []
    },
    {
      "cell_type": "markdown",
      "source": [
        "###Read JSON file"
      ],
      "metadata": {
        "id": "VvL8j1XeB-jw"
      }
    },
    {
      "cell_type": "code",
      "source": [
        "import json\n",
        "\n",
        "f = open(\"schema.json\")\n",
        "json_dict = json.load(f)\n",
        "f.close()\n",
        "\n",
        "json_dict"
      ],
      "metadata": {
        "colab": {
          "base_uri": "https://localhost:8080/"
        },
        "id": "xjkYsPy9dHX7",
        "outputId": "5b39a9e2-d0ee-42b5-ae8c-bb0f79897f4b"
      },
      "execution_count": 53,
      "outputs": [
        {
          "output_type": "execute_result",
          "data": {
            "text/plain": [
              "{'fields': [{'metadata': {},\n",
              "   'name': 'nama',\n",
              "   'nullable': True,\n",
              "   'type': 'string'},\n",
              "  {'metadata': {}, 'name': 'kode_jurusan', 'nullable': True, 'type': 'string'},\n",
              "  {'metadata': {}, 'name': 'nilai1', 'nullable': True, 'type': 'integer'},\n",
              "  {'metadata': {}, 'name': 'nilai2', 'nullable': True, 'type': 'integer'},\n",
              "  {'metadata': {}, 'name': 'nilai3', 'nullable': True, 'type': 'integer'}],\n",
              " 'type': 'struct'}"
            ]
          },
          "metadata": {},
          "execution_count": 53
        }
      ]
    },
    {
      "cell_type": "markdown",
      "source": [
        "###Menggunakan JSON  Schema untuk definisi Skema DataFrame"
      ],
      "metadata": {
        "id": "ED5j4iqREV22"
      }
    },
    {
      "cell_type": "code",
      "source": [
        "data = [['Agus','F',100,150,150],\n",
        "        ['Budi','B',200,100,150],\n",
        "        ['Dina','F',150,150,130],\n",
        "        ['Dedi','B',200,100,100]]\n",
        "\n",
        "schemaFromJson = StructType.fromJson(json_dict)\n",
        "\n",
        "df3 = spark.createDataFrame(data, schemaFromJson)\n",
        "df3.show()\n",
        "df3.printSchema()"
      ],
      "metadata": {
        "colab": {
          "base_uri": "https://localhost:8080/"
        },
        "id": "x7VjijXNDd6C",
        "outputId": "86ac3a8e-9669-4e8b-f3df-36e737c5746e"
      },
      "execution_count": 51,
      "outputs": [
        {
          "output_type": "stream",
          "name": "stdout",
          "text": [
            "+----+------------+------+------+------+\n",
            "|nama|kode_jurusan|nilai1|nilai2|nilai3|\n",
            "+----+------------+------+------+------+\n",
            "|Agus|           F|   100|   150|   150|\n",
            "|Budi|           B|   200|   100|   150|\n",
            "|Dina|           F|   150|   150|   130|\n",
            "|Dedi|           B|   200|   100|   100|\n",
            "+----+------------+------+------+------+\n",
            "\n",
            "root\n",
            " |-- nama: string (nullable = true)\n",
            " |-- kode_jurusan: string (nullable = true)\n",
            " |-- nilai1: integer (nullable = true)\n",
            " |-- nilai2: integer (nullable = true)\n",
            " |-- nilai3: integer (nullable = true)\n",
            "\n"
          ]
        }
      ]
    }
  ]
}