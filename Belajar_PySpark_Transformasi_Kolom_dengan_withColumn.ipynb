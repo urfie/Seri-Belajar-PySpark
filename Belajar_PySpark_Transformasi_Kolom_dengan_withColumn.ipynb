{
  "nbformat": 4,
  "nbformat_minor": 0,
  "metadata": {
    "colab": {
      "provenance": [],
      "toc_visible": true
    },
    "kernelspec": {
      "name": "python3",
      "display_name": "Python 3"
    },
    "language_info": {
      "name": "python"
    }
  },
  "cells": [
    {
      "cell_type": "markdown",
      "source": [
        "#Belajar PySpark - Transformasi DataFrame dengan withColumn"
        "\n"
        "Fungsi “withColumn” di PySpark digunakan untuk menambahkan, mengubah, atau memperbarui kolom sebuah DataFrame. Fungsi withColumn termasuk fungsi transformasi DataFrame, artinya ia mengembalikan DataFrame baru dengan operasi perubahan yang sesuai, tanpa mengubah DataFrame aslinya.\n",
        "\n",
        "Fungsi “withColumn” digunakan ketika kita perlu melakukan operasi berbasis kolom seperti mengganti nama kolom, mengubah tipe data, mengubah nilai sebuah kolom, atau menambahkan kolom baru berdasarkan kolom yang sudah ada.\n"
      ],
      "metadata": {
        "id": "8fBObxkEIMTP"
      }
    },
    {
      "cell_type": "code",
      "execution_count": null,
      "metadata": {
        "colab": {
          "base_uri": "https://localhost:8080/"
        },
        "id": "3YsxlynyFZ0N",
        "outputId": "0bc0ee49-5cbb-4890-9ea3-a358f953d9c1"
      },
      "outputs": [
        {
          "output_type": "stream",
          "name": "stdout",
          "text": [
            "Collecting pyspark\n",
            "  Downloading pyspark-3.4.1.tar.gz (310.8 MB)\n",
            "\u001b[2K     \u001b[90m━━━━━━━━━━━━━━━━━━━━━━━━━━━━━━━━━━━━━━━\u001b[0m \u001b[32m310.8/310.8 MB\u001b[0m \u001b[31m1.9 MB/s\u001b[0m eta \u001b[36m0:00:00\u001b[0m\n",
            "\u001b[?25h  Preparing metadata (setup.py) ... \u001b[?25l\u001b[?25hdone\n",
            "Requirement already satisfied: py4j==0.10.9.7 in /usr/local/lib/python3.10/dist-packages (from pyspark) (0.10.9.7)\n",
            "Building wheels for collected packages: pyspark\n",
            "  Building wheel for pyspark (setup.py) ... \u001b[?25l\u001b[?25hdone\n",
            "  Created wheel for pyspark: filename=pyspark-3.4.1-py2.py3-none-any.whl size=311285398 sha256=d9c784b0c9e4a8c0391b58ff1a18d3d84d70f7ee77c493a87646275e2fbd32a5\n",
            "  Stored in directory: /root/.cache/pip/wheels/0d/77/a3/ff2f74cc9ab41f8f594dabf0579c2a7c6de920d584206e0834\n",
            "Successfully built pyspark\n",
            "Installing collected packages: pyspark\n",
            "Successfully installed pyspark-3.4.1\n"
          ]
        }
      ],
      "source": [
        "%pip install pyspark"
      ]
    },
    {
      "cell_type": "code",
      "source": [
        "from pyspark.sql import SparkSession\n",
        "import pyspark.sql.functions as F\n"
      ],
      "metadata": {
        "id": "8V4lQvx6HIiO"
      },
      "execution_count": null,
      "outputs": []
    },
    {
      "cell_type": "code",
      "source": [
        "spark = SparkSession.builder.appName('Belajar PySpark - withColumn').getOrCreate()"
      ],
      "metadata": {
        "id": "97aBSg6dGu9V"
      },
      "execution_count": null,
      "outputs": []
    },
    {
      "cell_type": "markdown",
      "source": [
        "Sebelumnya kita buat DataFrame dari sebuah python list, lalu kita akan lakukan transformasi terhadap DataFrame tersebut.\n"
      ],
      "metadata": {
        "id": "ySN3f0_wIPTe"
      }
    },
    {
      "cell_type": "code",
      "source": [
        "data = [['Agus','Fisika',100],['Windy','Fisika',200],\n",
        "        ['Budi','Biologi',200],['Dina','Fisika',150],\n",
        "        ['Bayu','Fisika',50],['Dedi','Biologi',50]]\n",
        "\n",
        "kolom = ['nama','jurusan','nilai']\n",
        "\n",
        "df = spark.createDataFrame(data,kolom)\n",
        "\n",
        "df.show()"
      ],
      "metadata": {
        "colab": {
          "base_uri": "https://localhost:8080/"
        },
        "id": "KUXGwHVdFfB2",
        "outputId": "761ef38b-3ff5-4d38-9846-833c7f4fc747"
      },
      "execution_count": null,
      "outputs": [
        {
          "output_type": "stream",
          "name": "stdout",
          "text": [
            "+-----+-------+-----+\n",
            "| nama|jurusan|nilai|\n",
            "+-----+-------+-----+\n",
            "| Agus| Fisika|  100|\n",
            "|Windy| Fisika|  200|\n",
            "| Budi|Biologi|  200|\n",
            "| Dina| Fisika|  150|\n",
            "| Bayu| Fisika|   50|\n",
            "| Dedi|Biologi|   50|\n",
            "+-----+-------+-----+\n",
            "\n"
          ]
        }
      ]
    },
    {
      "cell_type": "markdown",
      "source": [
        "##Update nilai sebuah kolom"
      ],
      "metadata": {
        "id": "PqCdth9rR0Po"
      }
    },
    {
      "cell_type": "markdown",
      "source": [
        "Untuk mengubah/update nilai sebuah kolom, kirim nama kolom yang akan diupdate sebagai parameter pertama : df.withColumn(namakolom, nilai baru)\n",
        "\n",
        "Perlu diingat bahwa operasi transformasi tidak mengubah DataFrame asli, sehingga untuk dapat menangkap perubahan yang dilakukan, hasil transformasi tersebut harus disimpan ke dalam sebuah variabel."
      ],
      "metadata": {
        "id": "obZIRqJ7ISRV"
      }
    },
    {
      "cell_type": "code",
      "source": [
        "df_updated = df.withColumn('nilai', col('nilai') + 100)\n",
        "df_updated.show()\n",
        "df.show()"
      ],
      "metadata": {
        "colab": {
          "base_uri": "https://localhost:8080/"
        },
        "id": "qDU1QreAR3RF",
        "outputId": "0948ef7b-8b56-412a-e4c2-3940da4acebd"
      },
      "execution_count": null,
      "outputs": [
        {
          "output_type": "stream",
          "name": "stdout",
          "text": [
            "+-----+-------+-----+\n",
            "| nama|jurusan|nilai|\n",
            "+-----+-------+-----+\n",
            "| Agus| Fisika|  200|\n",
            "|Windy| Fisika|  300|\n",
            "| Budi|Biologi|  300|\n",
            "| Dina| Fisika|  250|\n",
            "| Bayu| Fisika|  150|\n",
            "| Dedi|Biologi|  150|\n",
            "+-----+-------+-----+\n",
            "\n",
            "+-----+-------+-----+\n",
            "| nama|jurusan|nilai|\n",
            "+-----+-------+-----+\n",
            "| Agus| Fisika|  100|\n",
            "|Windy| Fisika|  200|\n",
            "| Budi|Biologi|  200|\n",
            "| Dina| Fisika|  150|\n",
            "| Bayu| Fisika|   50|\n",
            "| Dedi|Biologi|   50|\n",
            "+-----+-------+-----+\n",
            "\n"
          ]
        }
      ]
    },
    {
      "cell_type": "markdown",
      "source": [
        "####Update kolom dengan nilai konstan"
      ],
      "metadata": {
        "id": "7bKGjEhXzFmk"
      }
    },
    {
      "cell_type": "markdown",
      "source": [
        "Untuk mengubah nilai sebuah kolom ke dalam sebuah nilai tertentu, kita tidak dapat melakukan assignment begitu saja. Nilai tersebut perlu kita ‘bungkus’ dengan fungsi `pyspark.sql.function.lit()`, untuk menghasilkan sebuah objek literal.\n"
      ],
      "metadata": {
        "id": "Rn5q3gwsIX6G"
      }
    },
    {
      "cell_type": "code",
      "source": [
        "df.withColumn('nilai', F.lit(100)).show()"
      ],
      "metadata": {
        "colab": {
          "base_uri": "https://localhost:8080/"
        },
        "id": "EqaS2WQGszHh",
        "outputId": "6621142f-d11b-4f96-e684-367981aaa513"
      },
      "execution_count": null,
      "outputs": [
        {
          "output_type": "stream",
          "name": "stdout",
          "text": [
            "+-----+-------+-----+\n",
            "| nama|jurusan|nilai|\n",
            "+-----+-------+-----+\n",
            "| Agus| Fisika|  100|\n",
            "|Windy| Fisika|  100|\n",
            "| Budi|Biologi|  100|\n",
            "| Dina| Fisika|  100|\n",
            "| Bayu| Fisika|  100|\n",
            "| Dedi|Biologi|  100|\n",
            "+-----+-------+-----+\n",
            "\n"
          ]
        }
      ]
    },
    {
      "cell_type": "markdown",
      "source": [
        "###Update Beberapa kolom sekaligus"
      ],
      "metadata": {
        "id": "dx79qeXVzMIs"
      }
    },
    {
      "cell_type": "markdown",
      "source": [
        "Pyspark menyediakan fungsi DataFrame.withColumns()untuk mengubah nilai beberapa kolom sekaligus. Fungsi ini menerima parameter bertipe python dictionary. Python dictionary adalah objek python yang menyimpan data berupa pasangan-pasangan `key:value`.\n",
        "\n",
        "Dictionary yang menjadi parameter fungsi withColumns() adalah pasangan nama kolom yang akan diupdate dan nilai barunya :\n",
        "\n",
        "> `{namakolom1:nilaibaru1, namakolom2:nilaibaru2, …dan seterusnya}`\n",
        "\n",
        "\n",
        "\n"
      ],
      "metadata": {
        "id": "2j74ILfPIdHI"
      }
    },
    {
      "cell_type": "code",
      "source": [
        "df.withColumns(\n",
        "    {'nilai': F.col('nilai')+100, 'jurusan': F.lit('Umum')}\n",
        "    ).show()"
      ],
      "metadata": {
        "colab": {
          "base_uri": "https://localhost:8080/"
        },
        "id": "OTctuTlRzPAW",
        "outputId": "213dad13-48bd-49c2-833f-a5a4773d8865"
      },
      "execution_count": null,
      "outputs": [
        {
          "output_type": "stream",
          "name": "stdout",
          "text": [
            "+-----+-------+-----+\n",
            "| nama|jurusan|nilai|\n",
            "+-----+-------+-----+\n",
            "| Agus|   Umum|  200|\n",
            "|Windy|   Umum|  300|\n",
            "| Budi|   Umum|  300|\n",
            "| Dina|   Umum|  250|\n",
            "| Bayu|   Umum|  150|\n",
            "| Dedi|   Umum|  150|\n",
            "+-----+-------+-----+\n",
            "\n"
          ]
        }
      ]
    },
    {
      "cell_type": "markdown",
      "source": [
        "##Menambahkan Kolom Baru"
      ],
      "metadata": {
        "id": "_78u56S785fV"
      }
    },
    {
      "cell_type": "markdown",
      "source": [
        "###Menambah satu kolom baru"
      ],
      "metadata": {
        "id": "fE2yJJaMQ-7R"
      }
    },
    {
      "cell_type": "markdown",
      "source": [
        "Cara menambahkan kolom baru mirip dengan update nilai kolom. Bedanya adalah parameter pertama diisi dengan nama kolom yang baru."
      ],
      "metadata": {
        "id": "5QT54TIlItCw"
      }
    },
    {
      "cell_type": "code",
      "source": [
        "df.withColumn('nilai_baru', F.col('nilai') + 100).show()"
      ],
      "metadata": {
        "colab": {
          "base_uri": "https://localhost:8080/"
        },
        "id": "KmZBUrmR4ndO",
        "outputId": "c5d4663c-81e6-42f7-b1a6-a0c280d95fa3"
      },
      "execution_count": null,
      "outputs": [
        {
          "output_type": "stream",
          "name": "stdout",
          "text": [
            "+-----+-------+-----+----------+\n",
            "| nama|jurusan|nilai|nilai_baru|\n",
            "+-----+-------+-----+----------+\n",
            "| Agus| Fisika|  100|       200|\n",
            "|Windy| Fisika|  200|       300|\n",
            "| Budi|Biologi|  200|       300|\n",
            "| Dina| Fisika|  150|       250|\n",
            "| Bayu| Fisika|   50|       150|\n",
            "| Dedi|Biologi|   50|       150|\n",
            "+-----+-------+-----+----------+\n",
            "\n"
          ]
        }
      ]
    },
    {
      "cell_type": "code",
      "source": [
        "df1 = df.withColumn('nilai1', F.lit(100))\n",
        "df1.show()"
      ],
      "metadata": {
        "colab": {
          "base_uri": "https://localhost:8080/"
        },
        "id": "453QcWMZRC46",
        "outputId": "a5023d7c-6b05-4344-ee5a-f5dbc56cb416"
      },
      "execution_count": null,
      "outputs": [
        {
          "output_type": "stream",
          "name": "stdout",
          "text": [
            "+-----+-------+-----+------+\n",
            "| nama|jurusan|nilai|nilai1|\n",
            "+-----+-------+-----+------+\n",
            "| Agus| Fisika|  100|   100|\n",
            "|Windy| Fisika|  200|   100|\n",
            "| Budi|Biologi|  200|   100|\n",
            "| Dina| Fisika|  150|   100|\n",
            "| Bayu| Fisika|   50|   100|\n",
            "| Dedi|Biologi|   50|   100|\n",
            "+-----+-------+-----+------+\n",
            "\n"
          ]
        }
      ]
    },
    {
      "cell_type": "markdown",
      "source": [
        "###Menambah beberapa kolom sekaligus\n"
      ],
      "metadata": {
        "id": "lIzkkRs3RiX-"
      }
    },
    {
      "cell_type": "markdown",
      "source": [
        "Untuk menambahkan beberapa kolom sekaligus, kita gunakan fungsi `withColumns()`\n"
      ],
      "metadata": {
        "id": "M4ugKwVvIwT7"
      }
    },
    {
      "cell_type": "code",
      "source": [
        "df.withColumns(\n",
        "    {'nilai_baru': F.col('nilai')+100,\n",
        "     'jurusan_baru': F.lit('Umum')}\n",
        "    ).show()"
      ],
      "metadata": {
        "colab": {
          "base_uri": "https://localhost:8080/"
        },
        "id": "jklxbmy-6Kb5",
        "outputId": "46b4b0d1-d664-48d2-a97a-7d917217f0e7"
      },
      "execution_count": null,
      "outputs": [
        {
          "output_type": "stream",
          "name": "stdout",
          "text": [
            "+-----+-------+-----+----------+------------+\n",
            "| nama|jurusan|nilai|nilai_baru|jurusan_baru|\n",
            "+-----+-------+-----+----------+------------+\n",
            "| Agus| Fisika|  100|       200|        Umum|\n",
            "|Windy| Fisika|  200|       300|        Umum|\n",
            "| Budi|Biologi|  200|       300|        Umum|\n",
            "| Dina| Fisika|  150|       250|        Umum|\n",
            "| Bayu| Fisika|   50|       150|        Umum|\n",
            "| Dedi|Biologi|   50|       150|        Umum|\n",
            "+-----+-------+-----+----------+------------+\n",
            "\n"
          ]
        }
      ]
    },
    {
      "cell_type": "markdown",
      "source": [
        "##Mengubah Nama Kolom"
      ],
      "metadata": {
        "id": "TLArsNtk9AFp"
      }
    },
    {
      "cell_type": "markdown",
      "source": [
        "###Mengubah Nama Satu Kolom"
      ],
      "metadata": {
        "id": "Q1_uD_puKbEn"
      }
    },
    {
      "cell_type": "markdown",
      "source": [
        "Untuk mengubah nama kolom sebuah DataFrame, kita bisa menggunakan fungsi `withColumn()`, yaitu dengan membuat kolom baru dengan nama baru, lalu menghapus kolom dengan nama lama, menggunakan fungsi `DataFrame.drop(namakolom)`.\n"
      ],
      "metadata": {
        "id": "jssSR1VPPaL9"
      }
    },
    {
      "cell_type": "code",
      "source": [
        "df1 = df.withColumn('nilai_total', col('nilai') + 100)\n",
        "df1 = df1.drop('nilai')\n",
        "df1.show()"
      ],
      "metadata": {
        "colab": {
          "base_uri": "https://localhost:8080/"
        },
        "id": "eeaz9c8-7WIo",
        "outputId": "89198bb7-3a03-476c-e1c0-373b3cceae2c"
      },
      "execution_count": null,
      "outputs": [
        {
          "output_type": "stream",
          "name": "stdout",
          "text": [
            "+-----+-------+-----------+\n",
            "| nama|jurusan|nilai_total|\n",
            "+-----+-------+-----------+\n",
            "| Agus| Fisika|        200|\n",
            "|Windy| Fisika|        300|\n",
            "| Budi|Biologi|        300|\n",
            "| Dina| Fisika|        250|\n",
            "| Bayu| Fisika|        150|\n",
            "| Dedi|Biologi|        150|\n",
            "+-----+-------+-----------+\n",
            "\n"
          ]
        }
      ]
    },
    {
      "cell_type": "markdown",
      "source": [
        "Atau dapat juga dilakukan dengan `withColumnRenamed()`"
      ],
      "metadata": {
        "id": "7H80HRC1QNbg"
      }
    },
    {
      "cell_type": "code",
      "source": [
        "df.withColumnRenamed('nilai', 'nilai_total').show()"
      ],
      "metadata": {
        "colab": {
          "base_uri": "https://localhost:8080/"
        },
        "id": "hiulls7zP9DI",
        "outputId": "b6f20f89-84a4-4dcf-a22b-d3dcd7aec579"
      },
      "execution_count": null,
      "outputs": [
        {
          "output_type": "stream",
          "name": "stdout",
          "text": [
            "+-----+-------+-----------+\n",
            "| nama|jurusan|nilai_total|\n",
            "+-----+-------+-----------+\n",
            "| Agus| Fisika|        100|\n",
            "|Windy| Fisika|        200|\n",
            "| Budi|Biologi|        200|\n",
            "| Dina| Fisika|        150|\n",
            "| Bayu| Fisika|         50|\n",
            "| Dedi|Biologi|         50|\n",
            "+-----+-------+-----------+\n",
            "\n"
          ]
        }
      ]
    },
    {
      "cell_type": "markdown",
      "source": [
        "###Mengubah Nama Beberapa Kolom Sekaligus"
      ],
      "metadata": {
        "id": "82_unCAEQwqD"
      }
    },
    {
      "cell_type": "markdown",
      "source": [
        "Untuk mengubah nama kolom sekaligus, kita bisa membuat beberapa kolom dengan nama baru menggunakan fungsi `withColumns()`, kemudian menghapus kolom-kolom dengan nama lama satu persatu.\n"
      ],
      "metadata": {
        "id": "Zh38LFC8JGfc"
      }
    },
    {
      "cell_type": "code",
      "source": [
        "df1 = df.withColumns(\n",
        "    {'nilai_total':F.col('nilai'), 'asal_jurusan':F.col('jurusan')})\n",
        "df1 = df1.drop('nilai').drop('jurusan')\n",
        "df1.show()"
      ],
      "metadata": {
        "id": "V3VEoIvZQ3NF",
        "colab": {
          "base_uri": "https://localhost:8080/"
        },
        "outputId": "88ad25fd-05a8-4a2c-83dc-9a3a179a3f53"
      },
      "execution_count": null,
      "outputs": [
        {
          "output_type": "stream",
          "name": "stdout",
          "text": [
            "+-----+-----------+------------+\n",
            "| nama|nilai_total|asal_jurusan|\n",
            "+-----+-----------+------------+\n",
            "| Agus|        100|      Fisika|\n",
            "|Windy|        200|      Fisika|\n",
            "| Budi|        200|     Biologi|\n",
            "| Dina|        150|      Fisika|\n",
            "| Bayu|         50|      Fisika|\n",
            "| Dedi|         50|     Biologi|\n",
            "+-----+-----------+------------+\n",
            "\n"
          ]
        }
      ]
    },
    {
      "cell_type": "markdown",
      "source": [
        "Atau dapat menggunakan fungsi `withColumnsRenamed()` yang menerima parameter berupa pasangan `nama_lama : nama_baru` ."
      ],
      "metadata": {
        "id": "7IP-ed4LJN8f"
      }
    },
    {
      "cell_type": "code",
      "source": [
        "df.withColumnsRenamed(\n",
        "    {'nilai':'nilai_total','jurusan':'asal_jurusan'}\n",
        "    ).show()"
      ],
      "metadata": {
        "colab": {
          "base_uri": "https://localhost:8080/"
        },
        "id": "-ZAumkzQ8Q1F",
        "outputId": "1be44af4-ad8e-4df9-811c-9aecb6b100fd"
      },
      "execution_count": null,
      "outputs": [
        {
          "output_type": "stream",
          "name": "stdout",
          "text": [
            "+-----+------------+-----------+\n",
            "| nama|asal_jurusan|nilai_total|\n",
            "+-----+------------+-----------+\n",
            "| Agus|      Fisika|        100|\n",
            "|Windy|      Fisika|        200|\n",
            "| Budi|     Biologi|        200|\n",
            "| Dina|      Fisika|        150|\n",
            "| Bayu|      Fisika|         50|\n",
            "| Dedi|     Biologi|         50|\n",
            "+-----+------------+-----------+\n",
            "\n"
          ]
        }
      ]
    }
  ]
}
