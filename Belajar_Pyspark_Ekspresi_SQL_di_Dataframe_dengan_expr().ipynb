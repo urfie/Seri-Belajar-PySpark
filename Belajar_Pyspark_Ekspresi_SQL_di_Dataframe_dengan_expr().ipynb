{
  "nbformat": 4,
  "nbformat_minor": 0,
  "metadata": {
    "colab": {
      "provenance": [],
      "toc_visible": true
    },
    "kernelspec": {
      "name": "python3",
      "display_name": "Python 3"
    },
    "language_info": {
      "name": "python"
    }
  },
  "cells": [
    {
      "cell_type": "markdown",
      "source": [
        "#Belajar Pyspark - Ekspresi SQL di Dataframe dengan `expr()`"
      ],
      "metadata": {
        "id": "loueMJbfjlZq"
      }
    },
    {
      "cell_type": "markdown",
      "source": [
        "Spark menyediakan berbagai API yang dapat dimanfaatkan sesuai kebutuhan. Ada lebih dari satu cara untuk dapat melakukan operasi tertentu.\n",
        "\n",
        "Selain menggunakan fungsi-fungsi python, kita dapat menggunakan ekspresi SQL untuk memanipulasi sebuah DataFrame. Ekspresi SQL tersebut dieksekusi menggunakan fungsi expr().  Pada artikel ini, kita akan membahas fungsi tersebut beserta contoh penggunaannya.\n"
      ],
      "metadata": {
        "id": "8fBObxkEIMTP"
      }
    },
    {
      "cell_type": "code",
      "execution_count": null,
      "metadata": {
        "colab": {
          "base_uri": "https://localhost:8080/"
        },
        "id": "3YsxlynyFZ0N",
        "outputId": "7390f61f-4cde-4c09-acc1-d729050b330f"
      },
      "outputs": [
        {
          "output_type": "stream",
          "name": "stdout",
          "text": [
            "Collecting pyspark\n",
            "  Downloading pyspark-3.4.1.tar.gz (310.8 MB)\n",
            "\u001b[2K     \u001b[90m━━━━━━━━━━━━━━━━━━━━━━━━━━━━━━━━━━━━━━━\u001b[0m \u001b[32m310.8/310.8 MB\u001b[0m \u001b[31m3.8 MB/s\u001b[0m eta \u001b[36m0:00:00\u001b[0m\n",
            "\u001b[?25h  Preparing metadata (setup.py) ... \u001b[?25l\u001b[?25hdone\n",
            "Requirement already satisfied: py4j==0.10.9.7 in /usr/local/lib/python3.10/dist-packages (from pyspark) (0.10.9.7)\n",
            "Building wheels for collected packages: pyspark\n",
            "  Building wheel for pyspark (setup.py) ... \u001b[?25l\u001b[?25hdone\n",
            "  Created wheel for pyspark: filename=pyspark-3.4.1-py2.py3-none-any.whl size=311285397 sha256=35295515e128877d22faa1d49fce0204ed1d0903aef7cf18a71833bc942f2190\n",
            "  Stored in directory: /root/.cache/pip/wheels/0d/77/a3/ff2f74cc9ab41f8f594dabf0579c2a7c6de920d584206e0834\n",
            "Successfully built pyspark\n",
            "Installing collected packages: pyspark\n",
            "Successfully installed pyspark-3.4.1\n"
          ]
        }
      ],
      "source": [
        "%pip install pyspark"
      ]
    },
    {
      "cell_type": "code",
      "source": [
        "from pyspark.sql import SparkSession\n",
        "import pyspark.sql.functions as F\n"
      ],
      "metadata": {
        "id": "8V4lQvx6HIiO"
      },
      "execution_count": null,
      "outputs": []
    },
    {
      "cell_type": "code",
      "source": [
        "spark = SparkSession.builder.appName(\"Belajar PySpark - expr\").getOrCreate()"
      ],
      "metadata": {
        "id": "97aBSg6dGu9V"
      },
      "execution_count": null,
      "outputs": []
    },
    {
      "cell_type": "markdown",
      "source": [
        "Sebelumnya kita buat DataFrame dari sebuah python list, lalu kita akan lakukan transformasi terhadap DataFrame tersebut.\n"
      ],
      "metadata": {
        "id": "ySN3f0_wIPTe"
      }
    },
    {
      "cell_type": "code",
      "source": [
        "data = [['Agus','Fisika',100],['Windy','Fisika',200],\n",
        "        ['Budi','Biologi',200],['Dina','Fisika',150],\n",
        "        ['Bayu','Fisika',50],['Dedi','Biologi',50]]\n",
        "\n",
        "kolom = [\"nama\",\"jurusan\",\"nilai\"]\n",
        "\n",
        "df = spark.createDataFrame(data,kolom)\n",
        "\n",
        "df.show()"
      ],
      "metadata": {
        "colab": {
          "base_uri": "https://localhost:8080/"
        },
        "id": "KUXGwHVdFfB2",
        "outputId": "3c4df712-42c6-4822-a020-74e2b9440522"
      },
      "execution_count": null,
      "outputs": [
        {
          "output_type": "stream",
          "name": "stdout",
          "text": [
            "+-----+-------+-----+\n",
            "| nama|jurusan|nilai|\n",
            "+-----+-------+-----+\n",
            "| Agus| Fisika|  100|\n",
            "|Windy| Fisika|  200|\n",
            "| Budi|Biologi|  200|\n",
            "| Dina| Fisika|  150|\n",
            "| Bayu| Fisika|   50|\n",
            "| Dedi|Biologi|   50|\n",
            "+-----+-------+-----+\n",
            "\n"
          ]
        }
      ]
    },
    {
      "cell_type": "markdown",
      "source": [
        "Dengan fungsi expr() kita dapat menggunakan fungsi-fungsi SQL yang sudah familiar untuk kita. Ekspresi SQL tersebut dapat digunakan untuk melakukan update, filter, agregasi, maupun menambah kolom baru.\n"
      ],
      "metadata": {
        "id": "Gj7gwTVYPxor"
      }
    },
    {
      "cell_type": "markdown",
      "source": [
        "##Mengubah nilai kolom menjadi huruf kapital"
      ],
      "metadata": {
        "id": "PqCdth9rR0Po"
      }
    },
    {
      "cell_type": "markdown",
      "source": [
        "Untuk mengkonversi nilai sebuah kolom menjadi huruf besar, dapat menggunakan fungsi SQL upper() dan fungsi withColumn()\n"
      ],
      "metadata": {
        "id": "rCfNScO4Pz3A"
      }
    },
    {
      "cell_type": "code",
      "source": [
        "df.withColumn(\"nama\", F.expr(\"upper(nama)\")).show()"
      ],
      "metadata": {
        "colab": {
          "base_uri": "https://localhost:8080/"
        },
        "id": "juXrvQ-0ESxZ",
        "outputId": "bdf61664-d5cc-4dc5-d3cb-ea0d9570e9d9"
      },
      "execution_count": null,
      "outputs": [
        {
          "output_type": "stream",
          "name": "stdout",
          "text": [
            "+-----+-------+-----+\n",
            "| nama|jurusan|nilai|\n",
            "+-----+-------+-----+\n",
            "| AGUS| Fisika|  100|\n",
            "|WINDY| Fisika|  200|\n",
            "| BUDI|Biologi|  200|\n",
            "| DINA| Fisika|  150|\n",
            "| BAYU| Fisika|   50|\n",
            "| DEDI|Biologi|   50|\n",
            "+-----+-------+-----+\n",
            "\n"
          ]
        }
      ]
    },
    {
      "cell_type": "markdown",
      "source": [
        "##Memfilter DataFrame"
      ],
      "metadata": {
        "id": "kCOOCiSPCQa2"
      }
    },
    {
      "cell_type": "markdown",
      "source": [
        "Filter DataFrame menggunakan ekspresi SQL\n"
      ],
      "metadata": {
        "id": "96ozXd4eCQMN"
      }
    },
    {
      "cell_type": "code",
      "source": [
        "df.filter(F.expr(\"nilai > 150\")).show()"
      ],
      "metadata": {
        "colab": {
          "base_uri": "https://localhost:8080/"
        },
        "id": "wAzja-CUCRJJ",
        "outputId": "9435b57b-7807-4b3c-e25c-5569d96ce9d2"
      },
      "execution_count": null,
      "outputs": [
        {
          "output_type": "stream",
          "name": "stdout",
          "text": [
            "+-----+-------+-----+\n",
            "| nama|jurusan|nilai|\n",
            "+-----+-------+-----+\n",
            "|Windy| Fisika|  200|\n",
            "| Budi|Biologi|  200|\n",
            "+-----+-------+-----+\n",
            "\n"
          ]
        }
      ]
    },
    {
      "cell_type": "markdown",
      "source": [
        "Filter menggunakan gabungan beberapa kondisi\n"
      ],
      "metadata": {
        "id": "8ZK1_wx2CmFO"
      }
    },
    {
      "cell_type": "code",
      "source": [
        "df.filter(F.expr(\"nama LIKE '%in%' AND nilai > 150\")).show()"
      ],
      "metadata": {
        "colab": {
          "base_uri": "https://localhost:8080/"
        },
        "id": "IKzYV1ndCmRP",
        "outputId": "e218828d-243d-44ce-a700-1effc56d8c54"
      },
      "execution_count": null,
      "outputs": [
        {
          "output_type": "stream",
          "name": "stdout",
          "text": [
            "+-----+-------+-----+\n",
            "| nama|jurusan|nilai|\n",
            "+-----+-------+-----+\n",
            "|Windy| Fisika|  200|\n",
            "+-----+-------+-----+\n",
            "\n"
          ]
        }
      ]
    },
    {
      "cell_type": "markdown",
      "source": [
        "##Agregasi"
      ],
      "metadata": {
        "id": "wd2yRyegD6RV"
      }
    },
    {
      "cell_type": "markdown",
      "source": [
        "Agregasi DataFrame menggunakan ekspresi SQL\n"
      ],
      "metadata": {
        "id": "w59JRYrqP7cG"
      }
    },
    {
      "cell_type": "code",
      "source": [
        "df.groupBy(\"jurusan\").agg(F.expr(\"avg(nilai) as nilai_rata2\")).show()"
      ],
      "metadata": {
        "colab": {
          "base_uri": "https://localhost:8080/"
        },
        "id": "HRMR3jFHD8IL",
        "outputId": "b54cd05c-61b8-4fb2-cd2b-e7ffa6862f1b"
      },
      "execution_count": null,
      "outputs": [
        {
          "output_type": "stream",
          "name": "stdout",
          "text": [
            "+-------+-----------+\n",
            "|jurusan|nilai_rata2|\n",
            "+-------+-----------+\n",
            "| Fisika|      125.0|\n",
            "|Biologi|      125.0|\n",
            "+-------+-----------+\n",
            "\n"
          ]
        }
      ]
    },
    {
      "cell_type": "markdown",
      "source": [
        "##Menambah kolom baru dari kolom yang sudah ada"
      ],
      "metadata": {
        "id": "1zc44fe4ETbK"
      }
    },
    {
      "cell_type": "markdown",
      "source": [
        "Untuk memilih atau menambah kolom baru dari sebuah DataFrame, kita dapat gunakan perintah `DataFrame.select()`"
      ],
      "metadata": {
        "id": "SoUcUrHiS7FT"
      }
    },
    {
      "cell_type": "code",
      "source": [
        "df.select(F.col(\"*\"), F.expr(\"upper(nama) as nama1\")).show()"
      ],
      "metadata": {
        "colab": {
          "base_uri": "https://localhost:8080/"
        },
        "id": "qDU1QreAR3RF",
        "outputId": "0af0e8d5-76ef-40f9-ffa0-38e3d1be1243"
      },
      "execution_count": null,
      "outputs": [
        {
          "output_type": "stream",
          "name": "stdout",
          "text": [
            "+-----+-------+-----+-----+\n",
            "| nama|jurusan|nilai|nama1|\n",
            "+-----+-------+-----+-----+\n",
            "| Agus| Fisika|  100| AGUS|\n",
            "|Windy| Fisika|  200|WINDY|\n",
            "| Budi|Biologi|  200| BUDI|\n",
            "| Dina| Fisika|  150| DINA|\n",
            "| Bayu| Fisika|   50| BAYU|\n",
            "| Dedi|Biologi|   50| DEDI|\n",
            "+-----+-------+-----+-----+\n",
            "\n"
          ]
        }
      ]
    },
    {
      "cell_type": "markdown",
      "source": [
        "Perintah di atas dapat ditulis dengan lebih singkat dengan menggunakan perintah `selectExpr()` yang merupakan fungsi DataFrame."
      ],
      "metadata": {
        "id": "5-2VdMHiQBr9"
      }
    },
    {
      "cell_type": "code",
      "source": [
        "df.selectExpr(\"*\", \"upper(nama) as nama1\").show()"
      ],
      "metadata": {
        "colab": {
          "base_uri": "https://localhost:8080/"
        },
        "id": "Is_iaXBYFebL",
        "outputId": "b6fdf910-cc55-40b5-d58c-5130f81477c4"
      },
      "execution_count": null,
      "outputs": [
        {
          "output_type": "stream",
          "name": "stdout",
          "text": [
            "+-----+-------+-----+-----+\n",
            "| nama|jurusan|nilai|nama1|\n",
            "+-----+-------+-----+-----+\n",
            "| Agus| Fisika|  100| AGUS|\n",
            "|Windy| Fisika|  200|WINDY|\n",
            "| Budi|Biologi|  200| BUDI|\n",
            "| Dina| Fisika|  150| DINA|\n",
            "| Bayu| Fisika|   50| BAYU|\n",
            "| Dedi|Biologi|   50| DEDI|\n",
            "+-----+-------+-----+-----+\n",
            "\n"
          ]
        }
      ]
    },
    {
      "cell_type": "markdown",
      "source": [
        "Untuk mengekstraksi kolom sebuah DataFrame menggunakan ekspresi SQL, sebaiknya memilih selectExpr() dibandingkan expr(). Disamping sintaksnya lebih singkat dan jelas, kita juga tidak perlu melakukan import spark.sql.functions.\n"
      ],
      "metadata": {
        "id": "LuCYq1fxQF0h"
      }
    },
    {
      "cell_type": "markdown",
      "source": [
        "##Memilih beberapa kolom dengan ekspresi SQL\n",
        "Fungsi selectExpr() dapat menerima beberapa ekspresi SQL sekaligus. Oleh karena itu fungsi ini dapat mengembalikan beberapa kolom dari beberapa ekspresi SQL.\n"
      ],
      "metadata": {
        "id": "LgeYPNKFQKoC"
      }
    },
    {
      "cell_type": "code",
      "source": [
        "df.selectExpr(\"upper(nama) as nama1\",\n",
        "              \"upper(jurusan) as jurusan1\",\n",
        "              \"nilai\").show()"
      ],
      "metadata": {
        "colab": {
          "base_uri": "https://localhost:8080/"
        },
        "id": "LIQe5rLyMrhn",
        "outputId": "82dbdf9d-d4a2-4f4d-cba2-4232083ea98f"
      },
      "execution_count": null,
      "outputs": [
        {
          "output_type": "stream",
          "name": "stdout",
          "text": [
            "+-----+--------+-----+\n",
            "|nama1|jurusan1|nilai|\n",
            "+-----+--------+-----+\n",
            "| AGUS|  FISIKA|  100|\n",
            "|WINDY|  FISIKA|  200|\n",
            "| BUDI| BIOLOGI|  200|\n",
            "| DINA|  FISIKA|  150|\n",
            "| BAYU|  FISIKA|   50|\n",
            "| DEDI| BIOLOGI|   50|\n",
            "+-----+--------+-----+\n",
            "\n"
          ]
        }
      ]
    },
    {
      "cell_type": "markdown",
      "source": [
        "##Ekspresi SQL yang kompleks"
      ],
      "metadata": {
        "id": "7bKGjEhXzFmk"
      }
    },
    {
      "cell_type": "markdown",
      "source": [
        "Fungsi expr() juga dapat mengeksekusi ekspresi SQL yang kompleks, seperti misalnya statement kondisional menggunakan CASE WHEN."
      ],
      "metadata": {
        "id": "Rn5q3gwsIX6G"
      }
    },
    {
      "cell_type": "code",
      "source": [
        "df.withColumn(\"kode_jurusan\",\n",
        "  F.expr(\"CASE WHEN jurusan = 'Fisika' THEN 'F'\"\n",
        "    \" WHEN jurusan = 'Biologi' THEN 'B'\"\n",
        "    \" ELSE 'NA' END\")).show()"
      ],
      "metadata": {
        "colab": {
          "base_uri": "https://localhost:8080/"
        },
        "id": "EqaS2WQGszHh",
        "outputId": "6e8cf2e9-7850-4fa8-b81d-7d7b7ffd3b20"
      },
      "execution_count": null,
      "outputs": [
        {
          "output_type": "stream",
          "name": "stdout",
          "text": [
            "+-----+-------+-----+------------+\n",
            "| nama|jurusan|nilai|kode_jurusan|\n",
            "+-----+-------+-----+------------+\n",
            "| Agus| Fisika|  100|           F|\n",
            "|Windy| Fisika|  200|           F|\n",
            "| Budi|Biologi|  200|           B|\n",
            "| Dina| Fisika|  150|           F|\n",
            "| Bayu| Fisika|   50|           F|\n",
            "| Dedi|Biologi|   50|           B|\n",
            "+-----+-------+-----+------------+\n",
            "\n"
          ]
        }
      ]
    },
    {
      "cell_type": "markdown",
      "source": [
        "Untuk mengeksekusi beberapa ekspresi SQL sekaligus, misalnya untuk memilih beberapa kolom, gunakan fungsi selectExpr()"
      ],
      "metadata": {
        "id": "IWFLKBJsQVpC"
      }
    },
    {
      "cell_type": "code",
      "source": [
        "df.selectExpr(\"nama\",\"jurusan\",\n",
        "  \"(CASE WHEN jurusan = 'Fisika' THEN 'F'\"\n",
        "      \" WHEN jurusan = 'Biologi' THEN 'B'\"\n",
        "      \" ELSE 'NA' END) as kode_jurusan\",\n",
        "  \"(CASE WHEN nilai < 100 THEN 'C'\"\n",
        "      \" WHEN nilai < 200 THEN 'B'\"\n",
        "      \" ELSE 'A' END) as kode_nilai\",\n",
        "  ).show()"
      ],
      "metadata": {
        "colab": {
          "base_uri": "https://localhost:8080/"
        },
        "id": "IEGHEWVmAs9-",
        "outputId": "b786cd55-960e-4993-e452-547bd020e5a4"
      },
      "execution_count": null,
      "outputs": [
        {
          "output_type": "stream",
          "name": "stdout",
          "text": [
            "+-----+-------+------------+----------+\n",
            "| nama|jurusan|kode_jurusan|kode_nilai|\n",
            "+-----+-------+------------+----------+\n",
            "| Agus| Fisika|           F|         B|\n",
            "|Windy| Fisika|           F|         A|\n",
            "| Budi|Biologi|           B|         A|\n",
            "| Dina| Fisika|           F|         B|\n",
            "| Bayu| Fisika|           F|         C|\n",
            "| Dedi|Biologi|           B|         C|\n",
            "+-----+-------+------------+----------+\n",
            "\n"
          ]
        }
      ]
    }
  ]
}
