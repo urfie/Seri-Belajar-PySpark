{
  "nbformat": 4,
  "nbformat_minor": 0,
  "metadata": {
    "colab": {
      "provenance": [],
      "toc_visible": true
    },
    "kernelspec": {
      "name": "python3",
      "display_name": "Python 3"
    },
    "language_info": {
      "name": "python"
    }
  },
  "cells": [
    {
      "cell_type": "markdown",
      "source": [
        "#Belajar Pyspark - Ekspresi SQL di Dataframe dengan `expr()`"
      ],
      "metadata": {
        "id": "loueMJbfjlZq"
      }
    },
    {
      "cell_type": "markdown",
      "source": [
        "Spark menyediakan berbagai API yang dapat dimanfaatkan sesuai kebutuhan. Ada lebih dari satu cara untuk dapat melakukan operasi tertentu.\n",
        "\n",
        "Selain menggunakan fungsi-fungsi python, kita dapat menggunakan ekspresi SQL untuk memanipulasi sebuah DataFrame. Ekspresi SQL tersebut dieksekusi menggunakan fungsi expr().  Pada artikel ini, kita akan membahas fungsi tersebut beserta contoh penggunaannya.\n"
      ],
      "metadata": {
        "id": "8fBObxkEIMTP"
      }
    },
    {
      "cell_type": "code",
      "execution_count": 25,
      "metadata": {
        "colab": {
          "base_uri": "https://localhost:8080/"
        },
        "id": "3YsxlynyFZ0N",
        "outputId": "56b5c18f-5243-49b1-cccb-954b73602cff"
      },
      "outputs": [
        {
          "output_type": "stream",
          "name": "stdout",
          "text": [
            "Requirement already satisfied: pyspark in /usr/local/lib/python3.10/dist-packages (3.4.1)\n",
            "Requirement already satisfied: py4j==0.10.9.7 in /usr/local/lib/python3.10/dist-packages (from pyspark) (0.10.9.7)\n"
          ]
        }
      ],
      "source": [
        "%pip install pyspark"
      ]
    },
    {
      "cell_type": "code",
      "source": [
        "from pyspark.sql import SparkSession\n",
        "import pyspark.sql.functions as F\n"
      ],
      "metadata": {
        "id": "8V4lQvx6HIiO"
      },
      "execution_count": 26,
      "outputs": []
    },
    {
      "cell_type": "code",
      "source": [
        "spark = SparkSession.builder.appName(\"Belajar PySpark - expr\").getOrCreate()"
      ],
      "metadata": {
        "id": "97aBSg6dGu9V"
      },
      "execution_count": 27,
      "outputs": []
    },
    {
      "cell_type": "markdown",
      "source": [
        "Sebelumnya kita buat DataFrame dari sebuah python list, lalu kita akan lakukan transformasi terhadap DataFrame tersebut.\n"
      ],
      "metadata": {
        "id": "ySN3f0_wIPTe"
      }
    },
    {
      "cell_type": "code",
      "source": [
        "data = [['Agus','Fisika',100],['Windy','Fisika',200],\n",
        "        ['Budi','Biologi',200],['Dina','Fisika',150],\n",
        "        ['Bayu','Fisika',50],['Dedi','Biologi',50]]\n",
        "\n",
        "kolom = [\"nama\",\"jurusan\",\"nilai\"]\n",
        "\n",
        "df = spark.createDataFrame(data,kolom)\n",
        "\n",
        "df.show()"
      ],
      "metadata": {
        "colab": {
          "base_uri": "https://localhost:8080/"
        },
        "id": "KUXGwHVdFfB2",
        "outputId": "66e28694-e47e-4b6d-e8a9-9809f17db1ee"
      },
      "execution_count": 28,
      "outputs": [
        {
          "output_type": "stream",
          "name": "stdout",
          "text": [
            "+-----+-------+-----+\n",
            "| nama|jurusan|nilai|\n",
            "+-----+-------+-----+\n",
            "| Agus| Fisika|  100|\n",
            "|Windy| Fisika|  200|\n",
            "| Budi|Biologi|  200|\n",
            "| Dina| Fisika|  150|\n",
            "| Bayu| Fisika|   50|\n",
            "| Dedi|Biologi|   50|\n",
            "+-----+-------+-----+\n",
            "\n"
          ]
        }
      ]
    },
    {
      "cell_type": "markdown",
      "source": [
        "Dengan fungsi expr() kita dapat menggunakan fungsi-fungsi SQL yang sudah familiar untuk kita. Ekspresi SQL tersebut dapat digunakan untuk melakukan update, filter, agregasi, maupun menambah kolom baru.\n"
      ],
      "metadata": {
        "id": "Gj7gwTVYPxor"
      }
    },
    {
      "cell_type": "markdown",
      "source": [
        "##Mengubah nilai kolom menjadi huruf kapital"
      ],
      "metadata": {
        "id": "PqCdth9rR0Po"
      }
    },
    {
      "cell_type": "markdown",
      "source": [
        "Untuk mengkonversi nilai sebuah kolom menjadi huruf besar, dapat menggunakan fungsi SQL upper() dan fungsi withColumn()\n"
      ],
      "metadata": {
        "id": "rCfNScO4Pz3A"
      }
    },
    {
      "cell_type": "code",
      "source": [
        "df.withColumn(\"nama\", F.expr(\"upper(nama)\")).show()"
      ],
      "metadata": {
        "colab": {
          "base_uri": "https://localhost:8080/"
        },
        "id": "juXrvQ-0ESxZ",
        "outputId": "6ff395c8-8338-4e14-ca57-4ae780dc4609"
      },
      "execution_count": 29,
      "outputs": [
        {
          "output_type": "stream",
          "name": "stdout",
          "text": [
            "+-----+-------+-----+\n",
            "| nama|jurusan|nilai|\n",
            "+-----+-------+-----+\n",
            "| AGUS| Fisika|  100|\n",
            "|WINDY| Fisika|  200|\n",
            "| BUDI|Biologi|  200|\n",
            "| DINA| Fisika|  150|\n",
            "| BAYU| Fisika|   50|\n",
            "| DEDI|Biologi|   50|\n",
            "+-----+-------+-----+\n",
            "\n"
          ]
        }
      ]
    },
    {
      "cell_type": "markdown",
      "source": [
        "##Memfilter DataFrame"
      ],
      "metadata": {
        "id": "kCOOCiSPCQa2"
      }
    },
    {
      "cell_type": "markdown",
      "source": [
        "Filter DataFrame menggunakan ekspresi SQL\n"
      ],
      "metadata": {
        "id": "96ozXd4eCQMN"
      }
    },
    {
      "cell_type": "code",
      "source": [
        "df.filter(F.expr(\"nilai > 150\")).show()"
      ],
      "metadata": {
        "colab": {
          "base_uri": "https://localhost:8080/"
        },
        "id": "wAzja-CUCRJJ",
        "outputId": "c0093f87-cca3-4d4c-f1ef-92bd7c41d41c"
      },
      "execution_count": 30,
      "outputs": [
        {
          "output_type": "stream",
          "name": "stdout",
          "text": [
            "+-----+-------+-----+\n",
            "| nama|jurusan|nilai|\n",
            "+-----+-------+-----+\n",
            "|Windy| Fisika|  200|\n",
            "| Budi|Biologi|  200|\n",
            "+-----+-------+-----+\n",
            "\n"
          ]
        }
      ]
    },
    {
      "cell_type": "markdown",
      "source": [
        "Filter menggunakan gabungan beberapa kondisi\n"
      ],
      "metadata": {
        "id": "8ZK1_wx2CmFO"
      }
    },
    {
      "cell_type": "code",
      "source": [
        "df.filter(F.expr(\"nama LIKE '%in%' AND nilai > 150\")).show()"
      ],
      "metadata": {
        "colab": {
          "base_uri": "https://localhost:8080/"
        },
        "id": "IKzYV1ndCmRP",
        "outputId": "707357ed-9446-4885-91b9-32f2a51e368b"
      },
      "execution_count": 31,
      "outputs": [
        {
          "output_type": "stream",
          "name": "stdout",
          "text": [
            "+-----+-------+-----+\n",
            "| nama|jurusan|nilai|\n",
            "+-----+-------+-----+\n",
            "|Windy| Fisika|  200|\n",
            "+-----+-------+-----+\n",
            "\n"
          ]
        }
      ]
    },
    {
      "cell_type": "markdown",
      "source": [
        "##Agregasi"
      ],
      "metadata": {
        "id": "wd2yRyegD6RV"
      }
    },
    {
      "cell_type": "markdown",
      "source": [
        "Agregasi DataFrame menggunakan ekspresi SQL\n"
      ],
      "metadata": {
        "id": "w59JRYrqP7cG"
      }
    },
    {
      "cell_type": "code",
      "source": [
        "df.groupBy(\"jurusan\").agg(F.expr(\"avg(nilai) as nilai_rata2\")).show()"
      ],
      "metadata": {
        "colab": {
          "base_uri": "https://localhost:8080/"
        },
        "id": "HRMR3jFHD8IL",
        "outputId": "fde32410-1e7d-4238-8544-901c6c3d2e92"
      },
      "execution_count": 32,
      "outputs": [
        {
          "output_type": "stream",
          "name": "stdout",
          "text": [
            "+-------+-----------+\n",
            "|jurusan|nilai_rata2|\n",
            "+-------+-----------+\n",
            "| Fisika|      125.0|\n",
            "|Biologi|      125.0|\n",
            "+-------+-----------+\n",
            "\n"
          ]
        }
      ]
    },
    {
      "cell_type": "markdown",
      "source": [
        "##Menambah kolom baru dari kolom yang sudah ada"
      ],
      "metadata": {
        "id": "1zc44fe4ETbK"
      }
    },
    {
      "cell_type": "markdown",
      "source": [
        "Untuk memilih atau menambah kolom baru dari sebuah DataFrame, kita dapat gunakan perintah `DataFrame.select()`"
      ],
      "metadata": {
        "id": "SoUcUrHiS7FT"
      }
    },
    {
      "cell_type": "code",
      "source": [
        "df.select(F.col(\"*\"), F.expr(\"upper(nama) as nama1\")).show()"
      ],
      "metadata": {
        "colab": {
          "base_uri": "https://localhost:8080/"
        },
        "id": "qDU1QreAR3RF",
        "outputId": "742a7345-ff3a-4e0e-f5f8-1487bf87b166"
      },
      "execution_count": 33,
      "outputs": [
        {
          "output_type": "stream",
          "name": "stdout",
          "text": [
            "+-----+-------+-----+-----+\n",
            "| nama|jurusan|nilai|nama1|\n",
            "+-----+-------+-----+-----+\n",
            "| Agus| Fisika|  100| AGUS|\n",
            "|Windy| Fisika|  200|WINDY|\n",
            "| Budi|Biologi|  200| BUDI|\n",
            "| Dina| Fisika|  150| DINA|\n",
            "| Bayu| Fisika|   50| BAYU|\n",
            "| Dedi|Biologi|   50| DEDI|\n",
            "+-----+-------+-----+-----+\n",
            "\n"
          ]
        }
      ]
    },
    {
      "cell_type": "markdown",
      "source": [
        "Perintah di atas dapat ditulis dengan lebih singkat dengan menggunakan perintah `selectExpr()` yang merupakan fungsi DataFrame."
      ],
      "metadata": {
        "id": "5-2VdMHiQBr9"
      }
    },
    {
      "cell_type": "code",
      "source": [
        "df.selectExpr(\"*\", \"upper(nama) as nama1\").show()"
      ],
      "metadata": {
        "colab": {
          "base_uri": "https://localhost:8080/"
        },
        "id": "Is_iaXBYFebL",
        "outputId": "56c057a0-132e-4839-b9a9-cf368c3f2147"
      },
      "execution_count": 34,
      "outputs": [
        {
          "output_type": "stream",
          "name": "stdout",
          "text": [
            "+-----+-------+-----+-----+\n",
            "| nama|jurusan|nilai|nama1|\n",
            "+-----+-------+-----+-----+\n",
            "| Agus| Fisika|  100| AGUS|\n",
            "|Windy| Fisika|  200|WINDY|\n",
            "| Budi|Biologi|  200| BUDI|\n",
            "| Dina| Fisika|  150| DINA|\n",
            "| Bayu| Fisika|   50| BAYU|\n",
            "| Dedi|Biologi|   50| DEDI|\n",
            "+-----+-------+-----+-----+\n",
            "\n"
          ]
        }
      ]
    },
    {
      "cell_type": "markdown",
      "source": [
        "Untuk mengekstraksi kolom sebuah DataFrame menggunakan ekspresi SQL, sebaiknya memilih selectExpr() dibandingkan expr(). Disamping sintaksnya lebih singkat dan jelas, kita juga tidak perlu melakukan import spark.sql.functions.\n"
      ],
      "metadata": {
        "id": "LuCYq1fxQF0h"
      }
    },
    {
      "cell_type": "markdown",
      "source": [
        "##Memilih beberapa kolom dengan ekspresi SQL\n",
        "Fungsi selectExpr() dapat menerima beberapa ekspresi SQL sekaligus. Oleh karena itu fungsi ini dapat mengembalikan beberapa kolom dari beberapa ekspresi SQL.\n"
      ],
      "metadata": {
        "id": "LgeYPNKFQKoC"
      }
    },
    {
      "cell_type": "code",
      "source": [
        "df.selectExpr(\"upper(nama) as nama1\",\n",
        "              \"upper(jurusan) as jurusan1\",\n",
        "              \"nilai\").show()"
      ],
      "metadata": {
        "colab": {
          "base_uri": "https://localhost:8080/"
        },
        "id": "LIQe5rLyMrhn",
        "outputId": "7f699c86-f7e1-4837-8d01-a3092e1af48a"
      },
      "execution_count": 37,
      "outputs": [
        {
          "output_type": "stream",
          "name": "stdout",
          "text": [
            "+-----+--------+-----+\n",
            "|nama1|jurusan1|nilai|\n",
            "+-----+--------+-----+\n",
            "| AGUS|  FISIKA|  100|\n",
            "|WINDY|  FISIKA|  200|\n",
            "| BUDI| BIOLOGI|  200|\n",
            "| DINA|  FISIKA|  150|\n",
            "| BAYU|  FISIKA|   50|\n",
            "| DEDI| BIOLOGI|   50|\n",
            "+-----+--------+-----+\n",
            "\n"
          ]
        }
      ]
    },
    {
      "cell_type": "markdown",
      "source": [
        "##Ekspresi SQL yang kompleks"
      ],
      "metadata": {
        "id": "7bKGjEhXzFmk"
      }
    },
    {
      "cell_type": "markdown",
      "source": [
        "Fungsi expr() juga dapat mengeksekusi ekspresi SQL yang kompleks, seperti misalnya statement kondisional menggunakan CASE WHEN."
      ],
      "metadata": {
        "id": "Rn5q3gwsIX6G"
      }
    },
    {
      "cell_type": "code",
      "source": [
        "df.withColumn(\"kode_jurusan\",\n",
        "  F.expr(\"CASE WHEN jurusan = 'Fisika' THEN 'F'\"\n",
        "    \" WHEN jurusan = 'Biologi' THEN 'B'\"\n",
        "    \" ELSE 'NA' END\")).show()"
      ],
      "metadata": {
        "colab": {
          "base_uri": "https://localhost:8080/"
        },
        "id": "EqaS2WQGszHh",
        "outputId": "4c6ad568-509b-44a3-9039-d4895768b275"
      },
      "execution_count": 13,
      "outputs": [
        {
          "output_type": "stream",
          "name": "stdout",
          "text": [
            "+-----+-------+-----+------------+\n",
            "| nama|jurusan|nilai|kode_jurusan|\n",
            "+-----+-------+-----+------------+\n",
            "| Agus| Fisika|  100|           F|\n",
            "|Windy| Fisika|  200|           F|\n",
            "| Budi|Biologi|  200|           B|\n",
            "| Dina| Fisika|  150|           F|\n",
            "| Bayu| Fisika|   50|           F|\n",
            "| Dedi|Biologi|   50|           B|\n",
            "+-----+-------+-----+------------+\n",
            "\n"
          ]
        }
      ]
    },
    {
      "cell_type": "markdown",
      "source": [
        "Untuk mengeksekusi beberapa ekspresi SQL sekaligus, misalnya untuk memilih beberapa kolom, gunakan fungsi selectExpr()"
      ],
      "metadata": {
        "id": "IWFLKBJsQVpC"
      }
    },
    {
      "cell_type": "code",
      "source": [
        "df.selectExpr(\"nama\",\"jurusan\",\n",
        "  \"(CASE WHEN jurusan = 'Fisika' THEN 'F'\"\n",
        "      \" WHEN jurusan = 'Biologi' THEN 'B'\"\n",
        "      \" ELSE 'NA' END) as kode_jurusan\",\n",
        "  \"(CASE WHEN nilai < 100 THEN 'C'\"\n",
        "      \" WHEN nilai < 200 THEN 'B'\"\n",
        "      \" ELSE 'A' END) as kode_nilai\",\n",
        "  ).show()"
      ],
      "metadata": {
        "colab": {
          "base_uri": "https://localhost:8080/"
        },
        "id": "IEGHEWVmAs9-",
        "outputId": "df7fe4c8-aca3-4bbd-d240-d4beb7504e0b"
      },
      "execution_count": 39,
      "outputs": [
        {
          "output_type": "stream",
          "name": "stdout",
          "text": [
            "+-----+-------+------------+----------+\n",
            "| nama|jurusan|kode_jurusan|kode_nilai|\n",
            "+-----+-------+------------+----------+\n",
            "| Agus| Fisika|           F|         B|\n",
            "|Windy| Fisika|           F|         A|\n",
            "| Budi|Biologi|           B|         A|\n",
            "| Dina| Fisika|           F|         B|\n",
            "| Bayu| Fisika|           F|         C|\n",
            "| Dedi|Biologi|           B|         C|\n",
            "+-----+-------+------------+----------+\n",
            "\n"
          ]
        }
      ]
    }
  ]
}