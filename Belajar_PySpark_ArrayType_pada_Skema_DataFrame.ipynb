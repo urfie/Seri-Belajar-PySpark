{
  "nbformat": 4,
  "nbformat_minor": 0,
  "metadata": {
    "colab": {
      "provenance": [],
      "toc_visible": true
    },
    "kernelspec": {
      "name": "python3",
      "display_name": "Python 3"
    },
    "language_info": {
      "name": "python"
    }
  },
  "cells": [
    {
      "cell_type": "markdown",
      "source": [
        "#Belajar PySpark - ArrayType pada Skema DataFrame"
      ],
      "metadata": {
        "id": "loueMJbfjlZq"
      }
    },
    {
      "cell_type": "markdown",
      "source": [
        "Dalam PySpark, StructType adalah tipe data yang digunakan untuk mendefinisikan skema (schema) dari suatu DataFrame. Data yang disimpan dalam skema dapat berupa data sederhana, seperti integer atau string, maupun data kompleks, seperti map atau array.\n",
        "Dalam artikel ini, kita akan membahas salah satu tipe data kompleks yang dapat disimpan dalam Struct Type, yaitu array.\n"
      ],
      "metadata": {
        "id": "8fBObxkEIMTP"
      }
    },
    {
      "cell_type": "code",
      "execution_count": 1,
      "metadata": {
        "colab": {
          "base_uri": "https://localhost:8080/"
        },
        "id": "3YsxlynyFZ0N",
        "outputId": "c0e105dc-599b-41cd-9ad1-f237daaea40f"
      },
      "outputs": [
        {
          "output_type": "stream",
          "name": "stdout",
          "text": [
            "Collecting pyspark\n",
            "  Downloading pyspark-3.5.0.tar.gz (316.9 MB)\n",
            "\u001b[2K     \u001b[90m━━━━━━━━━━━━━━━━━━━━━━━━━━━━━━━━━━━━━━━━\u001b[0m \u001b[32m316.9/316.9 MB\u001b[0m \u001b[31m4.2 MB/s\u001b[0m eta \u001b[36m0:00:00\u001b[0m\n",
            "\u001b[?25h  Preparing metadata (setup.py) ... \u001b[?25l\u001b[?25hdone\n",
            "Requirement already satisfied: py4j==0.10.9.7 in /usr/local/lib/python3.10/dist-packages (from pyspark) (0.10.9.7)\n",
            "Building wheels for collected packages: pyspark\n",
            "  Building wheel for pyspark (setup.py) ... \u001b[?25l\u001b[?25hdone\n",
            "  Created wheel for pyspark: filename=pyspark-3.5.0-py2.py3-none-any.whl size=317425345 sha256=dd5f0e10963c4854124c6462894260b900afcd9499e7352c121b60c0e5df01cc\n",
            "  Stored in directory: /root/.cache/pip/wheels/41/4e/10/c2cf2467f71c678cfc8a6b9ac9241e5e44a01940da8fbb17fc\n",
            "Successfully built pyspark\n",
            "Installing collected packages: pyspark\n",
            "Successfully installed pyspark-3.5.0\n"
          ]
        }
      ],
      "source": [
        "%pip install pyspark"
      ]
    },
    {
      "cell_type": "code",
      "source": [
        "import pyspark\n",
        "from pyspark.sql import SparkSession\n",
        "from pyspark.sql.types import StructType, StructField, ArrayType, MapType, StringType, IntegerType\n",
        "from pyspark.sql.functions import array_contains, explode, split, array"
      ],
      "metadata": {
        "id": "8V4lQvx6HIiO"
      },
      "execution_count": 3,
      "outputs": []
    },
    {
      "cell_type": "code",
      "source": [
        "spark = SparkSession.builder.appName(\"Belajar PySpark - ArrayType\").getOrCreate()"
      ],
      "metadata": {
        "id": "97aBSg6dGu9V"
      },
      "execution_count": 4,
      "outputs": []
    },
    {
      "cell_type": "markdown",
      "source": [
        "##ArrayType pada Skema DataFrame"
      ],
      "metadata": {
        "id": "a2HLRhTwLXfy"
      }
    },
    {
      "cell_type": "code",
      "source": [
        "mySchema = StructType([\n",
        "    StructField(\"nama\", StringType(), True),\n",
        "    StructField(\"jurusan\", StringType(), True),\n",
        "    StructField(\"nilai\", ArrayType(elementType=IntegerType()), True)\n",
        "])"
      ],
      "metadata": {
        "id": "GWym9zShabFw"
      },
      "execution_count": 7,
      "outputs": []
    },
    {
      "cell_type": "markdown",
      "source": [
        "###Menggunakan arrayType pada DataFrame"
      ],
      "metadata": {
        "id": "q1cAkZD3a7wE"
      }
    },
    {
      "cell_type": "code",
      "source": [
        "data = [['Agus Supono','F',[100,150,150]],\n",
        "        ['Budi Sumardi','B',[200,100,150]],\n",
        "        ['Dina Mariana','F',[150,150,130]],\n",
        "        ['Dedi Setiadi','B', [50,100,100]]]\n",
        "\n",
        "df = spark.createDataFrame(data, mySchema)\n",
        "df.show()\n",
        "df.printSchema()"
      ],
      "metadata": {
        "colab": {
          "base_uri": "https://localhost:8080/"
        },
        "id": "fT9ikZrmLpjO",
        "outputId": "f2073723-9619-49f3-abbe-2f8679dbbb3c"
      },
      "execution_count": 13,
      "outputs": [
        {
          "output_type": "stream",
          "name": "stdout",
          "text": [
            "+------------+-------+---------------+\n",
            "|        nama|jurusan|          nilai|\n",
            "+------------+-------+---------------+\n",
            "| Agus Supono|      F|[100, 150, 150]|\n",
            "|Budi Sumardi|      B|[200, 100, 150]|\n",
            "|Dina Mariana|      F|[150, 150, 130]|\n",
            "|Dedi Setiadi|      B| [50, 100, 100]|\n",
            "+------------+-------+---------------+\n",
            "\n",
            "root\n",
            " |-- nama: string (nullable = true)\n",
            " |-- jurusan: string (nullable = true)\n",
            " |-- nilai: array (nullable = true)\n",
            " |    |-- element: integer (containsNull = true)\n",
            "\n"
          ]
        }
      ]
    },
    {
      "cell_type": "markdown",
      "source": [
        "##Mengakses ArrayType Kolom"
      ],
      "metadata": {
        "id": "1Dw5LZ_WNx76"
      }
    },
    {
      "cell_type": "code",
      "source": [
        "df.select(\"nama\", \"nilai\").show()"
      ],
      "metadata": {
        "colab": {
          "base_uri": "https://localhost:8080/"
        },
        "outputId": "5453ccbd-c444-45ae-8323-233eb1ff0da0",
        "id": "oatmHqSaLaTA"
      },
      "execution_count": 14,
      "outputs": [
        {
          "output_type": "stream",
          "name": "stdout",
          "text": [
            "+------------+---------------+\n",
            "|        nama|          nilai|\n",
            "+------------+---------------+\n",
            "| Agus Supono|[100, 150, 150]|\n",
            "|Budi Sumardi|[200, 100, 150]|\n",
            "|Dina Mariana|[150, 150, 130]|\n",
            "|Dedi Setiadi| [50, 100, 100]|\n",
            "+------------+---------------+\n",
            "\n"
          ]
        }
      ]
    },
    {
      "cell_type": "markdown",
      "source": [
        "###Fungsi-fungsi ArrayType"
      ],
      "metadata": {
        "id": "ngDqPeGIKkXx"
      }
    },
    {
      "cell_type": "markdown",
      "source": [
        "####Fungsi `array_contains()`\n",
        "\n",
        "Fungsi ini digunakan untuk memeriksa apakah suatu nilai tertentu terdapat dalam array. Fungsi ini menerima argumen berupa kolom yang bertipe array, dan mengembalikan nilai berupa kolom bertipe boolean.\n",
        "\n",
        "Misalnya pada contoh di atas, kita dapat memeriksa apakah kolom “nilai” yang bertipe array mengandung nilai 200. Hasilnya akan kita simpan ke dalam kolom bernama `mengandung_nilai_200`\n"
      ],
      "metadata": {
        "id": "E5kptzb7TCnt"
      }
    },
    {
      "cell_type": "code",
      "source": [
        "df.select(df.nama,\n",
        "          array_contains(df.nilai,200)\n",
        "          .alias(\"mengandung_nilai_200\")).show()"
      ],
      "metadata": {
        "colab": {
          "base_uri": "https://localhost:8080/"
        },
        "id": "Z1-nAiJUTC3P",
        "outputId": "708d397b-8dae-4504-8bd0-b25e9d78a9ae"
      },
      "execution_count": 24,
      "outputs": [
        {
          "output_type": "stream",
          "name": "stdout",
          "text": [
            "+------------+--------------------+\n",
            "|        nama|mengandung_nilai_200|\n",
            "+------------+--------------------+\n",
            "| Agus Supono|               false|\n",
            "|Budi Sumardi|                true|\n",
            "|Dina Mariana|               false|\n",
            "|Dedi Setiadi|               false|\n",
            "+------------+--------------------+\n",
            "\n"
          ]
        }
      ]
    },
    {
      "cell_type": "markdown",
      "source": [
        "####Fungsi `Explode()`\n",
        "\n",
        "Fungsi explode digunakan untuk mengubah setiap elemen array menjadi satu baris atau record tersendiri. Misalnya untuk contoh di atas :\n"
      ],
      "metadata": {
        "id": "0T9HBj0jKkUg"
      }
    },
    {
      "cell_type": "code",
      "source": [
        "df.select(\"nama\", \"jurusan\", explode(df[\"nilai\"])).show()"
      ],
      "metadata": {
        "colab": {
          "base_uri": "https://localhost:8080/"
        },
        "id": "uFU0Eu7vE3R0",
        "outputId": "94558c84-0183-4bc6-9c50-fa174a119282"
      },
      "execution_count": 25,
      "outputs": [
        {
          "output_type": "stream",
          "name": "stdout",
          "text": [
            "+------------+-------+---+\n",
            "|        nama|jurusan|col|\n",
            "+------------+-------+---+\n",
            "| Agus Supono|      F|100|\n",
            "| Agus Supono|      F|150|\n",
            "| Agus Supono|      F|150|\n",
            "|Budi Sumardi|      B|200|\n",
            "|Budi Sumardi|      B|100|\n",
            "|Budi Sumardi|      B|150|\n",
            "|Dina Mariana|      F|150|\n",
            "|Dina Mariana|      F|150|\n",
            "|Dina Mariana|      F|130|\n",
            "|Dedi Setiadi|      B| 50|\n",
            "|Dedi Setiadi|      B|100|\n",
            "|Dedi Setiadi|      B|100|\n",
            "+------------+-------+---+\n",
            "\n"
          ]
        }
      ]
    },
    {
      "cell_type": "markdown",
      "source": [
        "####Fungsi `Split()`\n",
        "\n",
        "Fungsi ini digunakan untuk membentuk array dari sebuah string. String dipecah berdasarkan karakter pemisah/delimiter tertentu, dan bagian-bagiannya dibentuk menjadi elemen dari sebuah array.\n",
        "\n",
        "Misalnya dari contoh di atas, kita akan membuat kolom `arrayNama` dari kolom `nama`. Kita gunakan spasi sebagai delimiter.\n"
      ],
      "metadata": {
        "id": "8MS9OPxKKsM-"
      }
    },
    {
      "cell_type": "code",
      "source": [
        "df.select(\"nama\", \"jurusan\", \"nilai\",\n",
        "          split(df.nama,\" \").alias(\"arrayNama\")).show()"
      ],
      "metadata": {
        "colab": {
          "base_uri": "https://localhost:8080/"
        },
        "id": "RRd2EbKxKs7I",
        "outputId": "031bcced-227e-45f0-a02a-c80f04860fe6"
      },
      "execution_count": 26,
      "outputs": [
        {
          "output_type": "stream",
          "name": "stdout",
          "text": [
            "+------------+-------+---------------+---------------+\n",
            "|        nama|jurusan|          nilai|      arrayNama|\n",
            "+------------+-------+---------------+---------------+\n",
            "| Agus Supono|      F|[100, 150, 150]| [Agus, Supono]|\n",
            "|Budi Sumardi|      B|[200, 100, 150]|[Budi, Sumardi]|\n",
            "|Dina Mariana|      F|[150, 150, 130]|[Dina, Mariana]|\n",
            "|Dedi Setiadi|      B| [50, 100, 100]|[Dedi, Setiadi]|\n",
            "+------------+-------+---------------+---------------+\n",
            "\n"
          ]
        }
      ]
    },
    {
      "cell_type": "markdown",
      "source": [
        "####Fungsi `array()`\n",
        "\n",
        "Fungsi ini digunakan untuk membentuk kolom bertipe array dari gabungan kolom-kolom lain. Misalnya kita memiliki dataframe seperti berikut ini\n"
      ],
      "metadata": {
        "id": "MlskbQNOMJRM"
      }
    },
    {
      "cell_type": "code",
      "source": [
        "data1 = [['Agus Supono','F',100,150,150],\n",
        "        ['Budi Sumardi','B',200,100,150],\n",
        "        ['Dina Mariana','F',150,150,130],\n",
        "        ['Dedi Setiadi','B', 50,100,100]]\n",
        "\n",
        "mycolumns = [\"nama\",\"jurusan\",\"nilai1\",\"nilai2\",\"nilai3\"]\n",
        "df1 = spark.createDataFrame(data1, mycolumns)\n",
        "df1.show()\n",
        "df1.printSchema()"
      ],
      "metadata": {
        "colab": {
          "base_uri": "https://localhost:8080/"
        },
        "id": "3hzaGi1uMLAp",
        "outputId": "5d7cb192-8f30-4501-dce2-c461d17bfc6c"
      },
      "execution_count": 21,
      "outputs": [
        {
          "output_type": "stream",
          "name": "stdout",
          "text": [
            "+------------+-------+------+------+------+\n",
            "|        nama|jurusan|nilai1|nilai2|nilai3|\n",
            "+------------+-------+------+------+------+\n",
            "| Agus Supono|      F|   100|   150|   150|\n",
            "|Budi Sumardi|      B|   200|   100|   150|\n",
            "|Dina Mariana|      F|   150|   150|   130|\n",
            "|Dedi Setiadi|      B|    50|   100|   100|\n",
            "+------------+-------+------+------+------+\n",
            "\n",
            "root\n",
            " |-- nama: string (nullable = true)\n",
            " |-- jurusan: string (nullable = true)\n",
            " |-- nilai1: long (nullable = true)\n",
            " |-- nilai2: long (nullable = true)\n",
            " |-- nilai3: long (nullable = true)\n",
            "\n"
          ]
        }
      ]
    },
    {
      "cell_type": "markdown",
      "source": [
        "Kita dapat membentuk kolom `nilai` yang dibentuk dari kolom-kolom `nilai1`, `nilai2`, dan `nilai3`\n"
      ],
      "metadata": {
        "id": "BWSVcpuVMrm_"
      }
    },
    {
      "cell_type": "code",
      "source": [
        "df1.select(df1.nama, df1.jurusan,\n",
        "           array(df1.nilai1,df1.nilai2,df1.nilai2)\n",
        "           .alias(\"nilai\")).show()"
      ],
      "metadata": {
        "colab": {
          "base_uri": "https://localhost:8080/"
        },
        "id": "DHsxx3rYMnD2",
        "outputId": "ace2ee01-5571-446b-d6dc-9698fb8ed039"
      },
      "execution_count": 58,
      "outputs": [
        {
          "output_type": "stream",
          "name": "stdout",
          "text": [
            "+------------+-------+---------------+\n",
            "|        nama|jurusan|          nilai|\n",
            "+------------+-------+---------------+\n",
            "| Agus Supono|      F|[100, 150, 150]|\n",
            "|Budi Sumardi|      B|[200, 100, 100]|\n",
            "|Dina Mariana|      F|[150, 150, 150]|\n",
            "|Dedi Setiadi|      B| [50, 100, 100]|\n",
            "+------------+-------+---------------+\n",
            "\n"
          ]
        }
      ]
    }
  ]
}