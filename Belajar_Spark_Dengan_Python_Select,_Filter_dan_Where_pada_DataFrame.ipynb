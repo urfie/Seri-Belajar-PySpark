{
  "nbformat": 4,
  "nbformat_minor": 0,
  "metadata": {
    "colab": {
      "provenance": [],
      "toc_visible": true
    },
    "kernelspec": {
      "name": "python3",
      "display_name": "Python 3"
    },
    "language_info": {
      "name": "python"
    }
  },
  "cells": [
    {
      "cell_type": "code",
      "execution_count": 1,
      "metadata": {
        "colab": {
          "base_uri": "https://localhost:8080/"
        },
        "id": "3YsxlynyFZ0N",
        "outputId": "105e51bc-7156-4484-b35e-a84d9bf724fd"
      },
      "outputs": [
        {
          "output_type": "stream",
          "name": "stdout",
          "text": [
            "Collecting pyspark\n",
            "  Downloading pyspark-3.4.1.tar.gz (310.8 MB)\n",
            "\u001b[2K     \u001b[90m━━━━━━━━━━━━━━━━━━━━━━━━━━━━━━━━━━━━━━━\u001b[0m \u001b[32m310.8/310.8 MB\u001b[0m \u001b[31m2.7 MB/s\u001b[0m eta \u001b[36m0:00:00\u001b[0m\n",
            "\u001b[?25h  Preparing metadata (setup.py) ... \u001b[?25l\u001b[?25hdone\n",
            "Requirement already satisfied: py4j==0.10.9.7 in /usr/local/lib/python3.10/dist-packages (from pyspark) (0.10.9.7)\n",
            "Building wheels for collected packages: pyspark\n",
            "  Building wheel for pyspark (setup.py) ... \u001b[?25l\u001b[?25hdone\n",
            "  Created wheel for pyspark: filename=pyspark-3.4.1-py2.py3-none-any.whl size=311285398 sha256=8db1aecddb2496bef804c6f753a6ee5b095b992c177bc78ee6bc5018d0b205bd\n",
            "  Stored in directory: /root/.cache/pip/wheels/0d/77/a3/ff2f74cc9ab41f8f594dabf0579c2a7c6de920d584206e0834\n",
            "Successfully built pyspark\n",
            "Installing collected packages: pyspark\n",
            "Successfully installed pyspark-3.4.1\n"
          ]
        }
      ],
      "source": [
        "%pip install pyspark"
      ]
    },
    {
      "cell_type": "markdown",
      "source": [
        "Import packages yang diperlukan"
      ],
      "metadata": {
        "id": "cQRkyoq81g-r"
      }
    },
    {
      "cell_type": "code",
      "source": [
        "from pyspark.sql import SparkSession\n",
        "from pyspark.sql import functions as F"
      ],
      "metadata": {
        "id": "8V4lQvx6HIiO"
      },
      "execution_count": 2,
      "outputs": []
    },
    {
      "cell_type": "markdown",
      "source": [
        "Create spark session"
      ],
      "metadata": {
        "id": "-KM-8sDt1j6D"
      }
    },
    {
      "cell_type": "code",
      "source": [
        "spark = SparkSession.builder.appName('Belajar PySpark - Filter').getOrCreate()"
      ],
      "metadata": {
        "id": "97aBSg6dGu9V"
      },
      "execution_count": 3,
      "outputs": []
    },
    {
      "cell_type": "markdown",
      "source": [
        "Buat dataframe"
      ],
      "metadata": {
        "id": "tPh6d_Bx1l1a"
      }
    },
    {
      "cell_type": "code",
      "source": [
        "data = [['Agus','Fisika',100],['Windy','Fisika',200],\n",
        "        ['Budi','Biologi',200],['Dina','Fisika',150],\n",
        "        ['Bayu','Fisika',50],['Dedi','Biologi',50]]\n",
        "\n",
        "kolom = ['nama','jurusan','nilai']\n",
        "\n",
        "df = spark.createDataFrame(data,kolom)\n",
        "\n",
        "df.show()"
      ],
      "metadata": {
        "colab": {
          "base_uri": "https://localhost:8080/"
        },
        "id": "KUXGwHVdFfB2",
        "outputId": "fc7bf39c-91fa-40be-e0df-b5768cab6239"
      },
      "execution_count": 4,
      "outputs": [
        {
          "output_type": "stream",
          "name": "stdout",
          "text": [
            "+-----+-------+-----+\n",
            "| nama|jurusan|nilai|\n",
            "+-----+-------+-----+\n",
            "| Agus| Fisika|  100|\n",
            "|Windy| Fisika|  200|\n",
            "| Budi|Biologi|  200|\n",
            "| Dina| Fisika|  150|\n",
            "| Bayu| Fisika|   50|\n",
            "| Dedi|Biologi|   50|\n",
            "+-----+-------+-----+\n",
            "\n"
          ]
        }
      ]
    },
    {
      "cell_type": "markdown",
      "source": [
        "##Memilih kolom dengan fungsi `select()`"
      ],
      "metadata": {
        "id": "QYBOfIlF1Cv2"
      }
    },
    {
      "cell_type": "code",
      "source": [
        "df.select(['nama', 'nilai']).show()"
      ],
      "metadata": {
        "colab": {
          "base_uri": "https://localhost:8080/"
        },
        "id": "sEf8wsHL1KM1",
        "outputId": "4d3909f5-7c11-43e0-a000-6a7bd6d067bd"
      },
      "execution_count": 20,
      "outputs": [
        {
          "output_type": "stream",
          "name": "stdout",
          "text": [
            "+-----+-----+\n",
            "| nama|nilai|\n",
            "+-----+-----+\n",
            "| Agus|  100|\n",
            "|Windy|  200|\n",
            "| Budi|  200|\n",
            "| Dina|  150|\n",
            "| Bayu|   50|\n",
            "| Dedi|   50|\n",
            "+-----+-----+\n",
            "\n"
          ]
        }
      ]
    },
    {
      "cell_type": "markdown",
      "source": [
        "##Menggunakan fungsi filter()"
      ],
      "metadata": {
        "id": "K_CZh510KXht"
      }
    },
    {
      "cell_type": "markdown",
      "source": [
        "###Filter dengan satu kondisi"
      ],
      "metadata": {
        "id": "Q1_uD_puKbEn"
      }
    },
    {
      "cell_type": "code",
      "source": [
        "df.filter(df.nilai > 150).show()"
      ],
      "metadata": {
        "colab": {
          "base_uri": "https://localhost:8080/"
        },
        "id": "HhNGO58kZqw0",
        "outputId": "829ddd2b-c291-4c58-8b5a-bb19ab2b671a"
      },
      "execution_count": 5,
      "outputs": [
        {
          "output_type": "stream",
          "name": "stdout",
          "text": [
            "+-----+-------+-----+\n",
            "| nama|jurusan|nilai|\n",
            "+-----+-------+-----+\n",
            "|Windy| Fisika|  200|\n",
            "| Budi|Biologi|  200|\n",
            "+-----+-------+-----+\n",
            "\n"
          ]
        }
      ]
    },
    {
      "cell_type": "markdown",
      "source": [
        "###Mengakses kolom dengan `df[“nama kolom”]` atau fungsi `col()`"
      ],
      "metadata": {
        "id": "11scFArcKfbJ"
      }
    },
    {
      "cell_type": "code",
      "source": [
        "kolom_1 = ['nama','jurusan','nilai total']\n",
        "df_1 = spark.createDataFrame(data,kolom_1)\n",
        "\n",
        "df_1.filter(df_1['nilai total'] > 150).show()"
      ],
      "metadata": {
        "colab": {
          "base_uri": "https://localhost:8080/"
        },
        "id": "9o7VU_UnHi7Q",
        "outputId": "be519fb7-39af-4344-961e-69f7db380f70"
      },
      "execution_count": 6,
      "outputs": [
        {
          "output_type": "stream",
          "name": "stdout",
          "text": [
            "+-----+-------+-----------+\n",
            "| nama|jurusan|nilai total|\n",
            "+-----+-------+-----------+\n",
            "|Windy| Fisika|        200|\n",
            "| Budi|Biologi|        200|\n",
            "+-----+-------+-----------+\n",
            "\n"
          ]
        }
      ]
    },
    {
      "cell_type": "code",
      "source": [
        "df_1[['nama','nilai total']].show()"
      ],
      "metadata": {
        "colab": {
          "base_uri": "https://localhost:8080/"
        },
        "id": "bBQBd3SIN3II",
        "outputId": "5cf10bd0-3a54-481d-e41c-d5dee5448059"
      },
      "execution_count": 7,
      "outputs": [
        {
          "output_type": "stream",
          "name": "stdout",
          "text": [
            "+-----+-----------+\n",
            "| nama|nilai total|\n",
            "+-----+-----------+\n",
            "| Agus|        100|\n",
            "|Windy|        200|\n",
            "| Budi|        200|\n",
            "| Dina|        150|\n",
            "| Bayu|         50|\n",
            "| Dedi|         50|\n",
            "+-----+-----------+\n",
            "\n"
          ]
        }
      ]
    },
    {
      "cell_type": "code",
      "source": [
        "from pyspark.sql.functions import col\n",
        "\n",
        "df_1.filter(col('nilai total') > 150).show()"
      ],
      "metadata": {
        "colab": {
          "base_uri": "https://localhost:8080/"
        },
        "id": "mm085Y7iIria",
        "outputId": "f5040195-129e-4641-f3f7-58c40869d320"
      },
      "execution_count": 8,
      "outputs": [
        {
          "output_type": "stream",
          "name": "stdout",
          "text": [
            "+-----+-------+-----------+\n",
            "| nama|jurusan|nilai total|\n",
            "+-----+-------+-----------+\n",
            "|Windy| Fisika|        200|\n",
            "| Budi|Biologi|        200|\n",
            "+-----+-------+-----------+\n",
            "\n"
          ]
        }
      ]
    },
    {
      "cell_type": "markdown",
      "source": [
        "###Filter dengan beberapa kondisi"
      ],
      "metadata": {
        "id": "gVKYz3sAKolG"
      }
    },
    {
      "cell_type": "code",
      "source": [
        "df.filter((df.nilai > 150) &\n",
        "          (df.jurusan == 'Fisika')).show()"
      ],
      "metadata": {
        "colab": {
          "base_uri": "https://localhost:8080/"
        },
        "id": "OX_I15zlh6DB",
        "outputId": "0fe527ac-27a3-426c-d525-eed7ba368664"
      },
      "execution_count": 9,
      "outputs": [
        {
          "output_type": "stream",
          "name": "stdout",
          "text": [
            "+-----+-------+-----+\n",
            "| nama|jurusan|nilai|\n",
            "+-----+-------+-----+\n",
            "|Windy| Fisika|  200|\n",
            "+-----+-------+-----+\n",
            "\n"
          ]
        }
      ]
    },
    {
      "cell_type": "markdown",
      "source": [
        "###Filter dengan menggunakan list/`isin()`"
      ],
      "metadata": {
        "id": "T2K3F0GYKsoE"
      }
    },
    {
      "cell_type": "code",
      "source": [
        "df.filter(df.nilai.isin([50,150])).show()"
      ],
      "metadata": {
        "colab": {
          "base_uri": "https://localhost:8080/"
        },
        "id": "nYi4ffBGEDy7",
        "outputId": "2ef8f430-faca-429b-a279-77dfa78330da"
      },
      "execution_count": 10,
      "outputs": [
        {
          "output_type": "stream",
          "name": "stdout",
          "text": [
            "+----+-------+-----+\n",
            "|nama|jurusan|nilai|\n",
            "+----+-------+-----+\n",
            "|Dina| Fisika|  150|\n",
            "|Bayu| Fisika|   50|\n",
            "|Dedi|Biologi|   50|\n",
            "+----+-------+-----+\n",
            "\n"
          ]
        }
      ]
    },
    {
      "cell_type": "code",
      "source": [
        "df.filter(~df.nilai.isin([50,150])).show()"
      ],
      "metadata": {
        "colab": {
          "base_uri": "https://localhost:8080/"
        },
        "id": "iTFUyqjEPcN8",
        "outputId": "ad3ec649-c9f9-4f5a-8472-72a596301216"
      },
      "execution_count": 11,
      "outputs": [
        {
          "output_type": "stream",
          "name": "stdout",
          "text": [
            "+-----+-------+-----+\n",
            "| nama|jurusan|nilai|\n",
            "+-----+-------+-----+\n",
            "| Agus| Fisika|  100|\n",
            "|Windy| Fisika|  200|\n",
            "| Budi|Biologi|  200|\n",
            "+-----+-------+-----+\n",
            "\n"
          ]
        }
      ]
    },
    {
      "cell_type": "markdown",
      "source": [
        "###Filter dengan komparasi string"
      ],
      "metadata": {
        "id": "46agfTLgj436"
      }
    },
    {
      "cell_type": "code",
      "source": [
        "df.filter(df.nama.startswith('D')).show()"
      ],
      "metadata": {
        "colab": {
          "base_uri": "https://localhost:8080/"
        },
        "id": "lFn7yUZyj8fn",
        "outputId": "0b639055-1817-462a-cac9-b29a7122920d"
      },
      "execution_count": 12,
      "outputs": [
        {
          "output_type": "stream",
          "name": "stdout",
          "text": [
            "+----+-------+-----+\n",
            "|nama|jurusan|nilai|\n",
            "+----+-------+-----+\n",
            "|Dina| Fisika|  150|\n",
            "|Dedi|Biologi|   50|\n",
            "+----+-------+-----+\n",
            "\n"
          ]
        }
      ]
    },
    {
      "cell_type": "code",
      "source": [
        "df.filter(df.nama.endswith('i')).show()"
      ],
      "metadata": {
        "colab": {
          "base_uri": "https://localhost:8080/"
        },
        "id": "QoJ3uBmPkRHg",
        "outputId": "88616953-5008-49ca-e238-f17c2bf19976"
      },
      "execution_count": 13,
      "outputs": [
        {
          "output_type": "stream",
          "name": "stdout",
          "text": [
            "+----+-------+-----+\n",
            "|nama|jurusan|nilai|\n",
            "+----+-------+-----+\n",
            "|Budi|Biologi|  200|\n",
            "|Dedi|Biologi|   50|\n",
            "+----+-------+-----+\n",
            "\n"
          ]
        }
      ]
    },
    {
      "cell_type": "code",
      "source": [
        "df.filter(df.nama.contains('in')).show()"
      ],
      "metadata": {
        "colab": {
          "base_uri": "https://localhost:8080/"
        },
        "id": "kj6rY6Y_kuhR",
        "outputId": "3af628fd-38fa-4a8c-a4da-a625b88c9036"
      },
      "execution_count": 14,
      "outputs": [
        {
          "output_type": "stream",
          "name": "stdout",
          "text": [
            "+-----+-------+-----+\n",
            "| nama|jurusan|nilai|\n",
            "+-----+-------+-----+\n",
            "|Windy| Fisika|  200|\n",
            "| Dina| Fisika|  150|\n",
            "+-----+-------+-----+\n",
            "\n"
          ]
        }
      ]
    },
    {
      "cell_type": "markdown",
      "source": [
        "###Filter dengan `like()`"
      ],
      "metadata": {
        "id": "A8Lpb2vhNRO4"
      }
    },
    {
      "cell_type": "code",
      "source": [
        "df.filter(df.nama.like('%in%')).show()"
      ],
      "metadata": {
        "colab": {
          "base_uri": "https://localhost:8080/"
        },
        "id": "FO0Vp9ZKNUtP",
        "outputId": "b0659219-2b46-462b-8b80-96e68fccf5a8"
      },
      "execution_count": 15,
      "outputs": [
        {
          "output_type": "stream",
          "name": "stdout",
          "text": [
            "+-----+-------+-----+\n",
            "| nama|jurusan|nilai|\n",
            "+-----+-------+-----+\n",
            "|Windy| Fisika|  200|\n",
            "| Dina| Fisika|  150|\n",
            "+-----+-------+-----+\n",
            "\n"
          ]
        }
      ]
    },
    {
      "cell_type": "markdown",
      "source": [
        "##Menggunakan fungsi where()"
      ],
      "metadata": {
        "id": "-iZ8iCkqK18d"
      }
    },
    {
      "cell_type": "code",
      "source": [
        "df.where(df.nilai > 150).show()"
      ],
      "metadata": {
        "colab": {
          "base_uri": "https://localhost:8080/"
        },
        "id": "scJVbNgNqwO3",
        "outputId": "80aceb7b-adc7-4342-98a7-88527b798844"
      },
      "execution_count": 16,
      "outputs": [
        {
          "output_type": "stream",
          "name": "stdout",
          "text": [
            "+-----+-------+-----+\n",
            "| nama|jurusan|nilai|\n",
            "+-----+-------+-----+\n",
            "|Windy| Fisika|  200|\n",
            "| Budi|Biologi|  200|\n",
            "+-----+-------+-----+\n",
            "\n"
          ]
        }
      ]
    },
    {
      "cell_type": "code",
      "source": [
        "df.where((df.nilai > 150) &\n",
        "          (df.jurusan == 'Fisika')).show()"
      ],
      "metadata": {
        "colab": {
          "base_uri": "https://localhost:8080/"
        },
        "id": "EzcP6wrrK6hB",
        "outputId": "bd61cb96-9871-49b5-f9fe-793572dc8224"
      },
      "execution_count": 17,
      "outputs": [
        {
          "output_type": "stream",
          "name": "stdout",
          "text": [
            "+-----+-------+-----+\n",
            "| nama|jurusan|nilai|\n",
            "+-----+-------+-----+\n",
            "|Windy| Fisika|  200|\n",
            "+-----+-------+-----+\n",
            "\n"
          ]
        }
      ]
    },
    {
      "cell_type": "code",
      "source": [
        "df.where(df.nama.contains('in')).show()"
      ],
      "metadata": {
        "colab": {
          "base_uri": "https://localhost:8080/"
        },
        "id": "ZTRFYqHTq1ot",
        "outputId": "11e16116-14a1-443e-f28e-a090a7a35366"
      },
      "execution_count": 18,
      "outputs": [
        {
          "output_type": "stream",
          "name": "stdout",
          "text": [
            "+-----+-------+-----+\n",
            "| nama|jurusan|nilai|\n",
            "+-----+-------+-----+\n",
            "|Windy| Fisika|  200|\n",
            "| Dina| Fisika|  150|\n",
            "+-----+-------+-----+\n",
            "\n"
          ]
        }
      ]
    }
  ]
}