{
  "nbformat": 4,
  "nbformat_minor": 0,
  "metadata": {
    "colab": {
      "provenance": [],
      "toc_visible": true
    },
    "kernelspec": {
      "name": "python3",
      "display_name": "Python 3"
    },
    "language_info": {
      "name": "python"
    }
  },
  "cells": [
    {
      "cell_type": "markdown",
      "source": [
        "#Belajar Pyspark - Membaca File JSON"
      ],
      "metadata": {
        "id": "loueMJbfjlZq"
      }
    },
    {
      "cell_type": "markdown",
      "source": [
        "Dalam notebook ini kita akan belajar tentang bagaimana membaca file csv ke dalam dataframe, beserta penerapan beberapa parameternya."
      ],
      "metadata": {
        "id": "8fBObxkEIMTP"
      }
    },
    {
      "cell_type": "code",
      "execution_count": 1,
      "metadata": {
        "colab": {
          "base_uri": "https://localhost:8080/"
        },
        "id": "3YsxlynyFZ0N",
        "outputId": "d2f8d3ce-a4ef-49fc-e83b-007c537938f4"
      },
      "outputs": [
        {
          "output_type": "stream",
          "name": "stdout",
          "text": [
            "Collecting pyspark\n",
            "  Downloading pyspark-3.5.0.tar.gz (316.9 MB)\n",
            "\u001b[2K     \u001b[90m━━━━━━━━━━━━━━━━━━━━━━━━━━━━━━━━━━━━━━━━\u001b[0m \u001b[32m316.9/316.9 MB\u001b[0m \u001b[31m4.5 MB/s\u001b[0m eta \u001b[36m0:00:00\u001b[0m\n",
            "\u001b[?25h  Preparing metadata (setup.py) ... \u001b[?25l\u001b[?25hdone\n",
            "Requirement already satisfied: py4j==0.10.9.7 in /usr/local/lib/python3.10/dist-packages (from pyspark) (0.10.9.7)\n",
            "Building wheels for collected packages: pyspark\n",
            "  Building wheel for pyspark (setup.py) ... \u001b[?25l\u001b[?25hdone\n",
            "  Created wheel for pyspark: filename=pyspark-3.5.0-py2.py3-none-any.whl size=317425344 sha256=df9a8fdc4dfb30484f66ef78ff226db822eb93a162410aabefe80f1d9a46f82e\n",
            "  Stored in directory: /root/.cache/pip/wheels/41/4e/10/c2cf2467f71c678cfc8a6b9ac9241e5e44a01940da8fbb17fc\n",
            "Successfully built pyspark\n",
            "Installing collected packages: pyspark\n",
            "Successfully installed pyspark-3.5.0\n"
          ]
        }
      ],
      "source": [
        "%pip install pyspark"
      ]
    },
    {
      "cell_type": "code",
      "source": [
        "from pyspark.sql import SparkSession\n",
        "import pyspark.sql.functions as F"
      ],
      "metadata": {
        "id": "8V4lQvx6HIiO"
      },
      "execution_count": 2,
      "outputs": []
    },
    {
      "cell_type": "code",
      "source": [
        "spark = SparkSession.builder.appName(\"Belajar PySpark - Membaca file csv\").getOrCreate()"
      ],
      "metadata": {
        "id": "97aBSg6dGu9V"
      },
      "execution_count": 3,
      "outputs": []
    },
    {
      "cell_type": "markdown",
      "source": [
        "##Membaca File JSON"
      ],
      "metadata": {
        "id": "_UsM-q2IWxBF"
      }
    },
    {
      "cell_type": "code",
      "source": [
        "!wget https://raw.githubusercontent.com/urfie/Seri-Belajar-PySpark/main/dataset/people.json"
      ],
      "metadata": {
        "colab": {
          "base_uri": "https://localhost:8080/"
        },
        "id": "ShLOQAe3GkEb",
        "outputId": "56db64db-d7cd-4860-a3fe-3a239457cf33"
      },
      "execution_count": 4,
      "outputs": [
        {
          "output_type": "stream",
          "name": "stdout",
          "text": [
            "--2023-10-25 10:13:37--  https://raw.githubusercontent.com/urfie/Seri-Belajar-PySpark/main/dataset/people.json\n",
            "Resolving raw.githubusercontent.com (raw.githubusercontent.com)... 185.199.109.133, 185.199.111.133, 185.199.108.133, ...\n",
            "Connecting to raw.githubusercontent.com (raw.githubusercontent.com)|185.199.109.133|:443... connected.\n",
            "HTTP request sent, awaiting response... 200 OK\n",
            "Length: 152 [text/plain]\n",
            "Saving to: ‘people.json’\n",
            "\n",
            "\rpeople.json           0%[                    ]       0  --.-KB/s               \rpeople.json         100%[===================>]     152  --.-KB/s    in 0s      \n",
            "\n",
            "2023-10-25 10:13:38 (5.60 MB/s) - ‘people.json’ saved [152/152]\n",
            "\n"
          ]
        }
      ]
    },
    {
      "cell_type": "markdown",
      "source": [],
      "metadata": {
        "id": "iFxsVHKtK205"
      }
    },
    {
      "cell_type": "code",
      "source": [
        "!cat people.json"
      ],
      "metadata": {
        "colab": {
          "base_uri": "https://localhost:8080/"
        },
        "id": "kd1VKzJVKzSr",
        "outputId": "259cfcd4-009b-4503-94cf-ff3a334ca3b4"
      },
      "execution_count": 5,
      "outputs": [
        {
          "output_type": "stream",
          "name": "stdout",
          "text": [
            "{ \"name\": \"Chris\", \"age\": 23, \"city\": \"New York\" },\n",
            "{ \"name\": \"Emily\", \"age\": 19, \"city\": \"Atlanta\" },\n",
            "{ \"name\": \"Joe\", \"age\": 32, \"city\": \"New York\" }\n"
          ]
        }
      ]
    },
    {
      "cell_type": "markdown",
      "source": [
        "###Menggunakan fungsi `spark.read.json`"
      ],
      "metadata": {
        "id": "p5SLu4E6CTx3"
      }
    },
    {
      "cell_type": "code",
      "source": [
        "df = spark.read.json(\"people.json\")\n",
        "df.printSchema()\n",
        "df.show()"
      ],
      "metadata": {
        "id": "ZwZ9UhaqoL_y",
        "colab": {
          "base_uri": "https://localhost:8080/"
        },
        "outputId": "1bc22c7e-0e0c-41f7-ec01-6b4e7a5b2e1c"
      },
      "execution_count": 6,
      "outputs": [
        {
          "output_type": "stream",
          "name": "stdout",
          "text": [
            "root\n",
            " |-- age: long (nullable = true)\n",
            " |-- city: string (nullable = true)\n",
            " |-- name: string (nullable = true)\n",
            "\n",
            "+---+--------+-----+\n",
            "|age|    city| name|\n",
            "+---+--------+-----+\n",
            "| 23|New York|Chris|\n",
            "| 19| Atlanta|Emily|\n",
            "| 32|New York|  Joe|\n",
            "+---+--------+-----+\n",
            "\n"
          ]
        }
      ]
    },
    {
      "cell_type": "markdown",
      "source": [
        "###Menggunakan fungsi general reader `spark.read.format(\"json\")`"
      ],
      "metadata": {
        "id": "W1sJMmkyXqsU"
      }
    },
    {
      "cell_type": "code",
      "source": [
        "df = spark.read.format(\"json\").load(\"people.json\")\n",
        "df.printSchema()\n",
        "df.show()"
      ],
      "metadata": {
        "colab": {
          "base_uri": "https://localhost:8080/"
        },
        "id": "p1NA_RM8Luud",
        "outputId": "bc20f7ac-e106-4c44-9ead-f06b0a733ec6"
      },
      "execution_count": 8,
      "outputs": [
        {
          "output_type": "stream",
          "name": "stdout",
          "text": [
            "root\n",
            " |-- age: long (nullable = true)\n",
            " |-- city: string (nullable = true)\n",
            " |-- name: string (nullable = true)\n",
            "\n",
            "+---+--------+-----+\n",
            "|age|    city| name|\n",
            "+---+--------+-----+\n",
            "| 23|New York|Chris|\n",
            "| 19| Atlanta|Emily|\n",
            "| 32|New York|  Joe|\n",
            "+---+--------+-----+\n",
            "\n"
          ]
        }
      ]
    },
    {
      "cell_type": "markdown",
      "source": [
        "##Membaca File Multiline JSON"
      ],
      "metadata": {
        "id": "tJV4pJ9BW5rZ"
      }
    },
    {
      "cell_type": "code",
      "source": [
        "!wget https://raw.githubusercontent.com/urfie/Seri-Belajar-PySpark/main/dataset/people_multi.json"
      ],
      "metadata": {
        "colab": {
          "base_uri": "https://localhost:8080/"
        },
        "id": "YMtYO1cDXqyJ",
        "outputId": "7560f598-c543-46c8-a623-0db9fb1c6944"
      },
      "execution_count": null,
      "outputs": [
        {
          "output_type": "stream",
          "name": "stdout",
          "text": [
            "--2023-10-25 01:12:36--  https://raw.githubusercontent.com/urfie/Seri-Belajar-PySpark/main/dataset/people_multi.json\n",
            "Resolving raw.githubusercontent.com (raw.githubusercontent.com)... 185.199.111.133, 185.199.108.133, 185.199.109.133, ...\n",
            "Connecting to raw.githubusercontent.com (raw.githubusercontent.com)|185.199.111.133|:443... connected.\n",
            "HTTP request sent, awaiting response... 200 OK\n",
            "Length: 216 [text/plain]\n",
            "Saving to: ‘people_multi.json’\n",
            "\n",
            "people_multi.json   100%[===================>]     216  --.-KB/s    in 0s      \n",
            "\n",
            "2023-10-25 01:12:36 (10.5 MB/s) - ‘people_multi.json’ saved [216/216]\n",
            "\n"
          ]
        }
      ]
    },
    {
      "cell_type": "code",
      "source": [
        "!cat people_multi.json"
      ],
      "metadata": {
        "colab": {
          "base_uri": "https://localhost:8080/"
        },
        "id": "4slI9JgbXsT-",
        "outputId": "1a04e021-64a1-49e8-9107-b224972c2b6a"
      },
      "execution_count": null,
      "outputs": [
        {
          "output_type": "stream",
          "name": "stdout",
          "text": [
            "[\n",
            "  { \n",
            "    \"name\": \"Chris\", \n",
            "    \"age\": 23, \n",
            "    \"city\": \"New York\" \n",
            "  },\n",
            "  { \n",
            "    \"name\": \"Emily\", \n",
            "    \"age\": 19, \n",
            "    \"city\": \"Atlanta\" \n",
            "  },\n",
            "  { \n",
            "    \"name\": \"Joe\", \n",
            "    \"age\": 32, \n",
            "    \"city\": \"New York\" \n",
            "  }\n",
            "]\n"
          ]
        }
      ]
    },
    {
      "cell_type": "markdown",
      "source": [
        "###Menggunakan fungsi `spark.read.json`"
      ],
      "metadata": {
        "id": "EgHuI6hrXvyc"
      }
    },
    {
      "cell_type": "code",
      "source": [
        "df = spark.read.json(\"people_multi.json\", multiLine=True)\n",
        "df.printSchema()\n",
        "df.show()"
      ],
      "metadata": {
        "colab": {
          "base_uri": "https://localhost:8080/"
        },
        "id": "E1NdDVelXw5J",
        "outputId": "61b5ef7a-ae7f-4116-dbad-df6e1676e572"
      },
      "execution_count": null,
      "outputs": [
        {
          "output_type": "stream",
          "name": "stdout",
          "text": [
            "root\n",
            " |-- age: long (nullable = true)\n",
            " |-- city: string (nullable = true)\n",
            " |-- name: string (nullable = true)\n",
            "\n",
            "+---+--------+-----+\n",
            "|age|    city| name|\n",
            "+---+--------+-----+\n",
            "| 23|New York|Chris|\n",
            "| 19| Atlanta|Emily|\n",
            "| 32|New York|  Joe|\n",
            "+---+--------+-----+\n",
            "\n"
          ]
        }
      ]
    },
    {
      "cell_type": "markdown",
      "source": [
        "###Menggunakan fungsi general reader `spark.read.format(\"json\")`"
      ],
      "metadata": {
        "id": "nmIpa4caXywa"
      }
    },
    {
      "cell_type": "code",
      "source": [
        "df = spark.read.format(\"json\") \\\n",
        "        .options(multiLine=True) \\\n",
        "        .load(\"people_multi.json\")\n",
        "\n",
        "df.printSchema()\n",
        "df.show()"
      ],
      "metadata": {
        "colab": {
          "base_uri": "https://localhost:8080/"
        },
        "id": "FyFpc9Z0uN1K",
        "outputId": "965ae755-b3bb-4656-acd7-df70d86c3b93"
      },
      "execution_count": null,
      "outputs": [
        {
          "output_type": "stream",
          "name": "stdout",
          "text": [
            "root\n",
            " |-- age: long (nullable = true)\n",
            " |-- city: string (nullable = true)\n",
            " |-- name: string (nullable = true)\n",
            "\n",
            "+---+--------+-----+\n",
            "|age|    city| name|\n",
            "+---+--------+-----+\n",
            "| 23|New York|Chris|\n",
            "| 19| Atlanta|Emily|\n",
            "| 32|New York|  Joe|\n",
            "+---+--------+-----+\n",
            "\n"
          ]
        }
      ]
    },
    {
      "cell_type": "markdown",
      "source": [
        "##Membaca File JSON dengan perintah SQL `CREATE TEMPORARY VIEW`"
      ],
      "metadata": {
        "id": "xVfTGpmiW9oS"
      }
    },
    {
      "cell_type": "code",
      "source": [
        "spark.sql(\"CREATE OR REPLACE TEMPORARY VIEW people\" +\n",
        "          \" USING json\" +\n",
        "          \" OPTIONS\" +\n",
        "          \"   (path 'people_multi.json',\" +\n",
        "          \"     multiline 'True')\")\n",
        "\n",
        "spark.sql(\"select * from people\").show()"
      ],
      "metadata": {
        "colab": {
          "base_uri": "https://localhost:8080/"
        },
        "id": "vqJRidUmaWjI",
        "outputId": "b26db21d-718a-44b3-82da-9060a4fb3ce2"
      },
      "execution_count": null,
      "outputs": [
        {
          "output_type": "stream",
          "name": "stdout",
          "text": [
            "+---+--------+-----+\n",
            "|age|    city| name|\n",
            "+---+--------+-----+\n",
            "| 23|New York|Chris|\n",
            "| 19| Atlanta|Emily|\n",
            "| 32|New York|  Joe|\n",
            "+---+--------+-----+\n",
            "\n"
          ]
        }
      ]
    },
    {
      "cell_type": "markdown",
      "source": [
        "##Menentukan Urutan Kolom"
      ],
      "metadata": {
        "id": "CNsNbL0eX2cm"
      }
    },
    {
      "cell_type": "code",
      "source": [
        "df = spark.read.json(\"people_multi.json\", multiLine=True) \\\n",
        "          .select(\"name\", \"age\", \"city\")\n",
        "df.show()"
      ],
      "metadata": {
        "colab": {
          "base_uri": "https://localhost:8080/"
        },
        "id": "m0bXoe7je6zS",
        "outputId": "20f8351c-69f0-44b0-94de-6858584e9294"
      },
      "execution_count": null,
      "outputs": [
        {
          "output_type": "stream",
          "name": "stdout",
          "text": [
            "+-----+---+--------+\n",
            "| name|age|    city|\n",
            "+-----+---+--------+\n",
            "|Chris| 23|New York|\n",
            "|Emily| 19| Atlanta|\n",
            "|  Joe| 32|New York|\n",
            "+-----+---+--------+\n",
            "\n"
          ]
        }
      ]
    },
    {
      "cell_type": "markdown",
      "source": [
        "##Opsi Pada JSON Reader"
      ],
      "metadata": {
        "id": "QsgMOiOrXF6y"
      }
    },
    {
      "cell_type": "code",
      "source": [
        "!wget https://raw.githubusercontent.com/urfie/Seri-Belajar-PySpark/main/dataset/people_nonquote.json"
      ],
      "metadata": {
        "colab": {
          "base_uri": "https://localhost:8080/"
        },
        "id": "2Fd1UJmohBQ4",
        "outputId": "758c8b6f-3e5d-4c5c-c8d2-1832fd765a96"
      },
      "execution_count": null,
      "outputs": [
        {
          "output_type": "stream",
          "name": "stdout",
          "text": [
            "--2023-10-25 03:22:21--  https://raw.githubusercontent.com/urfie/Seri-Belajar-PySpark/main/dataset/people_nonquote.json\n",
            "Resolving raw.githubusercontent.com (raw.githubusercontent.com)... 185.199.108.133, 185.199.109.133, 185.199.110.133, ...\n",
            "Connecting to raw.githubusercontent.com (raw.githubusercontent.com)|185.199.108.133|:443... connected.\n",
            "HTTP request sent, awaiting response... 200 OK\n",
            "Length: 88 [text/plain]\n",
            "Saving to: ‘people_nonquote.json’\n",
            "\n",
            "\rpeople_nonquote.jso   0%[                    ]       0  --.-KB/s               \rpeople_nonquote.jso 100%[===================>]      88  --.-KB/s    in 0s      \n",
            "\n",
            "2023-10-25 03:22:21 (6.68 MB/s) - ‘people_nonquote.json’ saved [88/88]\n",
            "\n"
          ]
        }
      ]
    },
    {
      "cell_type": "code",
      "source": [
        "!cat people_nonquote.json"
      ],
      "metadata": {
        "colab": {
          "base_uri": "https://localhost:8080/"
        },
        "id": "HVgVh-1A2wFl",
        "outputId": "26bf7153-abee-4fe6-d4fb-994a25bddd1a"
      },
      "execution_count": null,
      "outputs": [
        {
          "output_type": "stream",
          "name": "stdout",
          "text": [
            "[\n",
            "  { \n",
            "    name: \"Chris\", \n",
            "    age: 30 \n",
            "  },\n",
            "  { \n",
            "    name: \"Emily\", \n",
            "    age: 19\n",
            "  }\n",
            "]\n"
          ]
        }
      ]
    },
    {
      "cell_type": "markdown",
      "source": [
        "###Menggunakan fungsi `spark.read.json`"
      ],
      "metadata": {
        "id": "cFFoTg1iXWMO"
      }
    },
    {
      "cell_type": "code",
      "source": [
        "df = spark.read.json(\"people_nonquote.json\",\n",
        "                     multiLine=True,\n",
        "                     allowUnquotedFieldNames=True)\n",
        "df.printSchema()\n",
        "df.show()"
      ],
      "metadata": {
        "colab": {
          "base_uri": "https://localhost:8080/"
        },
        "id": "RBs_dSgIgSIC",
        "outputId": "910ed149-8cc2-4858-f727-3282cf37d716"
      },
      "execution_count": null,
      "outputs": [
        {
          "output_type": "stream",
          "name": "stdout",
          "text": [
            "root\n",
            " |-- age: long (nullable = true)\n",
            " |-- name: string (nullable = true)\n",
            "\n",
            "+---+-----+\n",
            "|age| name|\n",
            "+---+-----+\n",
            "| 30|Chris|\n",
            "| 19|Emily|\n",
            "+---+-----+\n",
            "\n"
          ]
        }
      ]
    },
    {
      "cell_type": "markdown",
      "source": [
        "###Menggunakan fungsi `spark.read.format(\"json\")`"
      ],
      "metadata": {
        "id": "JcRnACx7Xcfv"
      }
    },
    {
      "cell_type": "code",
      "source": [
        "df = spark.read.format(\"json\") \\\n",
        "                .options(multiLine=True) \\\n",
        "                .options(allowUnquotedFieldNames=True) \\\n",
        "                .load(\"people_nonquote.json\")\n",
        "df.printSchema()\n",
        "df.show()"
      ],
      "metadata": {
        "colab": {
          "base_uri": "https://localhost:8080/"
        },
        "id": "jEu-cuZ33KoO",
        "outputId": "998ed0f4-1474-4a29-cbd7-3a020e1bd3a1"
      },
      "execution_count": null,
      "outputs": [
        {
          "output_type": "stream",
          "name": "stdout",
          "text": [
            "root\n",
            " |-- age: long (nullable = true)\n",
            " |-- name: string (nullable = true)\n",
            "\n",
            "+---+-----+\n",
            "|age| name|\n",
            "+---+-----+\n",
            "| 30|Chris|\n",
            "| 19|Emily|\n",
            "+---+-----+\n",
            "\n"
          ]
        }
      ]
    },
    {
      "cell_type": "markdown",
      "source": [
        "###Menggunakan SQL Statement"
      ],
      "metadata": {
        "id": "R36LL6NsXf_R"
      }
    },
    {
      "cell_type": "code",
      "source": [
        "spark.sql(\"CREATE OR REPLACE TEMPORARY VIEW people\" +\n",
        "          \" USING json\" +\n",
        "          \" OPTIONS\" +\n",
        "          \"   (path 'people_nonquote.json',\" +\n",
        "          \"     multiline 'True',\"\n",
        "          \"     allowUnquotedFieldNames='True')\")\n",
        "\n",
        "spark.sql(\"select * from people\").show()"
      ],
      "metadata": {
        "colab": {
          "base_uri": "https://localhost:8080/"
        },
        "id": "_6fSnrhF3uWJ",
        "outputId": "7f15853b-9162-424e-a8d0-e9ad452bc915"
      },
      "execution_count": null,
      "outputs": [
        {
          "output_type": "stream",
          "name": "stdout",
          "text": [
            "+---+-----+\n",
            "|age| name|\n",
            "+---+-----+\n",
            "| 30|Chris|\n",
            "| 19|Emily|\n",
            "+---+-----+\n",
            "\n"
          ]
        }
      ]
    }
  ]
}