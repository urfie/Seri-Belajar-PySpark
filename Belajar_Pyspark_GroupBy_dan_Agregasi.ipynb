{
  "nbformat": 4,
  "nbformat_minor": 0,
  "metadata": {
    "colab": {
      "provenance": [],
      "toc_visible": true
    },
    "kernelspec": {
      "name": "python3",
      "display_name": "Python 3"
    },
    "language_info": {
      "name": "python"
    }
  },
  "cells": [
    {
      "cell_type": "markdown",
      "source": [
        "#Belajar Pyspark - GroupBy dan Agregasi"
      ],
      "metadata": {
        "id": "loueMJbfjlZq"
      }
    },
    {
      "cell_type": "markdown",
      "source": [
        "Bagi anda yang familiar dengan SQL atau pandas, `groupBy` pada pyspark dataframe serupa dengan klausa `GROUP BY` pada SQL ataupun `groupby()` pada pandas dataframe. Fungsinya adalah untuk mengelompokkan data berdasar satu atau beberapa nilai kolom yang sama.\n"
      ],
      "metadata": {
        "id": "8fBObxkEIMTP"
      }
    },
    {
      "cell_type": "code",
      "execution_count": 1,
      "metadata": {
        "colab": {
          "base_uri": "https://localhost:8080/"
        },
        "id": "3YsxlynyFZ0N",
        "outputId": "761f8184-ec73-42ea-dbd7-aff5f5d84416"
      },
      "outputs": [
        {
          "output_type": "stream",
          "name": "stdout",
          "text": [
            "Collecting pyspark\n",
            "  Downloading pyspark-3.4.1.tar.gz (310.8 MB)\n",
            "\u001b[2K     \u001b[90m━━━━━━━━━━━━━━━━━━━━━━━━━━━━━━━━━━━━━━━\u001b[0m \u001b[32m310.8/310.8 MB\u001b[0m \u001b[31m4.6 MB/s\u001b[0m eta \u001b[36m0:00:00\u001b[0m\n",
            "\u001b[?25h  Preparing metadata (setup.py) ... \u001b[?25l\u001b[?25hdone\n",
            "Requirement already satisfied: py4j==0.10.9.7 in /usr/local/lib/python3.10/dist-packages (from pyspark) (0.10.9.7)\n",
            "Building wheels for collected packages: pyspark\n",
            "  Building wheel for pyspark (setup.py) ... \u001b[?25l\u001b[?25hdone\n",
            "  Created wheel for pyspark: filename=pyspark-3.4.1-py2.py3-none-any.whl size=311285388 sha256=c5d80e244b1ade03e806bf9457e504178adda76a66a661c9c3a207e78e12444c\n",
            "  Stored in directory: /root/.cache/pip/wheels/0d/77/a3/ff2f74cc9ab41f8f594dabf0579c2a7c6de920d584206e0834\n",
            "Successfully built pyspark\n",
            "Installing collected packages: pyspark\n",
            "Successfully installed pyspark-3.4.1\n"
          ]
        }
      ],
      "source": [
        "%pip install pyspark"
      ]
    },
    {
      "cell_type": "code",
      "source": [
        "from pyspark.sql import SparkSession\n",
        "import pyspark.sql.functions as F\n"
      ],
      "metadata": {
        "id": "8V4lQvx6HIiO"
      },
      "execution_count": 2,
      "outputs": []
    },
    {
      "cell_type": "code",
      "source": [
        "spark = SparkSession.builder.appName(\"Belajar PySpark - Grouping dan Agregasi\").getOrCreate()"
      ],
      "metadata": {
        "id": "97aBSg6dGu9V"
      },
      "execution_count": 17,
      "outputs": []
    },
    {
      "cell_type": "markdown",
      "source": [
        "Sebelumnya kita buat DataFrame dari sebuah python list, lalu kita akan lakukan transformasi terhadap DataFrame tersebut.\n"
      ],
      "metadata": {
        "id": "ySN3f0_wIPTe"
      }
    },
    {
      "cell_type": "code",
      "source": [
        "data = [['Agus','Fisika',1,130,100],['Windy','Fisika',2,200,150],\n",
        "        ['Budi','Biologi',1,200,150],['Dina','Fisika',2,150,200],\n",
        "        ['Bayu','Fisika',1,150,200],['Dedi','Biologi',2,50,150]]\n",
        "\n",
        "kolom = [\"nama\",\"jurusan\",\"semester\",\"nilai1\",\"nilai2\"]\n",
        "\n",
        "df = spark.createDataFrame(data,kolom)\n",
        "\n",
        "df.show()"
      ],
      "metadata": {
        "colab": {
          "base_uri": "https://localhost:8080/"
        },
        "id": "KUXGwHVdFfB2",
        "outputId": "e473fd2c-03cc-4a07-a261-bc55e3013366"
      },
      "execution_count": 18,
      "outputs": [
        {
          "output_type": "stream",
          "name": "stdout",
          "text": [
            "+-----+-------+--------+------+------+\n",
            "| nama|jurusan|semester|nilai1|nilai2|\n",
            "+-----+-------+--------+------+------+\n",
            "| Agus| Fisika|       1|   130|   100|\n",
            "|Windy| Fisika|       2|   200|   150|\n",
            "| Budi|Biologi|       1|   200|   150|\n",
            "| Dina| Fisika|       2|   150|   200|\n",
            "| Bayu| Fisika|       1|   150|   200|\n",
            "| Dedi|Biologi|       2|    50|   150|\n",
            "+-----+-------+--------+------+------+\n",
            "\n"
          ]
        }
      ]
    },
    {
      "cell_type": "markdown",
      "source": [
        "Fungsi groupBy mengembalikan object bertipe pyspark.sql.group.GroupedData. Object ini memiliki beberapa fungsi yang diperlukan untuk melakukan agregasi, yaitu : `sum, avg, max, min, count`, dan `agg`.\n"
      ],
      "metadata": {
        "id": "DJiTmjY1j8zH"
      }
    },
    {
      "cell_type": "code",
      "source": [
        "result = df.groupBy(\"jurusan\")\n",
        "type(result)"
      ],
      "metadata": {
        "colab": {
          "base_uri": "https://localhost:8080/"
        },
        "id": "eceolXnij9Ed",
        "outputId": "deb22621-0861-4fa3-ae31-28af59b56ef3"
      },
      "execution_count": 19,
      "outputs": [
        {
          "output_type": "execute_result",
          "data": {
            "text/plain": [
              "pyspark.sql.group.GroupedData"
            ]
          },
          "metadata": {},
          "execution_count": 19
        }
      ]
    },
    {
      "cell_type": "markdown",
      "source": [
        "##Agregasi dengan sum, avg, min dan max\n",
        "\n",
        "Jika tidak ditentukan kolom mana yang akan diagregasi (tanpa parameter), maka akan dilakukan fungsi agregasi yang sama untuk semua kolom numerik\n"
      ],
      "metadata": {
        "id": "ArFLQbyPm2sI"
      }
    },
    {
      "cell_type": "code",
      "source": [
        "result.avg().show()"
      ],
      "metadata": {
        "colab": {
          "base_uri": "https://localhost:8080/"
        },
        "id": "qTue0KLJ3pmB",
        "outputId": "2febd8f9-5e6a-4c46-a7ff-351ab0aafa3e"
      },
      "execution_count": 20,
      "outputs": [
        {
          "output_type": "stream",
          "name": "stdout",
          "text": [
            "+-------+-------------+-----------+-----------+\n",
            "|jurusan|avg(semester)|avg(nilai1)|avg(nilai2)|\n",
            "+-------+-------------+-----------+-----------+\n",
            "| Fisika|          1.5|      157.5|      162.5|\n",
            "|Biologi|          1.5|      125.0|      150.0|\n",
            "+-------+-------------+-----------+-----------+\n",
            "\n"
          ]
        }
      ]
    },
    {
      "cell_type": "markdown",
      "source": [
        "Kita bisa memilih satu atau beberapa kolom yang akan diagregasi dengan menuliskan nama kolom sebagai parameter"
      ],
      "metadata": {
        "id": "9wc37qXBm77_"
      }
    },
    {
      "cell_type": "code",
      "source": [
        "df.groupBy(\"jurusan\",\"semester\").avg(\"nilai1\").show()"
      ],
      "metadata": {
        "colab": {
          "base_uri": "https://localhost:8080/"
        },
        "id": "5-_9D8gCyP--",
        "outputId": "3172a42f-ff1f-4cb6-9d29-49bd8b3b11b2"
      },
      "execution_count": 36,
      "outputs": [
        {
          "output_type": "stream",
          "name": "stdout",
          "text": [
            "+-------+--------+-----------+\n",
            "|jurusan|semester|avg(nilai1)|\n",
            "+-------+--------+-----------+\n",
            "|Biologi|       1|      200.0|\n",
            "| Fisika|       1|      140.0|\n",
            "| Fisika|       2|      175.0|\n",
            "|Biologi|       2|       50.0|\n",
            "+-------+--------+-----------+\n",
            "\n"
          ]
        }
      ]
    },
    {
      "cell_type": "markdown",
      "source": [
        "###Agregat multiple kolom"
      ],
      "metadata": {
        "id": "znPB9p6q6zFB"
      }
    },
    {
      "cell_type": "code",
      "source": [
        "df.groupBy(\"jurusan\",\"semester\").min(\"nilai1\",\"nilai2\").show()\n",
        "df.groupBy(\"jurusan\",\"semester\").max(\"nilai1\",\"nilai2\").show()"
      ],
      "metadata": {
        "colab": {
          "base_uri": "https://localhost:8080/"
        },
        "id": "g1173tsT63pL",
        "outputId": "2a443c8b-8fb4-4255-8514-71c498593521"
      },
      "execution_count": 39,
      "outputs": [
        {
          "output_type": "stream",
          "name": "stdout",
          "text": [
            "+-------+--------+-----------+-----------+\n",
            "|jurusan|semester|min(nilai1)|min(nilai2)|\n",
            "+-------+--------+-----------+-----------+\n",
            "|Biologi|       1|        200|        150|\n",
            "| Fisika|       1|        130|        100|\n",
            "| Fisika|       2|        150|        150|\n",
            "|Biologi|       2|         50|        150|\n",
            "+-------+--------+-----------+-----------+\n",
            "\n",
            "+-------+--------+-----------+-----------+\n",
            "|jurusan|semester|max(nilai1)|max(nilai2)|\n",
            "+-------+--------+-----------+-----------+\n",
            "|Biologi|       1|        200|        150|\n",
            "| Fisika|       1|        150|        200|\n",
            "| Fisika|       2|        200|        200|\n",
            "|Biologi|       2|         50|        150|\n",
            "+-------+--------+-----------+-----------+\n",
            "\n"
          ]
        }
      ]
    },
    {
      "cell_type": "markdown",
      "source": [
        "###Agregasi dengan `Count()`\n",
        "\n",
        "Berbeda dengan fungsi lainnya, `count()` tidak menerima parameter apapun. Fungsi `count()` mengembalikan jumlah record tiap group\n"
      ],
      "metadata": {
        "id": "X57MdWtT66Cd"
      }
    },
    {
      "cell_type": "code",
      "source": [
        "df.groupBy(\"jurusan\").count().show()"
      ],
      "metadata": {
        "id": "ct-l68i04acB",
        "outputId": "01d915fc-f2b6-48e6-9aef-31b1013c18bf",
        "colab": {
          "base_uri": "https://localhost:8080/"
        }
      },
      "execution_count": 9,
      "outputs": [
        {
          "output_type": "stream",
          "name": "stdout",
          "text": [
            "+-------+-----+\n",
            "|jurusan|count|\n",
            "+-------+-----+\n",
            "| Fisika|    4|\n",
            "|Biologi|    2|\n",
            "+-------+-----+\n",
            "\n"
          ]
        }
      ]
    },
    {
      "cell_type": "markdown",
      "source": [
        "##agregasi dengan fungsi `agg()`"
      ],
      "metadata": {
        "id": "QypxtrAfpZZa"
      }
    },
    {
      "cell_type": "markdown",
      "source": [
        "Fungsi agg menerima parameter berupa fungsi-fungsi agregasi dari [pyspark.sql.functions](https://spark.apache.org/docs/latest/api/python/reference/pyspark.sql/functions.html#aggregate-functions) atau dictionary mapping `{namakolom : fungsi agregasi}`.\n",
        "\n",
        "Kelebihan menggunakan `agg()` diantaranya adalah :\n",
        "pilihan fungsi agregasi yang luas,\n",
        "dapat menggunakan beberapa fungsi agregasi yang berbeda dalam satu grouping, dan\n",
        "dapat menggunakan alias untuk menamai kolom hasil agregasi.\n"
      ],
      "metadata": {
        "id": "MPNBYleonMkZ"
      }
    },
    {
      "cell_type": "code",
      "source": [
        "df.groupBy(\"jurusan\").agg(F.avg(\"nilai2\")).show()"
      ],
      "metadata": {
        "id": "j5rbTgYE2gP7",
        "colab": {
          "base_uri": "https://localhost:8080/"
        },
        "outputId": "0e4bb8d5-6ee0-428f-93eb-15c532d15012"
      },
      "execution_count": 13,
      "outputs": [
        {
          "output_type": "stream",
          "name": "stdout",
          "text": [
            "+-------+-----------+\n",
            "|jurusan|sum(nilai2)|\n",
            "+-------+-----------+\n",
            "| Fisika|        650|\n",
            "|Biologi|        300|\n",
            "+-------+-----------+\n",
            "\n"
          ]
        }
      ]
    },
    {
      "cell_type": "markdown",
      "source": [
        "###Multiple aggregation"
      ],
      "metadata": {
        "id": "nPw5zo02qnUv"
      }
    },
    {
      "cell_type": "code",
      "source": [
        "df.groupBy(\"jurusan\").agg(F.min(\"nilai1\"),\n",
        "                          F.max(\"nilai1\")).show()"
      ],
      "metadata": {
        "id": "-9_7ossfqrwU",
        "colab": {
          "base_uri": "https://localhost:8080/"
        },
        "outputId": "6553b974-63aa-4f56-fb41-7c0c2906940f"
      },
      "execution_count": 15,
      "outputs": [
        {
          "output_type": "stream",
          "name": "stdout",
          "text": [
            "+-------+-----------+-----------+\n",
            "|jurusan|min(nilai1)|max(nilai1)|\n",
            "+-------+-----------+-----------+\n",
            "| Fisika|        130|        200|\n",
            "|Biologi|         50|        200|\n",
            "+-------+-----------+-----------+\n",
            "\n"
          ]
        }
      ]
    },
    {
      "cell_type": "markdown",
      "source": [
        "###Menggunakan alias"
      ],
      "metadata": {
        "id": "UDP8T3fDqsJU"
      }
    },
    {
      "cell_type": "code",
      "source": [
        "df.groupBy(\"jurusan\") \\\n",
        "    .agg(F.min(\"nilai1\").alias(\"min_nilai1\"),\n",
        "         F.max(\"nilai1\").alias(\"max_nilai1\"),\n",
        "         F.median(\"nilai1\").alias(\"median_nilai1\"),\n",
        "         F.count(\"nilai1\").alias(\"jumlah_siswa\")).show()"
      ],
      "metadata": {
        "id": "PIEAJIXuqyPp",
        "colab": {
          "base_uri": "https://localhost:8080/"
        },
        "outputId": "a8f9f163-b566-420f-8266-a70e893034ee"
      },
      "execution_count": 46,
      "outputs": [
        {
          "output_type": "stream",
          "name": "stdout",
          "text": [
            "+-------+----------+----------+-------------+------------+\n",
            "|jurusan|min_nilai1|max_nilai1|median_nilai1|jumlah_siswa|\n",
            "+-------+----------+----------+-------------+------------+\n",
            "| Fisika|       130|       200|        150.0|           4|\n",
            "|Biologi|        50|       200|        125.0|           2|\n",
            "+-------+----------+----------+-------------+------------+\n",
            "\n"
          ]
        }
      ]
    },
    {
      "cell_type": "markdown",
      "source": [
        "###`agg()` dengan dictionary\n",
        "\n",
        "Meskipun cukup jarang digunakan karena relatif sulit dibaca dan kurang fleksibel, kita dapat menggunakan dictionary\n"
      ],
      "metadata": {
        "id": "ha3V29C3bGTU"
      }
    },
    {
      "cell_type": "code",
      "source": [
        "df.groupBy().agg(\n",
        "    {\"*\": \"count\",\"nilai1\":\"min\",\"nilai2\":\"max\"}).show()"
      ],
      "metadata": {
        "colab": {
          "base_uri": "https://localhost:8080/"
        },
        "id": "4czwqwRRagAa",
        "outputId": "1f0e9f1d-c188-43bc-f1d8-fb5a5071e762"
      },
      "execution_count": 43,
      "outputs": [
        {
          "output_type": "stream",
          "name": "stdout",
          "text": [
            "+-----------+-----------+--------+\n",
            "|max(nilai2)|min(nilai1)|count(1)|\n",
            "+-----------+-----------+--------+\n",
            "|        200|         50|       6|\n",
            "+-----------+-----------+--------+\n",
            "\n"
          ]
        }
      ]
    },
    {
      "cell_type": "markdown",
      "source": [
        "##Agregasi dengan expr()\n",
        "\n",
        "Selain menggunakan fungsi-fungsi agregasi, kita juga dapat menggunakan fungsi expr(). Fungsi ini bermanfaat jika kita ingin melakukan pemrosesan kolom sebelum diagregasi. Misalnya seperti contoh di bawah ini\n"
      ],
      "metadata": {
        "id": "6abyxhdi_FfQ"
      }
    },
    {
      "cell_type": "code",
      "source": [
        "df.groupBy(\"jurusan\", \"semester\").\\\n",
        "    agg(F.expr(\"avg(round((nilai1 + nilai2)/5)) as rerata_total\")).show()"
      ],
      "metadata": {
        "colab": {
          "base_uri": "https://localhost:8080/"
        },
        "id": "vR4jLkj0NNP4",
        "outputId": "055d3fe7-a904-4884-d7b4-838c7e40b689"
      },
      "execution_count": 47,
      "outputs": [
        {
          "output_type": "stream",
          "name": "stdout",
          "text": [
            "+-------+--------+------------+\n",
            "|jurusan|semester|rerata_total|\n",
            "+-------+--------+------------+\n",
            "|Biologi|       1|        70.0|\n",
            "| Fisika|       1|        58.0|\n",
            "| Fisika|       2|        70.0|\n",
            "|Biologi|       2|        40.0|\n",
            "+-------+--------+------------+\n",
            "\n"
          ]
        }
      ]
    }
  ]
}