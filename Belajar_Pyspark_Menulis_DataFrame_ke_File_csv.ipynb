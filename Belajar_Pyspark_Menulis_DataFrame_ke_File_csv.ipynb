{
  "nbformat": 4,
  "nbformat_minor": 0,
  "metadata": {
    "colab": {
      "provenance": []
    },
    "kernelspec": {
      "name": "python3",
      "display_name": "Python 3"
    },
    "language_info": {
      "name": "python"
    }
  },
  "cells": [
    {
      "cell_type": "markdown",
      "source": [
        "#Belajar Pyspark - Menulis DataFrame ke File csv"
      ],
      "metadata": {
        "id": "loueMJbfjlZq"
      }
    },
    {
      "cell_type": "markdown",
      "source": [
        "Dalam notebook ini kita akan belajar tentang bagaimana menyimpan dataframe ke file csv, beserta penerapan beberapa parameternya."
      ],
      "metadata": {
        "id": "8fBObxkEIMTP"
      }
    },
    {
      "cell_type": "code",
      "execution_count": 1,
      "metadata": {
        "id": "3YsxlynyFZ0N",
        "colab": {
          "base_uri": "https://localhost:8080/"
        },
        "outputId": "5ffcc2a6-2519-4be7-d065-b024dfede4ce"
      },
      "outputs": [
        {
          "output_type": "stream",
          "name": "stdout",
          "text": [
            "Collecting pyspark\n",
            "  Downloading pyspark-3.5.1.tar.gz (317.0 MB)\n",
            "\u001b[2K     \u001b[90m━━━━━━━━━━━━━━━━━━━━━━━━━━━━━━━━━━━━━━━━\u001b[0m \u001b[32m317.0/317.0 MB\u001b[0m \u001b[31m1.2 MB/s\u001b[0m eta \u001b[36m0:00:00\u001b[0m\n",
            "\u001b[?25h  Preparing metadata (setup.py) ... \u001b[?25l\u001b[?25hdone\n",
            "Requirement already satisfied: py4j==0.10.9.7 in /usr/local/lib/python3.10/dist-packages (from pyspark) (0.10.9.7)\n",
            "Building wheels for collected packages: pyspark\n",
            "  Building wheel for pyspark (setup.py) ... \u001b[?25l\u001b[?25hdone\n",
            "  Created wheel for pyspark: filename=pyspark-3.5.1-py2.py3-none-any.whl size=317488493 sha256=e66ac09a0beabf2e7a4344bcefbd6297d4c66c9d58a082a7aaef5565327a2e53\n",
            "  Stored in directory: /root/.cache/pip/wheels/80/1d/60/2c256ed38dddce2fdd93be545214a63e02fbd8d74fb0b7f3a6\n",
            "Successfully built pyspark\n",
            "Installing collected packages: pyspark\n",
            "Successfully installed pyspark-3.5.1\n"
          ]
        }
      ],
      "source": [
        "%pip install pyspark"
      ]
    },
    {
      "cell_type": "code",
      "source": [
        "from pyspark.sql import SparkSession\n",
        "import pyspark.sql.functions as F"
      ],
      "metadata": {
        "id": "8V4lQvx6HIiO"
      },
      "execution_count": 2,
      "outputs": []
    },
    {
      "cell_type": "code",
      "source": [
        "spark = SparkSession.builder.appName(\"Belajar PySpark - Menulis file csv\").getOrCreate()"
      ],
      "metadata": {
        "id": "97aBSg6dGu9V"
      },
      "execution_count": 3,
      "outputs": []
    },
    {
      "cell_type": "code",
      "source": [
        "data = [['Agus','Fisika','Umum',150],['Windy','Fisika','Khusus',200],\n",
        "        ['Budi','Biologi','Umum',170],['Dina','Fisika','Khusus',180],\n",
        "        ['Bayu','Fisika','Umum',160],['Dedi','Biologi','Khusus',185]]\n",
        "\n",
        "kolom = [\"nama\",\"jurusan\",\"jalur\",\"nilai\"]\n",
        "\n",
        "df = spark.createDataFrame(data, kolom)\n",
        "\n",
        "df.show()"
      ],
      "metadata": {
        "colab": {
          "base_uri": "https://localhost:8080/"
        },
        "id": "iIFkoSBvs-JV",
        "outputId": "e7cf38aa-1cf6-45ce-c58d-05914418f804"
      },
      "execution_count": 4,
      "outputs": [
        {
          "output_type": "stream",
          "name": "stdout",
          "text": [
            "+-----+-------+------+-----+\n",
            "| nama|jurusan| jalur|nilai|\n",
            "+-----+-------+------+-----+\n",
            "| Agus| Fisika|  Umum|  150|\n",
            "|Windy| Fisika|Khusus|  200|\n",
            "| Budi|Biologi|  Umum|  170|\n",
            "| Dina| Fisika|Khusus|  180|\n",
            "| Bayu| Fisika|  Umum|  160|\n",
            "| Dedi|Biologi|Khusus|  185|\n",
            "+-----+-------+------+-----+\n",
            "\n"
          ]
        }
      ]
    },
    {
      "cell_type": "markdown",
      "source": [
        "##Menulis dengan fungsi `write.csv`"
      ],
      "metadata": {
        "id": "m2iRtn9_F1im"
      }
    },
    {
      "cell_type": "code",
      "source": [
        "!rm -rf mahasiswa"
      ],
      "metadata": {
        "id": "WwPqPcVFxnWx"
      },
      "execution_count": 5,
      "outputs": []
    },
    {
      "cell_type": "code",
      "source": [
        "df.write.csv(\"mahasiswa\")"
      ],
      "metadata": {
        "id": "YE79zOjaxMzY"
      },
      "execution_count": 6,
      "outputs": []
    },
    {
      "cell_type": "code",
      "source": [
        "!ls -l mahasiswa"
      ],
      "metadata": {
        "colab": {
          "base_uri": "https://localhost:8080/"
        },
        "id": "8JbQ3tZpyb1c",
        "outputId": "3201c410-fad6-461b-9239-bb19c343159c"
      },
      "execution_count": 7,
      "outputs": [
        {
          "output_type": "stream",
          "name": "stdout",
          "text": [
            "total 8\n",
            "-rw-r--r-- 1 root root 67 Feb 27 03:44 part-00000-176b0de0-7836-42ba-abe3-0547dd64a0db-c000.csv\n",
            "-rw-r--r-- 1 root root 68 Feb 27 03:44 part-00001-176b0de0-7836-42ba-abe3-0547dd64a0db-c000.csv\n",
            "-rw-r--r-- 1 root root  0 Feb 27 03:44 _SUCCESS\n"
          ]
        }
      ]
    },
    {
      "cell_type": "code",
      "source": [
        "!head mahasiswa/part-00000-1135635c-7d3c-4495-939b-4edb9c1430e0-c000.csv"
      ],
      "metadata": {
        "colab": {
          "base_uri": "https://localhost:8080/"
        },
        "id": "E7fI-SH-re63",
        "outputId": "547304b7-41f4-488d-d3cb-552276a3dc60"
      },
      "execution_count": 8,
      "outputs": [
        {
          "output_type": "stream",
          "name": "stdout",
          "text": [
            "head: cannot open 'mahasiswa/part-00000-1135635c-7d3c-4495-939b-4edb9c1430e0-c000.csv' for reading: No such file or directory\n"
          ]
        }
      ]
    },
    {
      "cell_type": "code",
      "source": [
        "!cat mahasiswa/*"
      ],
      "metadata": {
        "colab": {
          "base_uri": "https://localhost:8080/"
        },
        "id": "K5ay0TMTEMzB",
        "outputId": "dba2ca34-dd1c-4687-bacf-8156768e1019"
      },
      "execution_count": 9,
      "outputs": [
        {
          "output_type": "stream",
          "name": "stdout",
          "text": [
            "Agus,Fisika,Umum,150\n",
            "Windy,Fisika,Khusus,200\n",
            "Budi,Biologi,Umum,170\n",
            "Dina,Fisika,Khusus,180\n",
            "Bayu,Fisika,Umum,160\n",
            "Dedi,Biologi,Khusus,185\n"
          ]
        }
      ]
    },
    {
      "cell_type": "markdown",
      "source": [
        "###Menulis dengan header"
      ],
      "metadata": {
        "id": "BCNmrKhOF9TJ"
      }
    },
    {
      "cell_type": "code",
      "source": [
        "!rm -rf mahasiswa_header"
      ],
      "metadata": {
        "id": "WGgF0FnjOndQ"
      },
      "execution_count": 10,
      "outputs": []
    },
    {
      "cell_type": "code",
      "source": [
        "df.write.csv(\"mahasiswa_header\", header=True)"
      ],
      "metadata": {
        "id": "ZxBU3GUCFz7D"
      },
      "execution_count": 11,
      "outputs": []
    },
    {
      "cell_type": "code",
      "source": [
        "!ls -l mahasiswa_header"
      ],
      "metadata": {
        "colab": {
          "base_uri": "https://localhost:8080/"
        },
        "id": "08LbnoKustsQ",
        "outputId": "055f62d0-aa28-45e8-ebbc-27a35916ca68"
      },
      "execution_count": 12,
      "outputs": [
        {
          "output_type": "stream",
          "name": "stdout",
          "text": [
            "total 8\n",
            "-rw-r--r-- 1 root root 92 Feb 27 03:44 part-00000-3ed9465e-8dc7-450e-a6cb-574878c00c69-c000.csv\n",
            "-rw-r--r-- 1 root root 93 Feb 27 03:44 part-00001-3ed9465e-8dc7-450e-a6cb-574878c00c69-c000.csv\n",
            "-rw-r--r-- 1 root root  0 Feb 27 03:44 _SUCCESS\n"
          ]
        }
      ]
    },
    {
      "cell_type": "code",
      "source": [
        "!cat mahasiswa_header/*"
      ],
      "metadata": {
        "colab": {
          "base_uri": "https://localhost:8080/"
        },
        "id": "TrHcAjfgGEyx",
        "outputId": "82deada3-c3f7-4ed1-bab8-d06973a5cd9b"
      },
      "execution_count": 13,
      "outputs": [
        {
          "output_type": "stream",
          "name": "stdout",
          "text": [
            "nama,jurusan,jalur,nilai\n",
            "Agus,Fisika,Umum,150\n",
            "Windy,Fisika,Khusus,200\n",
            "Budi,Biologi,Umum,170\n",
            "nama,jurusan,jalur,nilai\n",
            "Dina,Fisika,Khusus,180\n",
            "Bayu,Fisika,Umum,160\n",
            "Dedi,Biologi,Khusus,185\n"
          ]
        }
      ]
    },
    {
      "cell_type": "markdown",
      "source": [
        "###Menulis dengan delimiter lain"
      ],
      "metadata": {
        "id": "ggqKX1leGbel"
      }
    },
    {
      "cell_type": "code",
      "source": [
        "!rm -rf mahasiswa_delim"
      ],
      "metadata": {
        "id": "ys2PqBIlOsrw"
      },
      "execution_count": 14,
      "outputs": []
    },
    {
      "cell_type": "code",
      "source": [
        "df.write.csv(\"mahasiswa_delim\", sep=\"|\")"
      ],
      "metadata": {
        "id": "pUFw4HQMGbCa"
      },
      "execution_count": 15,
      "outputs": []
    },
    {
      "cell_type": "code",
      "source": [
        "!cat mahasiswa_delim/*"
      ],
      "metadata": {
        "colab": {
          "base_uri": "https://localhost:8080/"
        },
        "id": "Zph9tplSG4ft",
        "outputId": "befb7f6c-6d73-416a-edf7-30d9dd174431"
      },
      "execution_count": 16,
      "outputs": [
        {
          "output_type": "stream",
          "name": "stdout",
          "text": [
            "Agus|Fisika|Umum|150\n",
            "Windy|Fisika|Khusus|200\n",
            "Budi|Biologi|Umum|170\n",
            "Dina|Fisika|Khusus|180\n",
            "Bayu|Fisika|Umum|160\n",
            "Dedi|Biologi|Khusus|185\n"
          ]
        }
      ]
    },
    {
      "cell_type": "markdown",
      "source": [
        "###Menggunakan fungsi `write.option()`"
      ],
      "metadata": {
        "id": "rWIwGuBMwF2_"
      }
    },
    {
      "cell_type": "code",
      "source": [
        "!rm -rf mahasiswa_delim"
      ],
      "metadata": {
        "id": "1dUjBVFSqhlt"
      },
      "execution_count": 18,
      "outputs": []
    },
    {
      "cell_type": "code",
      "source": [
        "df.write.option(\"sep\",\"|\") \\\n",
        "    .option(\"header\", True) \\\n",
        "    .csv(\"mahasiswa_delim\")"
      ],
      "metadata": {
        "id": "JpoNiczhvm2x"
      },
      "execution_count": 19,
      "outputs": []
    },
    {
      "cell_type": "markdown",
      "source": [
        "##Menulis dengan `write.format`"
      ],
      "metadata": {
        "id": "UOjPYxE8L896"
      }
    },
    {
      "cell_type": "code",
      "source": [
        "!rm -rf mahasiswa_format"
      ],
      "metadata": {
        "id": "NL_RP2ztOxEM"
      },
      "execution_count": 20,
      "outputs": []
    },
    {
      "cell_type": "code",
      "source": [
        "df.write.format(\"csv\").save(\"mahasiswa_format\")"
      ],
      "metadata": {
        "id": "sRxZSpq8MCB-"
      },
      "execution_count": 21,
      "outputs": []
    },
    {
      "cell_type": "code",
      "source": [
        "!cat mahasiswa_format/*"
      ],
      "metadata": {
        "colab": {
          "base_uri": "https://localhost:8080/"
        },
        "id": "fSyHouyvMr5n",
        "outputId": "864edd9b-781a-4f92-9261-1c472d5416a3"
      },
      "execution_count": 22,
      "outputs": [
        {
          "output_type": "stream",
          "name": "stdout",
          "text": [
            "Agus,Fisika,Umum,150\n",
            "Windy,Fisika,Khusus,200\n",
            "Budi,Biologi,Umum,170\n",
            "Dina,Fisika,Khusus,180\n",
            "Bayu,Fisika,Umum,160\n",
            "Dedi,Biologi,Khusus,185\n"
          ]
        }
      ]
    },
    {
      "cell_type": "markdown",
      "source": [
        "###Menulis dengan header"
      ],
      "metadata": {
        "id": "GrNMF5kSNfj3"
      }
    },
    {
      "cell_type": "code",
      "source": [
        "!rm -rf mahasiswa_format_header"
      ],
      "metadata": {
        "id": "jlPC45PmNDkh"
      },
      "execution_count": 23,
      "outputs": []
    },
    {
      "cell_type": "code",
      "source": [
        "df.write.format(\"csv\") \\\n",
        "    .option(\"header\",True) \\\n",
        "    .save(\"mahasiswa_format_header\")"
      ],
      "metadata": {
        "id": "isgAk8wCMvz8"
      },
      "execution_count": 24,
      "outputs": []
    },
    {
      "cell_type": "code",
      "source": [
        "!cat mahasiswa_format_header/*"
      ],
      "metadata": {
        "colab": {
          "base_uri": "https://localhost:8080/"
        },
        "id": "5rREa7CzNI9B",
        "outputId": "dbcefaf6-5862-42ca-b41f-4ddd7febfc55"
      },
      "execution_count": 25,
      "outputs": [
        {
          "output_type": "stream",
          "name": "stdout",
          "text": [
            "nama,jurusan,jalur,nilai\n",
            "Agus,Fisika,Umum,150\n",
            "Windy,Fisika,Khusus,200\n",
            "Budi,Biologi,Umum,170\n",
            "nama,jurusan,jalur,nilai\n",
            "Dina,Fisika,Khusus,180\n",
            "Bayu,Fisika,Umum,160\n",
            "Dedi,Biologi,Khusus,185\n"
          ]
        }
      ]
    },
    {
      "cell_type": "markdown",
      "source": [
        "###Menulis dengan delimiter lain"
      ],
      "metadata": {
        "id": "0v-NMDNoNjJ_"
      }
    },
    {
      "cell_type": "code",
      "source": [
        "!rm -rf mahasiswa_format_delim"
      ],
      "metadata": {
        "id": "OPjMx47HO3dZ"
      },
      "execution_count": 26,
      "outputs": []
    },
    {
      "cell_type": "code",
      "source": [
        "df.write.format(\"csv\") \\\n",
        "    .option(\"header\",True) \\\n",
        "    .option(\"sep\",\"|\") \\\n",
        "    .save(\"mahasiswa_format_delim\")"
      ],
      "metadata": {
        "id": "Py-0Gp6wNS-A"
      },
      "execution_count": 27,
      "outputs": []
    },
    {
      "cell_type": "code",
      "source": [
        "!cat mahasiswa_format_delim/*"
      ],
      "metadata": {
        "colab": {
          "base_uri": "https://localhost:8080/"
        },
        "id": "CJBCoGwhNb8K",
        "outputId": "cff73105-88f5-433b-e858-e897de7de4aa"
      },
      "execution_count": 28,
      "outputs": [
        {
          "output_type": "stream",
          "name": "stdout",
          "text": [
            "nama|jurusan|jalur|nilai\n",
            "Agus|Fisika|Umum|150\n",
            "Windy|Fisika|Khusus|200\n",
            "Budi|Biologi|Umum|170\n",
            "nama|jurusan|jalur|nilai\n",
            "Dina|Fisika|Khusus|180\n",
            "Bayu|Fisika|Umum|160\n",
            "Dedi|Biologi|Khusus|185\n"
          ]
        }
      ]
    },
    {
      "cell_type": "markdown",
      "source": [
        "##Mode penulisan"
      ],
      "metadata": {
        "id": "nJd3d7pGNzTB"
      }
    },
    {
      "cell_type": "code",
      "source": [
        "data_new = [['Citra','Fisika','Umum',170],\n",
        "            ['Jaka','Biologi','Khusus',180]]\n",
        "\n",
        "kolom = [\"nama\",\"jurusan\",\"jalur\",\"nilai\"]\n",
        "\n",
        "df_new = spark.createDataFrame(data_new, kolom)\n",
        "\n",
        "df_new.show()"
      ],
      "metadata": {
        "colab": {
          "base_uri": "https://localhost:8080/"
        },
        "id": "x8SKfKR-QDVp",
        "outputId": "a5fe6ac8-aff4-47a2-e4ec-7aed0467a2e4"
      },
      "execution_count": 29,
      "outputs": [
        {
          "output_type": "stream",
          "name": "stdout",
          "text": [
            "+-----+-------+------+-----+\n",
            "| nama|jurusan| jalur|nilai|\n",
            "+-----+-------+------+-----+\n",
            "|Citra| Fisika|  Umum|  170|\n",
            "| Jaka|Biologi|Khusus|  180|\n",
            "+-----+-------+------+-----+\n",
            "\n"
          ]
        }
      ]
    },
    {
      "cell_type": "markdown",
      "source": [
        "###Mode append - `write.csv`"
      ],
      "metadata": {
        "id": "UF7-OYtkOTMI"
      }
    },
    {
      "cell_type": "code",
      "source": [
        "df_new.write.csv(\"mahasiswa_header\", header=True, mode=\"append\")"
      ],
      "metadata": {
        "id": "gE6k-4XdPFG1"
      },
      "execution_count": 30,
      "outputs": []
    },
    {
      "cell_type": "code",
      "source": [
        "!ls -l mahasiswa_header"
      ],
      "metadata": {
        "colab": {
          "base_uri": "https://localhost:8080/"
        },
        "id": "3ukEqvz6RgQZ",
        "outputId": "14237b45-19ef-47c9-b2f7-4914390bf60e"
      },
      "execution_count": 31,
      "outputs": [
        {
          "output_type": "stream",
          "name": "stdout",
          "text": [
            "total 16\n",
            "-rw-r--r-- 1 root root 92 Feb 27 03:44 part-00000-3ed9465e-8dc7-450e-a6cb-574878c00c69-c000.csv\n",
            "-rw-r--r-- 1 root root 47 Feb 27 03:45 part-00000-d0e38b87-6b78-4460-8b43-add36f4eb36d-c000.csv\n",
            "-rw-r--r-- 1 root root 93 Feb 27 03:44 part-00001-3ed9465e-8dc7-450e-a6cb-574878c00c69-c000.csv\n",
            "-rw-r--r-- 1 root root 49 Feb 27 03:45 part-00001-d0e38b87-6b78-4460-8b43-add36f4eb36d-c000.csv\n",
            "-rw-r--r-- 1 root root  0 Feb 27 03:45 _SUCCESS\n"
          ]
        }
      ]
    },
    {
      "cell_type": "code",
      "source": [
        "!cat mahasiswa_header/*"
      ],
      "metadata": {
        "colab": {
          "base_uri": "https://localhost:8080/"
        },
        "id": "tJLz98kKO9Gt",
        "outputId": "6ad5b6fd-d0a5-4771-9aff-b05178585dda"
      },
      "execution_count": 32,
      "outputs": [
        {
          "output_type": "stream",
          "name": "stdout",
          "text": [
            "nama,jurusan,jalur,nilai\n",
            "Agus,Fisika,Umum,150\n",
            "Windy,Fisika,Khusus,200\n",
            "Budi,Biologi,Umum,170\n",
            "nama,jurusan,jalur,nilai\n",
            "Citra,Fisika,Umum,170\n",
            "nama,jurusan,jalur,nilai\n",
            "Dina,Fisika,Khusus,180\n",
            "Bayu,Fisika,Umum,160\n",
            "Dedi,Biologi,Khusus,185\n",
            "nama,jurusan,jalur,nilai\n",
            "Jaka,Biologi,Khusus,180\n"
          ]
        }
      ]
    },
    {
      "cell_type": "markdown",
      "source": [
        "###Mode append - `write.format`"
      ],
      "metadata": {
        "id": "xZG5_7nDPdXe"
      }
    },
    {
      "cell_type": "code",
      "source": [
        "df_new.write.format(\"csv\") \\\n",
        "    .option(\"header\",True) \\\n",
        "    .mode(\"append\") \\\n",
        "    .save(\"mahasiswa_format_header\")"
      ],
      "metadata": {
        "id": "GNTntcejPTZA"
      },
      "execution_count": 33,
      "outputs": []
    },
    {
      "cell_type": "code",
      "source": [
        "!ls -l mahasiswa_format_header"
      ],
      "metadata": {
        "colab": {
          "base_uri": "https://localhost:8080/"
        },
        "id": "MTEUuyldRptg",
        "outputId": "f67650ad-6d4a-4b40-bbd5-ddc9543ebb23"
      },
      "execution_count": 34,
      "outputs": [
        {
          "output_type": "stream",
          "name": "stdout",
          "text": [
            "total 16\n",
            "-rw-r--r-- 1 root root 47 Feb 27 03:45 part-00000-731475d1-7cea-45df-9b32-1ef74a0f1a34-c000.csv\n",
            "-rw-r--r-- 1 root root 92 Feb 27 03:44 part-00000-834fb5fc-0d0e-4d3b-9098-d1a0eab24107-c000.csv\n",
            "-rw-r--r-- 1 root root 49 Feb 27 03:45 part-00001-731475d1-7cea-45df-9b32-1ef74a0f1a34-c000.csv\n",
            "-rw-r--r-- 1 root root 93 Feb 27 03:44 part-00001-834fb5fc-0d0e-4d3b-9098-d1a0eab24107-c000.csv\n",
            "-rw-r--r-- 1 root root  0 Feb 27 03:45 _SUCCESS\n"
          ]
        }
      ]
    },
    {
      "cell_type": "code",
      "source": [
        "!cat mahasiswa_format_header/*"
      ],
      "metadata": {
        "colab": {
          "base_uri": "https://localhost:8080/"
        },
        "id": "BXtgGG-QPhNI",
        "outputId": "e7c2fb18-a9f2-4390-c271-e51d3102f1c4"
      },
      "execution_count": 35,
      "outputs": [
        {
          "output_type": "stream",
          "name": "stdout",
          "text": [
            "nama,jurusan,jalur,nilai\n",
            "Citra,Fisika,Umum,170\n",
            "nama,jurusan,jalur,nilai\n",
            "Agus,Fisika,Umum,150\n",
            "Windy,Fisika,Khusus,200\n",
            "Budi,Biologi,Umum,170\n",
            "nama,jurusan,jalur,nilai\n",
            "Jaka,Biologi,Khusus,180\n",
            "nama,jurusan,jalur,nilai\n",
            "Dina,Fisika,Khusus,180\n",
            "Bayu,Fisika,Umum,160\n",
            "Dedi,Biologi,Khusus,185\n"
          ]
        }
      ]
    },
    {
      "cell_type": "markdown",
      "source": [
        "###Mode overwrite - `write.csv`"
      ],
      "metadata": {
        "id": "IdOnUEPsPmCI"
      }
    },
    {
      "cell_type": "code",
      "source": [
        "df_new.write.csv(\"mahasiswa_header\", header=True, mode=\"overwrite\")"
      ],
      "metadata": {
        "id": "p1xcw1XTP1WN"
      },
      "execution_count": 36,
      "outputs": []
    },
    {
      "cell_type": "code",
      "source": [
        "!cat mahasiswa_header/*"
      ],
      "metadata": {
        "colab": {
          "base_uri": "https://localhost:8080/"
        },
        "outputId": "e7d5a616-7b19-4dd7-c4c5-ab9de5ec4a71",
        "id": "FtwV-JYjP1WX"
      },
      "execution_count": 37,
      "outputs": [
        {
          "output_type": "stream",
          "name": "stdout",
          "text": [
            "nama,jurusan,jalur,nilai\n",
            "Citra,Fisika,Umum,170\n",
            "nama,jurusan,jalur,nilai\n",
            "Jaka,Biologi,Khusus,180\n"
          ]
        }
      ]
    },
    {
      "cell_type": "markdown",
      "source": [
        "###Mode overwrite - `write.format`"
      ],
      "metadata": {
        "id": "-zVM4dCHP1Wb"
      }
    },
    {
      "cell_type": "code",
      "source": [
        "df_new.write.format(\"csv\") \\\n",
        "    .option(\"header\",True) \\\n",
        "    .mode(\"overwrite\") \\\n",
        "    .save(\"mahasiswa_header\")"
      ],
      "metadata": {
        "id": "Vs0OK13wP1Wd"
      },
      "execution_count": 38,
      "outputs": []
    },
    {
      "cell_type": "code",
      "source": [],
      "metadata": {
        "id": "941ofSIf3O5W"
      },
      "execution_count": 38,
      "outputs": []
    },
    {
      "cell_type": "code",
      "source": [
        "!cat mahasiswa_format_header/*"
      ],
      "metadata": {
        "colab": {
          "base_uri": "https://localhost:8080/"
        },
        "outputId": "1f3a0ed8-c7ae-4bdc-9c56-13fb218906af",
        "id": "Yuc7WMAdP1We"
      },
      "execution_count": 39,
      "outputs": [
        {
          "output_type": "stream",
          "name": "stdout",
          "text": [
            "nama,jurusan,jalur,nilai\n",
            "Citra,Fisika,Umum,170\n",
            "nama,jurusan,jalur,nilai\n",
            "Agus,Fisika,Umum,150\n",
            "Windy,Fisika,Khusus,200\n",
            "Budi,Biologi,Umum,170\n",
            "nama,jurusan,jalur,nilai\n",
            "Jaka,Biologi,Khusus,180\n",
            "nama,jurusan,jalur,nilai\n",
            "Dina,Fisika,Khusus,180\n",
            "Bayu,Fisika,Umum,160\n",
            "Dedi,Biologi,Khusus,185\n"
          ]
        }
      ]
    },
    {
      "cell_type": "code",
      "source": [],
      "metadata": {
        "id": "TOp5HmYbX_ba"
      },
      "execution_count": 39,
      "outputs": []
    },
    {
      "cell_type": "markdown",
      "source": [
        "###Mode ignore - `write.csv`"
      ],
      "metadata": {
        "id": "CK6EMCj3YGts"
      }
    },
    {
      "cell_type": "code",
      "source": [
        "df_new.write.csv(\"mahasiswa_header\", header=True, mode=\"ignore\")"
      ],
      "metadata": {
        "id": "O11qh5HVYGtv"
      },
      "execution_count": 40,
      "outputs": []
    },
    {
      "cell_type": "code",
      "source": [
        "!cat mahasiswa_header/*"
      ],
      "metadata": {
        "colab": {
          "base_uri": "https://localhost:8080/"
        },
        "outputId": "5be5d09c-c914-4265-cb76-4dcebbde7c85",
        "id": "WfdizVnLYGtx"
      },
      "execution_count": 41,
      "outputs": [
        {
          "output_type": "stream",
          "name": "stdout",
          "text": [
            "nama,jurusan,jalur,nilai\n",
            "Citra,Fisika,Umum,170\n",
            "nama,jurusan,jalur,nilai\n",
            "Jaka,Biologi,Khusus,180\n"
          ]
        }
      ]
    },
    {
      "cell_type": "markdown",
      "source": [
        "###Mode ignore - `write.format`"
      ],
      "metadata": {
        "id": "bDfFgtgfYGtz"
      }
    },
    {
      "cell_type": "code",
      "source": [
        "df_new.write.format(\"csv\") \\\n",
        "    .option(\"header\",True) \\\n",
        "    .mode(\"overwrite\") \\\n",
        "    .save(\"mahasiswa_format_header\")"
      ],
      "metadata": {
        "id": "GUfpI9zMYGt0"
      },
      "execution_count": 42,
      "outputs": []
    },
    {
      "cell_type": "code",
      "source": [
        "!cat mahasiswa_format_header/*"
      ],
      "metadata": {
        "colab": {
          "base_uri": "https://localhost:8080/"
        },
        "outputId": "ce98a6d6-ac6d-4bfd-dae3-68c9dbeab83b",
        "id": "xelfsZaQYGt2"
      },
      "execution_count": 43,
      "outputs": [
        {
          "output_type": "stream",
          "name": "stdout",
          "text": [
            "nama,jurusan,jalur,nilai\n",
            "Citra,Fisika,Umum,170\n",
            "nama,jurusan,jalur,nilai\n",
            "Jaka,Biologi,Khusus,180\n"
          ]
        }
      ]
    },
    {
      "cell_type": "markdown",
      "source": [
        "##Menyimpan dengan kompresi"
      ],
      "metadata": {
        "id": "JLmrrpbgYeFq"
      }
    },
    {
      "cell_type": "code",
      "source": [
        "df.write.csv(\"mahasiswa_gzip\", header=True, compression=\"gzip\")"
      ],
      "metadata": {
        "id": "2kuli_SgYc2b"
      },
      "execution_count": 44,
      "outputs": []
    },
    {
      "cell_type": "code",
      "source": [
        "!ls -ls mahasiswa_gzip"
      ],
      "metadata": {
        "colab": {
          "base_uri": "https://localhost:8080/"
        },
        "id": "gSIIj6s3Y2xC",
        "outputId": "0d1c3b52-00bd-4b22-a1ff-58f3488a0764"
      },
      "execution_count": 45,
      "outputs": [
        {
          "output_type": "stream",
          "name": "stdout",
          "text": [
            "total 8\n",
            "4 -rw-r--r-- 1 root root 99 Feb 27 03:45 part-00000-333b118a-afcb-4480-bde1-f595afc1bc64-c000.csv.gz\n",
            "4 -rw-r--r-- 1 root root 98 Feb 27 03:45 part-00001-333b118a-afcb-4480-bde1-f595afc1bc64-c000.csv.gz\n",
            "0 -rw-r--r-- 1 root root  0 Feb 27 03:45 _SUCCESS\n"
          ]
        }
      ]
    },
    {
      "cell_type": "code",
      "source": [],
      "metadata": {
        "id": "JbOSJqgMq8IX"
      },
      "execution_count": null,
      "outputs": []
    },
    {
      "cell_type": "code",
      "source": [
        "df.write.format(\"csv\") \\\n",
        "    .option(\"header\",True) \\\n",
        "    .option(\"sep\",\"|\") \\\n",
        "    .option(\"compression\",\"gzip\") \\\n",
        "    .save(\"mahasiswa_format_gzip\")"
      ],
      "metadata": {
        "id": "nSMraiydZBX8",
        "colab": {
          "base_uri": "https://localhost:8080/",
          "height": 344
        },
        "outputId": "f5cd9bb9-5505-4f3f-e747-02897b85b23e"
      },
      "execution_count": 50,
      "outputs": [
        {
          "output_type": "error",
          "ename": "AnalysisException",
          "evalue": "[PATH_ALREADY_EXISTS] Path file:/content/mahasiswa_format_gzip already exists. Set mode as \"overwrite\" to overwrite the existing path.",
          "traceback": [
            "\u001b[0;31m---------------------------------------------------------------------------\u001b[0m",
            "\u001b[0;31mAnalysisException\u001b[0m                         Traceback (most recent call last)",
            "\u001b[0;32m<ipython-input-50-558af0182ddb>\u001b[0m in \u001b[0;36m<cell line: 1>\u001b[0;34m()\u001b[0m\n\u001b[1;32m      3\u001b[0m     \u001b[0;34m.\u001b[0m\u001b[0moption\u001b[0m\u001b[0;34m(\u001b[0m\u001b[0;34m\"sep\"\u001b[0m\u001b[0;34m,\u001b[0m\u001b[0;34m\"|\"\u001b[0m\u001b[0;34m)\u001b[0m\u001b[0;31m \u001b[0m\u001b[0;31m\\\u001b[0m\u001b[0;34m\u001b[0m\u001b[0;34m\u001b[0m\u001b[0m\n\u001b[1;32m      4\u001b[0m     \u001b[0;34m.\u001b[0m\u001b[0moption\u001b[0m\u001b[0;34m(\u001b[0m\u001b[0;34m\"compression\"\u001b[0m\u001b[0;34m,\u001b[0m\u001b[0;34m\"gzip\"\u001b[0m\u001b[0;34m)\u001b[0m\u001b[0;31m \u001b[0m\u001b[0;31m\\\u001b[0m\u001b[0;34m\u001b[0m\u001b[0;34m\u001b[0m\u001b[0m\n\u001b[0;32m----> 5\u001b[0;31m     \u001b[0;34m.\u001b[0m\u001b[0msave\u001b[0m\u001b[0;34m(\u001b[0m\u001b[0;34m\"mahasiswa_format_gzip\"\u001b[0m\u001b[0;34m)\u001b[0m\u001b[0;34m\u001b[0m\u001b[0;34m\u001b[0m\u001b[0m\n\u001b[0m",
            "\u001b[0;32m/usr/local/lib/python3.10/dist-packages/pyspark/sql/readwriter.py\u001b[0m in \u001b[0;36msave\u001b[0;34m(self, path, format, mode, partitionBy, **options)\u001b[0m\n\u001b[1;32m   1461\u001b[0m             \u001b[0mself\u001b[0m\u001b[0;34m.\u001b[0m\u001b[0m_jwrite\u001b[0m\u001b[0;34m.\u001b[0m\u001b[0msave\u001b[0m\u001b[0;34m(\u001b[0m\u001b[0;34m)\u001b[0m\u001b[0;34m\u001b[0m\u001b[0;34m\u001b[0m\u001b[0m\n\u001b[1;32m   1462\u001b[0m         \u001b[0;32melse\u001b[0m\u001b[0;34m:\u001b[0m\u001b[0;34m\u001b[0m\u001b[0;34m\u001b[0m\u001b[0m\n\u001b[0;32m-> 1463\u001b[0;31m             \u001b[0mself\u001b[0m\u001b[0;34m.\u001b[0m\u001b[0m_jwrite\u001b[0m\u001b[0;34m.\u001b[0m\u001b[0msave\u001b[0m\u001b[0;34m(\u001b[0m\u001b[0mpath\u001b[0m\u001b[0;34m)\u001b[0m\u001b[0;34m\u001b[0m\u001b[0;34m\u001b[0m\u001b[0m\n\u001b[0m\u001b[1;32m   1464\u001b[0m \u001b[0;34m\u001b[0m\u001b[0m\n\u001b[1;32m   1465\u001b[0m     \u001b[0;32mdef\u001b[0m \u001b[0minsertInto\u001b[0m\u001b[0;34m(\u001b[0m\u001b[0mself\u001b[0m\u001b[0;34m,\u001b[0m \u001b[0mtableName\u001b[0m\u001b[0;34m:\u001b[0m \u001b[0mstr\u001b[0m\u001b[0;34m,\u001b[0m \u001b[0moverwrite\u001b[0m\u001b[0;34m:\u001b[0m \u001b[0mOptional\u001b[0m\u001b[0;34m[\u001b[0m\u001b[0mbool\u001b[0m\u001b[0;34m]\u001b[0m \u001b[0;34m=\u001b[0m \u001b[0;32mNone\u001b[0m\u001b[0;34m)\u001b[0m \u001b[0;34m->\u001b[0m \u001b[0;32mNone\u001b[0m\u001b[0;34m:\u001b[0m\u001b[0;34m\u001b[0m\u001b[0;34m\u001b[0m\u001b[0m\n",
            "\u001b[0;32m/usr/local/lib/python3.10/dist-packages/py4j/java_gateway.py\u001b[0m in \u001b[0;36m__call__\u001b[0;34m(self, *args)\u001b[0m\n\u001b[1;32m   1320\u001b[0m \u001b[0;34m\u001b[0m\u001b[0m\n\u001b[1;32m   1321\u001b[0m         \u001b[0manswer\u001b[0m \u001b[0;34m=\u001b[0m \u001b[0mself\u001b[0m\u001b[0;34m.\u001b[0m\u001b[0mgateway_client\u001b[0m\u001b[0;34m.\u001b[0m\u001b[0msend_command\u001b[0m\u001b[0;34m(\u001b[0m\u001b[0mcommand\u001b[0m\u001b[0;34m)\u001b[0m\u001b[0;34m\u001b[0m\u001b[0;34m\u001b[0m\u001b[0m\n\u001b[0;32m-> 1322\u001b[0;31m         return_value = get_return_value(\n\u001b[0m\u001b[1;32m   1323\u001b[0m             answer, self.gateway_client, self.target_id, self.name)\n\u001b[1;32m   1324\u001b[0m \u001b[0;34m\u001b[0m\u001b[0m\n",
            "\u001b[0;32m/usr/local/lib/python3.10/dist-packages/pyspark/errors/exceptions/captured.py\u001b[0m in \u001b[0;36mdeco\u001b[0;34m(*a, **kw)\u001b[0m\n\u001b[1;32m    183\u001b[0m                 \u001b[0;31m# Hide where the exception came from that shows a non-Pythonic\u001b[0m\u001b[0;34m\u001b[0m\u001b[0;34m\u001b[0m\u001b[0m\n\u001b[1;32m    184\u001b[0m                 \u001b[0;31m# JVM exception message.\u001b[0m\u001b[0;34m\u001b[0m\u001b[0;34m\u001b[0m\u001b[0m\n\u001b[0;32m--> 185\u001b[0;31m                 \u001b[0;32mraise\u001b[0m \u001b[0mconverted\u001b[0m \u001b[0;32mfrom\u001b[0m \u001b[0;32mNone\u001b[0m\u001b[0;34m\u001b[0m\u001b[0;34m\u001b[0m\u001b[0m\n\u001b[0m\u001b[1;32m    186\u001b[0m             \u001b[0;32melse\u001b[0m\u001b[0;34m:\u001b[0m\u001b[0;34m\u001b[0m\u001b[0;34m\u001b[0m\u001b[0m\n\u001b[1;32m    187\u001b[0m                 \u001b[0;32mraise\u001b[0m\u001b[0;34m\u001b[0m\u001b[0;34m\u001b[0m\u001b[0m\n",
            "\u001b[0;31mAnalysisException\u001b[0m: [PATH_ALREADY_EXISTS] Path file:/content/mahasiswa_format_gzip already exists. Set mode as \"overwrite\" to overwrite the existing path."
          ]
        }
      ]
    },
    {
      "cell_type": "code",
      "source": [
        "!ls -ls mahasiswa_format_gzip"
      ],
      "metadata": {
        "colab": {
          "base_uri": "https://localhost:8080/"
        },
        "id": "yKJTWVriZLUB",
        "outputId": "85fea96c-20ca-426c-9abb-378a92700328"
      },
      "execution_count": 51,
      "outputs": [
        {
          "output_type": "stream",
          "name": "stdout",
          "text": [
            "total 8\n",
            "4 -rw-r--r-- 1 root root 98 Feb 27 03:45 part-00000-eac2a643-db44-4fa8-8ce7-5b0300aa0647-c000.csv.gz\n",
            "4 -rw-r--r-- 1 root root 97 Feb 27 03:45 part-00001-eac2a643-db44-4fa8-8ce7-5b0300aa0647-c000.csv.gz\n",
            "0 -rw-r--r-- 1 root root  0 Feb 27 03:45 _SUCCESS\n"
          ]
        }
      ]
    },
    {
      "cell_type": "markdown",
      "source": [
        "##Menyimpan dalam satu file"
      ],
      "metadata": {
        "id": "FyFasqCXZ6RT"
      }
    },
    {
      "cell_type": "code",
      "source": [
        "!rm -rf mahasiswa_coalesce"
      ],
      "metadata": {
        "id": "2EonpNw3vQDh"
      },
      "execution_count": 48,
      "outputs": []
    },
    {
      "cell_type": "code",
      "source": [
        "df.coalesce(1) \\\n",
        "    .write.format(\"csv\") \\\n",
        "    .option(\"header\",True) \\\n",
        "    .save(\"mahasiswa_coalesce\")"
      ],
      "metadata": {
        "id": "mzkiET4fup_Q"
      },
      "execution_count": 49,
      "outputs": []
    },
    {
      "cell_type": "code",
      "source": [
        "!ls -l mahasiswa_coalesce"
      ],
      "metadata": {
        "colab": {
          "base_uri": "https://localhost:8080/"
        },
        "id": "uwBeGO-kFj_s",
        "outputId": "2410ca4a-eae1-4278-9a23-ccdaa7b41580"
      },
      "execution_count": 52,
      "outputs": [
        {
          "output_type": "stream",
          "name": "stdout",
          "text": [
            "total 4\n",
            "-rw-r--r-- 1 root root 160 Feb 27 03:45 part-00000-50a23307-3e38-4ba3-ac22-28b52b04f4f3-c000.csv\n",
            "-rw-r--r-- 1 root root   0 Feb 27 03:45 _SUCCESS\n"
          ]
        }
      ]
    },
    {
      "cell_type": "code",
      "source": [
        "!cat mahasiswa_coalesce/*"
      ],
      "metadata": {
        "colab": {
          "base_uri": "https://localhost:8080/"
        },
        "id": "ZTPT7FNoGfjN",
        "outputId": "accdded3-2404-4ca5-a21f-2807f0df1ad0"
      },
      "execution_count": 53,
      "outputs": [
        {
          "output_type": "stream",
          "name": "stdout",
          "text": [
            "nama,jurusan,jalur,nilai\n",
            "Agus,Fisika,Umum,150\n",
            "Windy,Fisika,Khusus,200\n",
            "Budi,Biologi,Umum,170\n",
            "Dina,Fisika,Khusus,180\n",
            "Bayu,Fisika,Umum,160\n",
            "Dedi,Biologi,Khusus,185\n"
          ]
        }
      ]
    }
  ]
}