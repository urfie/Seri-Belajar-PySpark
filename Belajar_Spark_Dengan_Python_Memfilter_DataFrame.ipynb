{
  "nbformat": 4,
  "nbformat_minor": 0,
  "metadata": {
    "colab": {
      "provenance": [],
      "toc_visible": true
    },
    "kernelspec": {
      "name": "python3",
      "display_name": "Python 3"
    },
    "language_info": {
      "name": "python"
    }
  },
  "cells": [
    {
      "cell_type": "code",
      "execution_count": null,
      "metadata": {
        "colab": {
          "base_uri": "https://localhost:8080/"
        },
        "id": "3YsxlynyFZ0N",
        "outputId": "26843dc5-05da-45f1-ffb7-fc5a6279aa2e"
      },
      "outputs": [
        {
          "output_type": "stream",
          "name": "stdout",
          "text": [
            "Collecting pyspark\n",
            "  Downloading pyspark-3.4.1.tar.gz (310.8 MB)\n",
            "\u001b[2K     \u001b[90m━━━━━━━━━━━━━━━━━━━━━━━━━━━━━━━━━━━━━━━\u001b[0m \u001b[32m310.8/310.8 MB\u001b[0m \u001b[31m4.6 MB/s\u001b[0m eta \u001b[36m0:00:00\u001b[0m\n",
            "\u001b[?25h  Preparing metadata (setup.py) ... \u001b[?25l\u001b[?25hdone\n",
            "Requirement already satisfied: py4j==0.10.9.7 in /usr/local/lib/python3.10/dist-packages (from pyspark) (0.10.9.7)\n",
            "Building wheels for collected packages: pyspark\n",
            "  Building wheel for pyspark (setup.py) ... \u001b[?25l\u001b[?25hdone\n",
            "  Created wheel for pyspark: filename=pyspark-3.4.1-py2.py3-none-any.whl size=311285398 sha256=bf88ceefe2b696fc9f08c001c0462c59d53a431700e084eb08604261b541de0e\n",
            "  Stored in directory: /root/.cache/pip/wheels/0d/77/a3/ff2f74cc9ab41f8f594dabf0579c2a7c6de920d584206e0834\n",
            "Successfully built pyspark\n",
            "Installing collected packages: pyspark\n",
            "Successfully installed pyspark-3.4.1\n"
          ]
        }
      ],
      "source": [
        "%pip install pyspark"
      ]
    },
    {
      "cell_type": "markdown",
      "source": [
        "Import packages yang diperlukan"
      ],
      "metadata": {
        "id": "cQRkyoq81g-r"
      }
    },
    {
      "cell_type": "code",
      "source": [
        "from pyspark.sql import SparkSession\n",
        "from pyspark.sql import functions as F"
      ],
      "metadata": {
        "id": "8V4lQvx6HIiO"
      },
      "execution_count": null,
      "outputs": []
    },
    {
      "cell_type": "markdown",
      "source": [
        "Create spark session"
      ],
      "metadata": {
        "id": "-KM-8sDt1j6D"
      }
    },
    {
      "cell_type": "code",
      "source": [
        "spark = SparkSession.builder.appName('Belajar PySpark - Filter').getOrCreate()"
      ],
      "metadata": {
        "id": "97aBSg6dGu9V"
      },
      "execution_count": null,
      "outputs": []
    },
    {
      "cell_type": "markdown",
      "source": [
        "Buat dataframe"
      ],
      "metadata": {
        "id": "tPh6d_Bx1l1a"
      }
    },
    {
      "cell_type": "code",
      "source": [
        "data = [['Agus','Fisika',100],['Windy','Fisika',200],\n",
        "        ['Budi','Biologi',200],['Dina','Fisika',150],\n",
        "        ['Bayu','Fisika',50],['Dedi','Biologi',50]]\n",
        "\n",
        "kolom = ['nama','jurusan','nilai']\n",
        "\n",
        "df = spark.createDataFrame(data,kolom)\n",
        "\n",
        "df.show()"
      ],
      "metadata": {
        "colab": {
          "base_uri": "https://localhost:8080/"
        },
        "id": "KUXGwHVdFfB2",
        "outputId": "03321ab3-2349-451a-acb8-80859a635813"
      },
      "execution_count": null,
      "outputs": [
        {
          "output_type": "stream",
          "name": "stdout",
          "text": [
            "+-----+-------+-----+\n",
            "| nama|jurusan|nilai|\n",
            "+-----+-------+-----+\n",
            "| Agus| Fisika|  100|\n",
            "|Windy| Fisika|  200|\n",
            "| Budi|Biologi|  200|\n",
            "| Dina| Fisika|  150|\n",
            "| Bayu| Fisika|   50|\n",
            "| Dedi|Biologi|   50|\n",
            "+-----+-------+-----+\n",
            "\n"
          ]
        }
      ]
    },
    {
      "cell_type": "markdown",
      "source": [
        "##Menggunakan fungsi filter()"
      ],
      "metadata": {
        "id": "K_CZh510KXht"
      }
    },
    {
      "cell_type": "markdown",
      "source": [
        "###Filter dengan satu kondisi"
      ],
      "metadata": {
        "id": "Q1_uD_puKbEn"
      }
    },
    {
      "cell_type": "code",
      "source": [
        "df.filter(df.nilai > 150).show()"
      ],
      "metadata": {
        "colab": {
          "base_uri": "https://localhost:8080/"
        },
        "id": "HhNGO58kZqw0",
        "outputId": "e98fbe0b-5956-48a2-b5c6-96dd80b60d4d"
      },
      "execution_count": null,
      "outputs": [
        {
          "output_type": "stream",
          "name": "stdout",
          "text": [
            "+-----+-------+-----+\n",
            "| nama|jurusan|nilai|\n",
            "+-----+-------+-----+\n",
            "|Windy| Fisika|  200|\n",
            "| Budi|Biologi|  200|\n",
            "+-----+-------+-----+\n",
            "\n"
          ]
        }
      ]
    },
    {
      "cell_type": "markdown",
      "source": [
        "###Mengakses kolom dengan `df[“nama kolom”]` atau fungsi `col()`"
      ],
      "metadata": {
        "id": "11scFArcKfbJ"
      }
    },
    {
      "cell_type": "code",
      "source": [
        "kolom_1 = ['nama','jurusan','nilai total']\n",
        "df_1 = spark.createDataFrame(data,kolom_1)\n",
        "\n",
        "df_1.filter(df_1['nilai total'] > 150).show()"
      ],
      "metadata": {
        "colab": {
          "base_uri": "https://localhost:8080/"
        },
        "id": "9o7VU_UnHi7Q",
        "outputId": "fb58163c-c1c3-4601-c4f4-581782bd6bfa"
      },
      "execution_count": null,
      "outputs": [
        {
          "output_type": "stream",
          "name": "stdout",
          "text": [
            "+-----+-------+-----------+\n",
            "| nama|jurusan|nilai total|\n",
            "+-----+-------+-----------+\n",
            "|Windy| Fisika|        200|\n",
            "| Budi|Biologi|        200|\n",
            "+-----+-------+-----------+\n",
            "\n"
          ]
        }
      ]
    },
    {
      "cell_type": "code",
      "source": [
        "df_1[['nama','nilai total']].show()"
      ],
      "metadata": {
        "colab": {
          "base_uri": "https://localhost:8080/"
        },
        "id": "bBQBd3SIN3II",
        "outputId": "7ff9b113-8419-4d67-9b10-f9d37d46dd0b"
      },
      "execution_count": null,
      "outputs": [
        {
          "output_type": "stream",
          "name": "stdout",
          "text": [
            "+-----+-----------+\n",
            "| nama|nilai total|\n",
            "+-----+-----------+\n",
            "| Agus|        100|\n",
            "|Windy|        200|\n",
            "| Budi|        200|\n",
            "| Dina|        150|\n",
            "| Bayu|         50|\n",
            "| Dedi|         50|\n",
            "+-----+-----------+\n",
            "\n"
          ]
        }
      ]
    },
    {
      "cell_type": "code",
      "source": [
        "from pyspark.sql.functions import col\n",
        "\n",
        "df_1.filter(col('nilai total') > 150).show()"
      ],
      "metadata": {
        "colab": {
          "base_uri": "https://localhost:8080/"
        },
        "id": "mm085Y7iIria",
        "outputId": "f6289966-b9d8-42ef-9640-4a54cff9765e"
      },
      "execution_count": null,
      "outputs": [
        {
          "output_type": "stream",
          "name": "stdout",
          "text": [
            "+-----+-------+-----------+\n",
            "| nama|jurusan|nilai total|\n",
            "+-----+-------+-----------+\n",
            "|Windy| Fisika|        200|\n",
            "| Budi|Biologi|        200|\n",
            "+-----+-------+-----------+\n",
            "\n"
          ]
        }
      ]
    },
    {
      "cell_type": "markdown",
      "source": [
        "###Filter dengan beberapa kondisi"
      ],
      "metadata": {
        "id": "gVKYz3sAKolG"
      }
    },
    {
      "cell_type": "code",
      "source": [
        "df.filter((df.nilai > 150) &\n",
        "          (df.jurusan == 'Fisika')).show()"
      ],
      "metadata": {
        "colab": {
          "base_uri": "https://localhost:8080/"
        },
        "id": "OX_I15zlh6DB",
        "outputId": "a1b2b2d5-c23b-4fd7-fa56-5204b20ab9ad"
      },
      "execution_count": null,
      "outputs": [
        {
          "output_type": "stream",
          "name": "stdout",
          "text": [
            "+-----+-------+-----+\n",
            "| nama|jurusan|nilai|\n",
            "+-----+-------+-----+\n",
            "|Windy| Fisika|  200|\n",
            "+-----+-------+-----+\n",
            "\n"
          ]
        }
      ]
    },
    {
      "cell_type": "markdown",
      "source": [
        "###Filter dengan menggunakan list/`isin()`"
      ],
      "metadata": {
        "id": "T2K3F0GYKsoE"
      }
    },
    {
      "cell_type": "code",
      "source": [
        "df.filter(df.nilai.isin([50,150])).show()"
      ],
      "metadata": {
        "colab": {
          "base_uri": "https://localhost:8080/"
        },
        "id": "nYi4ffBGEDy7",
        "outputId": "68b84c98-dd1a-4b59-bfdd-23e57f8f3067"
      },
      "execution_count": null,
      "outputs": [
        {
          "output_type": "stream",
          "name": "stdout",
          "text": [
            "+----+-------+-----+\n",
            "|nama|jurusan|nilai|\n",
            "+----+-------+-----+\n",
            "|Dina| Fisika|  150|\n",
            "|Bayu| Fisika|   50|\n",
            "|Dedi|Biologi|   50|\n",
            "+----+-------+-----+\n",
            "\n"
          ]
        }
      ]
    },
    {
      "cell_type": "code",
      "source": [
        "df.filter(~df.nilai.isin([50,150])).show()"
      ],
      "metadata": {
        "colab": {
          "base_uri": "https://localhost:8080/"
        },
        "id": "iTFUyqjEPcN8",
        "outputId": "8eeaf230-f3e1-4765-e2c3-2baef7402ad8"
      },
      "execution_count": null,
      "outputs": [
        {
          "output_type": "stream",
          "name": "stdout",
          "text": [
            "+-----+-------+-----+\n",
            "| nama|jurusan|nilai|\n",
            "+-----+-------+-----+\n",
            "| Agus| Fisika|  100|\n",
            "|Windy| Fisika|  200|\n",
            "| Budi|Biologi|  200|\n",
            "+-----+-------+-----+\n",
            "\n"
          ]
        }
      ]
    },
    {
      "cell_type": "markdown",
      "source": [
        "###Filter dengan komparasi string"
      ],
      "metadata": {
        "id": "46agfTLgj436"
      }
    },
    {
      "cell_type": "code",
      "source": [
        "df.filter(df.nama.startswith('D')).show()"
      ],
      "metadata": {
        "colab": {
          "base_uri": "https://localhost:8080/"
        },
        "id": "lFn7yUZyj8fn",
        "outputId": "2df30e3b-f16d-4c18-d5db-18ee7ae80bb1"
      },
      "execution_count": null,
      "outputs": [
        {
          "output_type": "stream",
          "name": "stdout",
          "text": [
            "+----+-------+-----+\n",
            "|nama|jurusan|nilai|\n",
            "+----+-------+-----+\n",
            "|Dina| Fisika|  150|\n",
            "|Dedi|Biologi|   50|\n",
            "+----+-------+-----+\n",
            "\n"
          ]
        }
      ]
    },
    {
      "cell_type": "code",
      "source": [
        "df.filter(df.nama.endswith('i')).show()"
      ],
      "metadata": {
        "colab": {
          "base_uri": "https://localhost:8080/"
        },
        "id": "QoJ3uBmPkRHg",
        "outputId": "c184c705-4b33-44b2-bf4f-eb6c22fecd59"
      },
      "execution_count": null,
      "outputs": [
        {
          "output_type": "stream",
          "name": "stdout",
          "text": [
            "+----+-------+-----+\n",
            "|nama|jurusan|nilai|\n",
            "+----+-------+-----+\n",
            "|Budi|Biologi|  200|\n",
            "|Dedi|Biologi|   50|\n",
            "+----+-------+-----+\n",
            "\n"
          ]
        }
      ]
    },
    {
      "cell_type": "code",
      "source": [
        "df.filter(df.nama.contains('in')).show()"
      ],
      "metadata": {
        "colab": {
          "base_uri": "https://localhost:8080/"
        },
        "id": "kj6rY6Y_kuhR",
        "outputId": "a25dde8b-062e-4a1d-e685-a44ef960b9ce"
      },
      "execution_count": null,
      "outputs": [
        {
          "output_type": "stream",
          "name": "stdout",
          "text": [
            "+-----+-------+-----+\n",
            "| nama|jurusan|nilai|\n",
            "+-----+-------+-----+\n",
            "|Windy| Fisika|  200|\n",
            "| Dina| Fisika|  150|\n",
            "+-----+-------+-----+\n",
            "\n"
          ]
        }
      ]
    },
    {
      "cell_type": "markdown",
      "source": [
        "###Filter dengan `like()`"
      ],
      "metadata": {
        "id": "A8Lpb2vhNRO4"
      }
    },
    {
      "cell_type": "code",
      "source": [
        "df.filter(df.nama.like('%in%')).show()"
      ],
      "metadata": {
        "colab": {
          "base_uri": "https://localhost:8080/"
        },
        "id": "FO0Vp9ZKNUtP",
        "outputId": "8d0a0a08-0457-4489-f819-e832ae8ae17b"
      },
      "execution_count": null,
      "outputs": [
        {
          "output_type": "stream",
          "name": "stdout",
          "text": [
            "+-----+-------+-----+\n",
            "| nama|jurusan|nilai|\n",
            "+-----+-------+-----+\n",
            "|Windy| Fisika|  200|\n",
            "| Dina| Fisika|  150|\n",
            "+-----+-------+-----+\n",
            "\n"
          ]
        }
      ]
    },
    {
      "cell_type": "markdown",
      "source": [
        "##Menggunakan fungsi where()"
      ],
      "metadata": {
        "id": "-iZ8iCkqK18d"
      }
    },
    {
      "cell_type": "code",
      "source": [
        "df.where(df.nilai > 150).show()"
      ],
      "metadata": {
        "colab": {
          "base_uri": "https://localhost:8080/"
        },
        "id": "scJVbNgNqwO3",
        "outputId": "e4af9d19-5cae-45f1-c4b3-13a5d97a26f9"
      },
      "execution_count": null,
      "outputs": [
        {
          "output_type": "stream",
          "name": "stdout",
          "text": [
            "+-----+-------+-----+\n",
            "| nama|jurusan|nilai|\n",
            "+-----+-------+-----+\n",
            "|Windy| Fisika|  200|\n",
            "| Budi|Biologi|  200|\n",
            "+-----+-------+-----+\n",
            "\n"
          ]
        }
      ]
    },
    {
      "cell_type": "code",
      "source": [
        "df.where((df.nilai > 150) &\n",
        "          (df.jurusan == 'Fisika')).show()"
      ],
      "metadata": {
        "colab": {
          "base_uri": "https://localhost:8080/"
        },
        "id": "EzcP6wrrK6hB",
        "outputId": "c59d2eb7-427b-43dc-9f4a-6ddf6fc066e4"
      },
      "execution_count": null,
      "outputs": [
        {
          "output_type": "stream",
          "name": "stdout",
          "text": [
            "+-----+-------+-----+\n",
            "| nama|jurusan|nilai|\n",
            "+-----+-------+-----+\n",
            "|Windy| Fisika|  200|\n",
            "+-----+-------+-----+\n",
            "\n"
          ]
        }
      ]
    },
    {
      "cell_type": "code",
      "source": [
        "df.where(df.nama.contains('in')).show()"
      ],
      "metadata": {
        "colab": {
          "base_uri": "https://localhost:8080/"
        },
        "id": "ZTRFYqHTq1ot",
        "outputId": "900a0eba-a495-4daf-b4dc-33633e85a1bd"
      },
      "execution_count": null,
      "outputs": [
        {
          "output_type": "stream",
          "name": "stdout",
          "text": [
            "+-----+-------+-----+\n",
            "| nama|jurusan|nilai|\n",
            "+-----+-------+-----+\n",
            "|Windy| Fisika|  200|\n",
            "| Dina| Fisika|  150|\n",
            "+-----+-------+-----+\n",
            "\n"
          ]
        }
      ]
    }
  ]
}