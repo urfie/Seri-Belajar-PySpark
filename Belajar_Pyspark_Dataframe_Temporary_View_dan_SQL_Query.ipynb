{
  "nbformat": 4,
  "nbformat_minor": 0,
  "metadata": {
    "colab": {
      "provenance": [],
      "toc_visible": true
    },
    "kernelspec": {
      "name": "python3",
      "display_name": "Python 3"
    },
    "language_info": {
      "name": "python"
    }
  },
  "cells": [
    {
      "cell_type": "markdown",
      "source": [
        "#Belajar Pyspark - Dataframe View dan SQL"
      ],
      "metadata": {
        "id": "loueMJbfjlZq"
      }
    },
    {
      "cell_type": "markdown",
      "source": [
        "Dalam notebook ini kita akan belajar mengenai cara membuat temporary view dan menjalankan SQL query menggunakan view tersebut."
      ],
      "metadata": {
        "id": "8fBObxkEIMTP"
      }
    },
    {
      "cell_type": "code",
      "execution_count": null,
      "metadata": {
        "colab": {
          "base_uri": "https://localhost:8080/"
        },
        "id": "3YsxlynyFZ0N",
        "outputId": "328baf07-39cf-4679-fd37-ecca8584175d"
      },
      "outputs": [
        {
          "output_type": "stream",
          "name": "stdout",
          "text": [
            "Collecting pyspark\n",
            "  Downloading pyspark-3.4.1.tar.gz (310.8 MB)\n",
            "\u001b[2K     \u001b[90m━━━━━━━━━━━━━━━━━━━━━━━━━━━━━━━━━━━━━━━\u001b[0m \u001b[32m310.8/310.8 MB\u001b[0m \u001b[31m3.9 MB/s\u001b[0m eta \u001b[36m0:00:00\u001b[0m\n",
            "\u001b[?25h  Preparing metadata (setup.py) ... \u001b[?25l\u001b[?25hdone\n",
            "Requirement already satisfied: py4j==0.10.9.7 in /usr/local/lib/python3.10/dist-packages (from pyspark) (0.10.9.7)\n",
            "Building wheels for collected packages: pyspark\n",
            "  Building wheel for pyspark (setup.py) ... \u001b[?25l\u001b[?25hdone\n",
            "  Created wheel for pyspark: filename=pyspark-3.4.1-py2.py3-none-any.whl size=311285387 sha256=5f0a129ade07155038f6b132b02f4eabe3596260bcc8dea576108c0b8e5e0ffc\n",
            "  Stored in directory: /root/.cache/pip/wheels/0d/77/a3/ff2f74cc9ab41f8f594dabf0579c2a7c6de920d584206e0834\n",
            "Successfully built pyspark\n",
            "Installing collected packages: pyspark\n",
            "Successfully installed pyspark-3.4.1\n"
          ]
        }
      ],
      "source": [
        "%pip install pyspark"
      ]
    },
    {
      "cell_type": "code",
      "source": [
        "from pyspark.sql import SparkSession\n",
        "import pyspark.sql.functions as F\n"
      ],
      "metadata": {
        "id": "8V4lQvx6HIiO"
      },
      "execution_count": 20,
      "outputs": []
    },
    {
      "cell_type": "code",
      "source": [
        "spark = SparkSession.builder.appName(\"Belajar PySpark - Temp View & SQL\").getOrCreate()"
      ],
      "metadata": {
        "id": "97aBSg6dGu9V"
      },
      "execution_count": null,
      "outputs": []
    },
    {
      "cell_type": "markdown",
      "source": [
        "Sebelumnya kita buat DataFrame dari sebuah python list, lalu kita akan lakukan transformasi terhadap DataFrame tersebut.\n"
      ],
      "metadata": {
        "id": "ySN3f0_wIPTe"
      }
    },
    {
      "cell_type": "code",
      "source": [
        "data = [['Agus','F',100],['Windy','F',200],\n",
        "        ['Budi','B',200],['Dina','F',150],\n",
        "        ['Bayu','F',50],['Dedi','B',50]]\n",
        "\n",
        "kolom = [\"nama\",\"kode_jurusan\",\"nilai\"]\n",
        "\n",
        "df = spark.createDataFrame(data,kolom)\n",
        "\n",
        "df.show()"
      ],
      "metadata": {
        "colab": {
          "base_uri": "https://localhost:8080/"
        },
        "id": "KUXGwHVdFfB2",
        "outputId": "f60bd679-b1b7-420a-c0c6-e4690126dd51"
      },
      "execution_count": null,
      "outputs": [
        {
          "output_type": "stream",
          "name": "stdout",
          "text": [
            "+-----+------------+-----+\n",
            "| nama|kode_jurusan|nilai|\n",
            "+-----+------------+-----+\n",
            "| Agus|           F|  100|\n",
            "|Windy|           F|  200|\n",
            "| Budi|           B|  200|\n",
            "| Dina|           F|  150|\n",
            "| Bayu|           F|   50|\n",
            "| Dedi|           B|   50|\n",
            "+-----+------------+-----+\n",
            "\n"
          ]
        }
      ]
    },
    {
      "cell_type": "markdown",
      "source": [
        "##Membuat Temporary View"
      ],
      "metadata": {
        "id": "cKmjCQtdDdMW"
      }
    },
    {
      "cell_type": "code",
      "source": [
        "df.createOrReplaceTempView(\"mahasiswa\")"
      ],
      "metadata": {
        "id": "OVrrJ-lVpjYh"
      },
      "execution_count": null,
      "outputs": []
    },
    {
      "cell_type": "code",
      "source": [
        "df2 = df.filter(df.kode_jurusan == 'F')\n",
        "df2.createTempView(\"mahasiswa\")"
      ],
      "metadata": {
        "colab": {
          "base_uri": "https://localhost:8080/",
          "height": 361
        },
        "id": "jTi5DPKHE-Ja",
        "outputId": "0a9bd2ac-07d2-477e-f614-a253a8d51450"
      },
      "execution_count": 21,
      "outputs": [
        {
          "output_type": "error",
          "ename": "AnalysisException",
          "evalue": "ignored",
          "traceback": [
            "\u001b[0;31m---------------------------------------------------------------------------\u001b[0m",
            "\u001b[0;31mAnalysisException\u001b[0m                         Traceback (most recent call last)",
            "\u001b[0;32m<ipython-input-21-d007b21dc1a5>\u001b[0m in \u001b[0;36m<cell line: 2>\u001b[0;34m()\u001b[0m\n\u001b[1;32m      1\u001b[0m \u001b[0mdf2\u001b[0m \u001b[0;34m=\u001b[0m \u001b[0mdf\u001b[0m\u001b[0;34m.\u001b[0m\u001b[0mfilter\u001b[0m\u001b[0;34m(\u001b[0m\u001b[0mdf\u001b[0m\u001b[0;34m.\u001b[0m\u001b[0mkode_jurusan\u001b[0m \u001b[0;34m==\u001b[0m \u001b[0;34m'F'\u001b[0m\u001b[0;34m)\u001b[0m\u001b[0;34m\u001b[0m\u001b[0;34m\u001b[0m\u001b[0m\n\u001b[0;32m----> 2\u001b[0;31m \u001b[0mdf2\u001b[0m\u001b[0;34m.\u001b[0m\u001b[0mcreateTempView\u001b[0m\u001b[0;34m(\u001b[0m\u001b[0;34m\"mahasiswa\"\u001b[0m\u001b[0;34m)\u001b[0m\u001b[0;34m\u001b[0m\u001b[0;34m\u001b[0m\u001b[0m\n\u001b[0m",
            "\u001b[0;32m/usr/local/lib/python3.10/dist-packages/pyspark/sql/dataframe.py\u001b[0m in \u001b[0;36mcreateTempView\u001b[0;34m(self, name)\u001b[0m\n\u001b[1;32m    369\u001b[0m \u001b[0;34m\u001b[0m\u001b[0m\n\u001b[1;32m    370\u001b[0m         \"\"\"\n\u001b[0;32m--> 371\u001b[0;31m         \u001b[0mself\u001b[0m\u001b[0;34m.\u001b[0m\u001b[0m_jdf\u001b[0m\u001b[0;34m.\u001b[0m\u001b[0mcreateTempView\u001b[0m\u001b[0;34m(\u001b[0m\u001b[0mname\u001b[0m\u001b[0;34m)\u001b[0m\u001b[0;34m\u001b[0m\u001b[0;34m\u001b[0m\u001b[0m\n\u001b[0m\u001b[1;32m    372\u001b[0m \u001b[0;34m\u001b[0m\u001b[0m\n\u001b[1;32m    373\u001b[0m     \u001b[0;32mdef\u001b[0m \u001b[0mcreateOrReplaceTempView\u001b[0m\u001b[0;34m(\u001b[0m\u001b[0mself\u001b[0m\u001b[0;34m,\u001b[0m \u001b[0mname\u001b[0m\u001b[0;34m:\u001b[0m \u001b[0mstr\u001b[0m\u001b[0;34m)\u001b[0m \u001b[0;34m->\u001b[0m \u001b[0;32mNone\u001b[0m\u001b[0;34m:\u001b[0m\u001b[0;34m\u001b[0m\u001b[0;34m\u001b[0m\u001b[0m\n",
            "\u001b[0;32m/usr/local/lib/python3.10/dist-packages/py4j/java_gateway.py\u001b[0m in \u001b[0;36m__call__\u001b[0;34m(self, *args)\u001b[0m\n\u001b[1;32m   1320\u001b[0m \u001b[0;34m\u001b[0m\u001b[0m\n\u001b[1;32m   1321\u001b[0m         \u001b[0manswer\u001b[0m \u001b[0;34m=\u001b[0m \u001b[0mself\u001b[0m\u001b[0;34m.\u001b[0m\u001b[0mgateway_client\u001b[0m\u001b[0;34m.\u001b[0m\u001b[0msend_command\u001b[0m\u001b[0;34m(\u001b[0m\u001b[0mcommand\u001b[0m\u001b[0;34m)\u001b[0m\u001b[0;34m\u001b[0m\u001b[0;34m\u001b[0m\u001b[0m\n\u001b[0;32m-> 1322\u001b[0;31m         return_value = get_return_value(\n\u001b[0m\u001b[1;32m   1323\u001b[0m             answer, self.gateway_client, self.target_id, self.name)\n\u001b[1;32m   1324\u001b[0m \u001b[0;34m\u001b[0m\u001b[0m\n",
            "\u001b[0;32m/usr/local/lib/python3.10/dist-packages/pyspark/errors/exceptions/captured.py\u001b[0m in \u001b[0;36mdeco\u001b[0;34m(*a, **kw)\u001b[0m\n\u001b[1;32m    173\u001b[0m                 \u001b[0;31m# Hide where the exception came from that shows a non-Pythonic\u001b[0m\u001b[0;34m\u001b[0m\u001b[0;34m\u001b[0m\u001b[0m\n\u001b[1;32m    174\u001b[0m                 \u001b[0;31m# JVM exception message.\u001b[0m\u001b[0;34m\u001b[0m\u001b[0;34m\u001b[0m\u001b[0m\n\u001b[0;32m--> 175\u001b[0;31m                 \u001b[0;32mraise\u001b[0m \u001b[0mconverted\u001b[0m \u001b[0;32mfrom\u001b[0m \u001b[0;32mNone\u001b[0m\u001b[0;34m\u001b[0m\u001b[0;34m\u001b[0m\u001b[0m\n\u001b[0m\u001b[1;32m    176\u001b[0m             \u001b[0;32melse\u001b[0m\u001b[0;34m:\u001b[0m\u001b[0;34m\u001b[0m\u001b[0;34m\u001b[0m\u001b[0m\n\u001b[1;32m    177\u001b[0m                 \u001b[0;32mraise\u001b[0m\u001b[0;34m\u001b[0m\u001b[0;34m\u001b[0m\u001b[0m\n",
            "\u001b[0;31mAnalysisException\u001b[0m: [TEMP_TABLE_OR_VIEW_ALREADY_EXISTS] Cannot create the temporary view `mahasiswa` because it already exists.\nChoose a different name, drop or replace the existing view,  or add the IF NOT EXISTS clause to tolerate pre-existing views."
          ]
        }
      ]
    },
    {
      "cell_type": "code",
      "source": [
        "df2 = df.filter(df.kode_jurusan == 'F')\n",
        "df2.createOrReplaceTempView(\"mahasiswa\")"
      ],
      "metadata": {
        "id": "bzDAYWnMEhoF"
      },
      "execution_count": null,
      "outputs": []
    },
    {
      "cell_type": "markdown",
      "source": [
        "##Menjalankan Query SQL"
      ],
      "metadata": {
        "id": "CdOkURvGDhBT"
      }
    },
    {
      "cell_type": "code",
      "source": [
        "df.createOrReplaceTempView(\"mahasiswa\")"
      ],
      "metadata": {
        "id": "q2I8aVrzEPt4"
      },
      "execution_count": null,
      "outputs": []
    },
    {
      "cell_type": "code",
      "source": [
        "result = spark.sql(\"select * from mahasiswa\")\n",
        "result.show()"
      ],
      "metadata": {
        "colab": {
          "base_uri": "https://localhost:8080/"
        },
        "id": "S9bdwWAWDkwd",
        "outputId": "629ddb60-963d-4af2-e480-0b4f8544f186"
      },
      "execution_count": null,
      "outputs": [
        {
          "output_type": "stream",
          "name": "stdout",
          "text": [
            "+-----+------------+-----+\n",
            "| nama|kode_jurusan|nilai|\n",
            "+-----+------------+-----+\n",
            "| Agus|           F|  100|\n",
            "|Windy|           F|  200|\n",
            "| Budi|           B|  200|\n",
            "| Dina|           F|  150|\n",
            "| Bayu|           F|   50|\n",
            "| Dedi|           B|   50|\n",
            "+-----+------------+-----+\n",
            "\n"
          ]
        }
      ]
    },
    {
      "cell_type": "code",
      "source": [
        "spark.sql(\"select * from mahasiswa where kode_jurusan = 'F'\").show()"
      ],
      "metadata": {
        "colab": {
          "base_uri": "https://localhost:8080/"
        },
        "id": "Nlwbb6uREN5S",
        "outputId": "9c580dae-87db-4d2c-a174-ddb1e14d95cd"
      },
      "execution_count": null,
      "outputs": [
        {
          "output_type": "stream",
          "name": "stdout",
          "text": [
            "+-----+------------+-----+\n",
            "| nama|kode_jurusan|nilai|\n",
            "+-----+------------+-----+\n",
            "| Agus|           F|  100|\n",
            "|Windy|           F|  200|\n",
            "| Dina|           F|  150|\n",
            "| Bayu|           F|   50|\n",
            "+-----+------------+-----+\n",
            "\n"
          ]
        }
      ]
    },
    {
      "cell_type": "markdown",
      "source": [
        "###Menggunakan Fungsi SQL dan Conditional Statement"
      ],
      "metadata": {
        "id": "YTLa2gnx7KSq"
      }
    },
    {
      "cell_type": "code",
      "source": [
        "spark.sql(\"\"\"SELECT UPPER(nama) as Nama,\n",
        "                kode_jurusan as Jurusan,\n",
        "                nilai as Nilai,\n",
        "                CASE\n",
        "                  WHEN nilai > 150 THEN 'High'\n",
        "                  WHEN nilai > 100 THEN 'Medium'\n",
        "                  ELSE 'Low'\n",
        "              END AS Grade\n",
        "             FROM mahasiswa\"\"\").show()"
      ],
      "metadata": {
        "colab": {
          "base_uri": "https://localhost:8080/"
        },
        "id": "jnIQl7zC-cxJ",
        "outputId": "f5a562a9-a578-4b60-bef1-99fb4510e656"
      },
      "execution_count": null,
      "outputs": [
        {
          "output_type": "stream",
          "name": "stdout",
          "text": [
            "+-----+-------+-----+------+\n",
            "| Nama|Jurusan|Nilai| Grade|\n",
            "+-----+-------+-----+------+\n",
            "| AGUS|      F|  100|   Low|\n",
            "|WINDY|      F|  200|  High|\n",
            "| BUDI|      B|  200|  High|\n",
            "| DINA|      F|  150|Medium|\n",
            "| BAYU|      F|   50|   Low|\n",
            "| DEDI|      B|   50|   Low|\n",
            "+-----+-------+-----+------+\n",
            "\n"
          ]
        }
      ]
    },
    {
      "cell_type": "markdown",
      "source": [
        "###Agregasi"
      ],
      "metadata": {
        "id": "Gj7gwTVYPxor"
      }
    },
    {
      "cell_type": "code",
      "source": [
        "spark.sql(\"\"\"SELECT kode_jurusan,\n",
        "                    max(nilai) as max_nilai,\n",
        "                    min(nilai) as min_nilai\n",
        "             FROM mahasiswa\n",
        "             GROUP BY kode_jurusan\"\"\").show()"
      ],
      "metadata": {
        "colab": {
          "base_uri": "https://localhost:8080/"
        },
        "id": "zl8KyL3j4_tc",
        "outputId": "d5655f83-52ee-4d3b-c1de-b916825cad5d"
      },
      "execution_count": null,
      "outputs": [
        {
          "output_type": "stream",
          "name": "stdout",
          "text": [
            "+------------+---------+---------+\n",
            "|kode_jurusan|max_nilai|min_nilai|\n",
            "+------------+---------+---------+\n",
            "|           F|      200|       50|\n",
            "|           B|      200|       50|\n",
            "+------------+---------+---------+\n",
            "\n"
          ]
        }
      ]
    },
    {
      "cell_type": "markdown",
      "source": [
        "###Join Reference"
      ],
      "metadata": {
        "id": "7jf8KiRHC8Pw"
      }
    },
    {
      "cell_type": "code",
      "source": [
        "ref = [['F','Fisika','MIPA'],['B','Biologi','MIPA'],\n",
        "       ['A', 'Akuntansi', 'Ekonomi']]\n",
        "kolom = [\"kode_jurusan\",\"nama_jurusan\",\"nama_fakultas\"]\n",
        "df_ref = spark.createDataFrame(ref,kolom)\n",
        "df_ref.show()"
      ],
      "metadata": {
        "colab": {
          "base_uri": "https://localhost:8080/"
        },
        "id": "8rYlgIMF10bb",
        "outputId": "2a6ebd73-75fb-4d79-c67d-159d71b1731f"
      },
      "execution_count": null,
      "outputs": [
        {
          "output_type": "stream",
          "name": "stdout",
          "text": [
            "+------------+------------+-------------+\n",
            "|kode_jurusan|nama_jurusan|nama_fakultas|\n",
            "+------------+------------+-------------+\n",
            "|           F|      Fisika|         MIPA|\n",
            "|           B|     Biologi|         MIPA|\n",
            "|           A|   Akuntansi|      Ekonomi|\n",
            "+------------+------------+-------------+\n",
            "\n"
          ]
        }
      ]
    },
    {
      "cell_type": "code",
      "source": [
        "df_ref.createOrReplaceTempView(\"jurusan\")"
      ],
      "metadata": {
        "id": "m5RIhN8M2dX5"
      },
      "execution_count": null,
      "outputs": []
    },
    {
      "cell_type": "code",
      "source": [
        "spark.sql(\"\"\"SELECT * FROM mahasiswa\n",
        "          LEFT JOIN jurusan\n",
        "          ON mahasiswa.kode_jurusan=jurusan.kode_jurusan\"\"\").show()"
      ],
      "metadata": {
        "colab": {
          "base_uri": "https://localhost:8080/"
        },
        "id": "_KlJs5BA2gCR",
        "outputId": "dcbe70fe-b7d9-41d5-e868-1ece83bd4a87"
      },
      "execution_count": null,
      "outputs": [
        {
          "output_type": "stream",
          "name": "stdout",
          "text": [
            "+-----+------------+-----+------------+------------+-------------+\n",
            "| nama|kode_jurusan|nilai|kode_jurusan|nama_jurusan|nama_fakultas|\n",
            "+-----+------------+-----+------------+------------+-------------+\n",
            "| Agus|           F|  100|           F|      Fisika|         MIPA|\n",
            "|Windy|           F|  200|           F|      Fisika|         MIPA|\n",
            "| Budi|           B|  200|           B|     Biologi|         MIPA|\n",
            "| Dina|           F|  150|           F|      Fisika|         MIPA|\n",
            "| Bayu|           F|   50|           F|      Fisika|         MIPA|\n",
            "| Dedi|           B|   50|           B|     Biologi|         MIPA|\n",
            "+-----+------------+-----+------------+------------+-------------+\n",
            "\n"
          ]
        }
      ]
    },
    {
      "cell_type": "markdown",
      "source": [
        "##Global Temporary View"
      ],
      "metadata": {
        "id": "gTJ_viZ-DXCv"
      }
    },
    {
      "cell_type": "code",
      "source": [
        "df.createOrReplaceGlobalTempView(\"mhs\")"
      ],
      "metadata": {
        "id": "Q4kGegQJARNB"
      },
      "execution_count": null,
      "outputs": []
    },
    {
      "cell_type": "code",
      "source": [
        "spark.sql(\"SELECT * FROM global_temp.mhs\").show()"
      ],
      "metadata": {
        "colab": {
          "base_uri": "https://localhost:8080/"
        },
        "id": "c_n9lrYjAX_g",
        "outputId": "280bff78-7d2f-49d1-bcc6-42da148590b2"
      },
      "execution_count": null,
      "outputs": [
        {
          "output_type": "stream",
          "name": "stdout",
          "text": [
            "+-----+------------+-----+\n",
            "| nama|kode_jurusan|nilai|\n",
            "+-----+------------+-----+\n",
            "| Agus|           F|  100|\n",
            "|Windy|           F|  200|\n",
            "| Budi|           B|  200|\n",
            "| Dina|           F|  150|\n",
            "| Bayu|           F|   50|\n",
            "| Dedi|           B|   50|\n",
            "+-----+------------+-----+\n",
            "\n"
          ]
        }
      ]
    }
  ]
}
