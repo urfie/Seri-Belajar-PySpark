{
  "nbformat": 4,
  "nbformat_minor": 0,
  "metadata": {
    "colab": {
      "provenance": [],
      "toc_visible": true
    },
    "kernelspec": {
      "name": "python3",
      "display_name": "Python 3"
    },
    "language_info": {
      "name": "python"
    }
  },
  "cells": [
    {
      "cell_type": "markdown",
      "source": [
        "#Belajar PySpark - MapType pada Skema DataFrame"
      ],
      "metadata": {
        "id": "loueMJbfjlZq"
      }
    },
    {
      "cell_type": "markdown",
      "source": [
        "PySpark MapType memungkinkan kita untuk menggambarkan kolom yang berisi data dalam format map atau dictionary. Dalam artikel ini, kita akan membahas cara mendefinisikan MapType, cara mengakses elemennya, dan beberapa fungsi terkait seperti explode(), map_keys(), dan map_values().\n"
      ],
      "metadata": {
        "id": "8fBObxkEIMTP"
      }
    },
    {
      "cell_type": "code",
      "execution_count": 1,
      "metadata": {
        "colab": {
          "base_uri": "https://localhost:8080/"
        },
        "id": "3YsxlynyFZ0N",
        "outputId": "2cd59a9c-a932-445c-e0f5-69e4040d43af"
      },
      "outputs": [
        {
          "output_type": "stream",
          "name": "stdout",
          "text": [
            "Collecting pyspark\n",
            "  Downloading pyspark-3.5.0.tar.gz (316.9 MB)\n",
            "\u001b[2K     \u001b[90m━━━━━━━━━━━━━━━━━━━━━━━━━━━━━━━━━━━━━━━━\u001b[0m \u001b[32m316.9/316.9 MB\u001b[0m \u001b[31m3.8 MB/s\u001b[0m eta \u001b[36m0:00:00\u001b[0m\n",
            "\u001b[?25h  Preparing metadata (setup.py) ... \u001b[?25l\u001b[?25hdone\n",
            "Requirement already satisfied: py4j==0.10.9.7 in /usr/local/lib/python3.10/dist-packages (from pyspark) (0.10.9.7)\n",
            "Building wheels for collected packages: pyspark\n",
            "  Building wheel for pyspark (setup.py) ... \u001b[?25l\u001b[?25hdone\n",
            "  Created wheel for pyspark: filename=pyspark-3.5.0-py2.py3-none-any.whl size=317425345 sha256=916d52fcc07db3f308c331aea5afd3b7e324d318a87b623914ab8af140414aa1\n",
            "  Stored in directory: /root/.cache/pip/wheels/41/4e/10/c2cf2467f71c678cfc8a6b9ac9241e5e44a01940da8fbb17fc\n",
            "Successfully built pyspark\n",
            "Installing collected packages: pyspark\n",
            "Successfully installed pyspark-3.5.0\n"
          ]
        }
      ],
      "source": [
        "%pip install pyspark"
      ]
    },
    {
      "cell_type": "code",
      "source": [
        "import pyspark\n",
        "from pyspark.sql import SparkSession\n",
        "from pyspark.sql.types import StructType, StructField, ArrayType, MapType, StringType, IntegerType\n",
        "from pyspark.sql.functions import array_contains, explode, split, array"
      ],
      "metadata": {
        "id": "8V4lQvx6HIiO"
      },
      "execution_count": 2,
      "outputs": []
    },
    {
      "cell_type": "code",
      "source": [
        "spark = SparkSession.builder.appName(\"Belajar PySpark - MapType\").getOrCreate()"
      ],
      "metadata": {
        "id": "97aBSg6dGu9V"
      },
      "execution_count": 3,
      "outputs": []
    },
    {
      "cell_type": "markdown",
      "source": [
        "##MApType pada Skema DataFrame"
      ],
      "metadata": {
        "id": "a2HLRhTwLXfy"
      }
    },
    {
      "cell_type": "code",
      "source": [
        "mySchema = StructType([\n",
        "    StructField(\"nama\", StringType(), True),\n",
        "    StructField(\"jurusan\", StringType(), True),\n",
        "    StructField(\"nilai\", MapType(StringType(), IntegerType()), True)\n",
        "])"
      ],
      "metadata": {
        "id": "GWym9zShabFw"
      },
      "execution_count": 4,
      "outputs": []
    },
    {
      "cell_type": "markdown",
      "source": [
        "###Menggunakan arrayType pada DataFrame"
      ],
      "metadata": {
        "id": "q1cAkZD3a7wE"
      }
    },
    {
      "cell_type": "code",
      "source": [
        "data = [['Agus Supono','F',{\"uts\":100,\"uas\":150,\"tugas\":150}],\n",
        "        ['Budi Sumardi','B',{\"uts\":200,\"uas\":100,\"tugas\":150}],\n",
        "        ['Dina Mariana','F',{\"uts\":150,\"uas\":150,\"tugas\":130}],\n",
        "        ['Dedi Setiadi','B', {\"uts\":50,\"uas\":100,\"tugas\":100,\"remedial\":100}]]\n",
        "\n",
        "df = spark.createDataFrame(data, mySchema)\n",
        "df.show(truncate=False)\n",
        "df.printSchema()"
      ],
      "metadata": {
        "colab": {
          "base_uri": "https://localhost:8080/"
        },
        "id": "fT9ikZrmLpjO",
        "outputId": "e2ad069b-b663-49e4-e1ef-20047d8918b9"
      },
      "execution_count": 20,
      "outputs": [
        {
          "output_type": "stream",
          "name": "stdout",
          "text": [
            "+------------+-------+------------------------------------------------------+\n",
            "|nama        |jurusan|nilai                                                 |\n",
            "+------------+-------+------------------------------------------------------+\n",
            "|Agus Supono |F      |{tugas -> 150, uts -> 100, uas -> 150}                |\n",
            "|Budi Sumardi|B      |{tugas -> 150, uts -> 200, uas -> 100}                |\n",
            "|Dina Mariana|F      |{tugas -> 130, uts -> 150, uas -> 150}                |\n",
            "|Dedi Setiadi|B      |{tugas -> 100, remedial -> 100, uts -> 50, uas -> 100}|\n",
            "+------------+-------+------------------------------------------------------+\n",
            "\n",
            "root\n",
            " |-- nama: string (nullable = true)\n",
            " |-- jurusan: string (nullable = true)\n",
            " |-- nilai: map (nullable = true)\n",
            " |    |-- key: string\n",
            " |    |-- value: integer (valueContainsNull = true)\n",
            "\n"
          ]
        }
      ]
    },
    {
      "cell_type": "markdown",
      "source": [
        "##Mengakses MapType Kolom"
      ],
      "metadata": {
        "id": "1Dw5LZ_WNx76"
      }
    },
    {
      "cell_type": "code",
      "source": [
        "df.withColumn(\"UTS\",df.nilai.getItem(\"uts\")) \\\n",
        "  .withColumn(\"UAS\",df.nilai.getItem(\"uas\")) \\\n",
        "  .withColumn(\"TUGAS\",df.nilai.getItem(\"tugas\")) \\\n",
        "  .show()"
      ],
      "metadata": {
        "colab": {
          "base_uri": "https://localhost:8080/"
        },
        "outputId": "d67e3fdd-91ce-4040-abf4-5f29abbcb029",
        "id": "oatmHqSaLaTA"
      },
      "execution_count": 10,
      "outputs": [
        {
          "output_type": "stream",
          "name": "stdout",
          "text": [
            "+------------+-------+--------------------+---+---+-----+\n",
            "|        nama|jurusan|               nilai|UTS|UAS|TUGAS|\n",
            "+------------+-------+--------------------+---+---+-----+\n",
            "| Agus Supono|      F|{tugas -> 150, ut...|100|150|  150|\n",
            "|Budi Sumardi|      B|{tugas -> 150, ut...|200|100|  150|\n",
            "|Dina Mariana|      F|{tugas -> 130, ut...|150|150|  130|\n",
            "|Dedi Setiadi|      B|{tugas -> 100, ut...| 50|100|  100|\n",
            "+------------+-------+--------------------+---+---+-----+\n",
            "\n"
          ]
        }
      ]
    },
    {
      "cell_type": "code",
      "source": [
        "df.select(df.nama, df.jurusan,\n",
        "          df.nilai.getItem(\"uts\").alias(\"UTS\"),\n",
        "          df.nilai.getItem(\"uas\").alias(\"UAS\"),\n",
        "          df.nilai.getItem(\"tugas\").alias(\"TUGAS\")).show()"
      ],
      "metadata": {
        "colab": {
          "base_uri": "https://localhost:8080/"
        },
        "id": "DEjmz2NC9JQJ",
        "outputId": "04b9fc87-acb0-424e-8eb9-11b16e0d7292"
      },
      "execution_count": 16,
      "outputs": [
        {
          "output_type": "stream",
          "name": "stdout",
          "text": [
            "+------------+-------+---+---+-----+\n",
            "|        nama|jurusan|UTS|UAS|TUGAS|\n",
            "+------------+-------+---+---+-----+\n",
            "| Agus Supono|      F|100|150|  150|\n",
            "|Budi Sumardi|      B|200|100|  150|\n",
            "|Dina Mariana|      F|150|150|  130|\n",
            "|Dedi Setiadi|      B| 50|100|  100|\n",
            "+------------+-------+---+---+-----+\n",
            "\n"
          ]
        }
      ]
    },
    {
      "cell_type": "code",
      "source": [
        "df.select(df.nama, df.jurusan,\n",
        "          df.nilai[\"uts\"].alias(\"UTS\"),\n",
        "          df.nilai[\"uas\"].alias(\"UAS\"),\n",
        "          df.nilai[\"tugas\"].alias(\"TUGAS\")).show()"
      ],
      "metadata": {
        "colab": {
          "base_uri": "https://localhost:8080/"
        },
        "id": "Vq4cLJtM4yMw",
        "outputId": "85f25025-ae70-4eda-b670-492cb0c23b6a"
      },
      "execution_count": 17,
      "outputs": [
        {
          "output_type": "stream",
          "name": "stdout",
          "text": [
            "+------------+-------+---+---+-----+\n",
            "|        nama|jurusan|UTS|UAS|TUGAS|\n",
            "+------------+-------+---+---+-----+\n",
            "| Agus Supono|      F|100|150|  150|\n",
            "|Budi Sumardi|      B|200|100|  150|\n",
            "|Dina Mariana|      F|150|150|  130|\n",
            "|Dedi Setiadi|      B| 50|100|  100|\n",
            "+------------+-------+---+---+-----+\n",
            "\n"
          ]
        }
      ]
    },
    {
      "cell_type": "markdown",
      "source": [
        "###Fungsi-fungsi MapType"
      ],
      "metadata": {
        "id": "ngDqPeGIKkXx"
      }
    },
    {
      "cell_type": "markdown",
      "source": [
        "####Fungsi `map_keys()`\n",
        "\n",
        "Fungsi ini mengembalikan array yang berisi semua key dari map.\n"
      ],
      "metadata": {
        "id": "E5kptzb7TCnt"
      }
    },
    {
      "cell_type": "code",
      "source": [
        "from pyspark.sql.functions import map_keys\n",
        "\n",
        "df.select(df.nama,df.jurusan,map_keys(df.nilai)) \\\n",
        "            .show(truncate=False)"
      ],
      "metadata": {
        "colab": {
          "base_uri": "https://localhost:8080/"
        },
        "id": "Z1-nAiJUTC3P",
        "outputId": "dcdaa431-446c-405c-b388-b87cb2f52524"
      },
      "execution_count": 22,
      "outputs": [
        {
          "output_type": "stream",
          "name": "stdout",
          "text": [
            "+------------+-------+---------------------------+\n",
            "|nama        |jurusan|map_keys(nilai)            |\n",
            "+------------+-------+---------------------------+\n",
            "|Agus Supono |F      |[tugas, uts, uas]          |\n",
            "|Budi Sumardi|B      |[tugas, uts, uas]          |\n",
            "|Dina Mariana|F      |[tugas, uts, uas]          |\n",
            "|Dedi Setiadi|B      |[tugas, remedial, uts, uas]|\n",
            "+------------+-------+---------------------------+\n",
            "\n"
          ]
        }
      ]
    },
    {
      "cell_type": "markdown",
      "source": [
        "####Fungsi `map_values()`\n",
        "\n",
        "Fungsi ini mengembalikan array yang berisi semua value dari map\n"
      ],
      "metadata": {
        "id": "_zWNSN4_HHVw"
      }
    },
    {
      "cell_type": "code",
      "source": [
        "from pyspark.sql.functions import map_values\n",
        "\n",
        "df.select(df.nama,df.jurusan,map_values(df.nilai)) \\\n",
        "            .show(truncate=False)"
      ],
      "metadata": {
        "colab": {
          "base_uri": "https://localhost:8080/"
        },
        "outputId": "6a47ef50-45c7-475b-cc6e-5024761aaa85",
        "id": "pN9aG9x1HHV0"
      },
      "execution_count": 23,
      "outputs": [
        {
          "output_type": "stream",
          "name": "stdout",
          "text": [
            "+------------+-------+-------------------+\n",
            "|nama        |jurusan|map_values(nilai)  |\n",
            "+------------+-------+-------------------+\n",
            "|Agus Supono |F      |[150, 100, 150]    |\n",
            "|Budi Sumardi|B      |[150, 200, 100]    |\n",
            "|Dina Mariana|F      |[130, 150, 150]    |\n",
            "|Dedi Setiadi|B      |[100, 100, 50, 100]|\n",
            "+------------+-------+-------------------+\n",
            "\n"
          ]
        }
      ]
    },
    {
      "cell_type": "markdown",
      "source": [
        "####Fungsi `Explode()`\n",
        "\n",
        "Fungsi explode digunakan untuk mengubah setiap pasangan key-value menjadi satu baris atau record tersendiri. Misalnya untuk contoh di atas :\n"
      ],
      "metadata": {
        "id": "0T9HBj0jKkUg"
      }
    },
    {
      "cell_type": "code",
      "source": [
        "from pyspark.sql.functions import explode\n",
        "\n",
        "df.select(df.nama,df.jurusan,explode(df.nilai)) \\\n",
        "            .show(truncate=False)"
      ],
      "metadata": {
        "colab": {
          "base_uri": "https://localhost:8080/"
        },
        "id": "uFU0Eu7vE3R0",
        "outputId": "afcbfddc-e6a4-4753-8dc3-8324c8045b30"
      },
      "execution_count": 24,
      "outputs": [
        {
          "output_type": "stream",
          "name": "stdout",
          "text": [
            "+------------+-------+--------+-----+\n",
            "|nama        |jurusan|key     |value|\n",
            "+------------+-------+--------+-----+\n",
            "|Agus Supono |F      |tugas   |150  |\n",
            "|Agus Supono |F      |uts     |100  |\n",
            "|Agus Supono |F      |uas     |150  |\n",
            "|Budi Sumardi|B      |tugas   |150  |\n",
            "|Budi Sumardi|B      |uts     |200  |\n",
            "|Budi Sumardi|B      |uas     |100  |\n",
            "|Dina Mariana|F      |tugas   |130  |\n",
            "|Dina Mariana|F      |uts     |150  |\n",
            "|Dina Mariana|F      |uas     |150  |\n",
            "|Dedi Setiadi|B      |tugas   |100  |\n",
            "|Dedi Setiadi|B      |remedial|100  |\n",
            "|Dedi Setiadi|B      |uts     |50   |\n",
            "|Dedi Setiadi|B      |uas     |100  |\n",
            "+------------+-------+--------+-----+\n",
            "\n"
          ]
        }
      ]
    }
  ]
}